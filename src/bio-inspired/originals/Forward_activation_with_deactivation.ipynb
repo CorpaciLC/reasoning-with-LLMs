{
  "cells": [
    {
      "cell_type": "markdown",
      "metadata": {
        "colab_type": "text",
        "id": "view-in-github"
      },
      "source": [
        "<a href=\"https://colab.research.google.com/github/MoniFarsang/NeuroAI/blob/main/Forward_activation_with_deactivation.ipynb\" target=\"_parent\"><img src=\"https://colab.research.google.com/assets/colab-badge.svg\" alt=\"Open In Colab\"/></a>"
      ]
    },
    {
      "cell_type": "code",
      "execution_count": 1,
      "metadata": {
        "colab": {
          "base_uri": "https://localhost:8080/"
        },
        "id": "zCwOl99EwbOV",
        "outputId": "f9a0275c-d57d-411f-ccab-c7fdc405c6b5"
      },
      "outputs": [
        {
          "name": "stdout",
          "output_type": "stream",
          "text": [
            "Requirement already satisfied: seaborn in c:\\users\\lcorpaci\\documents\\thesis\\.venv\\lib\\site-packages (0.13.2)\n",
            "Requirement already satisfied: ncps in c:\\users\\lcorpaci\\documents\\thesis\\.venv\\lib\\site-packages (1.0.1)\n",
            "Requirement already satisfied: numpy!=1.24.0,>=1.20 in c:\\users\\lcorpaci\\documents\\thesis\\.venv\\lib\\site-packages (from seaborn) (1.26.4)\n",
            "Requirement already satisfied: pandas>=1.2 in c:\\users\\lcorpaci\\documents\\thesis\\.venv\\lib\\site-packages (from seaborn) (2.2.2)\n",
            "Requirement already satisfied: matplotlib!=3.6.1,>=3.4 in c:\\users\\lcorpaci\\documents\\thesis\\.venv\\lib\\site-packages (from seaborn) (3.9.2)\n",
            "Requirement already satisfied: future in c:\\users\\lcorpaci\\documents\\thesis\\.venv\\lib\\site-packages (from ncps) (1.0.0)\n",
            "Requirement already satisfied: packaging in c:\\users\\lcorpaci\\documents\\thesis\\.venv\\lib\\site-packages (from ncps) (24.1)\n",
            "Requirement already satisfied: contourpy>=1.0.1 in c:\\users\\lcorpaci\\documents\\thesis\\.venv\\lib\\site-packages (from matplotlib!=3.6.1,>=3.4->seaborn) (1.3.0)\n",
            "Requirement already satisfied: cycler>=0.10 in c:\\users\\lcorpaci\\documents\\thesis\\.venv\\lib\\site-packages (from matplotlib!=3.6.1,>=3.4->seaborn) (0.12.1)\n",
            "Requirement already satisfied: fonttools>=4.22.0 in c:\\users\\lcorpaci\\documents\\thesis\\.venv\\lib\\site-packages (from matplotlib!=3.6.1,>=3.4->seaborn) (4.53.1)\n",
            "Requirement already satisfied: kiwisolver>=1.3.1 in c:\\users\\lcorpaci\\documents\\thesis\\.venv\\lib\\site-packages (from matplotlib!=3.6.1,>=3.4->seaborn) (1.4.7)\n",
            "Requirement already satisfied: pillow>=8 in c:\\users\\lcorpaci\\documents\\thesis\\.venv\\lib\\site-packages (from matplotlib!=3.6.1,>=3.4->seaborn) (10.4.0)\n",
            "Requirement already satisfied: pyparsing>=2.3.1 in c:\\users\\lcorpaci\\documents\\thesis\\.venv\\lib\\site-packages (from matplotlib!=3.6.1,>=3.4->seaborn) (3.1.4)\n",
            "Requirement already satisfied: python-dateutil>=2.7 in c:\\users\\lcorpaci\\documents\\thesis\\.venv\\lib\\site-packages (from matplotlib!=3.6.1,>=3.4->seaborn) (2.9.0.post0)\n",
            "Requirement already satisfied: pytz>=2020.1 in c:\\users\\lcorpaci\\documents\\thesis\\.venv\\lib\\site-packages (from pandas>=1.2->seaborn) (2024.2)\n",
            "Requirement already satisfied: tzdata>=2022.7 in c:\\users\\lcorpaci\\documents\\thesis\\.venv\\lib\\site-packages (from pandas>=1.2->seaborn) (2024.1)\n",
            "Requirement already satisfied: six>=1.5 in c:\\users\\lcorpaci\\documents\\thesis\\.venv\\lib\\site-packages (from python-dateutil>=2.7->matplotlib!=3.6.1,>=3.4->seaborn) (1.16.0)\n"
          ]
        }
      ],
      "source": [
        "!pip install seaborn ncps"
      ]
    },
    {
      "cell_type": "code",
      "execution_count": 2,
      "metadata": {
        "id": "MxFUT3JmwY3j"
      },
      "outputs": [],
      "source": [
        "# Import libraries\n",
        "import numpy as np\n",
        "import os\n",
        "from tensorflow import keras\n",
        "from ncps import wirings\n",
        "from ncps.tf import LTC\n",
        "import matplotlib.pyplot as plt\n",
        "import seaborn as sns\n",
        "from random import randrange"
      ]
    },
    {
      "cell_type": "markdown",
      "metadata": {
        "id": "v11SQ06XqA_x"
      },
      "source": [
        "## Generating data for forward activation with deactivation"
      ]
    },
    {
      "cell_type": "code",
      "execution_count": 3,
      "metadata": {
        "id": "YFT1XtLvqTvn"
      },
      "outputs": [],
      "source": [
        "def generate_forward_activation_with_deactivation(n=100):\n",
        "  N = 48 # Length of the time-series\n",
        "  x_train_forward_activation_with_deactivation = []\n",
        "  y_train_forward_activation_with_deactivation = []\n",
        "\n",
        "  for i in range(n): \n",
        "\n",
        "    # Initialize the time-series data\n",
        "    data_x, data_y = [0] * N,  [0] * N\n",
        "\n",
        "    # Set the signal of the input data\n",
        "    # Generate signals with different start time and activation length \n",
        "    i_start = 2 + randrange(20)\n",
        "    input_active_length = 2 + randrange(4)\n",
        "    data_x[i_start:(i_start + input_active_length)] = [1] * input_active_length # Activate signal from i_start input_active_length long\n",
        "\n",
        "    x_train_forward_activation_with_deactivation.append(data_x)\n",
        "\n",
        "    # Target output is a delayed activation \n",
        "    output_delay = 1 # Delay between the input activation and the output activation\n",
        "    output_active_length = input_active_length +2\n",
        "\n",
        "    data_y[(i_start+output_delay):(i_start+output_delay+output_active_length)] = [1] * output_active_length # Activate signal for output_active_length long\n",
        "\n",
        "    y_train_forward_activation_with_deactivation.append(data_y)\n",
        "  \n",
        "  x_train_forward_activation_with_deactivation = np.stack(x_train_forward_activation_with_deactivation, axis=0)\n",
        "  y_train_forward_activation_with_deactivation = np.stack(y_train_forward_activation_with_deactivation, axis=0)\n",
        "\n",
        "  # Print shapes\n",
        "  print(\"x_train_forward_activation_with_deactivation.shape: \", str(x_train_forward_activation_with_deactivation.shape))\n",
        "  print(\"y_train_forward_activation_with_deactivation.shape: \", str(y_train_forward_activation_with_deactivation.shape))\n",
        "\n",
        "  return x_train_forward_activation_with_deactivation, y_train_forward_activation_with_deactivation"
      ]
    },
    {
      "cell_type": "code",
      "execution_count": 4,
      "metadata": {
        "colab": {
          "base_uri": "https://localhost:8080/"
        },
        "id": "xzrKQajDyqLH",
        "outputId": "8dc3bde9-ae97-4ea0-f2c9-3f3e2dd4ed49"
      },
      "outputs": [
        {
          "name": "stdout",
          "output_type": "stream",
          "text": [
            "x_train_forward_activation_with_deactivation.shape:  (100, 48)\n",
            "y_train_forward_activation_with_deactivation.shape:  (100, 48)\n"
          ]
        }
      ],
      "source": [
        "x_train_forward_activation_with_deactivation, y_train_forward_activation_with_deactivation = generate_forward_activation_with_deactivation(100)"
      ]
    },
    {
      "cell_type": "code",
      "execution_count": 5,
      "metadata": {
        "colab": {
          "base_uri": "https://localhost:8080/"
        },
        "id": "5ABnXXy5ypvA",
        "outputId": "f04e9596-8e8e-49c8-b498-2aaf6c54dfee"
      },
      "outputs": [
        {
          "name": "stdout",
          "output_type": "stream",
          "text": [
            "x_train_forward_activation_with_deactivation.shape:  (20, 48)\n",
            "y_train_forward_activation_with_deactivation.shape:  (20, 48)\n"
          ]
        }
      ],
      "source": [
        "x_valid_forward_activation_with_deactivation, y_valid_forward_activation_with_deactivation = generate_forward_activation_with_deactivation(20)"
      ]
    },
    {
      "cell_type": "code",
      "execution_count": 6,
      "metadata": {
        "colab": {
          "base_uri": "https://localhost:8080/"
        },
        "id": "n1VaOQ5Vy3EY",
        "outputId": "945b04fd-b0b6-4f40-f186-2b8eab0ba87f"
      },
      "outputs": [
        {
          "name": "stdout",
          "output_type": "stream",
          "text": [
            "x_train_forward_activation_with_deactivation.shape:  (10, 48)\n",
            "y_train_forward_activation_with_deactivation.shape:  (10, 48)\n"
          ]
        }
      ],
      "source": [
        "x_test_forward_activation_with_deactivation, y_test_forward_activation_with_deactivation = generate_forward_activation_with_deactivation(10)"
      ]
    },
    {
      "cell_type": "code",
      "execution_count": 7,
      "metadata": {
        "colab": {
          "base_uri": "https://localhost:8080/",
          "height": 503
        },
        "id": "fnC5mh4uzeTI",
        "outputId": "4a75bdd6-6816-46d5-f662-7f6ec2d5379d"
      },
      "outputs": [
        {
          "data": {
            "text/plain": [
              "<Figure size 800x400 with 0 Axes>"
            ]
          },
          "metadata": {},
          "output_type": "display_data"
        },
        {
          "data": {
            "image/png": "[encoded data removed]",
            "text/plain": [
              "<Figure size 640x480 with 2 Axes>"
            ]
          },
          "metadata": {},
          "output_type": "display_data"
        }
      ],
      "source": [
        "# Plotting the training data\n",
        "plt.figure(figsize=(8, 4))\n",
        "fig, axs = plt.subplots(2,1)\n",
        "axs[0].plot(x_train_forward_activation_with_deactivation[0, :], 'tab:red')\n",
        "axs[0].set_title('PLM')\n",
        "axs[1].plot(y_train_forward_activation_with_deactivation[0, :], 'tab:blue')\n",
        "axs[1].set_title('AVB')\n",
        "\n",
        "plt.tight_layout()\n",
        "plt.show()"
      ]
    },
    {
      "cell_type": "markdown",
      "metadata": {
        "id": "yJyeKa0rPl9O"
      },
      "source": [
        "## Define Forward circuit"
      ]
    },
    {
      "cell_type": "code",
      "execution_count": 8,
      "metadata": {
        "id": "SRK_QsmgMskG"
      },
      "outputs": [],
      "source": [
        "class Forward(wirings.Wiring):\n",
        "    def __init__(self, units=1, output_dim=1):\n",
        "        super(Forward, self).__init__(units)\n",
        "        self.set_output_dim(output_dim)\n",
        "        self.sparsity_level = 0 # Need no sparsity, all the connections are defined in the build function\n",
        "\n",
        "    def build(self, input_shape):\n",
        "        super().build(input_shape)\n",
        "        self.sensory_adjacency_matrix[0,0] = 1 #idx0: source neuron index from sensory neurons, idx1: destination neuron index from units (shape: [input_dim, units])\n",
        "        self.adjacency_matrix[0,0] = 1 #idx0: source neuron index from units, idx1: destination neuron index from units (shape: [units, units])"
      ]
    },
    {
      "cell_type": "markdown",
      "metadata": {
        "id": "u7bgZRnbToO4"
      },
      "source": [
        "## Create and compile keras model for the second dataset: Forward activation with deactivation"
      ]
    },
    {
      "cell_type": "code",
      "execution_count": 9,
      "metadata": {
        "colab": {
          "base_uri": "https://localhost:8080/",
          "height": 410
        },
        "id": "RHoSCKpETk4v",
        "outputId": "8d5aaf79-a90b-4812-f30b-9a54379306c0"
      },
      "outputs": [
        {
          "data": {
            "image/png": "[encoded data removed]",
            "text/plain": [
              "<Figure size 600x400 with 1 Axes>"
            ]
          },
          "metadata": {},
          "output_type": "display_data"
        }
      ],
      "source": [
        "forward_architecture = Forward(1,1) \n",
        "\n",
        "ncp_model_with_deactivation = keras.models.Sequential(\n",
        "    [\n",
        "        keras.layers.InputLayer(input_shape=(None, 1)),\n",
        "        LTC(forward_architecture, return_sequences=True, input_mapping=None, output_mapping=None),\n",
        "    ]\n",
        ")\n",
        "ncp_model_with_deactivation.compile(\n",
        "    optimizer=keras.optimizers.Adam(0.01), loss='mean_squared_error'\n",
        ")\n",
        "sns.set_style(\"white\")\n",
        "plt.figure(figsize=(6, 4))\n",
        "legend_handles = forward_architecture.draw_graph(draw_labels=True)\n",
        "plt.legend(handles=legend_handles, bbox_to_anchor=(1.1, 1.1))\n",
        "sns.despine(left=True, bottom=True)\n",
        "plt.tight_layout()\n",
        "plt.show()"
      ]
    },
    {
      "cell_type": "markdown",
      "metadata": {
        "id": "xs0l3N0MR2h_"
      },
      "source": [
        "### Fit the dataset (PLM activates AVB, AVB stays active for some period, then deactivates)"
      ]
    },
    {
      "cell_type": "code",
      "execution_count": 10,
      "metadata": {
        "colab": {
          "base_uri": "https://localhost:8080/"
        },
        "id": "_tVuYaUjR2iA",
        "outputId": "daa8b1d5-7667-4bd2-cd34-aa3c1196e88a"
      },
      "outputs": [
        {
          "name": "stdout",
          "output_type": "stream",
          "text": [
            "Epoch 1/100\n",
            "4/4 [==============================] - 28s 915ms/step - loss: 0.0788 - val_loss: 0.0605\n",
            "Epoch 2/100\n",
            "4/4 [==============================] - 1s 249ms/step - loss: 0.0577 - val_loss: 0.0518\n",
            "Epoch 3/100\n",
            "4/4 [==============================] - 1s 227ms/step - loss: 0.0503 - val_loss: 0.0456\n",
            "Epoch 4/100\n",
            "4/4 [==============================] - 1s 245ms/step - loss: 0.0436 - val_loss: 0.0363\n",
            "Epoch 5/100\n",
            "4/4 [==============================] - 1s 216ms/step - loss: 0.0334 - val_loss: 0.0272\n",
            "Epoch 6/100\n",
            "4/4 [==============================] - 1s 272ms/step - loss: 0.0288 - val_loss: 0.0265\n",
            "Epoch 7/100\n",
            "4/4 [==============================] - 1s 340ms/step - loss: 0.0253 - val_loss: 0.0253\n",
            "Epoch 8/100\n",
            "4/4 [==============================] - 1s 257ms/step - loss: 0.0259 - val_loss: 0.0246\n",
            "Epoch 9/100\n",
            "4/4 [==============================] - 1s 278ms/step - loss: 0.0243 - val_loss: 0.0241\n",
            "Epoch 10/100\n",
            "4/4 [==============================] - 1s 345ms/step - loss: 0.0242 - val_loss: 0.0233\n",
            "Epoch 11/100\n",
            "4/4 [==============================] - 2s 476ms/step - loss: 0.0234 - val_loss: 0.0232\n",
            "Epoch 12/100\n",
            "4/4 [==============================] - 1s 282ms/step - loss: 0.0234 - val_loss: 0.0226\n",
            "Epoch 13/100\n",
            "4/4 [==============================] - 1s 282ms/step - loss: 0.0227 - val_loss: 0.0227\n",
            "Epoch 14/100\n",
            "4/4 [==============================] - 1s 251ms/step - loss: 0.0225 - val_loss: 0.0219\n",
            "Epoch 15/100\n",
            "4/4 [==============================] - 1s 248ms/step - loss: 0.0220 - val_loss: 0.0216\n",
            "Epoch 16/100\n",
            "4/4 [==============================] - 1s 268ms/step - loss: 0.0217 - val_loss: 0.0213\n",
            "Epoch 17/100\n",
            "4/4 [==============================] - 1s 320ms/step - loss: 0.0214 - val_loss: 0.0210\n",
            "Epoch 18/100\n",
            "4/4 [==============================] - 1s 365ms/step - loss: 0.0210 - val_loss: 0.0206\n",
            "Epoch 19/100\n",
            "4/4 [==============================] - 1s 261ms/step - loss: 0.0208 - val_loss: 0.0204\n",
            "Epoch 20/100\n",
            "4/4 [==============================] - 1s 235ms/step - loss: 0.0205 - val_loss: 0.0202\n",
            "Epoch 21/100\n",
            "4/4 [==============================] - 1s 286ms/step - loss: 0.0202 - val_loss: 0.0197\n",
            "Epoch 22/100\n",
            "4/4 [==============================] - 1s 258ms/step - loss: 0.0199 - val_loss: 0.0195\n",
            "Epoch 23/100\n",
            "4/4 [==============================] - 1s 250ms/step - loss: 0.0196 - val_loss: 0.0191\n",
            "Epoch 24/100\n",
            "4/4 [==============================] - 1s 238ms/step - loss: 0.0193 - val_loss: 0.0190\n",
            "Epoch 25/100\n",
            "4/4 [==============================] - 1s 257ms/step - loss: 0.0191 - val_loss: 0.0186\n",
            "Epoch 26/100\n",
            "4/4 [==============================] - 1s 239ms/step - loss: 0.0189 - val_loss: 0.0184\n",
            "Epoch 27/100\n",
            "4/4 [==============================] - 1s 225ms/step - loss: 0.0186 - val_loss: 0.0181\n",
            "Epoch 28/100\n",
            "4/4 [==============================] - 1s 213ms/step - loss: 0.0185 - val_loss: 0.0183\n",
            "Epoch 29/100\n",
            "4/4 [==============================] - 1s 202ms/step - loss: 0.0182 - val_loss: 0.0176\n",
            "Epoch 30/100\n",
            "4/4 [==============================] - 1s 229ms/step - loss: 0.0179 - val_loss: 0.0176\n",
            "Epoch 31/100\n",
            "4/4 [==============================] - 1s 239ms/step - loss: 0.0176 - val_loss: 0.0171\n",
            "Epoch 32/100\n",
            "4/4 [==============================] - 1s 348ms/step - loss: 0.0173 - val_loss: 0.0182\n",
            "Epoch 33/100\n",
            "4/4 [==============================] - 1s 276ms/step - loss: 0.0175 - val_loss: 0.0166\n",
            "Epoch 34/100\n",
            "4/4 [==============================] - 1s 272ms/step - loss: 0.0172 - val_loss: 0.0175\n",
            "Epoch 35/100\n",
            "4/4 [==============================] - 1s 352ms/step - loss: 0.0175 - val_loss: 0.0193\n",
            "Epoch 36/100\n",
            "4/4 [==============================] - 1s 300ms/step - loss: 0.0178 - val_loss: 0.0161\n",
            "Epoch 37/100\n",
            "4/4 [==============================] - 1s 320ms/step - loss: 0.0175 - val_loss: 0.0174\n",
            "Epoch 38/100\n",
            "4/4 [==============================] - 1s 278ms/step - loss: 0.0178 - val_loss: 0.0202\n",
            "Epoch 39/100\n",
            "4/4 [==============================] - 1s 271ms/step - loss: 0.0178 - val_loss: 0.0170\n",
            "Epoch 40/100\n",
            "4/4 [==============================] - 1s 404ms/step - loss: 0.0170 - val_loss: 0.0158\n",
            "Epoch 41/100\n",
            "4/4 [==============================] - 1s 274ms/step - loss: 0.0168 - val_loss: 0.0161\n",
            "Epoch 42/100\n",
            "4/4 [==============================] - 1s 311ms/step - loss: 0.0167 - val_loss: 0.0163\n",
            "Epoch 43/100\n",
            "4/4 [==============================] - 1s 244ms/step - loss: 0.0164 - val_loss: 0.0164\n",
            "Epoch 44/100\n",
            "4/4 [==============================] - 1s 275ms/step - loss: 0.0159 - val_loss: 0.0153\n",
            "Epoch 45/100\n",
            "4/4 [==============================] - 1s 321ms/step - loss: 0.0158 - val_loss: 0.0154\n",
            "Epoch 46/100\n",
            "4/4 [==============================] - 1s 341ms/step - loss: 0.0157 - val_loss: 0.0161\n",
            "Epoch 47/100\n",
            "4/4 [==============================] - 1s 291ms/step - loss: 0.0159 - val_loss: 0.0159\n",
            "Epoch 48/100\n",
            "4/4 [==============================] - 1s 307ms/step - loss: 0.0157 - val_loss: 0.0153\n",
            "Epoch 49/100\n",
            "4/4 [==============================] - 1s 276ms/step - loss: 0.0154 - val_loss: 0.0148\n",
            "Epoch 50/100\n",
            "4/4 [==============================] - 1s 258ms/step - loss: 0.0153 - val_loss: 0.0143\n",
            "Epoch 51/100\n",
            "4/4 [==============================] - 1s 426ms/step - loss: 0.0148 - val_loss: 0.0144\n",
            "Epoch 52/100\n",
            "4/4 [==============================] - 2s 526ms/step - loss: 0.0147 - val_loss: 0.0142\n",
            "Epoch 53/100\n",
            "4/4 [==============================] - 2s 476ms/step - loss: 0.0144 - val_loss: 0.0148\n",
            "Epoch 54/100\n",
            "4/4 [==============================] - 3s 839ms/step - loss: 0.0153 - val_loss: 0.0141\n",
            "Epoch 55/100\n",
            "4/4 [==============================] - 3s 690ms/step - loss: 0.0146 - val_loss: 0.0136\n",
            "Epoch 56/100\n",
            "4/4 [==============================] - 3s 705ms/step - loss: 0.0141 - val_loss: 0.0135\n",
            "Epoch 57/100\n",
            "4/4 [==============================] - 2s 460ms/step - loss: 0.0140 - val_loss: 0.0136\n",
            "Epoch 58/100\n",
            "4/4 [==============================] - 2s 404ms/step - loss: 0.0141 - val_loss: 0.0137\n",
            "Epoch 59/100\n",
            "4/4 [==============================] - 2s 442ms/step - loss: 0.0138 - val_loss: 0.0141\n",
            "Epoch 60/100\n",
            "4/4 [==============================] - 2s 447ms/step - loss: 0.0140 - val_loss: 0.0129\n",
            "Epoch 61/100\n",
            "4/4 [==============================] - 2s 412ms/step - loss: 0.0148 - val_loss: 0.0188\n",
            "Epoch 62/100\n",
            "4/4 [==============================] - 2s 469ms/step - loss: 0.0159 - val_loss: 0.0154\n",
            "Epoch 63/100\n",
            "4/4 [==============================] - 2s 453ms/step - loss: 0.0145 - val_loss: 0.0153\n",
            "Epoch 64/100\n",
            "4/4 [==============================] - 1s 336ms/step - loss: 0.0144 - val_loss: 0.0195\n",
            "Epoch 65/100\n",
            "4/4 [==============================] - 1s 353ms/step - loss: 0.0162 - val_loss: 0.0181\n",
            "Epoch 66/100\n",
            "4/4 [==============================] - 2s 475ms/step - loss: 0.0156 - val_loss: 0.0134\n",
            "Epoch 67/100\n",
            "4/4 [==============================] - 1s 346ms/step - loss: 0.0142 - val_loss: 0.0132\n",
            "Epoch 68/100\n",
            "4/4 [==============================] - 1s 287ms/step - loss: 0.0137 - val_loss: 0.0137\n",
            "Epoch 69/100\n",
            "4/4 [==============================] - 1s 257ms/step - loss: 0.0134 - val_loss: 0.0133\n",
            "Epoch 70/100\n",
            "4/4 [==============================] - 1s 334ms/step - loss: 0.0133 - val_loss: 0.0130\n",
            "Epoch 71/100\n",
            "4/4 [==============================] - 1s 330ms/step - loss: 0.0132 - val_loss: 0.0128\n",
            "Epoch 72/100\n",
            "4/4 [==============================] - 1s 250ms/step - loss: 0.0132 - val_loss: 0.0147\n",
            "Epoch 73/100\n",
            "4/4 [==============================] - 1s 331ms/step - loss: 0.0157 - val_loss: 0.0141\n",
            "Epoch 74/100\n",
            "4/4 [==============================] - 1s 286ms/step - loss: 0.0141 - val_loss: 0.0129\n",
            "Epoch 75/100\n",
            "4/4 [==============================] - 1s 220ms/step - loss: 0.0128 - val_loss: 0.0134\n",
            "Epoch 76/100\n",
            "4/4 [==============================] - 1s 307ms/step - loss: 0.0130 - val_loss: 0.0123\n",
            "Epoch 77/100\n",
            "4/4 [==============================] - 2s 592ms/step - loss: 0.0125 - val_loss: 0.0123\n",
            "Epoch 78/100\n",
            "4/4 [==============================] - 1s 393ms/step - loss: 0.0125 - val_loss: 0.0133\n",
            "Epoch 79/100\n",
            "4/4 [==============================] - 1s 339ms/step - loss: 0.0140 - val_loss: 0.0156\n",
            "Epoch 80/100\n",
            "4/4 [==============================] - 1s 258ms/step - loss: 0.0146 - val_loss: 0.0123\n",
            "Epoch 81/100\n",
            "4/4 [==============================] - 1s 274ms/step - loss: 0.0130 - val_loss: 0.0137\n",
            "Epoch 82/100\n",
            "4/4 [==============================] - 1s 278ms/step - loss: 0.0142 - val_loss: 0.0155\n",
            "Epoch 83/100\n",
            "4/4 [==============================] - 1s 262ms/step - loss: 0.0149 - val_loss: 0.0149\n",
            "Epoch 84/100\n",
            "4/4 [==============================] - 1s 258ms/step - loss: 0.0145 - val_loss: 0.0157\n",
            "Epoch 85/100\n",
            "4/4 [==============================] - 1s 316ms/step - loss: 0.0151 - val_loss: 0.0131\n",
            "Epoch 86/100\n",
            "4/4 [==============================] - 1s 236ms/step - loss: 0.0135 - val_loss: 0.0122\n",
            "Epoch 87/100\n",
            "4/4 [==============================] - 1s 255ms/step - loss: 0.0127 - val_loss: 0.0123\n",
            "Epoch 88/100\n",
            "4/4 [==============================] - 1s 286ms/step - loss: 0.0125 - val_loss: 0.0129\n",
            "Epoch 89/100\n",
            "4/4 [==============================] - 1s 212ms/step - loss: 0.0126 - val_loss: 0.0125\n",
            "Epoch 90/100\n",
            "4/4 [==============================] - 1s 248ms/step - loss: 0.0123 - val_loss: 0.0120\n",
            "Epoch 91/100\n",
            "4/4 [==============================] - 1s 235ms/step - loss: 0.0124 - val_loss: 0.0122\n",
            "Epoch 92/100\n",
            "4/4 [==============================] - 1s 257ms/step - loss: 0.0121 - val_loss: 0.0117\n",
            "Epoch 93/100\n",
            "4/4 [==============================] - 1s 239ms/step - loss: 0.0118 - val_loss: 0.0126\n",
            "Epoch 94/100\n",
            "4/4 [==============================] - 1s 224ms/step - loss: 0.0126 - val_loss: 0.0136\n",
            "Epoch 95/100\n",
            "4/4 [==============================] - 1s 332ms/step - loss: 0.0158 - val_loss: 0.0132\n",
            "Epoch 96/100\n",
            "4/4 [==============================] - 1s 254ms/step - loss: 0.0144 - val_loss: 0.0114\n",
            "Epoch 97/100\n",
            "4/4 [==============================] - 1s 244ms/step - loss: 0.0134 - val_loss: 0.0119\n",
            "Epoch 98/100\n",
            "4/4 [==============================] - 1s 299ms/step - loss: 0.0124 - val_loss: 0.0151\n",
            "Epoch 99/100\n",
            "4/4 [==============================] - 1s 286ms/step - loss: 0.0135 - val_loss: 0.0184\n",
            "Epoch 100/100\n",
            "4/4 [==============================] - 1s 243ms/step - loss: 0.0152 - val_loss: 0.0131\n"
          ]
        }
      ],
      "source": [
        "hist_forward_ncp_with_deactivation = ncp_model_with_deactivation.fit(x=x_train_forward_activation_with_deactivation, y=y_train_forward_activation_with_deactivation, batch_size=32, epochs=100, validation_data=(x_valid_forward_activation_with_deactivation, y_valid_forward_activation_with_deactivation))"
      ]
    },
    {
      "cell_type": "code",
      "execution_count": 11,
      "metadata": {
        "colab": {
          "base_uri": "https://localhost:8080/",
          "height": 396
        },
        "id": "00BrW4TUUAZ7",
        "outputId": "0215397a-3187-4646-977e-6ccd4607b788"
      },
      "outputs": [
        {
          "data": {
            "image/png": "[encoded data removed]",
            "text/plain": [
              "<Figure size 600x400 with 1 Axes>"
            ]
          },
          "metadata": {},
          "output_type": "display_data"
        }
      ],
      "source": [
        "# Plotting the history data\n",
        "sns.set()\n",
        "plt.figure(figsize=(6, 4))\n",
        "plt.plot(hist_forward_ncp_with_deactivation.history[\"loss\"], label=\"Training loss\")\n",
        "plt.plot(hist_forward_ncp_with_deactivation.history[\"val_loss\"], label=\"Validation loss\")\n",
        "\n",
        "plt.legend(loc=\"upper right\")\n",
        "plt.xlabel(\"Training steps\")\n",
        "plt.ylabel(\"Loss\")\n",
        "plt.show()"
      ]
    },
    {
      "cell_type": "code",
      "execution_count": 12,
      "metadata": {
        "colab": {
          "base_uri": "https://localhost:8080/"
        },
        "id": "crV7blBi03EP",
        "outputId": "46e4bbb2-b969-40ef-8d51-f853817938bf"
      },
      "outputs": [
        {
          "name": "stdout",
          "output_type": "stream",
          "text": [
            "1/1 [==============================] - 3s 3s/step\n"
          ]
        }
      ],
      "source": [
        "y_test_forward_activation_with_deactivation_predicted = ncp_model_with_deactivation.predict(x_test_forward_activation_with_deactivation)"
      ]
    },
    {
      "cell_type": "code",
      "execution_count": 13,
      "metadata": {
        "colab": {
          "base_uri": "https://localhost:8080/",
          "height": 497
        },
        "id": "DhiF15OcU7fX",
        "outputId": "84585baf-ad7d-4972-afc8-bd7ab2cc1431"
      },
      "outputs": [
        {
          "data": {
            "text/plain": [
              "<Figure size 800x400 with 0 Axes>"
            ]
          },
          "metadata": {},
          "output_type": "display_data"
        },
        {
          "data": {
            "image/png": "[encoded data removed]",
            "text/plain": [
              "<Figure size 640x480 with 3 Axes>"
            ]
          },
          "metadata": {},
          "output_type": "display_data"
        }
      ],
      "source": [
        "# Plotting the training data\n",
        "plt.figure(figsize=(8, 4))\n",
        "fig, axs = plt.subplots(3,1)\n",
        "axs[0].plot(x_test_forward_activation_with_deactivation[0, :], 'tab:red')\n",
        "axs[0].set_title('PLM')\n",
        "axs[1].plot(y_test_forward_activation_with_deactivation[0, :], 'tab:blue')\n",
        "axs[1].set_title('AVB true')\n",
        "axs[2].plot(np.squeeze(y_test_forward_activation_with_deactivation_predicted[0, :]), 'tab:green')\n",
        "axs[2].set_title('AVB predicted')\n",
        "\n",
        "plt.tight_layout()\n",
        "plt.show()"
      ]
    },
    {
      "cell_type": "markdown",
      "metadata": {
        "id": "v__xJUbS2nWm"
      },
      "source": [
        "## Print learned weights"
      ]
    },
    {
      "cell_type": "code",
      "execution_count": 14,
      "metadata": {
        "colab": {
          "base_uri": "https://localhost:8080/"
        },
        "id": "nQpaCe-x2Xxe",
        "outputId": "a0d7acbe-5c6b-43bc-d529-f17ad9bc667a"
      },
      "outputs": [
        {
          "data": {
            "text/plain": [
              "[<tf.Variable 'ltc/ltc_cell/gleak:0' shape=(1,) dtype=float32, numpy=array([0.49387395], dtype=float32)>,\n",
              " <tf.Variable 'ltc/ltc_cell/vleak:0' shape=(1,) dtype=float32, numpy=array([-0.02624898], dtype=float32)>,\n",
              " <tf.Variable 'ltc/ltc_cell/cm:0' shape=(1,) dtype=float32, numpy=array([0.18542072], dtype=float32)>,\n",
              " <tf.Variable 'ltc/ltc_cell/sigma:0' shape=(1, 1) dtype=float32, numpy=array([[8.857708]], dtype=float32)>,\n",
              " <tf.Variable 'ltc/ltc_cell/mu:0' shape=(1, 1) dtype=float32, numpy=array([[0.76475394]], dtype=float32)>,\n",
              " <tf.Variable 'ltc/ltc_cell/w:0' shape=(1, 1) dtype=float32, numpy=array([[0.9578251]], dtype=float32)>,\n",
              " <tf.Variable 'ltc/ltc_cell/erev:0' shape=(1, 1) dtype=float32, numpy=array([[1.4785218]], dtype=float32)>,\n",
              " <tf.Variable 'ltc/ltc_cell/sensory_sigma:0' shape=(1, 1) dtype=float32, numpy=array([[7.176077]], dtype=float32)>,\n",
              " <tf.Variable 'ltc/ltc_cell/sensory_mu:0' shape=(1, 1) dtype=float32, numpy=array([[0.53925955]], dtype=float32)>,\n",
              " <tf.Variable 'ltc/ltc_cell/sensory_w:0' shape=(1, 1) dtype=float32, numpy=array([[0.28832713]], dtype=float32)>,\n",
              " <tf.Variable 'ltc/ltc_cell/sensory_erev:0' shape=(1, 1) dtype=float32, numpy=array([[1.5253367]], dtype=float32)>]"
            ]
          },
          "execution_count": 14,
          "metadata": {},
          "output_type": "execute_result"
        }
      ],
      "source": [
        "ncp_model_with_deactivation.variables"
      ]
    },
    {
      "cell_type": "markdown",
      "metadata": {
        "id": "cnHPr3QZ5AiX"
      },
      "source": [
        "## Define Forward circuit without self-loop"
      ]
    },
    {
      "cell_type": "code",
      "execution_count": 15,
      "metadata": {
        "id": "I0JjfghB5AiY"
      },
      "outputs": [],
      "source": [
        "class Forward_without_loop(wirings.Wiring):\n",
        "    def __init__(self, units=1, output_dim=1):\n",
        "        super(Forward_without_loop, self).__init__(units)\n",
        "        self.set_output_dim(output_dim)\n",
        "        self.sparsity_level = 0 # Need no sparsity, all the connections are defined in the build function\n",
        "\n",
        "    def build(self, input_shape):\n",
        "        super().build(input_shape)\n",
        "        self.sensory_adjacency_matrix[0,0] = 1 #idx0: source neuron index from sensory neurons, idx1: destination neuron index from units (shape: [input_dim, units])\n",
        "        #self.adjacency_matrix[0,0] = 1 #idx0: source neuron index from units, idx1: destination neuron index from units (shape: [units, units])"
      ]
    },
    {
      "cell_type": "markdown",
      "metadata": {
        "id": "UpV92n7544b3"
      },
      "source": [
        "## Create and compile keras model"
      ]
    },
    {
      "cell_type": "code",
      "execution_count": 16,
      "metadata": {
        "colab": {
          "base_uri": "https://localhost:8080/",
          "height": 404
        },
        "id": "KhSHKw-W44b3",
        "outputId": "2a5d3c1c-3b28-418a-e34a-4546d5ad5bec"
      },
      "outputs": [
        {
          "data": {
            "image/png": "[encoded data removed]",
            "text/plain": [
              "<Figure size 600x400 with 1 Axes>"
            ]
          },
          "metadata": {},
          "output_type": "display_data"
        }
      ],
      "source": [
        "forward_without_loop_architecture = Forward_without_loop(1,1) \n",
        "\n",
        "ncp_model_with_deactivation_without_selfloop = keras.models.Sequential(\n",
        "    [\n",
        "        keras.layers.InputLayer(input_shape=(None, 1)),\n",
        "        LTC(forward_without_loop_architecture, return_sequences=True, input_mapping=None, output_mapping=None),\n",
        "    ]\n",
        ")\n",
        "ncp_model_with_deactivation_without_selfloop.compile(\n",
        "    optimizer=keras.optimizers.Adam(0.01), loss='mean_squared_error'\n",
        ")\n",
        "sns.set_style(\"white\")\n",
        "plt.figure(figsize=(6, 4))\n",
        "legend_handles = forward_without_loop_architecture.draw_graph(draw_labels=True)\n",
        "plt.legend(handles=legend_handles, bbox_to_anchor=(1.1, 1.1))\n",
        "sns.despine(left=True, bottom=True)\n",
        "plt.tight_layout()\n",
        "plt.show()"
      ]
    },
    {
      "cell_type": "markdown",
      "metadata": {
        "id": "MU8jzgj_44b4"
      },
      "source": [
        "### Fit the dataset (PLM activates AVB, AVB stays active because of its self-activation)"
      ]
    },
    {
      "cell_type": "code",
      "execution_count": 17,
      "metadata": {
        "colab": {
          "base_uri": "https://localhost:8080/"
        },
        "id": "xhy3PhHW44b5",
        "outputId": "2ef9cc16-0f32-4e59-c00e-afe37fd04a13"
      },
      "outputs": [
        {
          "name": "stdout",
          "output_type": "stream",
          "text": [
            "Epoch 1/200\n",
            "4/4 [==============================] - 26s 476ms/step - loss: 0.0884 - val_loss: 0.0783\n",
            "Epoch 2/200\n",
            "4/4 [==============================] - 1s 241ms/step - loss: 0.0761 - val_loss: 0.0713\n",
            "Epoch 3/200\n",
            "4/4 [==============================] - 1s 211ms/step - loss: 0.0703 - val_loss: 0.0677\n",
            "Epoch 4/200\n",
            "4/4 [==============================] - 1s 250ms/step - loss: 0.0671 - val_loss: 0.0649\n",
            "Epoch 5/200\n",
            "4/4 [==============================] - 1s 219ms/step - loss: 0.0643 - val_loss: 0.0616\n",
            "Epoch 6/200\n",
            "4/4 [==============================] - 1s 253ms/step - loss: 0.0607 - val_loss: 0.0575\n",
            "Epoch 7/200\n",
            "4/4 [==============================] - 1s 275ms/step - loss: 0.0564 - val_loss: 0.0528\n",
            "Epoch 8/200\n",
            "4/4 [==============================] - 1s 189ms/step - loss: 0.0516 - val_loss: 0.0480\n",
            "Epoch 9/200\n",
            "4/4 [==============================] - 1s 185ms/step - loss: 0.0468 - val_loss: 0.0432\n",
            "Epoch 10/200\n",
            "4/4 [==============================] - 1s 214ms/step - loss: 0.0421 - val_loss: 0.0384\n",
            "Epoch 11/200\n",
            "4/4 [==============================] - 1s 182ms/step - loss: 0.0373 - val_loss: 0.0338\n",
            "Epoch 12/200\n",
            "4/4 [==============================] - 1s 158ms/step - loss: 0.0328 - val_loss: 0.0298\n",
            "Epoch 13/200\n",
            "4/4 [==============================] - 1s 152ms/step - loss: 0.0292 - val_loss: 0.0273\n",
            "Epoch 14/200\n",
            "4/4 [==============================] - 1s 153ms/step - loss: 0.0271 - val_loss: 0.0262\n",
            "Epoch 15/200\n",
            "4/4 [==============================] - 1s 155ms/step - loss: 0.0263 - val_loss: 0.0259\n",
            "Epoch 16/200\n",
            "4/4 [==============================] - 1s 163ms/step - loss: 0.0261 - val_loss: 0.0260\n",
            "Epoch 17/200\n",
            "4/4 [==============================] - 1s 151ms/step - loss: 0.0263 - val_loss: 0.0262\n",
            "Epoch 18/200\n",
            "4/4 [==============================] - 1s 160ms/step - loss: 0.0264 - val_loss: 0.0260\n",
            "Epoch 19/200\n",
            "4/4 [==============================] - 1s 173ms/step - loss: 0.0262 - val_loss: 0.0258\n",
            "Epoch 20/200\n",
            "4/4 [==============================] - 1s 154ms/step - loss: 0.0260 - val_loss: 0.0256\n",
            "Epoch 21/200\n",
            "4/4 [==============================] - 1s 173ms/step - loss: 0.0258 - val_loss: 0.0254\n",
            "Epoch 22/200\n",
            "4/4 [==============================] - 1s 175ms/step - loss: 0.0256 - val_loss: 0.0253\n",
            "Epoch 23/200\n",
            "4/4 [==============================] - 1s 178ms/step - loss: 0.0256 - val_loss: 0.0253\n",
            "Epoch 24/200\n",
            "4/4 [==============================] - 1s 170ms/step - loss: 0.0255 - val_loss: 0.0252\n",
            "Epoch 25/200\n",
            "4/4 [==============================] - 1s 160ms/step - loss: 0.0255 - val_loss: 0.0252\n",
            "Epoch 26/200\n",
            "4/4 [==============================] - 1s 152ms/step - loss: 0.0254 - val_loss: 0.0251\n",
            "Epoch 27/200\n",
            "4/4 [==============================] - 1s 173ms/step - loss: 0.0254 - val_loss: 0.0251\n",
            "Epoch 28/200\n",
            "4/4 [==============================] - 1s 171ms/step - loss: 0.0253 - val_loss: 0.0250\n",
            "Epoch 29/200\n",
            "4/4 [==============================] - 1s 181ms/step - loss: 0.0253 - val_loss: 0.0249\n",
            "Epoch 30/200\n",
            "4/4 [==============================] - 1s 161ms/step - loss: 0.0252 - val_loss: 0.0249\n",
            "Epoch 31/200\n",
            "4/4 [==============================] - 1s 178ms/step - loss: 0.0252 - val_loss: 0.0249\n",
            "Epoch 32/200\n",
            "4/4 [==============================] - 1s 159ms/step - loss: 0.0251 - val_loss: 0.0248\n",
            "Epoch 33/200\n",
            "4/4 [==============================] - 1s 148ms/step - loss: 0.0251 - val_loss: 0.0248\n",
            "Epoch 34/200\n",
            "4/4 [==============================] - 1s 187ms/step - loss: 0.0250 - val_loss: 0.0247\n",
            "Epoch 35/200\n",
            "4/4 [==============================] - 1s 178ms/step - loss: 0.0250 - val_loss: 0.0247\n",
            "Epoch 36/200\n",
            "4/4 [==============================] - 1s 166ms/step - loss: 0.0249 - val_loss: 0.0246\n",
            "Epoch 37/200\n",
            "4/4 [==============================] - 1s 265ms/step - loss: 0.0249 - val_loss: 0.0246\n",
            "Epoch 38/200\n",
            "4/4 [==============================] - 1s 207ms/step - loss: 0.0249 - val_loss: 0.0245\n",
            "Epoch 39/200\n",
            "4/4 [==============================] - 1s 288ms/step - loss: 0.0248 - val_loss: 0.0245\n",
            "Epoch 40/200\n",
            "4/4 [==============================] - 1s 287ms/step - loss: 0.0248 - val_loss: 0.0245\n",
            "Epoch 41/200\n",
            "4/4 [==============================] - 2s 408ms/step - loss: 0.0248 - val_loss: 0.0244\n",
            "Epoch 42/200\n",
            "4/4 [==============================] - 1s 421ms/step - loss: 0.0247 - val_loss: 0.0244\n",
            "Epoch 43/200\n",
            "4/4 [==============================] - 1s 264ms/step - loss: 0.0247 - val_loss: 0.0244\n",
            "Epoch 44/200\n",
            "4/4 [==============================] - 1s 215ms/step - loss: 0.0247 - val_loss: 0.0243\n",
            "Epoch 45/200\n",
            "4/4 [==============================] - 1s 224ms/step - loss: 0.0246 - val_loss: 0.0243\n",
            "Epoch 46/200\n",
            "4/4 [==============================] - 1s 249ms/step - loss: 0.0246 - val_loss: 0.0243\n",
            "Epoch 47/200\n",
            "4/4 [==============================] - 1s 213ms/step - loss: 0.0246 - val_loss: 0.0242\n",
            "Epoch 48/200\n",
            "4/4 [==============================] - 1s 218ms/step - loss: 0.0245 - val_loss: 0.0242\n",
            "Epoch 49/200\n",
            "4/4 [==============================] - 1s 240ms/step - loss: 0.0245 - val_loss: 0.0242\n",
            "Epoch 50/200\n",
            "4/4 [==============================] - 2s 509ms/step - loss: 0.0245 - val_loss: 0.0241\n",
            "Epoch 51/200\n",
            "4/4 [==============================] - 1s 261ms/step - loss: 0.0245 - val_loss: 0.0241\n",
            "Epoch 52/200\n",
            "4/4 [==============================] - 1s 245ms/step - loss: 0.0244 - val_loss: 0.0241\n",
            "Epoch 53/200\n",
            "4/4 [==============================] - 1s 213ms/step - loss: 0.0244 - val_loss: 0.0241\n",
            "Epoch 54/200\n",
            "4/4 [==============================] - 1s 212ms/step - loss: 0.0244 - val_loss: 0.0240\n",
            "Epoch 55/200\n",
            "4/4 [==============================] - 1s 224ms/step - loss: 0.0244 - val_loss: 0.0240\n",
            "Epoch 56/200\n",
            "4/4 [==============================] - 1s 210ms/step - loss: 0.0243 - val_loss: 0.0240\n",
            "Epoch 57/200\n",
            "4/4 [==============================] - 1s 228ms/step - loss: 0.0243 - val_loss: 0.0240\n",
            "Epoch 58/200\n",
            "4/4 [==============================] - 1s 176ms/step - loss: 0.0243 - val_loss: 0.0239\n",
            "Epoch 59/200\n",
            "4/4 [==============================] - 1s 255ms/step - loss: 0.0243 - val_loss: 0.0239\n",
            "Epoch 60/200\n",
            "4/4 [==============================] - 1s 204ms/step - loss: 0.0243 - val_loss: 0.0239\n",
            "Epoch 61/200\n",
            "4/4 [==============================] - 1s 236ms/step - loss: 0.0242 - val_loss: 0.0239\n",
            "Epoch 62/200\n",
            "4/4 [==============================] - 1s 209ms/step - loss: 0.0242 - val_loss: 0.0239\n",
            "Epoch 63/200\n",
            "4/4 [==============================] - 1s 197ms/step - loss: 0.0242 - val_loss: 0.0238\n",
            "Epoch 64/200\n",
            "4/4 [==============================] - 1s 236ms/step - loss: 0.0242 - val_loss: 0.0238\n",
            "Epoch 65/200\n",
            "4/4 [==============================] - 1s 210ms/step - loss: 0.0242 - val_loss: 0.0238\n",
            "Epoch 66/200\n",
            "4/4 [==============================] - 1s 206ms/step - loss: 0.0242 - val_loss: 0.0238\n",
            "Epoch 67/200\n",
            "4/4 [==============================] - 1s 188ms/step - loss: 0.0241 - val_loss: 0.0238\n",
            "Epoch 68/200\n",
            "4/4 [==============================] - 1s 176ms/step - loss: 0.0241 - val_loss: 0.0237\n",
            "Epoch 69/200\n",
            "4/4 [==============================] - 1s 180ms/step - loss: 0.0241 - val_loss: 0.0237\n",
            "Epoch 70/200\n",
            "4/4 [==============================] - 1s 228ms/step - loss: 0.0241 - val_loss: 0.0237\n",
            "Epoch 71/200\n",
            "4/4 [==============================] - 1s 215ms/step - loss: 0.0241 - val_loss: 0.0237\n",
            "Epoch 72/200\n",
            "4/4 [==============================] - 1s 195ms/step - loss: 0.0241 - val_loss: 0.0237\n",
            "Epoch 73/200\n",
            "4/4 [==============================] - 1s 178ms/step - loss: 0.0241 - val_loss: 0.0237\n",
            "Epoch 74/200\n",
            "4/4 [==============================] - 1s 188ms/step - loss: 0.0241 - val_loss: 0.0237\n",
            "Epoch 75/200\n",
            "4/4 [==============================] - 1s 197ms/step - loss: 0.0241 - val_loss: 0.0236\n",
            "Epoch 76/200\n",
            "4/4 [==============================] - 1s 183ms/step - loss: 0.0240 - val_loss: 0.0236\n",
            "Epoch 77/200\n",
            "4/4 [==============================] - 1s 222ms/step - loss: 0.0240 - val_loss: 0.0236\n",
            "Epoch 78/200\n",
            "4/4 [==============================] - 1s 207ms/step - loss: 0.0240 - val_loss: 0.0236\n",
            "Epoch 79/200\n",
            "4/4 [==============================] - 1s 214ms/step - loss: 0.0240 - val_loss: 0.0236\n",
            "Epoch 80/200\n",
            "4/4 [==============================] - 1s 196ms/step - loss: 0.0240 - val_loss: 0.0236\n",
            "Epoch 81/200\n",
            "4/4 [==============================] - 1s 223ms/step - loss: 0.0239 - val_loss: 0.0235\n",
            "Epoch 82/200\n",
            "4/4 [==============================] - 1s 268ms/step - loss: 0.0239 - val_loss: 0.0235\n",
            "Epoch 83/200\n",
            "4/4 [==============================] - 1s 320ms/step - loss: 0.0239 - val_loss: 0.0235\n",
            "Epoch 84/200\n",
            "4/4 [==============================] - 1s 246ms/step - loss: 0.0239 - val_loss: 0.0235\n",
            "Epoch 85/200\n",
            "4/4 [==============================] - 1s 242ms/step - loss: 0.0239 - val_loss: 0.0235\n",
            "Epoch 86/200\n",
            "4/4 [==============================] - 1s 224ms/step - loss: 0.0240 - val_loss: 0.0235\n",
            "Epoch 87/200\n",
            "4/4 [==============================] - 1s 261ms/step - loss: 0.0239 - val_loss: 0.0235\n",
            "Epoch 88/200\n",
            "4/4 [==============================] - 1s 221ms/step - loss: 0.0239 - val_loss: 0.0235\n",
            "Epoch 89/200\n",
            "4/4 [==============================] - 1s 272ms/step - loss: 0.0239 - val_loss: 0.0235\n",
            "Epoch 90/200\n",
            "4/4 [==============================] - 1s 209ms/step - loss: 0.0239 - val_loss: 0.0234\n",
            "Epoch 91/200\n",
            "4/4 [==============================] - 1s 202ms/step - loss: 0.0239 - val_loss: 0.0234\n",
            "Epoch 92/200\n",
            "4/4 [==============================] - 1s 222ms/step - loss: 0.0238 - val_loss: 0.0234\n",
            "Epoch 93/200\n",
            "4/4 [==============================] - 1s 217ms/step - loss: 0.0238 - val_loss: 0.0234\n",
            "Epoch 94/200\n",
            "4/4 [==============================] - 1s 248ms/step - loss: 0.0238 - val_loss: 0.0234\n",
            "Epoch 95/200\n",
            "4/4 [==============================] - 1s 211ms/step - loss: 0.0239 - val_loss: 0.0234\n",
            "Epoch 96/200\n",
            "4/4 [==============================] - 1s 234ms/step - loss: 0.0238 - val_loss: 0.0234\n",
            "Epoch 97/200\n",
            "4/4 [==============================] - 1s 216ms/step - loss: 0.0238 - val_loss: 0.0234\n",
            "Epoch 98/200\n",
            "4/4 [==============================] - 1s 268ms/step - loss: 0.0238 - val_loss: 0.0234\n",
            "Epoch 99/200\n",
            "4/4 [==============================] - 1s 213ms/step - loss: 0.0238 - val_loss: 0.0234\n",
            "Epoch 100/200\n",
            "4/4 [==============================] - 1s 187ms/step - loss: 0.0238 - val_loss: 0.0234\n",
            "Epoch 101/200\n",
            "4/4 [==============================] - 1s 193ms/step - loss: 0.0238 - val_loss: 0.0234\n",
            "Epoch 102/200\n",
            "4/4 [==============================] - 1s 233ms/step - loss: 0.0238 - val_loss: 0.0233\n",
            "Epoch 103/200\n",
            "4/4 [==============================] - 1s 242ms/step - loss: 0.0238 - val_loss: 0.0233\n",
            "Epoch 104/200\n",
            "4/4 [==============================] - 1s 242ms/step - loss: 0.0237 - val_loss: 0.0233\n",
            "Epoch 105/200\n",
            "4/4 [==============================] - 1s 255ms/step - loss: 0.0237 - val_loss: 0.0233\n",
            "Epoch 106/200\n",
            "4/4 [==============================] - 1s 249ms/step - loss: 0.0237 - val_loss: 0.0233\n",
            "Epoch 107/200\n",
            "4/4 [==============================] - 1s 287ms/step - loss: 0.0237 - val_loss: 0.0233\n",
            "Epoch 108/200\n",
            "4/4 [==============================] - 1s 247ms/step - loss: 0.0237 - val_loss: 0.0233\n",
            "Epoch 109/200\n",
            "4/4 [==============================] - 1s 260ms/step - loss: 0.0237 - val_loss: 0.0233\n",
            "Epoch 110/200\n",
            "4/4 [==============================] - 1s 217ms/step - loss: 0.0237 - val_loss: 0.0233\n",
            "Epoch 111/200\n",
            "4/4 [==============================] - 1s 214ms/step - loss: 0.0237 - val_loss: 0.0232\n",
            "Epoch 112/200\n",
            "4/4 [==============================] - 1s 216ms/step - loss: 0.0237 - val_loss: 0.0232\n",
            "Epoch 113/200\n",
            "4/4 [==============================] - 1s 211ms/step - loss: 0.0237 - val_loss: 0.0233\n",
            "Epoch 114/200\n",
            "4/4 [==============================] - 1s 265ms/step - loss: 0.0237 - val_loss: 0.0232\n",
            "Epoch 115/200\n",
            "4/4 [==============================] - 1s 281ms/step - loss: 0.0237 - val_loss: 0.0232\n",
            "Epoch 116/200\n",
            "4/4 [==============================] - 1s 205ms/step - loss: 0.0237 - val_loss: 0.0232\n",
            "Epoch 117/200\n",
            "4/4 [==============================] - 1s 226ms/step - loss: 0.0237 - val_loss: 0.0232\n",
            "Epoch 118/200\n",
            "4/4 [==============================] - 1s 260ms/step - loss: 0.0237 - val_loss: 0.0232\n",
            "Epoch 119/200\n",
            "4/4 [==============================] - 1s 242ms/step - loss: 0.0237 - val_loss: 0.0232\n",
            "Epoch 120/200\n",
            "4/4 [==============================] - 1s 204ms/step - loss: 0.0236 - val_loss: 0.0232\n",
            "Epoch 121/200\n",
            "4/4 [==============================] - 1s 244ms/step - loss: 0.0236 - val_loss: 0.0232\n",
            "Epoch 122/200\n",
            "4/4 [==============================] - 1s 221ms/step - loss: 0.0237 - val_loss: 0.0232\n",
            "Epoch 123/200\n",
            "4/4 [==============================] - 1s 212ms/step - loss: 0.0236 - val_loss: 0.0233\n",
            "Epoch 124/200\n",
            "4/4 [==============================] - 1s 237ms/step - loss: 0.0237 - val_loss: 0.0232\n",
            "Epoch 125/200\n",
            "4/4 [==============================] - 1s 230ms/step - loss: 0.0236 - val_loss: 0.0232\n",
            "Epoch 126/200\n",
            "4/4 [==============================] - 1s 195ms/step - loss: 0.0236 - val_loss: 0.0232\n",
            "Epoch 127/200\n",
            "4/4 [==============================] - 1s 212ms/step - loss: 0.0236 - val_loss: 0.0232\n",
            "Epoch 128/200\n",
            "4/4 [==============================] - 1s 223ms/step - loss: 0.0236 - val_loss: 0.0231\n",
            "Epoch 129/200\n",
            "4/4 [==============================] - 1s 200ms/step - loss: 0.0236 - val_loss: 0.0231\n",
            "Epoch 130/200\n",
            "4/4 [==============================] - 1s 192ms/step - loss: 0.0236 - val_loss: 0.0231\n",
            "Epoch 131/200\n",
            "4/4 [==============================] - 1s 181ms/step - loss: 0.0236 - val_loss: 0.0231\n",
            "Epoch 132/200\n",
            "4/4 [==============================] - 1s 276ms/step - loss: 0.0236 - val_loss: 0.0231\n",
            "Epoch 133/200\n",
            "4/4 [==============================] - 1s 212ms/step - loss: 0.0236 - val_loss: 0.0231\n",
            "Epoch 134/200\n",
            "4/4 [==============================] - 1s 244ms/step - loss: 0.0236 - val_loss: 0.0231\n",
            "Epoch 135/200\n",
            "4/4 [==============================] - 1s 263ms/step - loss: 0.0236 - val_loss: 0.0231\n",
            "Epoch 136/200\n",
            "4/4 [==============================] - 1s 259ms/step - loss: 0.0236 - val_loss: 0.0232\n",
            "Epoch 137/200\n",
            "4/4 [==============================] - 1s 256ms/step - loss: 0.0236 - val_loss: 0.0232\n",
            "Epoch 138/200\n",
            "4/4 [==============================] - 1s 244ms/step - loss: 0.0237 - val_loss: 0.0231\n",
            "Epoch 139/200\n",
            "4/4 [==============================] - 1s 241ms/step - loss: 0.0235 - val_loss: 0.0232\n",
            "Epoch 140/200\n",
            "4/4 [==============================] - 1s 226ms/step - loss: 0.0237 - val_loss: 0.0231\n",
            "Epoch 141/200\n",
            "4/4 [==============================] - 1s 243ms/step - loss: 0.0236 - val_loss: 0.0231\n",
            "Epoch 142/200\n",
            "4/4 [==============================] - 1s 272ms/step - loss: 0.0235 - val_loss: 0.0231\n",
            "Epoch 143/200\n",
            "4/4 [==============================] - 1s 218ms/step - loss: 0.0235 - val_loss: 0.0231\n",
            "Epoch 144/200\n",
            "4/4 [==============================] - 1s 253ms/step - loss: 0.0235 - val_loss: 0.0231\n",
            "Epoch 145/200\n",
            "4/4 [==============================] - 1s 209ms/step - loss: 0.0235 - val_loss: 0.0230\n",
            "Epoch 146/200\n",
            "4/4 [==============================] - 1s 217ms/step - loss: 0.0235 - val_loss: 0.0231\n",
            "Epoch 147/200\n",
            "4/4 [==============================] - 1s 280ms/step - loss: 0.0236 - val_loss: 0.0231\n",
            "Epoch 148/200\n",
            "4/4 [==============================] - 1s 247ms/step - loss: 0.0235 - val_loss: 0.0230\n",
            "Epoch 149/200\n",
            "4/4 [==============================] - 1s 271ms/step - loss: 0.0235 - val_loss: 0.0230\n",
            "Epoch 150/200\n",
            "4/4 [==============================] - 1s 235ms/step - loss: 0.0235 - val_loss: 0.0230\n",
            "Epoch 151/200\n",
            "4/4 [==============================] - 1s 260ms/step - loss: 0.0235 - val_loss: 0.0230\n",
            "Epoch 152/200\n",
            "4/4 [==============================] - 1s 282ms/step - loss: 0.0235 - val_loss: 0.0230\n",
            "Epoch 153/200\n",
            "4/4 [==============================] - 1s 264ms/step - loss: 0.0235 - val_loss: 0.0230\n",
            "Epoch 154/200\n",
            "4/4 [==============================] - 1s 277ms/step - loss: 0.0235 - val_loss: 0.0230\n",
            "Epoch 155/200\n",
            "4/4 [==============================] - 1s 272ms/step - loss: 0.0235 - val_loss: 0.0230\n",
            "Epoch 156/200\n",
            "4/4 [==============================] - 1s 223ms/step - loss: 0.0235 - val_loss: 0.0230\n",
            "Epoch 157/200\n",
            "4/4 [==============================] - 1s 284ms/step - loss: 0.0235 - val_loss: 0.0230\n",
            "Epoch 158/200\n",
            "4/4 [==============================] - 1s 339ms/step - loss: 0.0235 - val_loss: 0.0231\n",
            "Epoch 159/200\n",
            "4/4 [==============================] - 1s 318ms/step - loss: 0.0235 - val_loss: 0.0230\n",
            "Epoch 160/200\n",
            "4/4 [==============================] - 1s 309ms/step - loss: 0.0235 - val_loss: 0.0231\n",
            "Epoch 161/200\n",
            "4/4 [==============================] - 1s 248ms/step - loss: 0.0235 - val_loss: 0.0230\n",
            "Epoch 162/200\n",
            "4/4 [==============================] - 1s 260ms/step - loss: 0.0235 - val_loss: 0.0230\n",
            "Epoch 163/200\n",
            "4/4 [==============================] - 1s 221ms/step - loss: 0.0235 - val_loss: 0.0230\n",
            "Epoch 164/200\n",
            "4/4 [==============================] - 1s 211ms/step - loss: 0.0235 - val_loss: 0.0230\n",
            "Epoch 165/200\n",
            "4/4 [==============================] - 1s 220ms/step - loss: 0.0235 - val_loss: 0.0230\n",
            "Epoch 166/200\n",
            "4/4 [==============================] - 1s 218ms/step - loss: 0.0235 - val_loss: 0.0230\n",
            "Epoch 167/200\n",
            "4/4 [==============================] - 1s 261ms/step - loss: 0.0235 - val_loss: 0.0230\n",
            "Epoch 168/200\n",
            "4/4 [==============================] - 1s 205ms/step - loss: 0.0235 - val_loss: 0.0230\n",
            "Epoch 169/200\n",
            "4/4 [==============================] - 1s 212ms/step - loss: 0.0234 - val_loss: 0.0230\n",
            "Epoch 170/200\n",
            "4/4 [==============================] - 1s 227ms/step - loss: 0.0234 - val_loss: 0.0230\n",
            "Epoch 171/200\n",
            "4/4 [==============================] - 1s 220ms/step - loss: 0.0235 - val_loss: 0.0230\n",
            "Epoch 172/200\n",
            "4/4 [==============================] - 1s 231ms/step - loss: 0.0235 - val_loss: 0.0229\n",
            "Epoch 173/200\n",
            "4/4 [==============================] - 1s 194ms/step - loss: 0.0234 - val_loss: 0.0229\n",
            "Epoch 174/200\n",
            "4/4 [==============================] - 1s 288ms/step - loss: 0.0234 - val_loss: 0.0229\n",
            "Epoch 175/200\n",
            "4/4 [==============================] - 1s 212ms/step - loss: 0.0234 - val_loss: 0.0230\n",
            "Epoch 176/200\n",
            "4/4 [==============================] - 1s 201ms/step - loss: 0.0235 - val_loss: 0.0229\n",
            "Epoch 177/200\n",
            "4/4 [==============================] - 1s 231ms/step - loss: 0.0234 - val_loss: 0.0230\n",
            "Epoch 178/200\n",
            "4/4 [==============================] - 1s 254ms/step - loss: 0.0235 - val_loss: 0.0229\n",
            "Epoch 179/200\n",
            "4/4 [==============================] - 1s 192ms/step - loss: 0.0234 - val_loss: 0.0230\n",
            "Epoch 180/200\n",
            "4/4 [==============================] - 1s 251ms/step - loss: 0.0235 - val_loss: 0.0229\n",
            "Epoch 181/200\n",
            "4/4 [==============================] - 1s 252ms/step - loss: 0.0235 - val_loss: 0.0231\n",
            "Epoch 182/200\n",
            "4/4 [==============================] - 1s 228ms/step - loss: 0.0236 - val_loss: 0.0229\n",
            "Epoch 183/200\n",
            "4/4 [==============================] - 1s 271ms/step - loss: 0.0234 - val_loss: 0.0229\n",
            "Epoch 184/200\n",
            "4/4 [==============================] - 1s 246ms/step - loss: 0.0235 - val_loss: 0.0229\n",
            "Epoch 185/200\n",
            "4/4 [==============================] - 1s 208ms/step - loss: 0.0234 - val_loss: 0.0230\n",
            "Epoch 186/200\n",
            "4/4 [==============================] - 1s 253ms/step - loss: 0.0235 - val_loss: 0.0229\n",
            "Epoch 187/200\n",
            "4/4 [==============================] - 1s 220ms/step - loss: 0.0234 - val_loss: 0.0229\n",
            "Epoch 188/200\n",
            "4/4 [==============================] - 1s 189ms/step - loss: 0.0234 - val_loss: 0.0229\n",
            "Epoch 189/200\n",
            "4/4 [==============================] - 1s 227ms/step - loss: 0.0234 - val_loss: 0.0229\n",
            "Epoch 190/200\n",
            "4/4 [==============================] - 1s 210ms/step - loss: 0.0234 - val_loss: 0.0229\n",
            "Epoch 191/200\n",
            "4/4 [==============================] - 1s 249ms/step - loss: 0.0234 - val_loss: 0.0229\n",
            "Epoch 192/200\n",
            "4/4 [==============================] - 1s 199ms/step - loss: 0.0234 - val_loss: 0.0229\n",
            "Epoch 193/200\n",
            "4/4 [==============================] - 1s 235ms/step - loss: 0.0235 - val_loss: 0.0230\n",
            "Epoch 194/200\n",
            "4/4 [==============================] - 1s 222ms/step - loss: 0.0234 - val_loss: 0.0231\n",
            "Epoch 195/200\n",
            "4/4 [==============================] - 1s 220ms/step - loss: 0.0236 - val_loss: 0.0229\n",
            "Epoch 196/200\n",
            "4/4 [==============================] - 1s 178ms/step - loss: 0.0235 - val_loss: 0.0230\n",
            "Epoch 197/200\n",
            "4/4 [==============================] - 1s 216ms/step - loss: 0.0235 - val_loss: 0.0229\n",
            "Epoch 198/200\n",
            "4/4 [==============================] - 1s 226ms/step - loss: 0.0235 - val_loss: 0.0229\n",
            "Epoch 199/200\n",
            "4/4 [==============================] - 1s 232ms/step - loss: 0.0234 - val_loss: 0.0229\n",
            "Epoch 200/200\n",
            "4/4 [==============================] - 1s 201ms/step - loss: 0.0234 - val_loss: 0.0229\n"
          ]
        }
      ],
      "source": [
        "hist_forward_ncp_with_deactivation_without_selfloop = ncp_model_with_deactivation_without_selfloop.fit(x=x_train_forward_activation_with_deactivation, y=y_train_forward_activation_with_deactivation, batch_size=32, epochs=200, validation_data=(x_valid_forward_activation_with_deactivation, y_valid_forward_activation_with_deactivation))"
      ]
    },
    {
      "cell_type": "code",
      "execution_count": 18,
      "metadata": {
        "colab": {
          "base_uri": "https://localhost:8080/",
          "height": 396
        },
        "id": "zLxce00V44b5",
        "outputId": "fec3f1fd-b2ea-4d59-917b-98dc66f10580"
      },
      "outputs": [
        {
          "data": {
            "image/png": "[encoded data removed]",
            "text/plain": [
              "<Figure size 600x400 with 1 Axes>"
            ]
          },
          "metadata": {},
          "output_type": "display_data"
        }
      ],
      "source": [
        "# Plotting the history data\n",
        "sns.set()\n",
        "plt.figure(figsize=(6, 4))\n",
        "plt.plot(hist_forward_ncp_with_deactivation_without_selfloop.history[\"loss\"], label=\"Training loss\")\n",
        "plt.plot(hist_forward_ncp_with_deactivation_without_selfloop.history[\"val_loss\"], label=\"Validation loss\")\n",
        "\n",
        "plt.legend(loc=\"upper right\")\n",
        "plt.xlabel(\"Training steps\")\n",
        "plt.ylabel(\"Loss\")\n",
        "plt.show()"
      ]
    },
    {
      "cell_type": "code",
      "execution_count": 19,
      "metadata": {
        "colab": {
          "base_uri": "https://localhost:8080/"
        },
        "id": "y0tTdNgJ44b5",
        "outputId": "bbbd6ec4-dc42-47a7-8951-a54e46adabf2"
      },
      "outputs": [
        {
          "name": "stdout",
          "output_type": "stream",
          "text": [
            "1/1 [==============================] - 1s 1s/step\n"
          ]
        }
      ],
      "source": [
        "y_test_forward_activation_with_deactivation_without_selfloop_predicted2 = ncp_model_with_deactivation_without_selfloop.predict(x_test_forward_activation_with_deactivation)"
      ]
    },
    {
      "cell_type": "code",
      "execution_count": 20,
      "metadata": {
        "colab": {
          "base_uri": "https://localhost:8080/",
          "height": 497
        },
        "id": "5OaSrtUF44b6",
        "outputId": "6d8d1ab1-ed0b-4cbe-d097-173833ca9dd7"
      },
      "outputs": [
        {
          "data": {
            "text/plain": [
              "<Figure size 800x400 with 0 Axes>"
            ]
          },
          "metadata": {},
          "output_type": "display_data"
        },
        {
          "data": {
            "image/png": "[encoded data removed]",
            "text/plain": [
              "<Figure size 640x480 with 3 Axes>"
            ]
          },
          "metadata": {},
          "output_type": "display_data"
        }
      ],
      "source": [
        "# Plotting the training data\n",
        "plt.figure(figsize=(8, 4))\n",
        "fig, axs = plt.subplots(3,1)\n",
        "axs[0].plot(x_test_forward_activation_with_deactivation[0, :], 'tab:red')\n",
        "axs[0].set_title('PLM')\n",
        "axs[1].plot(y_test_forward_activation_with_deactivation[0, :], 'tab:blue')\n",
        "axs[1].set_title('AVB true')\n",
        "axs[2].plot(np.squeeze(y_test_forward_activation_with_deactivation_without_selfloop_predicted2[0, :]), 'tab:green')\n",
        "axs[2].set_title('AVB predicted')\n",
        "\n",
        "\n",
        "plt.tight_layout()\n",
        "plt.show()"
      ]
    },
    {
      "cell_type": "markdown",
      "metadata": {
        "id": "mewyrJIn41pf"
      },
      "source": [
        "## Print learned weights"
      ]
    },
    {
      "cell_type": "code",
      "execution_count": 21,
      "metadata": {
        "colab": {
          "base_uri": "https://localhost:8080/"
        },
        "id": "6byUHNsK2aoX",
        "outputId": "de9ebbfa-ab90-4a88-c33c-7216dfab6e2a"
      },
      "outputs": [
        {
          "data": {
            "text/plain": [
              "[<tf.Variable 'ltc_1/ltc_cell_1/gleak:0' shape=(1,) dtype=float32, numpy=array([0.32717377], dtype=float32)>,\n",
              " <tf.Variable 'ltc_1/ltc_cell_1/vleak:0' shape=(1,) dtype=float32, numpy=array([-0.05360315], dtype=float32)>,\n",
              " <tf.Variable 'ltc_1/ltc_cell_1/cm:0' shape=(1,) dtype=float32, numpy=array([1.226559], dtype=float32)>,\n",
              " <tf.Variable 'ltc_1/ltc_cell_1/sigma:0' shape=(1, 1) dtype=float32, numpy=array([[4.0709934]], dtype=float32)>,\n",
              " <tf.Variable 'ltc_1/ltc_cell_1/mu:0' shape=(1, 1) dtype=float32, numpy=array([[0.7816885]], dtype=float32)>,\n",
              " <tf.Variable 'ltc_1/ltc_cell_1/w:0' shape=(1, 1) dtype=float32, numpy=array([[0.80199164]], dtype=float32)>,\n",
              " <tf.Variable 'ltc_1/ltc_cell_1/erev:0' shape=(1, 1) dtype=float32, numpy=array([[0.]], dtype=float32)>,\n",
              " <tf.Variable 'ltc_1/ltc_cell_1/sensory_sigma:0' shape=(1, 1) dtype=float32, numpy=array([[6.1449885]], dtype=float32)>,\n",
              " <tf.Variable 'ltc_1/ltc_cell_1/sensory_mu:0' shape=(1, 1) dtype=float32, numpy=array([[0.7816628]], dtype=float32)>,\n",
              " <tf.Variable 'ltc_1/ltc_cell_1/sensory_w:0' shape=(1, 1) dtype=float32, numpy=array([[0.4385807]], dtype=float32)>,\n",
              " <tf.Variable 'ltc_1/ltc_cell_1/sensory_erev:0' shape=(1, 1) dtype=float32, numpy=array([[2.6543217]], dtype=float32)>]"
            ]
          },
          "execution_count": 21,
          "metadata": {},
          "output_type": "execute_result"
        }
      ],
      "source": [
        "ncp_model_with_deactivation_without_selfloop.variables"
      ]
    },
    {
      "cell_type": "code",
      "execution_count": 21,
      "metadata": {
        "id": "Pcc-uKUJ3HGg"
      },
      "outputs": [],
      "source": []
    }
  ],
  "metadata": {
    "colab": {
      "authorship_tag": "ABX9TyMHtMye4LfdIGX4o/jnEbc6",
      "collapsed_sections": [
        "yJyeKa0rPl9O",
        "xs0l3N0MR2h_"
      ],
      "include_colab_link": true,
      "provenance": []
    },
    "kernelspec": {
      "display_name": "neuroai",
      "language": "python",
      "name": "python3"
    },
    "language_info": {
      "codemirror_mode": {
        "name": "ipython",
        "version": 3
      },
      "file_extension": ".py",
      "mimetype": "text/x-python",
      "name": "python",
      "nbconvert_exporter": "python",
      "pygments_lexer": "ipython3",
      "version": "3.10.0"
    },
    "vscode": {
      "interpreter": {
        "hash": "8a830522d20d9c34540380d8c55bef775e419dc078668b3b18fb16932cdc1544"
      }
    }
  },
  "nbformat": 4,
  "nbformat_minor": 0
}
