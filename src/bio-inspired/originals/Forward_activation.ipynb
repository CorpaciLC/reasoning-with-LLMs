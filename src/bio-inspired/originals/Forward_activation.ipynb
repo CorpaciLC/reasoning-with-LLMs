{
  "cells": [
    {
      "cell_type": "markdown",
      "metadata": {
        "colab_type": "text",
        "id": "view-in-github"
      },
      "source": [
        "<a href=\"https://colab.research.google.com/github/MoniFarsang/NeuroAI/blob/main/Forward_activation.ipynb\" target=\"_parent\"><img src=\"https://colab.research.google.com/assets/colab-badge.svg\" alt=\"Open In Colab\"/></a>"
      ]
    },
    {
      "cell_type": "code",
      "execution_count": 1,
      "metadata": {},
      "outputs": [
        {
          "name": "stdout",
          "output_type": "stream",
          "text": [
            "Requirement already satisfied: pip in c:\\users\\lcorpaci\\documents\\thesis\\.venv\\lib\\site-packages (24.2)\n"
          ]
        }
      ],
      "source": [
        "!python -m pip install --upgrade pip"
      ]
    },
    {
      "cell_type": "code",
      "execution_count": 2,
      "metadata": {},
      "outputs": [
        {
          "name": "stdout",
          "output_type": "stream",
          "text": [
            "Python 3.10.0\n"
          ]
        }
      ],
      "source": [
        "!python --version"
      ]
    },
    {
      "cell_type": "code",
      "execution_count": 3,
      "metadata": {
        "colab": {
          "base_uri": "https://localhost:8080/"
        },
        "id": "zCwOl99EwbOV",
        "outputId": "aa7b772f-ef1c-48fb-f6a1-b5eaa13aa9b3"
      },
      "outputs": [
        {
          "name": "stdout",
          "output_type": "stream",
          "text": [
            "Requirement already satisfied: seaborn in c:\\users\\lcorpaci\\documents\\thesis\\.venv\\lib\\site-packages (0.13.2)\n",
            "Requirement already satisfied: ncps in c:\\users\\lcorpaci\\documents\\thesis\\.venv\\lib\\site-packages (1.0.1)\n",
            "Requirement already satisfied: numpy!=1.24.0,>=1.20 in c:\\users\\lcorpaci\\documents\\thesis\\.venv\\lib\\site-packages (from seaborn) (1.26.4)\n",
            "Requirement already satisfied: pandas>=1.2 in c:\\users\\lcorpaci\\documents\\thesis\\.venv\\lib\\site-packages (from seaborn) (2.2.2)\n",
            "Requirement already satisfied: matplotlib!=3.6.1,>=3.4 in c:\\users\\lcorpaci\\documents\\thesis\\.venv\\lib\\site-packages (from seaborn) (3.9.2)\n",
            "Requirement already satisfied: future in c:\\users\\lcorpaci\\documents\\thesis\\.venv\\lib\\site-packages (from ncps) (1.0.0)\n",
            "Requirement already satisfied: packaging in c:\\users\\lcorpaci\\documents\\thesis\\.venv\\lib\\site-packages (from ncps) (24.1)\n",
            "Requirement already satisfied: contourpy>=1.0.1 in c:\\users\\lcorpaci\\documents\\thesis\\.venv\\lib\\site-packages (from matplotlib!=3.6.1,>=3.4->seaborn) (1.3.0)\n",
            "Requirement already satisfied: cycler>=0.10 in c:\\users\\lcorpaci\\documents\\thesis\\.venv\\lib\\site-packages (from matplotlib!=3.6.1,>=3.4->seaborn) (0.12.1)\n",
            "Requirement already satisfied: fonttools>=4.22.0 in c:\\users\\lcorpaci\\documents\\thesis\\.venv\\lib\\site-packages (from matplotlib!=3.6.1,>=3.4->seaborn) (4.53.1)\n",
            "Requirement already satisfied: kiwisolver>=1.3.1 in c:\\users\\lcorpaci\\documents\\thesis\\.venv\\lib\\site-packages (from matplotlib!=3.6.1,>=3.4->seaborn) (1.4.7)\n",
            "Requirement already satisfied: pillow>=8 in c:\\users\\lcorpaci\\documents\\thesis\\.venv\\lib\\site-packages (from matplotlib!=3.6.1,>=3.4->seaborn) (10.4.0)\n",
            "Requirement already satisfied: pyparsing>=2.3.1 in c:\\users\\lcorpaci\\documents\\thesis\\.venv\\lib\\site-packages (from matplotlib!=3.6.1,>=3.4->seaborn) (3.1.4)\n",
            "Requirement already satisfied: python-dateutil>=2.7 in c:\\users\\lcorpaci\\documents\\thesis\\.venv\\lib\\site-packages (from matplotlib!=3.6.1,>=3.4->seaborn) (2.9.0.post0)\n",
            "Requirement already satisfied: pytz>=2020.1 in c:\\users\\lcorpaci\\documents\\thesis\\.venv\\lib\\site-packages (from pandas>=1.2->seaborn) (2024.2)\n",
            "Requirement already satisfied: tzdata>=2022.7 in c:\\users\\lcorpaci\\documents\\thesis\\.venv\\lib\\site-packages (from pandas>=1.2->seaborn) (2024.1)\n",
            "Requirement already satisfied: six>=1.5 in c:\\users\\lcorpaci\\documents\\thesis\\.venv\\lib\\site-packages (from python-dateutil>=2.7->matplotlib!=3.6.1,>=3.4->seaborn) (1.16.0)\n"
          ]
        }
      ],
      "source": [
        "!pip install seaborn ncps"
      ]
    },
    {
      "cell_type": "code",
      "execution_count": 4,
      "metadata": {},
      "outputs": [
        {
          "name": "stdout",
          "output_type": "stream",
          "text": [
            "Requirement already satisfied: numpy<2.0 in c:\\users\\lcorpaci\\documents\\thesis\\.venv\\lib\\site-packages (1.26.4)\n"
          ]
        }
      ],
      "source": [
        "!pip install \"numpy<2.0\" "
      ]
    },
    {
      "cell_type": "code",
      "execution_count": 5,
      "metadata": {},
      "outputs": [
        {
          "name": "stdout",
          "output_type": "stream",
          "text": [
            "Requirement already satisfied: tensorflow==2.10.0 in c:\\users\\lcorpaci\\documents\\thesis\\.venv\\lib\\site-packages (2.10.0)\n",
            "Requirement already satisfied: absl-py>=1.0.0 in c:\\users\\lcorpaci\\documents\\thesis\\.venv\\lib\\site-packages (from tensorflow==2.10.0) (2.1.0)\n",
            "Requirement already satisfied: astunparse>=1.6.0 in c:\\users\\lcorpaci\\documents\\thesis\\.venv\\lib\\site-packages (from tensorflow==2.10.0) (1.6.3)\n",
            "Requirement already satisfied: flatbuffers>=2.0 in c:\\users\\lcorpaci\\documents\\thesis\\.venv\\lib\\site-packages (from tensorflow==2.10.0) (24.3.25)\n",
            "Requirement already satisfied: gast<=0.4.0,>=0.2.1 in c:\\users\\lcorpaci\\documents\\thesis\\.venv\\lib\\site-packages (from tensorflow==2.10.0) (0.4.0)\n",
            "Requirement already satisfied: google-pasta>=0.1.1 in c:\\users\\lcorpaci\\documents\\thesis\\.venv\\lib\\site-packages (from tensorflow==2.10.0) (0.2.0)\n",
            "Requirement already satisfied: h5py>=2.9.0 in c:\\users\\lcorpaci\\documents\\thesis\\.venv\\lib\\site-packages (from tensorflow==2.10.0) (3.11.0)\n",
            "Requirement already satisfied: keras-preprocessing>=1.1.1 in c:\\users\\lcorpaci\\documents\\thesis\\.venv\\lib\\site-packages (from tensorflow==2.10.0) (1.1.2)\n",
            "Requirement already satisfied: libclang>=13.0.0 in c:\\users\\lcorpaci\\documents\\thesis\\.venv\\lib\\site-packages (from tensorflow==2.10.0) (18.1.1)\n",
            "Requirement already satisfied: numpy>=1.20 in c:\\users\\lcorpaci\\documents\\thesis\\.venv\\lib\\site-packages (from tensorflow==2.10.0) (1.26.4)\n",
            "Requirement already satisfied: opt-einsum>=2.3.2 in c:\\users\\lcorpaci\\documents\\thesis\\.venv\\lib\\site-packages (from tensorflow==2.10.0) (3.3.0)\n",
            "Requirement already satisfied: packaging in c:\\users\\lcorpaci\\documents\\thesis\\.venv\\lib\\site-packages (from tensorflow==2.10.0) (24.1)\n",
            "Requirement already satisfied: protobuf<3.20,>=3.9.2 in c:\\users\\lcorpaci\\documents\\thesis\\.venv\\lib\\site-packages (from tensorflow==2.10.0) (3.19.6)\n",
            "Requirement already satisfied: setuptools in c:\\users\\lcorpaci\\documents\\thesis\\.venv\\lib\\site-packages (from tensorflow==2.10.0) (57.4.0)\n",
            "Requirement already satisfied: six>=1.12.0 in c:\\users\\lcorpaci\\documents\\thesis\\.venv\\lib\\site-packages (from tensorflow==2.10.0) (1.16.0)\n",
            "Requirement already satisfied: termcolor>=1.1.0 in c:\\users\\lcorpaci\\documents\\thesis\\.venv\\lib\\site-packages (from tensorflow==2.10.0) (2.4.0)\n",
            "Requirement already satisfied: typing-extensions>=3.6.6 in c:\\users\\lcorpaci\\documents\\thesis\\.venv\\lib\\site-packages (from tensorflow==2.10.0) (4.12.2)\n",
            "Requirement already satisfied: wrapt>=1.11.0 in c:\\users\\lcorpaci\\documents\\thesis\\.venv\\lib\\site-packages (from tensorflow==2.10.0) (1.16.0)\n",
            "Requirement already satisfied: tensorflow-io-gcs-filesystem>=0.23.1 in c:\\users\\lcorpaci\\documents\\thesis\\.venv\\lib\\site-packages (from tensorflow==2.10.0) (0.31.0)\n",
            "Requirement already satisfied: grpcio<2.0,>=1.24.3 in c:\\users\\lcorpaci\\documents\\thesis\\.venv\\lib\\site-packages (from tensorflow==2.10.0) (1.66.1)\n",
            "Requirement already satisfied: tensorboard<2.11,>=2.10 in c:\\users\\lcorpaci\\documents\\thesis\\.venv\\lib\\site-packages (from tensorflow==2.10.0) (2.10.1)\n",
            "Requirement already satisfied: tensorflow-estimator<2.11,>=2.10.0 in c:\\users\\lcorpaci\\documents\\thesis\\.venv\\lib\\site-packages (from tensorflow==2.10.0) (2.10.0)\n",
            "Requirement already satisfied: keras<2.11,>=2.10.0 in c:\\users\\lcorpaci\\documents\\thesis\\.venv\\lib\\site-packages (from tensorflow==2.10.0) (2.10.0)\n",
            "Requirement already satisfied: wheel<1.0,>=0.23.0 in c:\\users\\lcorpaci\\documents\\thesis\\.venv\\lib\\site-packages (from astunparse>=1.6.0->tensorflow==2.10.0) (0.44.0)\n",
            "Requirement already satisfied: google-auth<3,>=1.6.3 in c:\\users\\lcorpaci\\documents\\thesis\\.venv\\lib\\site-packages (from tensorboard<2.11,>=2.10->tensorflow==2.10.0) (2.34.0)\n",
            "Requirement already satisfied: google-auth-oauthlib<0.5,>=0.4.1 in c:\\users\\lcorpaci\\documents\\thesis\\.venv\\lib\\site-packages (from tensorboard<2.11,>=2.10->tensorflow==2.10.0) (0.4.6)\n",
            "Requirement already satisfied: markdown>=2.6.8 in c:\\users\\lcorpaci\\documents\\thesis\\.venv\\lib\\site-packages (from tensorboard<2.11,>=2.10->tensorflow==2.10.0) (3.7)\n",
            "Requirement already satisfied: requests<3,>=2.21.0 in c:\\users\\lcorpaci\\documents\\thesis\\.venv\\lib\\site-packages (from tensorboard<2.11,>=2.10->tensorflow==2.10.0) (2.32.3)\n",
            "Requirement already satisfied: tensorboard-data-server<0.7.0,>=0.6.0 in c:\\users\\lcorpaci\\documents\\thesis\\.venv\\lib\\site-packages (from tensorboard<2.11,>=2.10->tensorflow==2.10.0) (0.6.1)\n",
            "Requirement already satisfied: tensorboard-plugin-wit>=1.6.0 in c:\\users\\lcorpaci\\documents\\thesis\\.venv\\lib\\site-packages (from tensorboard<2.11,>=2.10->tensorflow==2.10.0) (1.8.1)\n",
            "Requirement already satisfied: werkzeug>=1.0.1 in c:\\users\\lcorpaci\\documents\\thesis\\.venv\\lib\\site-packages (from tensorboard<2.11,>=2.10->tensorflow==2.10.0) (3.0.4)\n",
            "Requirement already satisfied: cachetools<6.0,>=2.0.0 in c:\\users\\lcorpaci\\documents\\thesis\\.venv\\lib\\site-packages (from google-auth<3,>=1.6.3->tensorboard<2.11,>=2.10->tensorflow==2.10.0) (5.5.0)\n",
            "Requirement already satisfied: pyasn1-modules>=0.2.1 in c:\\users\\lcorpaci\\documents\\thesis\\.venv\\lib\\site-packages (from google-auth<3,>=1.6.3->tensorboard<2.11,>=2.10->tensorflow==2.10.0) (0.4.1)\n",
            "Requirement already satisfied: rsa<5,>=3.1.4 in c:\\users\\lcorpaci\\documents\\thesis\\.venv\\lib\\site-packages (from google-auth<3,>=1.6.3->tensorboard<2.11,>=2.10->tensorflow==2.10.0) (4.9)\n",
            "Requirement already satisfied: requests-oauthlib>=0.7.0 in c:\\users\\lcorpaci\\documents\\thesis\\.venv\\lib\\site-packages (from google-auth-oauthlib<0.5,>=0.4.1->tensorboard<2.11,>=2.10->tensorflow==2.10.0) (2.0.0)\n",
            "Requirement already satisfied: charset-normalizer<4,>=2 in c:\\users\\lcorpaci\\documents\\thesis\\.venv\\lib\\site-packages (from requests<3,>=2.21.0->tensorboard<2.11,>=2.10->tensorflow==2.10.0) (3.3.2)\n",
            "Requirement already satisfied: idna<4,>=2.5 in c:\\users\\lcorpaci\\documents\\thesis\\.venv\\lib\\site-packages (from requests<3,>=2.21.0->tensorboard<2.11,>=2.10->tensorflow==2.10.0) (3.8)\n",
            "Requirement already satisfied: urllib3<3,>=1.21.1 in c:\\users\\lcorpaci\\documents\\thesis\\.venv\\lib\\site-packages (from requests<3,>=2.21.0->tensorboard<2.11,>=2.10->tensorflow==2.10.0) (2.2.3)\n",
            "Requirement already satisfied: certifi>=2017.4.17 in c:\\users\\lcorpaci\\documents\\thesis\\.venv\\lib\\site-packages (from requests<3,>=2.21.0->tensorboard<2.11,>=2.10->tensorflow==2.10.0) (2024.8.30)\n",
            "Requirement already satisfied: MarkupSafe>=2.1.1 in c:\\users\\lcorpaci\\documents\\thesis\\.venv\\lib\\site-packages (from werkzeug>=1.0.1->tensorboard<2.11,>=2.10->tensorflow==2.10.0) (2.1.5)\n",
            "Requirement already satisfied: pyasn1<0.7.0,>=0.4.6 in c:\\users\\lcorpaci\\documents\\thesis\\.venv\\lib\\site-packages (from pyasn1-modules>=0.2.1->google-auth<3,>=1.6.3->tensorboard<2.11,>=2.10->tensorflow==2.10.0) (0.6.1)\n",
            "Requirement already satisfied: oauthlib>=3.0.0 in c:\\users\\lcorpaci\\documents\\thesis\\.venv\\lib\\site-packages (from requests-oauthlib>=0.7.0->google-auth-oauthlib<0.5,>=0.4.1->tensorboard<2.11,>=2.10->tensorflow==2.10.0) (3.2.2)\n"
          ]
        }
      ],
      "source": [
        "!pip install tensorflow==2.10.0"
      ]
    },
    {
      "cell_type": "code",
      "execution_count": 19,
      "metadata": {},
      "outputs": [
        {
          "name": "stdout",
          "output_type": "stream",
          "text": [
            "Collecting networkx\n",
            "  Using cached networkx-3.3-py3-none-any.whl.metadata (5.1 kB)\n",
            "Using cached networkx-3.3-py3-none-any.whl (1.7 MB)\n",
            "Installing collected packages: networkx\n",
            "Successfully installed networkx-3.3\n"
          ]
        }
      ],
      "source": [
        "!pip install networkx"
      ]
    },
    {
      "cell_type": "code",
      "execution_count": 6,
      "metadata": {
        "id": "MxFUT3JmwY3j"
      },
      "outputs": [],
      "source": [
        "# Import libraries\n",
        "import numpy as np\n",
        "import os\n",
        "import tensorflow as tf\n",
        "from tensorflow import keras\n",
        "from ncps import wirings\n",
        "from ncps.tf import LTC\n",
        "import matplotlib.pyplot as plt\n",
        "import seaborn as sns\n",
        "from random import randrange"
      ]
    },
    {
      "cell_type": "markdown",
      "metadata": {
        "id": "gx7ArMhoYK-i"
      },
      "source": [
        "# Define wiring and cell types"
      ]
    },
    {
      "cell_type": "code",
      "execution_count": 7,
      "metadata": {
        "id": "SWQRXCFvTXw1"
      },
      "outputs": [],
      "source": [
        "class Wiring_with_names(wirings.Wiring):\n",
        "    def __init__(self, units):\n",
        "        super(Wiring_with_names, self).__init__(units)\n",
        "\n",
        "    def get_graph(self, include_sensory_neurons=True, sensory_neurons=None, motor_neurons=None):\n",
        "      \"\"\"\n",
        "      Returns a networkx.DiGraph object of the wiring diagram\n",
        "      :param include_sensory_neurons: Whether to include the sensory neurons as nodes in the graph\n",
        "      \"\"\"\n",
        "      if not self.is_built():\n",
        "          raise ValueError(\n",
        "              \"Wiring is not built yet.\\n\"\n",
        "              \"This is probably because the input shape is not known yet.\\n\"\n",
        "              \"Consider calling the model.build(...) method using the shape of the inputs.\"\n",
        "          )\n",
        "      # Only import networkx package if we really need it\n",
        "      import networkx as nx\n",
        "\n",
        "      DG = nx.DiGraph()\n",
        "      for i in range(self.units):\n",
        "          neuron_type = self.get_type_of_neuron(i)\n",
        "          if motor_neurons is None:\n",
        "            DG.add_node(\"neuron_{:d}\".format(i), neuron_type=neuron_type)\n",
        "          else:\n",
        "            DG.add_node(motor_neurons[i], neuron_type=\"motor\")\n",
        "\n",
        "      for i in range(self.input_dim):\n",
        "        if sensory_neurons is None:\n",
        "          DG.add_node(\"sensory_{:d}\".format(i), neuron_type=\"sensory\")\n",
        "        else:\n",
        "          DG.add_node(sensory_neurons[i], neuron_type=\"sensory\")\n",
        "\n",
        "      erev = self.adjacency_matrix\n",
        "      sensory_erev = self.sensory_adjacency_matrix\n",
        "\n",
        "      for src in range(self.input_dim):\n",
        "          for dest in range(self.units):\n",
        "              if self.sensory_adjacency_matrix[src, dest] != 0:\n",
        "                  polarity = (\n",
        "                      \"excitatory\" if sensory_erev[src, dest] >= 0.0 else \"inhibitory\"\n",
        "                  )\n",
        "                  sensory_name = \"sensory_{:d}\".format(src) if sensory_neurons is None else sensory_neurons[src]\n",
        "                  motor_name = \"neuron_{:d}\".format(dest) if motor_neurons is None else motor_neurons[dest]\n",
        "                  DG.add_edge(\n",
        "                      \"sensory_{:d}\".format(src) if sensory_neurons is None else sensory_neurons[src],\n",
        "                      \"neuron_{:d}\".format(dest) if motor_neurons is None else motor_neurons[dest],\n",
        "                      polarity=polarity,\n",
        "                  )\n",
        "\n",
        "      for src in range(self.units):\n",
        "          for dest in range(self.units):\n",
        "              if self.adjacency_matrix[src, dest] != 0:\n",
        "                  polarity = \"excitatory\" if erev[src, dest] >= 0.0 else \"inhibitory\"\n",
        "                  motor_name_src = \"neuron_{:d}\".format(src) if motor_neurons is None else motor_neurons[src]\n",
        "                  motor_name_dest = \"neuron_{:d}\".format(dest) if motor_neurons is None else motor_neurons[dest]\n",
        "                  DG.add_edge(\n",
        "                      \"neuron_{:d}\".format(src) if motor_neurons is None else motor_neurons[src],\n",
        "                      \"neuron_{:d}\".format(dest) if motor_neurons is None else motor_neurons[dest],\n",
        "                      polarity=polarity,\n",
        "                  )\n",
        "      return DG\n",
        "\n",
        "    def draw_graph(\n",
        "        self,\n",
        "        layout=\"shell\",\n",
        "        neuron_colors=None,\n",
        "        synapse_colors=None,\n",
        "        draw_labels=False,\n",
        "        sensory_neurons=None,\n",
        "        motor_neurons=None\n",
        "    ):\n",
        "        \"\"\"Draws a matplotlib graph of the wiring structure\n",
        "        Examples::\n",
        "            >>> import matplotlib.pyplot as plt\n",
        "            >>> plt.figure(figsize=(6, 4))\n",
        "            >>> legend_handles = wiring.draw_graph(draw_labels=True)\n",
        "            >>> plt.legend(handles=legend_handles, loc=\"upper center\", bbox_to_anchor=(1, 1))\n",
        "            >>> plt.tight_layout()\n",
        "            >>> plt.show()\n",
        "        :param layout:\n",
        "        :param neuron_colors:\n",
        "        :param synapse_colors:\n",
        "        :param draw_labels:\n",
        "        :return:\n",
        "        \"\"\"\n",
        "\n",
        "        # May switch to Cytoscape once support in Google Colab is available\n",
        "        # https://stackoverflow.com/questions/62421021/how-do-i-install-cytoscape-on-google-colab\n",
        "        import networkx as nx\n",
        "        import matplotlib.patches as mpatches\n",
        "        import matplotlib.pyplot as plt\n",
        "\n",
        "        if isinstance(synapse_colors, str):\n",
        "            synapse_colors = {\n",
        "                \"excitatory\": synapse_colors,\n",
        "                \"inhibitory\": synapse_colors,\n",
        "            }\n",
        "        elif synapse_colors is None:\n",
        "            synapse_colors = {\"excitatory\": \"tab:green\", \"inhibitory\": \"tab:red\"}\n",
        "\n",
        "        default_colors = {\n",
        "            \"inter\": \"tab:blue\",\n",
        "            \"motor\": \"tab:orange\",\n",
        "            \"sensory\": \"tab:olive\",\n",
        "        }\n",
        "        if neuron_colors is None:\n",
        "            neuron_colors = {}\n",
        "        # Merge default with user provided color dict\n",
        "        for k, v in default_colors.items():\n",
        "            if not k in neuron_colors.keys():\n",
        "                neuron_colors[k] = v\n",
        "\n",
        "        legend_patches = []\n",
        "        for k, v in neuron_colors.items():\n",
        "            label = \"{}{} neurons\".format(k[0].upper(), k[1:])\n",
        "            color = v\n",
        "            legend_patches.append(mpatches.Patch(color=color, label=label))\n",
        "\n",
        "        G = self.get_graph(sensory_neurons = sensory_neurons, motor_neurons = motor_neurons)\n",
        "        layouts = {\n",
        "            \"kamada\": nx.kamada_kawai_layout,\n",
        "            \"circular\": nx.circular_layout,\n",
        "            \"random\": nx.random_layout,\n",
        "            \"shell\": nx.shell_layout,\n",
        "            \"spring\": nx.spring_layout,\n",
        "            \"spectral\": nx.spectral_layout,\n",
        "            \"spiral\": nx.spiral_layout,\n",
        "        }\n",
        "        if not layout in layouts.keys():\n",
        "            raise ValueError(\n",
        "                \"Unknown layer '{}', use one of '{}'\".format(\n",
        "                    layout, str(layouts.keys())\n",
        "                )\n",
        "            )\n",
        "        pos = layouts[layout](G)\n",
        "\n",
        "        # Draw neurons\n",
        "        for i in range(self.units):\n",
        "            if motor_neurons is None:\n",
        "                node_name = \"neuron_{:d}\".format(i)\n",
        "            else:\n",
        "                node_name = motor_neurons[i]\n",
        "            neuron_type = G.nodes[node_name][\"neuron_type\"]\n",
        "            neuron_color = \"tab:blue\"\n",
        "            if neuron_type in neuron_colors.keys():\n",
        "                neuron_color = neuron_colors[neuron_type]\n",
        "            nx.draw_networkx_nodes(G, pos, [node_name], node_color=neuron_color)\n",
        "\n",
        "        # Draw sensory neurons\n",
        "        for i in range(self.input_dim):\n",
        "            if sensory_neurons is None:\n",
        "                node_name = \"sensory_{:d}\".format(i)\n",
        "            else: \n",
        "                node_name = sensory_neurons[i]\n",
        "            neuron_color = \"blue\"\n",
        "            if \"sensory\" in neuron_colors.keys():\n",
        "                neuron_color = neuron_colors[\"sensory\"]\n",
        "            nx.draw_networkx_nodes(G, pos, [node_name], node_color=neuron_color)\n",
        "\n",
        "        # Optional: draw labels\n",
        "        if draw_labels:\n",
        "            nx.draw_networkx_labels(G, pos)\n",
        "\n",
        "        # Draw edges\n",
        "        for node1, node2, data in G.edges(data=True):\n",
        "            polarity = data[\"polarity\"]\n",
        "            edge_color = synapse_colors[polarity]\n",
        "            nx.draw_networkx_edges(G, pos, [(node1, node2)], edge_color=edge_color)\n",
        "\n",
        "        return legend_patches"
      ]
    },
    {
      "cell_type": "code",
      "execution_count": 8,
      "metadata": {
        "id": "taSFJxY1T9Om"
      },
      "outputs": [],
      "source": [
        "@tf.keras.utils.register_keras_serializable(package=\"Custom\", name=\"WiredNeurons\")\n",
        "class WiredNeurons(tf.keras.layers.RNN):\n",
        "    def __init__(\n",
        "        self,\n",
        "        cell_type,\n",
        "        wiring,\n",
        "        mixed_memory: bool = False,\n",
        "        input_mapping=\"affine\",\n",
        "        output_mapping=\"affine\",\n",
        "        ode_unfolds=6,\n",
        "        epsilon=1e-8,\n",
        "        initialization_ranges=None,\n",
        "        return_sequences: bool = False,\n",
        "        return_state: bool = False,\n",
        "        go_backwards: bool = False,\n",
        "        stateful: bool = False,\n",
        "        unroll: bool = False,\n",
        "        time_major: bool = False,\n",
        "        **kwargs,\n",
        "    ):\n",
        "\n",
        "        cell = cell_type(\n",
        "            wiring=wiring,\n",
        "            input_mapping=input_mapping,\n",
        "            output_mapping=output_mapping,\n",
        "            ode_unfolds=ode_unfolds,\n",
        "            epsilon=epsilon,\n",
        "            initialization_ranges=initialization_ranges,\n",
        "            **kwargs,\n",
        "        )\n",
        "\n",
        "        super(WiredNeurons, self).__init__(\n",
        "            cell,\n",
        "            return_sequences,\n",
        "            return_state,\n",
        "            go_backwards,\n",
        "            stateful,\n",
        "            unroll,\n",
        "            time_major,\n",
        "            **kwargs,\n",
        "        )"
      ]
    },
    {
      "cell_type": "code",
      "execution_count": 9,
      "metadata": {
        "id": "EToXtqIHUAaL"
      },
      "outputs": [],
      "source": [
        "@tf.keras.utils.register_keras_serializable(package=\"Custom\", name=\"CTRNN_SA_Cell\")\n",
        "class CTRNN_SA_Cell(tf.keras.layers.AbstractRNNCell):\n",
        "\n",
        "    def __init__(\n",
        "        self,\n",
        "        wiring,\n",
        "        input_mapping=\"affine\",\n",
        "        output_mapping=\"affine\",\n",
        "        ode_unfolds=6,\n",
        "        ode_solver='hybrid',\n",
        "        epsilon=1e-8,\n",
        "        **kwargs\n",
        "    ):\n",
        "        self._wiring = wiring\n",
        "        self._input_mapping = input_mapping\n",
        "        self._output_mapping = output_mapping\n",
        "        self._ode_unfolds = ode_unfolds\n",
        "        self._epsilon = epsilon\n",
        "\n",
        "        if ode_solver in ['explicit', 'hybrid']:\n",
        "            self._solver = ode_solver\n",
        "        else:\n",
        "            raise ValueError('ODE solver should be in [\\'explicit\\', \\'hybrid\\']')\n",
        "\n",
        "        super(CTRNN_SA_Cell, self).__init__(name=\"CTRNN_SA_Cell\")\n",
        "\n",
        "    @property\n",
        "    def state_size(self):\n",
        "        return self._wiring.units\n",
        "    \n",
        "    @property\n",
        "    def sensory_size(self):\n",
        "        return self._wiring.input_dim\n",
        "\n",
        "    @property\n",
        "    def motor_size(self):\n",
        "        return self._wiring.output_dim\n",
        "\n",
        "    @property\n",
        "    def output_size(self):\n",
        "        return self.motor_size\n",
        "\n",
        "    def build(self, input_shape):\n",
        "\n",
        "        # Check if input_shape is nested tuple/list\n",
        "        if isinstance(input_shape[0], tuple) or isinstance(\n",
        "            input_shape[0], tf.TensorShape\n",
        "        ):\n",
        "            # Nested tuple -> First item represent feature dimension\n",
        "            input_dim = input_shape[0][-1]\n",
        "        else:\n",
        "            input_dim = input_shape[-1]\n",
        "\n",
        "        self._wiring.build(input_dim)\n",
        "\n",
        "        self._params = {}\n",
        "        self._params[\"gleak\"] = self.add_weight(\n",
        "            name=\"gleak\",\n",
        "            shape=(self.state_size,),\n",
        "            dtype=tf.float32,\n",
        "            initializer=tf.keras.initializers.Constant(1), #Cm=1, it is tau in notes Eq. (35), ltau, leaking conductance\n",
        "            constraint=tf.keras.constraints.NonNeg()\n",
        "        )\n",
        "\n",
        "        self._params[\"sigma\"] = self.add_weight(\n",
        "            name=\"sigma\",\n",
        "            shape=(self.state_size, self.state_size),\n",
        "            dtype=tf.float32,\n",
        "            initializer=tf.keras.initializers.Constant(1),\n",
        "        ) # sigma_H, recurrent variance\n",
        "\n",
        "        self._params[\"mu\"] = self.add_weight(\n",
        "            name=\"mu\",\n",
        "            shape=(self.state_size, self.state_size),\n",
        "            dtype=tf.float32,\n",
        "            initializer=tf.keras.initializers.Constant(0),\n",
        "        ) # mu_H, recurrent mean\n",
        "\n",
        "        self._params[\"w\"] = self.add_weight(\n",
        "            name=\"w\",\n",
        "            shape=(self.state_size, self.state_size),\n",
        "            dtype=tf.float32,\n",
        "            constraint=tf.keras.constraints.MinMaxNorm(-2,2),\n",
        "            initializer=tf.keras.initializers.Orthogonal(),\n",
        "        ) # H, recurrent kernel\n",
        "\n",
        "        self._params[\"sensory_sigma\"] = self.add_weight(\n",
        "            name=\"sensory_sigma\",\n",
        "            shape=(self.sensory_size, self.state_size),\n",
        "            dtype=tf.float32,\n",
        "            initializer=tf.keras.initializers.Constant(1),\n",
        "        ) #sigma_I, input variance\n",
        "\n",
        "        self._params[\"sensory_mu\"] = self.add_weight(\n",
        "            name=\"sensory_mu\",\n",
        "            shape=(self.sensory_size, self.state_size),\n",
        "            dtype=tf.float32,\n",
        "            initializer=tf.keras.initializers.Constant(0),\n",
        "        ) # mu_I, input mean\n",
        "\n",
        "        self._params[\"sensory_w\"] = self.add_weight(\n",
        "            name=\"sensory_w\",\n",
        "            shape=(self.sensory_size, self.state_size),\n",
        "            dtype=tf.float32,\n",
        "            constraint=tf.keras.constraints.MinMaxNorm(-1,1),\n",
        "            initializer=tf.keras.initializers.GlorotUniform(),\n",
        "        ) # I, input kernel\n",
        "\n",
        "        self._params[\"sparsity_mask\"] = tf.constant(\n",
        "            np.abs(self._wiring.adjacency_matrix), dtype=tf.float32\n",
        "        )\n",
        "\n",
        "        self._params[\"sensory_sparsity_mask\"] = tf.constant(\n",
        "            np.abs(self._wiring.sensory_adjacency_matrix), dtype=tf.float32\n",
        "        )\n",
        "\n",
        "        self._params[\"cm\"] = tf.constant(1, dtype=tf.float32)\n",
        "\n",
        "        if self._input_mapping in [\"affine\", \"linear\"]:\n",
        "            self._params[\"input_w\"] = self.add_weight(\n",
        "                name=\"input_w\",\n",
        "                shape=(self.sensory_size,),\n",
        "                dtype=tf.float32,\n",
        "                initializer=tf.keras.initializers.Constant(1),\n",
        "            )\n",
        "        if self._input_mapping == \"affine\":\n",
        "            self._params[\"input_b\"] = self.add_weight(\n",
        "                name=\"input_b\",\n",
        "                shape=(self.sensory_size,),\n",
        "                dtype=tf.float32,\n",
        "                initializer=tf.keras.initializers.Constant(0),\n",
        "            )\n",
        "\n",
        "        if self._output_mapping in [\"affine\", \"linear\"]:\n",
        "            self._params[\"output_w\"] = self.add_weight(\n",
        "                name=\"output_w\",\n",
        "                shape=(self.motor_size,),\n",
        "                dtype=tf.float32,\n",
        "                initializer=tf.keras.initializers.Constant(1),\n",
        "            )\n",
        "        if self._output_mapping == \"affine\":\n",
        "            self._params[\"output_b\"] = self.add_weight(\n",
        "                name=\"output_b\",\n",
        "                shape=(self.motor_size,),\n",
        "                dtype=tf.float32,\n",
        "                initializer=tf.keras.initializers.Constant(0),\n",
        "            )\n",
        "\n",
        "        self.built = True\n",
        "\n",
        "    def _tanh(self, v_pre, mu, sigma):\n",
        "        v_pre = tf.expand_dims(v_pre, axis=-1)  # For broadcasting\n",
        "        mues = v_pre + mu\n",
        "        x = sigma * mues\n",
        "        return tf.nn.tanh(x)\n",
        "\n",
        "    def _ode_solver_explicit(self, inputs, state, elapsed_time):\n",
        "        v_pre = state\n",
        "\n",
        "        # We can pre-compute the effects of the sensory neurons here\n",
        "        sensory_w_activation = self._params[\"sensory_w\"] * self._tanh(\n",
        "            inputs, self._params[\"sensory_mu\"], self._params[\"sensory_sigma\"]\n",
        "        )\n",
        "        sensory_w_activation *= self._params[\"sensory_sparsity_mask\"]\n",
        "\n",
        "        # Reduce over dimension 1 (=source sensory neurons)\n",
        "        w_numerator_sensory = tf.reduce_sum(sensory_w_activation, axis=1)\n",
        "\n",
        "        delta_t = tf.cast(\n",
        "            elapsed_time / self._ode_unfolds, dtype=tf.float32 #self._params[\"cm\"] = 1\n",
        "        )\n",
        "\n",
        "        # Unfold the multiply ODE multiple times into one RNN step\n",
        "        for t in range(self._ode_unfolds):\n",
        "            w_activation = self._params[\"w\"] * self._tanh(\n",
        "                v_pre, self._params[\"mu\"], self._params[\"sigma\"]\n",
        "            )\n",
        "\n",
        "            w_activation *= self._params[\"sparsity_mask\"]\n",
        "\n",
        "            # Reduce over dimension 1 (=source neurons)\n",
        "            w_activation_all = tf.reduce_sum(w_activation, axis=1) + w_numerator_sensory\n",
        "\n",
        "            v_pre_prime = - self._params[\"gleak\"] * v_pre + w_activation_all\n",
        "\n",
        "            v_pre = v_pre + v_pre_prime * delta_t\n",
        "\n",
        "        return v_pre\n",
        "\n",
        "\n",
        "    def _ode_solver_hybrid(self, inputs, state, elapsed_time):\n",
        "        v_pre = state\n",
        "\n",
        "        # We can pre-compute the effects of the sensory neurons here\n",
        "        sensory_w_activation = self._params[\"sensory_w\"] * self._tanh(\n",
        "            inputs, self._params[\"sensory_mu\"], self._params[\"sensory_sigma\"]\n",
        "        )\n",
        "        sensory_w_activation *= self._params[\"sensory_sparsity_mask\"]\n",
        "\n",
        "        # Reduce over dimension 1 (=source sensory neurons)\n",
        "        w_numerator_sensory = tf.reduce_sum(sensory_w_activation, axis=1)\n",
        "\n",
        "        # cm/t is loop invariant\n",
        "        cm_t = self._params[\"cm\"] / tf.cast(\n",
        "            elapsed_time / self._ode_unfolds, dtype=tf.float32\n",
        "        ) #Cm = 1\n",
        "\n",
        "        # Unfold the multiply ODE multiple times into one RNN step\n",
        "        for t in range(self._ode_unfolds):\n",
        "            w_activation = self._params[\"w\"] * self._tanh(\n",
        "                v_pre, self._params[\"mu\"], self._params[\"sigma\"]\n",
        "            )\n",
        "\n",
        "            w_activation *= self._params[\"sparsity_mask\"]\n",
        "\n",
        "            # Reduce over dimension 1 (=source neurons)\n",
        "            w_numerator = tf.reduce_sum(w_activation, axis=1) + w_numerator_sensory\n",
        "\n",
        "            numerator = cm_t * v_pre + w_numerator\n",
        "\n",
        "            denominator = cm_t + self._params[\"gleak\"]\n",
        "\n",
        "            # Avoid dividing by 0 -- not needed, denominator is always positive\n",
        "            v_pre = numerator / denominator\n",
        "\n",
        "        return v_pre\n",
        "\n",
        "    def _map_inputs(self, inputs):\n",
        "        if self._input_mapping in [\"affine\", \"linear\"]:\n",
        "            inputs = inputs * self._params[\"input_w\"]\n",
        "        if self._input_mapping == \"affine\":\n",
        "            inputs = inputs + self._params[\"input_b\"]\n",
        "        return inputs\n",
        "\n",
        "    def _map_outputs(self, state):\n",
        "        output = state\n",
        "        if self.motor_size < self.state_size:\n",
        "            output = output[:, 0 : self.motor_size]\n",
        "\n",
        "        if self._output_mapping in [\"affine\", \"linear\"]:\n",
        "            output = output * self._params[\"output_w\"]\n",
        "        if self._output_mapping == \"affine\":\n",
        "            output = output + self._params[\"output_b\"]\n",
        "        return output\n",
        "\n",
        "    def call(self, inputs, states):\n",
        "        if isinstance(inputs, (tuple, list)):\n",
        "            # Irregularly sampled mode\n",
        "            inputs, elapsed_time = inputs\n",
        "        else:\n",
        "            # Regularly sampled mode (elapsed time = 1 second)\n",
        "            elapsed_time = 1.0\n",
        "        inputs = self._map_inputs(inputs)   \n",
        "\n",
        "        if self._solver == 'explicit':\n",
        "            next_state = self._ode_solver_explicit(inputs, states[0], elapsed_time)\n",
        "        else:\n",
        "            next_state = self._ode_solver_hybrid(inputs, states[0], elapsed_time)\n",
        "\n",
        "        outputs = self._map_outputs(next_state)\n",
        "\n",
        "        return outputs, [next_state]\n",
        "\n",
        "\n",
        "    def get_config(self):\n",
        "        seralized = self._wiring.get_config()\n",
        "        seralized[\"input_mapping\"] = self._input_mapping\n",
        "        seralized[\"output_mapping\"] = self._output_mapping\n",
        "        seralized[\"ode_unfolds\"] = self._ode_unfolds\n",
        "        seralized[\"epsilon\"] = self._epsilon\n",
        "        seralized[\"ode_solver\"] = self._solver\n",
        "        return seralized\n",
        "\n",
        "    @classmethod\n",
        "    def from_config(cls, config):\n",
        "        wiring = wirings.Wiring.from_config(config)\n",
        "        return cls(wiring=wiring, **config)\n",
        "    \n",
        "\n",
        "    def summary(self):\n",
        "        print(\"=== Network statistics of CTRNN-SA ===\")\n",
        "        print(\"# Neurons : \"+str(self.state_size))\n",
        "\n",
        "        num_of_synapses = int(np.sum(np.abs(self._params[\"sparsity_mask\"])))\n",
        "        num_of_sensory_synapses = int(np.sum(np.abs(self._params[\"sensory_sparsity_mask\"])))\n",
        "\n",
        "        print(\"# Synapses: \"+str(num_of_synapses+num_of_sensory_synapses)+\" (\"+str(num_of_sensory_synapses)+\"/\"+str(num_of_synapses)+\")\")\n",
        "        print(\"# Inputs  : \"+str(self.sensory_size))\n",
        "        print(\"# Outputs : \"+str(self.output_size))\n",
        "\n",
        "        total_parameters = 0\n",
        "\n",
        "        #for gleak\n",
        "        total_parameters += self.state_size\n",
        "\n",
        "        # Each synapse has W, mu and sigma as parameters (i.e 3 in total)\n",
        "        total_parameters += 3*(num_of_sensory_synapses+num_of_synapses)\n",
        "\n",
        "        print(\"# Parameters: \"+str(total_parameters))"
      ]
    },
    {
      "cell_type": "code",
      "execution_count": 10,
      "metadata": {
        "id": "xHQc4I2nUJKU"
      },
      "outputs": [],
      "source": [
        "@tf.keras.utils.register_keras_serializable(package=\"Custom\", name=\"Gap_Junction_Cell\")\n",
        "class Gap_Junction_Cell(tf.keras.layers.AbstractRNNCell):\n",
        "\n",
        "    def __init__(\n",
        "        self,\n",
        "        wiring,\n",
        "        input_mapping=\"affine\",\n",
        "        output_mapping=\"affine\",\n",
        "        ode_unfolds=6,\n",
        "        epsilon=1e-8,\n",
        "        **kwargs\n",
        "    ):\n",
        "        self._wiring = wiring\n",
        "        self._input_mapping = input_mapping\n",
        "        self._output_mapping = output_mapping\n",
        "        self._ode_unfolds = ode_unfolds\n",
        "        self._epsilon = epsilon\n",
        "\n",
        "        #self._seed = seed\n",
        "        super(Gap_Junction_Cell, self).__init__(name=\"Gap_Junction_Cell\")\n",
        "\n",
        "    @property\n",
        "    def state_size(self):\n",
        "        return self._wiring.units\n",
        "    \n",
        "    @property\n",
        "    def sensory_size(self):\n",
        "        return self._wiring.input_dim\n",
        "\n",
        "    @property\n",
        "    def motor_size(self):\n",
        "        return self._wiring.output_dim\n",
        "\n",
        "    @property\n",
        "    def output_size(self):\n",
        "        return self.motor_size\n",
        "\n",
        "    def build(self, input_shape):\n",
        "\n",
        "        # Check if input_shape is nested tuple/list\n",
        "        if isinstance(input_shape[0], tuple) or isinstance(\n",
        "            input_shape[0], tf.TensorShape\n",
        "        ):\n",
        "            # Nested tuple -> First item represent feature dimension\n",
        "            input_dim = input_shape[0][-1]\n",
        "        else:\n",
        "            input_dim = input_shape[-1]\n",
        "\n",
        "        self._wiring.build(input_dim)\n",
        "\n",
        "        self._params = {}\n",
        "        self._params[\"gleak\"] = self.add_weight(\n",
        "            name=\"gleak\",\n",
        "            shape=(self.state_size,),\n",
        "            dtype=tf.float32,\n",
        "            initializer=tf.keras.initializers.Constant(1),\n",
        "            constraint=tf.keras.constraints.NonNeg()\n",
        "        )\n",
        "\n",
        "        self._params[\"vleak\"] = self.add_weight(\n",
        "            name=\"vleak\",\n",
        "            shape=(self.state_size,),\n",
        "            dtype=tf.float32,\n",
        "            initializer=tf.keras.initializers.Constant(0)\n",
        "        )\n",
        "\n",
        "        self._params[\"w\"] = self.add_weight(\n",
        "            name=\"w\",\n",
        "            shape=(self.state_size, self.state_size),\n",
        "            dtype=tf.float32,\n",
        "            constraint=tf.keras.constraints.MinMaxNorm(-2,2),\n",
        "            initializer=tf.keras.initializers.Orthogonal(),\n",
        "        ) # H, recurrent kernel\n",
        "\n",
        "        self._params[\"sensory_w\"] = self.add_weight(\n",
        "            name=\"sensory_w\",\n",
        "            shape=(self.sensory_size, self.state_size),\n",
        "            dtype=tf.float32,\n",
        "            constraint=tf.keras.constraints.MinMaxNorm(-1,1),\n",
        "            initializer=tf.keras.initializers.GlorotUniform(),\n",
        "        ) # I, input kernel\n",
        "\n",
        "        self._params[\"sparsity_mask\"] = tf.constant(\n",
        "            np.abs(self._wiring.adjacency_matrix), dtype=tf.float32\n",
        "        )\n",
        "\n",
        "        self._params[\"sensory_sparsity_mask\"] = tf.constant(\n",
        "            np.abs(self._wiring.sensory_adjacency_matrix), dtype=tf.float32\n",
        "        )\n",
        "\n",
        "        self._params[\"cm\"] = self.add_weight(\n",
        "            name=\"cm\",\n",
        "            shape=(self.state_size,),\n",
        "            dtype=tf.float32,\n",
        "            constraint=tf.keras.constraints.NonNeg(),\n",
        "            initializer=tf.keras.initializers.Constant(1),\n",
        "        )\n",
        "\n",
        "        if self._input_mapping in [\"affine\", \"linear\"]:\n",
        "            self._params[\"input_w\"] = self.add_weight(\n",
        "                name=\"input_w\",\n",
        "                shape=(self.sensory_size,),\n",
        "                dtype=tf.float32,\n",
        "                initializer=tf.keras.initializers.Constant(1),\n",
        "            )\n",
        "        if self._input_mapping == \"affine\":\n",
        "            self._params[\"input_b\"] = self.add_weight(\n",
        "                name=\"input_b\",\n",
        "                shape=(self.sensory_size,),\n",
        "                dtype=tf.float32,\n",
        "                initializer=tf.keras.initializers.Constant(0),\n",
        "            )\n",
        "\n",
        "        if self._output_mapping in [\"affine\", \"linear\"]:\n",
        "            self._params[\"output_w\"] = self.add_weight(\n",
        "                name=\"output_w\",\n",
        "                shape=(self.motor_size,),\n",
        "                dtype=tf.float32,\n",
        "                initializer=tf.keras.initializers.Constant(1),\n",
        "            )\n",
        "        if self._output_mapping == \"affine\":\n",
        "            self._params[\"output_b\"] = self.add_weight(\n",
        "                name=\"output_b\",\n",
        "                shape=(self.motor_size,),\n",
        "                dtype=tf.float32,\n",
        "                initializer=tf.keras.initializers.Constant(0),\n",
        "            )\n",
        "\n",
        "        self.built = True\n",
        "\n",
        "    def _ode_solver_explicit(self, inputs, state, elapsed_time):\n",
        "        v_pre = state\n",
        "\n",
        "        v_pre_bc = tf.expand_dims(v_pre, axis=-1)  # For broadcasting\n",
        "\n",
        "        sensory_w_activation = self._params[\"sensory_w\"] * (inputs-tf.transpose(v_pre))\n",
        "\n",
        "        sensory_w_activation *= self._params[\"sensory_sparsity_mask\"]\n",
        "\n",
        "        # Reduce over dimension 1 (=source sensory neurons)\n",
        "        w_numerator_sensory = tf.reduce_sum(sensory_w_activation, axis=1)\n",
        "\n",
        "        delta_t = tf.cast(\n",
        "            elapsed_time / self._ode_unfolds, dtype=tf.float32\n",
        "        )\n",
        "\n",
        "        # Unfold the multiply ODE multiple times into one RNN step\n",
        "        for t in range(self._ode_unfolds):\n",
        "            w_activation = self._params[\"w\"] * (v_pre-tf.transpose(v_pre))\n",
        "\n",
        "            w_activation *= self._params[\"sparsity_mask\"]\n",
        "\n",
        "            # Reduce over dimension 1 (=source neurons)\n",
        "            w_activation_all = tf.reduce_sum(w_activation, axis=1) + w_numerator_sensory\n",
        "\n",
        "            v_pre_prime = - self._params[\"gleak\"]/self._params[\"cm\"] * (self._params[\"vleak\"]-v_pre) + 1/self._params[\"cm\"]*w_activation_all\n",
        "\n",
        "            v_pre = v_pre + v_pre_prime * delta_t\n",
        "\n",
        "        return v_pre\n",
        "\n",
        "    def _map_inputs(self, inputs):\n",
        "        if self._input_mapping in [\"affine\", \"linear\"]:\n",
        "            inputs = inputs * self._params[\"input_w\"]\n",
        "        if self._input_mapping == \"affine\":\n",
        "            inputs = inputs + self._params[\"input_b\"]\n",
        "        return inputs\n",
        "\n",
        "    def _map_outputs(self, state):\n",
        "        output = state\n",
        "        if self.motor_size < self.state_size:\n",
        "            output = output[:, 0 : self.motor_size]\n",
        "\n",
        "        if self._output_mapping in [\"affine\", \"linear\"]:\n",
        "            output = output * self._params[\"output_w\"]\n",
        "        if self._output_mapping == \"affine\":\n",
        "            output = output + self._params[\"output_b\"]\n",
        "        return output\n",
        "\n",
        "    def call(self, inputs, states):\n",
        "        if isinstance(inputs, (tuple, list)):\n",
        "            # Irregularly sampled mode\n",
        "            inputs, elapsed_time = inputs\n",
        "        else:\n",
        "            # Regularly sampled mode (elapsed time = 1 second)\n",
        "            elapsed_time = 1.0\n",
        "        inputs = self._map_inputs(inputs)   \n",
        "\n",
        "        next_state = self._ode_solver_explicit(inputs, states[0], elapsed_time)\n",
        "\n",
        "        outputs = self._map_outputs(next_state)\n",
        "\n",
        "        return outputs, [next_state]\n",
        "\n",
        "\n",
        "    def get_config(self):\n",
        "        seralized = self._wiring.get_config()\n",
        "        seralized[\"input_mapping\"] = self._input_mapping\n",
        "        seralized[\"output_mapping\"] = self._output_mapping\n",
        "        seralized[\"ode_unfolds\"] = self._ode_unfolds\n",
        "        seralized[\"epsilon\"] = self._epsilon\n",
        "        seralized[\"ode_solver\"] = self._solver\n",
        "        return seralized\n",
        "\n",
        "    @classmethod\n",
        "    def from_config(cls, config):\n",
        "        wiring = wirings.Wiring.from_config(config)\n",
        "        return cls(wiring=wiring, **config)\n",
        "    \n",
        "\n",
        "    def summary(self):\n",
        "        print(\"=== Network statistics of Gap Junctions ===\")\n",
        "        print(\"# Neurons : \"+str(self.state_size))\n",
        "\n",
        "        num_of_synapses = int(np.sum(np.abs(self._params[\"sparsity_mask\"])))\n",
        "        num_of_sensory_synapses = int(np.sum(np.abs(self._params[\"sensory_sparsity_mask\"])))\n",
        "\n",
        "        print(\"# Synapses: \"+str(num_of_synapses+num_of_sensory_synapses)+\" (\"+str(num_of_sensory_synapses)+\"/\"+str(num_of_synapses)+\")\")\n",
        "        print(\"# Inputs  : \"+str(self.sensory_size))\n",
        "        print(\"# Outputs : \"+str(self.output_size))\n",
        "\n",
        "        total_parameters = 0\n",
        "\n",
        "        #for gleak\n",
        "        total_parameters += self.state_size\n",
        "\n",
        "        # Each synapse has W as parameters (i.e 1 in total)\n",
        "        total_parameters += 1*(num_of_sensory_synapses+num_of_synapses)\n",
        "\n",
        "        print(\"# Parameters: \"+str(total_parameters))"
      ]
    },
    {
      "cell_type": "markdown",
      "metadata": {
        "id": "yJyeKa0rPl9O"
      },
      "source": [
        "## Define Forward circuit"
      ]
    },
    {
      "cell_type": "code",
      "execution_count": 11,
      "metadata": {
        "id": "SRK_QsmgMskG"
      },
      "outputs": [],
      "source": [
        "class Forward(Wiring_with_names):\n",
        "    def __init__(self, units=1, output_dim=1):\n",
        "        super(Forward, self).__init__(units)\n",
        "        self.set_output_dim(output_dim)\n",
        "        self.sparsity_level = 0 # Need no sparsity, all the connections are defined in the build function\n",
        "\n",
        "    def build(self, input_shape):\n",
        "        super().build(input_shape)\n",
        "        self.sensory_adjacency_matrix[0,0] = 1 #idx0: source neuron index from sensory neurons, idx1: destination neuron index from units (shape: [input_dim, units])\n",
        "        self.adjacency_matrix[0,0] = 1 #idx0: source neuron index from units, idx1: destination neuron index from units (shape: [units, units])"
      ]
    },
    {
      "cell_type": "markdown",
      "metadata": {
        "id": "cnHPr3QZ5AiX"
      },
      "source": [
        "## Define Forward circuit without self-loop"
      ]
    },
    {
      "cell_type": "code",
      "execution_count": 12,
      "metadata": {
        "id": "I0JjfghB5AiY"
      },
      "outputs": [],
      "source": [
        "class Forward_without_loop(Wiring_with_names):\n",
        "    def __init__(self, units=1, output_dim=1):\n",
        "        super(Forward_without_loop, self).__init__(units)\n",
        "        self.set_output_dim(output_dim)\n",
        "        self.sparsity_level = 0 # Need no sparsity, all the connections are defined in the build function\n",
        "\n",
        "    def build(self, input_shape):\n",
        "        super().build(input_shape)\n",
        "        self.sensory_adjacency_matrix[0,0] = 1 #idx0: source neuron index from sensory neurons, idx1: destination neuron index from units (shape: [input_dim, units])\n",
        "        #self.adjacency_matrix[0,0] = 1 #idx0: source neuron index from units, idx1: destination neuron index from units (shape: [units, units])"
      ]
    },
    {
      "cell_type": "markdown",
      "metadata": {
        "id": "v11SQ06XqA_x"
      },
      "source": [
        "## Data-generator for forward activation without deactivation"
      ]
    },
    {
      "cell_type": "code",
      "execution_count": 13,
      "metadata": {
        "id": "u5XrIfkojju2"
      },
      "outputs": [],
      "source": [
        "def generate_forward_activation_on(n=100):\n",
        "  N = 48 # Length of the time-series\n",
        "  x_train_forward_activation_on = []\n",
        "  y_train_forward_activation_on = []\n",
        "\n",
        "  for i in range(n): \n",
        "\n",
        "    # Initialize the time-series data\n",
        "    data_x1, data_y1 = [0] * N,  [0] * N\n",
        "\n",
        "    # Set the signal of the input data\n",
        "    # Generate signals with different start time and activation length \n",
        "    i_start1 = 2 + randrange(20)\n",
        "    input_active_length1 = 2 + randrange(4)\n",
        "    data_x1[i_start1:(i_start1 + input_active_length1)] = [1] * input_active_length1 # Activate signal from i_start input_active_length long\n",
        "\n",
        "    x_train_forward_activation_on.append(data_x1)\n",
        "\n",
        "    # Target output is a delayed activation \n",
        "    output_delay1 = 1 # Delay between the input activation and the output activation\n",
        "    data_y1[(i_start1+output_delay1):] = [1] * (N-(i_start1+output_delay1)) # Activate signal from i_start + output_delay\n",
        "\n",
        "    y_train_forward_activation_on.append(data_y1)\n",
        "  \n",
        "  x_train_forward_activation_on = np.stack(x_train_forward_activation_on, axis=0)\n",
        "  y_train_forward_activation_on = np.stack(y_train_forward_activation_on, axis=0)\n",
        "\n",
        "  # Print shapes\n",
        "  print(\"x_train_forward_activation_on.shape: \", str(x_train_forward_activation_on.shape))\n",
        "  print(\"y_train_forward_activation_on.shape: \", str(y_train_forward_activation_on.shape))\n",
        "\n",
        "  return x_train_forward_activation_on, y_train_forward_activation_on"
      ]
    },
    {
      "cell_type": "code",
      "execution_count": 14,
      "metadata": {
        "colab": {
          "base_uri": "https://localhost:8080/"
        },
        "id": "HogUEwu7lxDY",
        "outputId": "850776ba-95b2-494f-ab0c-191751b396f1"
      },
      "outputs": [
        {
          "name": "stdout",
          "output_type": "stream",
          "text": [
            "x_train_forward_activation_on.shape:  (100, 48)\n",
            "y_train_forward_activation_on.shape:  (100, 48)\n"
          ]
        }
      ],
      "source": [
        "x_train_forward_activation_on, y_train_forward_activation_on = generate_forward_activation_on(100)"
      ]
    },
    {
      "cell_type": "code",
      "execution_count": 15,
      "metadata": {
        "colab": {
          "base_uri": "https://localhost:8080/"
        },
        "id": "zhcsnuEgvxvg",
        "outputId": "d24ffb15-5446-4463-e1ed-bf5c6c3e2658"
      },
      "outputs": [
        {
          "name": "stdout",
          "output_type": "stream",
          "text": [
            "x_train_forward_activation_on.shape:  (20, 48)\n",
            "y_train_forward_activation_on.shape:  (20, 48)\n"
          ]
        }
      ],
      "source": [
        "x_valid_forward_activation_on, y_valid_forward_activation_on = generate_forward_activation_on(20)"
      ]
    },
    {
      "cell_type": "code",
      "execution_count": 16,
      "metadata": {
        "colab": {
          "base_uri": "https://localhost:8080/"
        },
        "id": "EVeuUnUZxFRQ",
        "outputId": "7d91a84f-730c-49f4-ba79-5fdea0fa0ae5"
      },
      "outputs": [
        {
          "name": "stdout",
          "output_type": "stream",
          "text": [
            "x_train_forward_activation_on.shape:  (10, 48)\n",
            "y_train_forward_activation_on.shape:  (10, 48)\n"
          ]
        }
      ],
      "source": [
        "x_test_forward_activation_on, y_test_forward_activation_on = generate_forward_activation_on(10)"
      ]
    },
    {
      "cell_type": "markdown",
      "metadata": {
        "id": "pF9VKRx4ovLI"
      },
      "source": [
        "#### Plot some example data"
      ]
    },
    {
      "cell_type": "code",
      "execution_count": 17,
      "metadata": {
        "colab": {
          "base_uri": "https://localhost:8080/",
          "height": 503
        },
        "id": "A6vFmiJ6o1l3",
        "outputId": "40be6280-9941-4999-863d-84b040411081"
      },
      "outputs": [
        {
          "data": {
            "text/plain": [
              "<Figure size 800x400 with 0 Axes>"
            ]
          },
          "metadata": {},
          "output_type": "display_data"
        },
        {
          "data": {
            "image/png": "[encoded data removed]",
            "text/plain": [
              "<Figure size 640x480 with 2 Axes>"
            ]
          },
          "metadata": {},
          "output_type": "display_data"
        }
      ],
      "source": [
        "# Plotting the training data\n",
        "plt.figure(figsize=(8, 4))\n",
        "fig, axs = plt.subplots(2,1)\n",
        "axs[0].plot(x_train_forward_activation_on[0, :], 'tab:red')\n",
        "axs[0].set_title('PLM')\n",
        "axs[1].plot(y_train_forward_activation_on[0, :], 'tab:blue')\n",
        "axs[1].set_title('AVB')\n",
        "\n",
        "plt.tight_layout()\n",
        "plt.show()"
      ]
    },
    {
      "cell_type": "code",
      "execution_count": 13,
      "metadata": {
        "id": "6gtjutAenIGm"
      },
      "outputs": [],
      "source": []
    },
    {
      "cell_type": "code",
      "execution_count": 13,
      "metadata": {
        "id": "8VoCNoUInMFe"
      },
      "outputs": [],
      "source": []
    },
    {
      "cell_type": "markdown",
      "metadata": {
        "id": "qKtPaNGUb1_A"
      },
      "source": [
        "# Forward circuit with self-loop\n",
        "# Neuron type: LTC"
      ]
    },
    {
      "cell_type": "markdown",
      "metadata": {
        "id": "51nkw6jpQCZg"
      },
      "source": [
        "## Create and compile keras model"
      ]
    },
    {
      "cell_type": "code",
      "execution_count": 21,
      "metadata": {
        "colab": {
          "base_uri": "https://localhost:8080/",
          "height": 410
        },
        "id": "vTVYFYilMulW",
        "outputId": "a373e49a-ca07-4f79-f584-4d880f78e30c"
      },
      "outputs": [
        {
          "data": {
            "image/png": "[encoded data removed]",
            "text/plain": [
              "<Figure size 600x400 with 1 Axes>"
            ]
          },
          "metadata": {},
          "output_type": "display_data"
        }
      ],
      "source": [
        "forward_architecture = Forward(1,1) \n",
        "\n",
        "ncp_model = keras.models.Sequential(\n",
        "    [\n",
        "        keras.layers.InputLayer(input_shape=(None, 1)),\n",
        "        LTC(forward_architecture, return_sequences=True, input_mapping=None, output_mapping=None),\n",
        "    ]\n",
        ")\n",
        "ncp_model.compile(\n",
        "    optimizer=keras.optimizers.Adam(0.01), loss='mean_squared_error'\n",
        ")\n",
        "sns.set_style(\"white\")\n",
        "plt.figure(figsize=(6, 4))\n",
        "legend_handles = forward_architecture.draw_graph(draw_labels=True, \n",
        "                                                 sensory_neurons=[\"PLM\"], \n",
        "                                                 motor_neurons=[\"AVB\"])\n",
        "plt.legend(handles=legend_handles, bbox_to_anchor=(1.1, 1.1))\n",
        "sns.despine(left=True, bottom=True)\n",
        "plt.tight_layout()\n",
        "plt.show()"
      ]
    },
    {
      "cell_type": "markdown",
      "metadata": {
        "id": "T-lEetC6RoCX"
      },
      "source": [
        "### Fit the first dataset (PLM activates AVB, AVB stays active because of its self-activation)"
      ]
    },
    {
      "cell_type": "code",
      "execution_count": 22,
      "metadata": {
        "colab": {
          "base_uri": "https://localhost:8080/"
        },
        "id": "bA62MXzYMxV4",
        "outputId": "38c3c95b-4cb1-4565-9619-09f81d61ecd3"
      },
      "outputs": [
        {
          "name": "stdout",
          "output_type": "stream",
          "text": [
            "Epoch 1/100\n",
            "4/4 [==============================] - 19s 549ms/step - loss: 0.2617 - val_loss: 0.2139\n",
            "Epoch 2/100\n",
            "4/4 [==============================] - 1s 190ms/step - loss: 0.2109 - val_loss: 0.1850\n",
            "Epoch 3/100\n",
            "4/4 [==============================] - 1s 191ms/step - loss: 0.1955 - val_loss: 0.1740\n",
            "Epoch 4/100\n",
            "4/4 [==============================] - 1s 196ms/step - loss: 0.1920 - val_loss: 0.1696\n",
            "Epoch 5/100\n",
            "4/4 [==============================] - 1s 188ms/step - loss: 0.1911 - val_loss: 0.1673\n",
            "Epoch 6/100\n",
            "4/4 [==============================] - 1s 201ms/step - loss: 0.1905 - val_loss: 0.1654\n",
            "Epoch 7/100\n",
            "4/4 [==============================] - 1s 202ms/step - loss: 0.1888 - val_loss: 0.1635\n",
            "Epoch 8/100\n",
            "4/4 [==============================] - 1s 176ms/step - loss: 0.1862 - val_loss: 0.1613\n",
            "Epoch 9/100\n",
            "4/4 [==============================] - 1s 227ms/step - loss: 0.1832 - val_loss: 0.1590\n",
            "Epoch 10/100\n",
            "4/4 [==============================] - 1s 200ms/step - loss: 0.1800 - val_loss: 0.1567\n",
            "Epoch 11/100\n",
            "4/4 [==============================] - 1s 207ms/step - loss: 0.1762 - val_loss: 0.1536\n",
            "Epoch 12/100\n",
            "4/4 [==============================] - 1s 198ms/step - loss: 0.1715 - val_loss: 0.1486\n",
            "Epoch 13/100\n",
            "4/4 [==============================] - 1s 196ms/step - loss: 0.1652 - val_loss: 0.1401\n",
            "Epoch 14/100\n",
            "4/4 [==============================] - 1s 289ms/step - loss: 0.1554 - val_loss: 0.1268\n",
            "Epoch 15/100\n",
            "4/4 [==============================] - 1s 371ms/step - loss: 0.1395 - val_loss: 0.1068\n",
            "Epoch 16/100\n",
            "4/4 [==============================] - 1s 260ms/step - loss: 0.1100 - val_loss: 0.0836\n",
            "Epoch 17/100\n",
            "4/4 [==============================] - 1s 230ms/step - loss: 0.0762 - val_loss: 0.0521\n",
            "Epoch 18/100\n",
            "4/4 [==============================] - 1s 287ms/step - loss: 0.0402 - val_loss: 0.0195\n",
            "Epoch 19/100\n",
            "4/4 [==============================] - 1s 198ms/step - loss: 0.0184 - val_loss: 0.0104\n",
            "Epoch 20/100\n",
            "4/4 [==============================] - 1s 206ms/step - loss: 0.0107 - val_loss: 0.0075\n",
            "Epoch 21/100\n",
            "4/4 [==============================] - 1s 228ms/step - loss: 0.0077 - val_loss: 0.0072\n",
            "Epoch 22/100\n",
            "4/4 [==============================] - 1s 258ms/step - loss: 0.0071 - val_loss: 0.0069\n",
            "Epoch 23/100\n",
            "4/4 [==============================] - 1s 262ms/step - loss: 0.0067 - val_loss: 0.0063\n",
            "Epoch 24/100\n",
            "4/4 [==============================] - 1s 285ms/step - loss: 0.0062 - val_loss: 0.0059\n",
            "Epoch 25/100\n",
            "4/4 [==============================] - 1s 266ms/step - loss: 0.0059 - val_loss: 0.0058\n",
            "Epoch 26/100\n",
            "4/4 [==============================] - 1s 248ms/step - loss: 0.0059 - val_loss: 0.0059\n",
            "Epoch 27/100\n",
            "4/4 [==============================] - 1s 272ms/step - loss: 0.0060 - val_loss: 0.0060\n",
            "Epoch 28/100\n",
            "4/4 [==============================] - 1s 246ms/step - loss: 0.0060 - val_loss: 0.0059\n",
            "Epoch 29/100\n",
            "4/4 [==============================] - 1s 229ms/step - loss: 0.0060 - val_loss: 0.0059\n",
            "Epoch 30/100\n",
            "4/4 [==============================] - 1s 206ms/step - loss: 0.0059 - val_loss: 0.0058\n",
            "Epoch 31/100\n",
            "4/4 [==============================] - 1s 217ms/step - loss: 0.0058 - val_loss: 0.0058\n",
            "Epoch 32/100\n",
            "4/4 [==============================] - 1s 193ms/step - loss: 0.0058 - val_loss: 0.0057\n",
            "Epoch 33/100\n",
            "4/4 [==============================] - 1s 207ms/step - loss: 0.0058 - val_loss: 0.0057\n",
            "Epoch 34/100\n",
            "4/4 [==============================] - 1s 235ms/step - loss: 0.0057 - val_loss: 0.0057\n",
            "Epoch 35/100\n",
            "4/4 [==============================] - 1s 198ms/step - loss: 0.0057 - val_loss: 0.0057\n",
            "Epoch 36/100\n",
            "4/4 [==============================] - 1s 200ms/step - loss: 0.0057 - val_loss: 0.0057\n",
            "Epoch 37/100\n",
            "4/4 [==============================] - 1s 190ms/step - loss: 0.0057 - val_loss: 0.0056\n",
            "Epoch 38/100\n",
            "4/4 [==============================] - 1s 182ms/step - loss: 0.0056 - val_loss: 0.0056\n",
            "Epoch 39/100\n",
            "4/4 [==============================] - 1s 146ms/step - loss: 0.0056 - val_loss: 0.0056\n",
            "Epoch 40/100\n",
            "4/4 [==============================] - 1s 140ms/step - loss: 0.0056 - val_loss: 0.0056\n",
            "Epoch 41/100\n",
            "4/4 [==============================] - 0s 118ms/step - loss: 0.0056 - val_loss: 0.0056\n",
            "Epoch 42/100\n",
            "4/4 [==============================] - 0s 124ms/step - loss: 0.0056 - val_loss: 0.0056\n",
            "Epoch 43/100\n",
            "4/4 [==============================] - 1s 134ms/step - loss: 0.0056 - val_loss: 0.0056\n",
            "Epoch 44/100\n",
            "4/4 [==============================] - 1s 138ms/step - loss: 0.0056 - val_loss: 0.0056\n",
            "Epoch 45/100\n",
            "4/4 [==============================] - 1s 197ms/step - loss: 0.0056 - val_loss: 0.0056\n",
            "Epoch 46/100\n",
            "4/4 [==============================] - 1s 180ms/step - loss: 0.0055 - val_loss: 0.0056\n",
            "Epoch 47/100\n",
            "4/4 [==============================] - 1s 149ms/step - loss: 0.0055 - val_loss: 0.0056\n",
            "Epoch 48/100\n",
            "4/4 [==============================] - 1s 135ms/step - loss: 0.0055 - val_loss: 0.0055\n",
            "Epoch 49/100\n",
            "4/4 [==============================] - 0s 111ms/step - loss: 0.0055 - val_loss: 0.0055\n",
            "Epoch 50/100\n",
            "4/4 [==============================] - 0s 115ms/step - loss: 0.0055 - val_loss: 0.0055\n",
            "Epoch 51/100\n",
            "4/4 [==============================] - 0s 118ms/step - loss: 0.0055 - val_loss: 0.0055\n",
            "Epoch 52/100\n",
            "4/4 [==============================] - 1s 129ms/step - loss: 0.0055 - val_loss: 0.0055\n",
            "Epoch 53/100\n",
            "4/4 [==============================] - 1s 155ms/step - loss: 0.0055 - val_loss: 0.0055\n",
            "Epoch 54/100\n",
            "4/4 [==============================] - 1s 249ms/step - loss: 0.0055 - val_loss: 0.0055\n",
            "Epoch 55/100\n",
            "4/4 [==============================] - 1s 235ms/step - loss: 0.0055 - val_loss: 0.0055\n",
            "Epoch 56/100\n",
            "4/4 [==============================] - 1s 188ms/step - loss: 0.0054 - val_loss: 0.0055\n",
            "Epoch 57/100\n",
            "4/4 [==============================] - 1s 200ms/step - loss: 0.0054 - val_loss: 0.0055\n",
            "Epoch 58/100\n",
            "4/4 [==============================] - 1s 133ms/step - loss: 0.0054 - val_loss: 0.0054\n",
            "Epoch 59/100\n",
            "4/4 [==============================] - 0s 133ms/step - loss: 0.0054 - val_loss: 0.0054\n",
            "Epoch 60/100\n",
            "4/4 [==============================] - 1s 132ms/step - loss: 0.0054 - val_loss: 0.0054\n",
            "Epoch 61/100\n",
            "4/4 [==============================] - 1s 149ms/step - loss: 0.0054 - val_loss: 0.0054\n",
            "Epoch 62/100\n",
            "4/4 [==============================] - 1s 124ms/step - loss: 0.0054 - val_loss: 0.0054\n",
            "Epoch 63/100\n",
            "4/4 [==============================] - 0s 126ms/step - loss: 0.0054 - val_loss: 0.0054\n",
            "Epoch 64/100\n",
            "4/4 [==============================] - 1s 135ms/step - loss: 0.0054 - val_loss: 0.0054\n",
            "Epoch 65/100\n",
            "4/4 [==============================] - 1s 131ms/step - loss: 0.0054 - val_loss: 0.0054\n",
            "Epoch 66/100\n",
            "4/4 [==============================] - 1s 150ms/step - loss: 0.0054 - val_loss: 0.0054\n",
            "Epoch 67/100\n",
            "4/4 [==============================] - 1s 139ms/step - loss: 0.0053 - val_loss: 0.0054\n",
            "Epoch 68/100\n",
            "4/4 [==============================] - 1s 155ms/step - loss: 0.0053 - val_loss: 0.0053\n",
            "Epoch 69/100\n",
            "4/4 [==============================] - 1s 135ms/step - loss: 0.0053 - val_loss: 0.0053\n",
            "Epoch 70/100\n",
            "4/4 [==============================] - 1s 135ms/step - loss: 0.0053 - val_loss: 0.0053\n",
            "Epoch 71/100\n",
            "4/4 [==============================] - 1s 130ms/step - loss: 0.0053 - val_loss: 0.0053\n",
            "Epoch 72/100\n",
            "4/4 [==============================] - 0s 128ms/step - loss: 0.0053 - val_loss: 0.0053\n",
            "Epoch 73/100\n",
            "4/4 [==============================] - 1s 151ms/step - loss: 0.0053 - val_loss: 0.0053\n",
            "Epoch 74/100\n",
            "4/4 [==============================] - 1s 142ms/step - loss: 0.0053 - val_loss: 0.0053\n",
            "Epoch 75/100\n",
            "4/4 [==============================] - 1s 138ms/step - loss: 0.0053 - val_loss: 0.0053\n",
            "Epoch 76/100\n",
            "4/4 [==============================] - 1s 145ms/step - loss: 0.0053 - val_loss: 0.0053\n",
            "Epoch 77/100\n",
            "4/4 [==============================] - 1s 143ms/step - loss: 0.0052 - val_loss: 0.0053\n",
            "Epoch 78/100\n",
            "4/4 [==============================] - 1s 141ms/step - loss: 0.0052 - val_loss: 0.0052\n",
            "Epoch 79/100\n",
            "4/4 [==============================] - 1s 137ms/step - loss: 0.0052 - val_loss: 0.0052\n",
            "Epoch 80/100\n",
            "4/4 [==============================] - 1s 139ms/step - loss: 0.0052 - val_loss: 0.0052\n",
            "Epoch 81/100\n",
            "4/4 [==============================] - 1s 128ms/step - loss: 0.0052 - val_loss: 0.0052\n",
            "Epoch 82/100\n",
            "4/4 [==============================] - 1s 130ms/step - loss: 0.0052 - val_loss: 0.0052\n",
            "Epoch 83/100\n",
            "4/4 [==============================] - 1s 142ms/step - loss: 0.0052 - val_loss: 0.0052\n",
            "Epoch 84/100\n",
            "4/4 [==============================] - 1s 137ms/step - loss: 0.0052 - val_loss: 0.0052\n",
            "Epoch 85/100\n",
            "4/4 [==============================] - 1s 139ms/step - loss: 0.0052 - val_loss: 0.0052\n",
            "Epoch 86/100\n",
            "4/4 [==============================] - 1s 140ms/step - loss: 0.0052 - val_loss: 0.0052\n",
            "Epoch 87/100\n",
            "4/4 [==============================] - 1s 137ms/step - loss: 0.0051 - val_loss: 0.0052\n",
            "Epoch 88/100\n",
            "4/4 [==============================] - 1s 127ms/step - loss: 0.0051 - val_loss: 0.0051\n",
            "Epoch 89/100\n",
            "4/4 [==============================] - 0s 125ms/step - loss: 0.0051 - val_loss: 0.0051\n",
            "Epoch 90/100\n",
            "4/4 [==============================] - 1s 137ms/step - loss: 0.0051 - val_loss: 0.0051\n",
            "Epoch 91/100\n",
            "4/4 [==============================] - 1s 129ms/step - loss: 0.0051 - val_loss: 0.0051\n",
            "Epoch 92/100\n",
            "4/4 [==============================] - 1s 134ms/step - loss: 0.0051 - val_loss: 0.0051\n",
            "Epoch 93/100\n",
            "4/4 [==============================] - 1s 139ms/step - loss: 0.0051 - val_loss: 0.0051\n",
            "Epoch 94/100\n",
            "4/4 [==============================] - 1s 132ms/step - loss: 0.0051 - val_loss: 0.0051\n",
            "Epoch 95/100\n",
            "4/4 [==============================] - 1s 145ms/step - loss: 0.0051 - val_loss: 0.0051\n",
            "Epoch 96/100\n",
            "4/4 [==============================] - 1s 124ms/step - loss: 0.0050 - val_loss: 0.0051\n",
            "Epoch 97/100\n",
            "4/4 [==============================] - 1s 141ms/step - loss: 0.0050 - val_loss: 0.0050\n",
            "Epoch 98/100\n",
            "4/4 [==============================] - 1s 131ms/step - loss: 0.0050 - val_loss: 0.0050\n",
            "Epoch 99/100\n",
            "4/4 [==============================] - 1s 135ms/step - loss: 0.0050 - val_loss: 0.0050\n",
            "Epoch 100/100\n",
            "4/4 [==============================] - 0s 121ms/step - loss: 0.0050 - val_loss: 0.0050\n"
          ]
        }
      ],
      "source": [
        "hist_forward_ncp = ncp_model.fit(x=x_train_forward_activation_on, y=y_train_forward_activation_on, batch_size=32, epochs=100, validation_data=(x_valid_forward_activation_on, y_valid_forward_activation_on))"
      ]
    },
    {
      "cell_type": "code",
      "execution_count": 23,
      "metadata": {
        "colab": {
          "base_uri": "https://localhost:8080/",
          "height": 396
        },
        "id": "P9DwNRc0UPhn",
        "outputId": "8cb046fc-d607-40a0-e596-e419b3f667e0"
      },
      "outputs": [
        {
          "data": {
            "image/png": "[encoded data removed]",
            "text/plain": [
              "<Figure size 600x400 with 1 Axes>"
            ]
          },
          "metadata": {},
          "output_type": "display_data"
        }
      ],
      "source": [
        "# Plotting the history data\n",
        "sns.set()\n",
        "plt.figure(figsize=(6, 4))\n",
        "plt.plot(hist_forward_ncp.history[\"loss\"], label=\"Training loss\")\n",
        "plt.plot(hist_forward_ncp.history[\"val_loss\"], label=\"Validation loss\")\n",
        "\n",
        "plt.legend(loc=\"upper right\")\n",
        "plt.xlabel(\"Training steps\")\n",
        "plt.ylabel(\"Loss\")\n",
        "plt.show()"
      ]
    },
    {
      "cell_type": "code",
      "execution_count": 24,
      "metadata": {
        "colab": {
          "base_uri": "https://localhost:8080/"
        },
        "id": "vlsGoOuUUyGO",
        "outputId": "f79c7340-dcf2-48d9-c5d1-a2f9f3876ea3"
      },
      "outputs": [
        {
          "name": "stdout",
          "output_type": "stream",
          "text": [
            "1/1 [==============================] - 1s 807ms/step\n"
          ]
        }
      ],
      "source": [
        "y_test_forward_activation_on_predicted = ncp_model.predict(x_test_forward_activation_on)"
      ]
    },
    {
      "cell_type": "code",
      "execution_count": 25,
      "metadata": {
        "colab": {
          "base_uri": "https://localhost:8080/",
          "height": 497
        },
        "id": "rSdLSov3YskH",
        "outputId": "cca64ead-77e4-4dec-cc4f-48ea50f36a3d"
      },
      "outputs": [
        {
          "data": {
            "text/plain": [
              "<Figure size 800x400 with 0 Axes>"
            ]
          },
          "metadata": {},
          "output_type": "display_data"
        },
        {
          "data": {
            "image/png": "[encoded data removed]",
            "text/plain": [
              "<Figure size 640x480 with 3 Axes>"
            ]
          },
          "metadata": {},
          "output_type": "display_data"
        }
      ],
      "source": [
        "# Plotting the training data\n",
        "plt.figure(figsize=(8, 4))\n",
        "fig, axs = plt.subplots(3,1)\n",
        "axs[0].plot(x_test_forward_activation_on[0, :], 'tab:red')\n",
        "axs[0].set_title('PLM')\n",
        "axs[1].plot(y_test_forward_activation_on[0, :], 'tab:blue')\n",
        "axs[1].set_title('AVB true')\n",
        "axs[2].plot(np.squeeze(y_test_forward_activation_on_predicted[0, :]), 'tab:green')\n",
        "axs[2].set_title('AVB predicted')\n",
        "\n",
        "\n",
        "plt.tight_layout()\n",
        "plt.show()"
      ]
    },
    {
      "cell_type": "markdown",
      "metadata": {
        "id": "v__xJUbS2nWm"
      },
      "source": [
        "## Print learned weights"
      ]
    },
    {
      "cell_type": "code",
      "execution_count": 26,
      "metadata": {
        "colab": {
          "base_uri": "https://localhost:8080/"
        },
        "id": "nQpaCe-x2Xxe",
        "outputId": "d35466ee-7252-4b66-d2e6-816376aaa4d1"
      },
      "outputs": [
        {
          "data": {
            "text/plain": [
              "[<tf.Variable 'ltc_2/ltc_cell_2/gleak:0' shape=(1,) dtype=float32, numpy=array([0.23422877], dtype=float32)>,\n",
              " <tf.Variable 'ltc_2/ltc_cell_2/vleak:0' shape=(1,) dtype=float32, numpy=array([-0.16146919], dtype=float32)>,\n",
              " <tf.Variable 'ltc_2/ltc_cell_2/cm:0' shape=(1,) dtype=float32, numpy=array([1.2769696], dtype=float32)>,\n",
              " <tf.Variable 'ltc_2/ltc_cell_2/sigma:0' shape=(1, 1) dtype=float32, numpy=array([[5.6507907]], dtype=float32)>,\n",
              " <tf.Variable 'ltc_2/ltc_cell_2/mu:0' shape=(1, 1) dtype=float32, numpy=array([[0.6226624]], dtype=float32)>,\n",
              " <tf.Variable 'ltc_2/ltc_cell_2/w:0' shape=(1, 1) dtype=float32, numpy=array([[0.9104225]], dtype=float32)>,\n",
              " <tf.Variable 'ltc_2/ltc_cell_2/erev:0' shape=(1, 1) dtype=float32, numpy=array([[1.3350744]], dtype=float32)>,\n",
              " <tf.Variable 'ltc_2/ltc_cell_2/sensory_sigma:0' shape=(1, 1) dtype=float32, numpy=array([[7.6017394]], dtype=float32)>,\n",
              " <tf.Variable 'ltc_2/ltc_cell_2/sensory_mu:0' shape=(1, 1) dtype=float32, numpy=array([[0.86832607]], dtype=float32)>,\n",
              " <tf.Variable 'ltc_2/ltc_cell_2/sensory_w:0' shape=(1, 1) dtype=float32, numpy=array([[0.59330386]], dtype=float32)>,\n",
              " <tf.Variable 'ltc_2/ltc_cell_2/sensory_erev:0' shape=(1, 1) dtype=float32, numpy=array([[1.4869043]], dtype=float32)>]"
            ]
          },
          "execution_count": 26,
          "metadata": {},
          "output_type": "execute_result"
        }
      ],
      "source": [
        "ncp_model.variables"
      ]
    },
    {
      "cell_type": "markdown",
      "metadata": {
        "id": "_cp1McvWb9_p"
      },
      "source": [
        "# Forward circuit without self-loop\n",
        "# Neuron type: LTC"
      ]
    },
    {
      "cell_type": "markdown",
      "metadata": {
        "id": "UpV92n7544b3"
      },
      "source": [
        "## Create and compile keras model"
      ]
    },
    {
      "cell_type": "code",
      "execution_count": 27,
      "metadata": {
        "colab": {
          "base_uri": "https://localhost:8080/",
          "height": 410
        },
        "id": "KhSHKw-W44b3",
        "outputId": "a40be2b9-102d-4e0c-cd95-c6eebe8f1476"
      },
      "outputs": [
        {
          "data": {
            "image/png": "[encoded data removed]",
            "text/plain": [
              "<Figure size 600x400 with 1 Axes>"
            ]
          },
          "metadata": {},
          "output_type": "display_data"
        }
      ],
      "source": [
        "forward_without_loop_architecture = Forward_without_loop(1,1) \n",
        "\n",
        "ncp_model2 = keras.models.Sequential(\n",
        "    [\n",
        "        keras.layers.InputLayer(input_shape=(None, 1)),\n",
        "        LTC(forward_without_loop_architecture, return_sequences=True, input_mapping=None, output_mapping=None),\n",
        "    ]\n",
        ")\n",
        "ncp_model2.compile(\n",
        "    optimizer=keras.optimizers.Adam(0.01), loss='mean_squared_error'\n",
        ")\n",
        "sns.set_style(\"white\")\n",
        "plt.figure(figsize=(6, 4))\n",
        "legend_handles = forward_without_loop_architecture.draw_graph(\n",
        "    draw_labels=True,                                         \n",
        "    sensory_neurons=[\"PLM\"], \n",
        "    motor_neurons=[\"AVB\"])\n",
        "\n",
        "plt.legend(handles=legend_handles, bbox_to_anchor=(1.1, 1.1))\n",
        "sns.despine(left=True, bottom=True)\n",
        "plt.tight_layout()\n",
        "plt.show()"
      ]
    },
    {
      "cell_type": "markdown",
      "metadata": {
        "id": "MU8jzgj_44b4"
      },
      "source": [
        "### Fit the dataset (PLM activates AVB, AVB stays active because of its self-activation)"
      ]
    },
    {
      "cell_type": "code",
      "execution_count": 28,
      "metadata": {
        "colab": {
          "base_uri": "https://localhost:8080/"
        },
        "id": "xhy3PhHW44b5",
        "outputId": "da021f62-1c6b-4fe5-8af6-14d4d7057164"
      },
      "outputs": [
        {
          "name": "stdout",
          "output_type": "stream",
          "text": [
            "Epoch 1/200\n",
            "4/4 [==============================] - 14s 723ms/step - loss: 0.6815 - val_loss: 0.6449\n",
            "Epoch 2/200\n",
            "4/4 [==============================] - 1s 157ms/step - loss: 0.5724 - val_loss: 0.5260\n",
            "Epoch 3/200\n",
            "4/4 [==============================] - 1s 153ms/step - loss: 0.4635 - val_loss: 0.4110\n",
            "Epoch 4/200\n",
            "4/4 [==============================] - 0s 126ms/step - loss: 0.3629 - val_loss: 0.3092\n",
            "Epoch 5/200\n",
            "4/4 [==============================] - 1s 136ms/step - loss: 0.2784 - val_loss: 0.2324\n",
            "Epoch 6/200\n",
            "4/4 [==============================] - 0s 124ms/step - loss: 0.2216 - val_loss: 0.1875\n",
            "Epoch 7/200\n",
            "4/4 [==============================] - 1s 130ms/step - loss: 0.1966 - val_loss: 0.1713\n",
            "Epoch 8/200\n",
            "4/4 [==============================] - 1s 133ms/step - loss: 0.1937 - val_loss: 0.1698\n",
            "Epoch 9/200\n",
            "4/4 [==============================] - 1s 146ms/step - loss: 0.1986 - val_loss: 0.1703\n",
            "Epoch 10/200\n",
            "4/4 [==============================] - 1s 244ms/step - loss: 0.2002 - val_loss: 0.1682\n",
            "Epoch 11/200\n",
            "4/4 [==============================] - 1s 218ms/step - loss: 0.1961 - val_loss: 0.1646\n",
            "Epoch 12/200\n",
            "4/4 [==============================] - 1s 147ms/step - loss: 0.1896 - val_loss: 0.1631\n",
            "Epoch 13/200\n",
            "4/4 [==============================] - 0s 129ms/step - loss: 0.1855 - val_loss: 0.1642\n",
            "Epoch 14/200\n",
            "4/4 [==============================] - 1s 137ms/step - loss: 0.1838 - val_loss: 0.1655\n",
            "Epoch 15/200\n",
            "4/4 [==============================] - 1s 146ms/step - loss: 0.1828 - val_loss: 0.1650\n",
            "Epoch 16/200\n",
            "4/4 [==============================] - 1s 148ms/step - loss: 0.1814 - val_loss: 0.1625\n",
            "Epoch 17/200\n",
            "4/4 [==============================] - 1s 133ms/step - loss: 0.1788 - val_loss: 0.1580\n",
            "Epoch 18/200\n",
            "4/4 [==============================] - 0s 129ms/step - loss: 0.1757 - val_loss: 0.1533\n",
            "Epoch 19/200\n",
            "4/4 [==============================] - 1s 154ms/step - loss: 0.1730 - val_loss: 0.1489\n",
            "Epoch 20/200\n",
            "4/4 [==============================] - 0s 123ms/step - loss: 0.1699 - val_loss: 0.1453\n",
            "Epoch 21/200\n",
            "4/4 [==============================] - 1s 151ms/step - loss: 0.1666 - val_loss: 0.1417\n",
            "Epoch 22/200\n",
            "4/4 [==============================] - 1s 134ms/step - loss: 0.1625 - val_loss: 0.1367\n",
            "Epoch 23/200\n",
            "4/4 [==============================] - 0s 121ms/step - loss: 0.1577 - val_loss: 0.1308\n",
            "Epoch 24/200\n",
            "4/4 [==============================] - 0s 115ms/step - loss: 0.1518 - val_loss: 0.1236\n",
            "Epoch 25/200\n",
            "4/4 [==============================] - 1s 141ms/step - loss: 0.1446 - val_loss: 0.1146\n",
            "Epoch 26/200\n",
            "4/4 [==============================] - 0s 121ms/step - loss: 0.1352 - val_loss: 0.1038\n",
            "Epoch 27/200\n",
            "4/4 [==============================] - 1s 131ms/step - loss: 0.1227 - val_loss: 0.0899\n",
            "Epoch 28/200\n",
            "4/4 [==============================] - 0s 122ms/step - loss: 0.1063 - val_loss: 0.0716\n",
            "Epoch 29/200\n",
            "4/4 [==============================] - 1s 146ms/step - loss: 0.0864 - val_loss: 0.0538\n",
            "Epoch 30/200\n",
            "4/4 [==============================] - 1s 152ms/step - loss: 0.0672 - val_loss: 0.0395\n",
            "Epoch 31/200\n",
            "4/4 [==============================] - 1s 136ms/step - loss: 0.0474 - val_loss: 0.0316\n",
            "Epoch 32/200\n",
            "4/4 [==============================] - 1s 138ms/step - loss: 0.0353 - val_loss: 0.0260\n",
            "Epoch 33/200\n",
            "4/4 [==============================] - 1s 135ms/step - loss: 0.0292 - val_loss: 0.0268\n",
            "Epoch 34/200\n",
            "4/4 [==============================] - 1s 136ms/step - loss: 0.0283 - val_loss: 0.0281\n",
            "Epoch 35/200\n",
            "4/4 [==============================] - 1s 183ms/step - loss: 0.0278 - val_loss: 0.0269\n",
            "Epoch 36/200\n",
            "4/4 [==============================] - 1s 145ms/step - loss: 0.0262 - val_loss: 0.0247\n",
            "Epoch 37/200\n",
            "4/4 [==============================] - 1s 134ms/step - loss: 0.0243 - val_loss: 0.0225\n",
            "Epoch 38/200\n",
            "4/4 [==============================] - 1s 134ms/step - loss: 0.0228 - val_loss: 0.0213\n",
            "Epoch 39/200\n",
            "4/4 [==============================] - 1s 161ms/step - loss: 0.0219 - val_loss: 0.0208\n",
            "Epoch 40/200\n",
            "4/4 [==============================] - 1s 142ms/step - loss: 0.0215 - val_loss: 0.0205\n",
            "Epoch 41/200\n",
            "4/4 [==============================] - 1s 154ms/step - loss: 0.0211 - val_loss: 0.0203\n",
            "Epoch 42/200\n",
            "4/4 [==============================] - 1s 180ms/step - loss: 0.0207 - val_loss: 0.0202\n",
            "Epoch 43/200\n",
            "4/4 [==============================] - 1s 156ms/step - loss: 0.0205 - val_loss: 0.0200\n",
            "Epoch 44/200\n",
            "4/4 [==============================] - 1s 143ms/step - loss: 0.0202 - val_loss: 0.0198\n",
            "Epoch 45/200\n",
            "4/4 [==============================] - 1s 147ms/step - loss: 0.0200 - val_loss: 0.0197\n",
            "Epoch 46/200\n",
            "4/4 [==============================] - 1s 136ms/step - loss: 0.0198 - val_loss: 0.0195\n",
            "Epoch 47/200\n",
            "4/4 [==============================] - 1s 144ms/step - loss: 0.0196 - val_loss: 0.0194\n",
            "Epoch 48/200\n",
            "4/4 [==============================] - 1s 149ms/step - loss: 0.0194 - val_loss: 0.0192\n",
            "Epoch 49/200\n",
            "4/4 [==============================] - 1s 176ms/step - loss: 0.0193 - val_loss: 0.0192\n",
            "Epoch 50/200\n",
            "4/4 [==============================] - 1s 162ms/step - loss: 0.0190 - val_loss: 0.0190\n",
            "Epoch 51/200\n",
            "4/4 [==============================] - 1s 153ms/step - loss: 0.0190 - val_loss: 0.0194\n",
            "Epoch 52/200\n",
            "4/4 [==============================] - 1s 162ms/step - loss: 0.0191 - val_loss: 0.0186\n",
            "Epoch 53/200\n",
            "4/4 [==============================] - 1s 186ms/step - loss: 0.0189 - val_loss: 0.0187\n",
            "Epoch 54/200\n",
            "4/4 [==============================] - 1s 184ms/step - loss: 0.0187 - val_loss: 0.0198\n",
            "Epoch 55/200\n",
            "4/4 [==============================] - 0s 114ms/step - loss: 0.0191 - val_loss: 0.0185\n",
            "Epoch 56/200\n",
            "4/4 [==============================] - 1s 138ms/step - loss: 0.0184 - val_loss: 0.0183\n",
            "Epoch 57/200\n",
            "4/4 [==============================] - 0s 121ms/step - loss: 0.0183 - val_loss: 0.0185\n",
            "Epoch 58/200\n",
            "4/4 [==============================] - 0s 112ms/step - loss: 0.0181 - val_loss: 0.0181\n",
            "Epoch 59/200\n",
            "4/4 [==============================] - 0s 114ms/step - loss: 0.0183 - val_loss: 0.0180\n",
            "Epoch 60/200\n",
            "4/4 [==============================] - 0s 110ms/step - loss: 0.0178 - val_loss: 0.0180\n",
            "Epoch 61/200\n",
            "4/4 [==============================] - 0s 109ms/step - loss: 0.0178 - val_loss: 0.0177\n",
            "Epoch 62/200\n",
            "4/4 [==============================] - 0s 127ms/step - loss: 0.0175 - val_loss: 0.0179\n",
            "Epoch 63/200\n",
            "4/4 [==============================] - 1s 125ms/step - loss: 0.0176 - val_loss: 0.0176\n",
            "Epoch 64/200\n",
            "4/4 [==============================] - 0s 126ms/step - loss: 0.0174 - val_loss: 0.0176\n",
            "Epoch 65/200\n",
            "4/4 [==============================] - 1s 154ms/step - loss: 0.0173 - val_loss: 0.0178\n",
            "Epoch 66/200\n",
            "4/4 [==============================] - 1s 128ms/step - loss: 0.0172 - val_loss: 0.0173\n",
            "Epoch 67/200\n",
            "4/4 [==============================] - 0s 126ms/step - loss: 0.0171 - val_loss: 0.0172\n",
            "Epoch 68/200\n",
            "4/4 [==============================] - 0s 125ms/step - loss: 0.0170 - val_loss: 0.0171\n",
            "Epoch 69/200\n",
            "4/4 [==============================] - 0s 122ms/step - loss: 0.0169 - val_loss: 0.0170\n",
            "Epoch 70/200\n",
            "4/4 [==============================] - 0s 126ms/step - loss: 0.0167 - val_loss: 0.0168\n",
            "Epoch 71/200\n",
            "4/4 [==============================] - 1s 127ms/step - loss: 0.0167 - val_loss: 0.0168\n",
            "Epoch 72/200\n",
            "4/4 [==============================] - 1s 129ms/step - loss: 0.0166 - val_loss: 0.0171\n",
            "Epoch 73/200\n",
            "4/4 [==============================] - 0s 124ms/step - loss: 0.0168 - val_loss: 0.0164\n",
            "Epoch 74/200\n",
            "4/4 [==============================] - 0s 121ms/step - loss: 0.0163 - val_loss: 0.0165\n",
            "Epoch 75/200\n",
            "4/4 [==============================] - 1s 140ms/step - loss: 0.0163 - val_loss: 0.0169\n",
            "Epoch 76/200\n",
            "4/4 [==============================] - 1s 129ms/step - loss: 0.0163 - val_loss: 0.0161\n",
            "Epoch 77/200\n",
            "4/4 [==============================] - 0s 121ms/step - loss: 0.0161 - val_loss: 0.0166\n",
            "Epoch 78/200\n",
            "4/4 [==============================] - 0s 129ms/step - loss: 0.0160 - val_loss: 0.0160\n",
            "Epoch 79/200\n",
            "4/4 [==============================] - 1s 132ms/step - loss: 0.0157 - val_loss: 0.0158\n",
            "Epoch 80/200\n",
            "4/4 [==============================] - 0s 125ms/step - loss: 0.0156 - val_loss: 0.0158\n",
            "Epoch 81/200\n",
            "4/4 [==============================] - 1s 144ms/step - loss: 0.0155 - val_loss: 0.0159\n",
            "Epoch 82/200\n",
            "4/4 [==============================] - 1s 163ms/step - loss: 0.0155 - val_loss: 0.0158\n",
            "Epoch 83/200\n",
            "4/4 [==============================] - 1s 159ms/step - loss: 0.0156 - val_loss: 0.0154\n",
            "Epoch 84/200\n",
            "4/4 [==============================] - 1s 131ms/step - loss: 0.0152 - val_loss: 0.0153\n",
            "Epoch 85/200\n",
            "4/4 [==============================] - 1s 158ms/step - loss: 0.0154 - val_loss: 0.0152\n",
            "Epoch 86/200\n",
            "4/4 [==============================] - 1s 138ms/step - loss: 0.0150 - val_loss: 0.0151\n",
            "Epoch 87/200\n",
            "4/4 [==============================] - 1s 193ms/step - loss: 0.0149 - val_loss: 0.0150\n",
            "Epoch 88/200\n",
            "4/4 [==============================] - 1s 155ms/step - loss: 0.0148 - val_loss: 0.0150\n",
            "Epoch 89/200\n",
            "4/4 [==============================] - 1s 190ms/step - loss: 0.0149 - val_loss: 0.0156\n",
            "Epoch 90/200\n",
            "4/4 [==============================] - 1s 174ms/step - loss: 0.0152 - val_loss: 0.0147\n",
            "Epoch 91/200\n",
            "4/4 [==============================] - 1s 296ms/step - loss: 0.0145 - val_loss: 0.0147\n",
            "Epoch 92/200\n",
            "4/4 [==============================] - 1s 175ms/step - loss: 0.0146 - val_loss: 0.0146\n",
            "Epoch 93/200\n",
            "4/4 [==============================] - 1s 165ms/step - loss: 0.0143 - val_loss: 0.0145\n",
            "Epoch 94/200\n",
            "4/4 [==============================] - 1s 158ms/step - loss: 0.0143 - val_loss: 0.0144\n",
            "Epoch 95/200\n",
            "4/4 [==============================] - 1s 203ms/step - loss: 0.0144 - val_loss: 0.0143\n",
            "Epoch 96/200\n",
            "4/4 [==============================] - 1s 227ms/step - loss: 0.0141 - val_loss: 0.0142\n",
            "Epoch 97/200\n",
            "4/4 [==============================] - 1s 236ms/step - loss: 0.0140 - val_loss: 0.0141\n",
            "Epoch 98/200\n",
            "4/4 [==============================] - 1s 210ms/step - loss: 0.0139 - val_loss: 0.0141\n",
            "Epoch 99/200\n",
            "4/4 [==============================] - 1s 229ms/step - loss: 0.0139 - val_loss: 0.0140\n",
            "Epoch 100/200\n",
            "4/4 [==============================] - 1s 248ms/step - loss: 0.0138 - val_loss: 0.0139\n",
            "Epoch 101/200\n",
            "4/4 [==============================] - 1s 241ms/step - loss: 0.0137 - val_loss: 0.0138\n",
            "Epoch 102/200\n",
            "4/4 [==============================] - 1s 164ms/step - loss: 0.0136 - val_loss: 0.0137\n",
            "Epoch 103/200\n",
            "4/4 [==============================] - 1s 157ms/step - loss: 0.0136 - val_loss: 0.0137\n",
            "Epoch 104/200\n",
            "4/4 [==============================] - 1s 124ms/step - loss: 0.0135 - val_loss: 0.0136\n",
            "Epoch 105/200\n",
            "4/4 [==============================] - 0s 109ms/step - loss: 0.0135 - val_loss: 0.0135\n",
            "Epoch 106/200\n",
            "4/4 [==============================] - 0s 125ms/step - loss: 0.0134 - val_loss: 0.0134\n",
            "Epoch 107/200\n",
            "4/4 [==============================] - 1s 141ms/step - loss: 0.0133 - val_loss: 0.0134\n",
            "Epoch 108/200\n",
            "4/4 [==============================] - 1s 182ms/step - loss: 0.0132 - val_loss: 0.0134\n",
            "Epoch 109/200\n",
            "4/4 [==============================] - 1s 177ms/step - loss: 0.0133 - val_loss: 0.0133\n",
            "Epoch 110/200\n",
            "4/4 [==============================] - 1s 156ms/step - loss: 0.0131 - val_loss: 0.0132\n",
            "Epoch 111/200\n",
            "4/4 [==============================] - 1s 237ms/step - loss: 0.0131 - val_loss: 0.0131\n",
            "Epoch 112/200\n",
            "4/4 [==============================] - 1s 147ms/step - loss: 0.0130 - val_loss: 0.0131\n",
            "Epoch 113/200\n",
            "4/4 [==============================] - 1s 141ms/step - loss: 0.0130 - val_loss: 0.0131\n",
            "Epoch 114/200\n",
            "4/4 [==============================] - 1s 165ms/step - loss: 0.0129 - val_loss: 0.0131\n",
            "Epoch 115/200\n",
            "4/4 [==============================] - 0s 118ms/step - loss: 0.0129 - val_loss: 0.0130\n",
            "Epoch 116/200\n",
            "4/4 [==============================] - 1s 141ms/step - loss: 0.0128 - val_loss: 0.0129\n",
            "Epoch 117/200\n",
            "4/4 [==============================] - 1s 132ms/step - loss: 0.0128 - val_loss: 0.0128\n",
            "Epoch 118/200\n",
            "4/4 [==============================] - 1s 132ms/step - loss: 0.0127 - val_loss: 0.0128\n",
            "Epoch 119/200\n",
            "4/4 [==============================] - 1s 130ms/step - loss: 0.0127 - val_loss: 0.0128\n",
            "Epoch 120/200\n",
            "4/4 [==============================] - 1s 148ms/step - loss: 0.0127 - val_loss: 0.0127\n",
            "Epoch 121/200\n",
            "4/4 [==============================] - 0s 132ms/step - loss: 0.0126 - val_loss: 0.0127\n",
            "Epoch 122/200\n",
            "4/4 [==============================] - 1s 164ms/step - loss: 0.0126 - val_loss: 0.0127\n",
            "Epoch 123/200\n",
            "4/4 [==============================] - 1s 140ms/step - loss: 0.0126 - val_loss: 0.0128\n",
            "Epoch 124/200\n",
            "4/4 [==============================] - 1s 129ms/step - loss: 0.0126 - val_loss: 0.0128\n",
            "Epoch 125/200\n",
            "4/4 [==============================] - 1s 128ms/step - loss: 0.0126 - val_loss: 0.0127\n",
            "Epoch 126/200\n",
            "4/4 [==============================] - 1s 154ms/step - loss: 0.0125 - val_loss: 0.0126\n",
            "Epoch 127/200\n",
            "4/4 [==============================] - 1s 150ms/step - loss: 0.0124 - val_loss: 0.0125\n",
            "Epoch 128/200\n",
            "4/4 [==============================] - 1s 157ms/step - loss: 0.0124 - val_loss: 0.0124\n",
            "Epoch 129/200\n",
            "4/4 [==============================] - 1s 200ms/step - loss: 0.0123 - val_loss: 0.0124\n",
            "Epoch 130/200\n",
            "4/4 [==============================] - 1s 160ms/step - loss: 0.0123 - val_loss: 0.0124\n",
            "Epoch 131/200\n",
            "4/4 [==============================] - 1s 182ms/step - loss: 0.0123 - val_loss: 0.0123\n",
            "Epoch 132/200\n",
            "4/4 [==============================] - 1s 137ms/step - loss: 0.0122 - val_loss: 0.0123\n",
            "Epoch 133/200\n",
            "4/4 [==============================] - 1s 142ms/step - loss: 0.0122 - val_loss: 0.0123\n",
            "Epoch 134/200\n",
            "4/4 [==============================] - 1s 158ms/step - loss: 0.0122 - val_loss: 0.0123\n",
            "Epoch 135/200\n",
            "4/4 [==============================] - 0s 127ms/step - loss: 0.0121 - val_loss: 0.0122\n",
            "Epoch 136/200\n",
            "4/4 [==============================] - 1s 186ms/step - loss: 0.0121 - val_loss: 0.0122\n",
            "Epoch 137/200\n",
            "4/4 [==============================] - 1s 315ms/step - loss: 0.0121 - val_loss: 0.0122\n",
            "Epoch 138/200\n",
            "4/4 [==============================] - 1s 246ms/step - loss: 0.0120 - val_loss: 0.0122\n",
            "Epoch 139/200\n",
            "4/4 [==============================] - 1s 173ms/step - loss: 0.0120 - val_loss: 0.0122\n",
            "Epoch 140/200\n",
            "4/4 [==============================] - 1s 151ms/step - loss: 0.0120 - val_loss: 0.0122\n",
            "Epoch 141/200\n",
            "4/4 [==============================] - 0s 130ms/step - loss: 0.0120 - val_loss: 0.0121\n",
            "Epoch 142/200\n",
            "4/4 [==============================] - 0s 121ms/step - loss: 0.0120 - val_loss: 0.0121\n",
            "Epoch 143/200\n",
            "4/4 [==============================] - 1s 140ms/step - loss: 0.0119 - val_loss: 0.0120\n",
            "Epoch 144/200\n",
            "4/4 [==============================] - 1s 129ms/step - loss: 0.0119 - val_loss: 0.0120\n",
            "Epoch 145/200\n",
            "4/4 [==============================] - 1s 130ms/step - loss: 0.0119 - val_loss: 0.0120\n",
            "Epoch 146/200\n",
            "4/4 [==============================] - 1s 187ms/step - loss: 0.0119 - val_loss: 0.0120\n",
            "Epoch 147/200\n",
            "4/4 [==============================] - 0s 127ms/step - loss: 0.0119 - val_loss: 0.0120\n",
            "Epoch 148/200\n",
            "4/4 [==============================] - 1s 139ms/step - loss: 0.0119 - val_loss: 0.0120\n",
            "Epoch 149/200\n",
            "4/4 [==============================] - 1s 143ms/step - loss: 0.0118 - val_loss: 0.0120\n",
            "Epoch 150/200\n",
            "4/4 [==============================] - 1s 151ms/step - loss: 0.0118 - val_loss: 0.0120\n",
            "Epoch 151/200\n",
            "4/4 [==============================] - 0s 114ms/step - loss: 0.0118 - val_loss: 0.0120\n",
            "Epoch 152/200\n",
            "4/4 [==============================] - 0s 118ms/step - loss: 0.0118 - val_loss: 0.0120\n",
            "Epoch 153/200\n",
            "4/4 [==============================] - 1s 139ms/step - loss: 0.0118 - val_loss: 0.0119\n",
            "Epoch 154/200\n",
            "4/4 [==============================] - 1s 142ms/step - loss: 0.0118 - val_loss: 0.0119\n",
            "Epoch 155/200\n",
            "4/4 [==============================] - 0s 122ms/step - loss: 0.0118 - val_loss: 0.0119\n",
            "Epoch 156/200\n",
            "4/4 [==============================] - 1s 140ms/step - loss: 0.0117 - val_loss: 0.0119\n",
            "Epoch 157/200\n",
            "4/4 [==============================] - 1s 145ms/step - loss: 0.0117 - val_loss: 0.0119\n",
            "Epoch 158/200\n",
            "4/4 [==============================] - 1s 137ms/step - loss: 0.0117 - val_loss: 0.0118\n",
            "Epoch 159/200\n",
            "4/4 [==============================] - 1s 142ms/step - loss: 0.0117 - val_loss: 0.0118\n",
            "Epoch 160/200\n",
            "4/4 [==============================] - 1s 127ms/step - loss: 0.0117 - val_loss: 0.0119\n",
            "Epoch 161/200\n",
            "4/4 [==============================] - 0s 121ms/step - loss: 0.0117 - val_loss: 0.0119\n",
            "Epoch 162/200\n",
            "4/4 [==============================] - 1s 165ms/step - loss: 0.0117 - val_loss: 0.0118\n",
            "Epoch 163/200\n",
            "4/4 [==============================] - 1s 157ms/step - loss: 0.0117 - val_loss: 0.0118\n",
            "Epoch 164/200\n",
            "4/4 [==============================] - 1s 149ms/step - loss: 0.0116 - val_loss: 0.0118\n",
            "Epoch 165/200\n",
            "4/4 [==============================] - 0s 121ms/step - loss: 0.0116 - val_loss: 0.0118\n",
            "Epoch 166/200\n",
            "4/4 [==============================] - 1s 140ms/step - loss: 0.0116 - val_loss: 0.0118\n",
            "Epoch 167/200\n",
            "4/4 [==============================] - 1s 134ms/step - loss: 0.0116 - val_loss: 0.0117\n",
            "Epoch 168/200\n",
            "4/4 [==============================] - 1s 138ms/step - loss: 0.0116 - val_loss: 0.0117\n",
            "Epoch 169/200\n",
            "4/4 [==============================] - 1s 128ms/step - loss: 0.0116 - val_loss: 0.0117\n",
            "Epoch 170/200\n",
            "4/4 [==============================] - 0s 125ms/step - loss: 0.0116 - val_loss: 0.0117\n",
            "Epoch 171/200\n",
            "4/4 [==============================] - 0s 124ms/step - loss: 0.0116 - val_loss: 0.0117\n",
            "Epoch 172/200\n",
            "4/4 [==============================] - 0s 123ms/step - loss: 0.0116 - val_loss: 0.0117\n",
            "Epoch 173/200\n",
            "4/4 [==============================] - 0s 123ms/step - loss: 0.0116 - val_loss: 0.0117\n",
            "Epoch 174/200\n",
            "4/4 [==============================] - 1s 165ms/step - loss: 0.0116 - val_loss: 0.0117\n",
            "Epoch 175/200\n",
            "4/4 [==============================] - 1s 141ms/step - loss: 0.0116 - val_loss: 0.0117\n",
            "Epoch 176/200\n",
            "4/4 [==============================] - 1s 136ms/step - loss: 0.0115 - val_loss: 0.0118\n",
            "Epoch 177/200\n",
            "4/4 [==============================] - 1s 140ms/step - loss: 0.0116 - val_loss: 0.0117\n",
            "Epoch 178/200\n",
            "4/4 [==============================] - 1s 160ms/step - loss: 0.0115 - val_loss: 0.0117\n",
            "Epoch 179/200\n",
            "4/4 [==============================] - 1s 143ms/step - loss: 0.0115 - val_loss: 0.0117\n",
            "Epoch 180/200\n",
            "4/4 [==============================] - 1s 136ms/step - loss: 0.0115 - val_loss: 0.0117\n",
            "Epoch 181/200\n",
            "4/4 [==============================] - 1s 145ms/step - loss: 0.0116 - val_loss: 0.0117\n",
            "Epoch 182/200\n",
            "4/4 [==============================] - 1s 144ms/step - loss: 0.0115 - val_loss: 0.0116\n",
            "Epoch 183/200\n",
            "4/4 [==============================] - 1s 147ms/step - loss: 0.0115 - val_loss: 0.0117\n",
            "Epoch 184/200\n",
            "4/4 [==============================] - 1s 138ms/step - loss: 0.0115 - val_loss: 0.0117\n",
            "Epoch 185/200\n",
            "4/4 [==============================] - 1s 131ms/step - loss: 0.0115 - val_loss: 0.0117\n",
            "Epoch 186/200\n",
            "4/4 [==============================] - 1s 137ms/step - loss: 0.0115 - val_loss: 0.0117\n",
            "Epoch 187/200\n",
            "4/4 [==============================] - 1s 130ms/step - loss: 0.0115 - val_loss: 0.0117\n",
            "Epoch 188/200\n",
            "4/4 [==============================] - 1s 136ms/step - loss: 0.0115 - val_loss: 0.0117\n",
            "Epoch 189/200\n",
            "4/4 [==============================] - 1s 149ms/step - loss: 0.0115 - val_loss: 0.0116\n",
            "Epoch 190/200\n",
            "4/4 [==============================] - 1s 150ms/step - loss: 0.0114 - val_loss: 0.0116\n",
            "Epoch 191/200\n",
            "4/4 [==============================] - 1s 141ms/step - loss: 0.0114 - val_loss: 0.0116\n",
            "Epoch 192/200\n",
            "4/4 [==============================] - 1s 143ms/step - loss: 0.0114 - val_loss: 0.0116\n",
            "Epoch 193/200\n",
            "4/4 [==============================] - 1s 203ms/step - loss: 0.0114 - val_loss: 0.0116\n",
            "Epoch 194/200\n",
            "4/4 [==============================] - 1s 186ms/step - loss: 0.0114 - val_loss: 0.0116\n",
            "Epoch 195/200\n",
            "4/4 [==============================] - 1s 216ms/step - loss: 0.0114 - val_loss: 0.0116\n",
            "Epoch 196/200\n",
            "4/4 [==============================] - 1s 151ms/step - loss: 0.0114 - val_loss: 0.0117\n",
            "Epoch 197/200\n",
            "4/4 [==============================] - 1s 158ms/step - loss: 0.0114 - val_loss: 0.0116\n",
            "Epoch 198/200\n",
            "4/4 [==============================] - 1s 160ms/step - loss: 0.0114 - val_loss: 0.0116\n",
            "Epoch 199/200\n",
            "4/4 [==============================] - 1s 167ms/step - loss: 0.0114 - val_loss: 0.0116\n",
            "Epoch 200/200\n",
            "4/4 [==============================] - 1s 170ms/step - loss: 0.0114 - val_loss: 0.0116\n"
          ]
        }
      ],
      "source": [
        "hist_forward_ncp2 = ncp_model2.fit(x=x_train_forward_activation_on, y=y_train_forward_activation_on, batch_size=32, epochs=200, validation_data=(x_valid_forward_activation_on, y_valid_forward_activation_on))"
      ]
    },
    {
      "cell_type": "code",
      "execution_count": 29,
      "metadata": {
        "colab": {
          "base_uri": "https://localhost:8080/",
          "height": 396
        },
        "id": "zLxce00V44b5",
        "outputId": "ad4ad7b3-42b4-458b-f9c4-74d20807c8f9"
      },
      "outputs": [
        {
          "data": {
            "image/png": "[encoded data removed]",
            "text/plain": [
              "<Figure size 600x400 with 1 Axes>"
            ]
          },
          "metadata": {},
          "output_type": "display_data"
        }
      ],
      "source": [
        "# Plotting the history data\n",
        "sns.set()\n",
        "plt.figure(figsize=(6, 4))\n",
        "plt.plot(hist_forward_ncp2.history[\"loss\"], label=\"Training loss\")\n",
        "plt.plot(hist_forward_ncp2.history[\"val_loss\"], label=\"Validation loss\")\n",
        "\n",
        "plt.legend(loc=\"upper right\")\n",
        "plt.xlabel(\"Training steps\")\n",
        "plt.ylabel(\"Loss\")\n",
        "plt.show()"
      ]
    },
    {
      "cell_type": "code",
      "execution_count": 30,
      "metadata": {
        "colab": {
          "base_uri": "https://localhost:8080/"
        },
        "id": "y0tTdNgJ44b5",
        "outputId": "6c1794a7-4b7e-4699-cede-7302c32afa86"
      },
      "outputs": [
        {
          "name": "stdout",
          "output_type": "stream",
          "text": [
            "1/1 [==============================] - 1s 857ms/step\n"
          ]
        }
      ],
      "source": [
        "y_test_forward_activation_on_predicted2 = ncp_model2.predict(x_test_forward_activation_on)"
      ]
    },
    {
      "cell_type": "code",
      "execution_count": 31,
      "metadata": {
        "colab": {
          "base_uri": "https://localhost:8080/",
          "height": 497
        },
        "id": "5OaSrtUF44b6",
        "outputId": "1d7a1681-bfa6-4b1d-df78-23826249b46a"
      },
      "outputs": [
        {
          "data": {
            "text/plain": [
              "<Figure size 800x400 with 0 Axes>"
            ]
          },
          "metadata": {},
          "output_type": "display_data"
        },
        {
          "data": {
            "image/png": "[encoded data removed]",
            "text/plain": [
              "<Figure size 640x480 with 3 Axes>"
            ]
          },
          "metadata": {},
          "output_type": "display_data"
        }
      ],
      "source": [
        "# Plotting the test data\n",
        "plt.figure(figsize=(8, 4))\n",
        "fig, axs = plt.subplots(3,1)\n",
        "axs[0].plot(x_test_forward_activation_on[0, :], 'tab:red')\n",
        "axs[0].set_title('PLM')\n",
        "axs[1].plot(y_test_forward_activation_on[0, :], 'tab:blue')\n",
        "axs[1].set_title('AVB true')\n",
        "axs[2].plot(np.squeeze(y_test_forward_activation_on_predicted2[0, :]), 'tab:green')\n",
        "axs[2].set_title('AVB predicted')\n",
        "\n",
        "\n",
        "plt.tight_layout()\n",
        "plt.show()"
      ]
    },
    {
      "cell_type": "markdown",
      "metadata": {
        "id": "mewyrJIn41pf"
      },
      "source": [
        "## Print learned weights"
      ]
    },
    {
      "cell_type": "code",
      "execution_count": 32,
      "metadata": {
        "colab": {
          "base_uri": "https://localhost:8080/"
        },
        "id": "FgWrUXhT41pg",
        "outputId": "03c26f06-a30c-4af7-d46c-61a474a2f29d"
      },
      "outputs": [
        {
          "data": {
            "text/plain": [
              "[<tf.Variable 'ltc_3/ltc_cell_3/gleak:0' shape=(1,) dtype=float32, numpy=array([-0.], dtype=float32)>,\n",
              " <tf.Variable 'ltc_3/ltc_cell_3/vleak:0' shape=(1,) dtype=float32, numpy=array([0.11508903], dtype=float32)>,\n",
              " <tf.Variable 'ltc_3/ltc_cell_3/cm:0' shape=(1,) dtype=float32, numpy=array([1.1137627], dtype=float32)>,\n",
              " <tf.Variable 'ltc_3/ltc_cell_3/sigma:0' shape=(1, 1) dtype=float32, numpy=array([[6.673761]], dtype=float32)>,\n",
              " <tf.Variable 'ltc_3/ltc_cell_3/mu:0' shape=(1, 1) dtype=float32, numpy=array([[0.35900915]], dtype=float32)>,\n",
              " <tf.Variable 'ltc_3/ltc_cell_3/w:0' shape=(1, 1) dtype=float32, numpy=array([[0.46083632]], dtype=float32)>,\n",
              " <tf.Variable 'ltc_3/ltc_cell_3/erev:0' shape=(1, 1) dtype=float32, numpy=array([[0.]], dtype=float32)>,\n",
              " <tf.Variable 'ltc_3/ltc_cell_3/sensory_sigma:0' shape=(1, 1) dtype=float32, numpy=array([[8.122894]], dtype=float32)>,\n",
              " <tf.Variable 'ltc_3/ltc_cell_3/sensory_mu:0' shape=(1, 1) dtype=float32, numpy=array([[0.72436666]], dtype=float32)>,\n",
              " <tf.Variable 'ltc_3/ltc_cell_3/sensory_w:0' shape=(1, 1) dtype=float32, numpy=array([[1.2055364]], dtype=float32)>,\n",
              " <tf.Variable 'ltc_3/ltc_cell_3/sensory_erev:0' shape=(1, 1) dtype=float32, numpy=array([[1.0532833]], dtype=float32)>]"
            ]
          },
          "execution_count": 32,
          "metadata": {},
          "output_type": "execute_result"
        }
      ],
      "source": [
        "ncp_model2.variables"
      ]
    },
    {
      "cell_type": "markdown",
      "metadata": {
        "id": "2Idm1KvaH9ea"
      },
      "source": [
        "## Calculate the ODE based on the current weights"
      ]
    },
    {
      "cell_type": "code",
      "execution_count": 35,
      "metadata": {},
      "outputs": [
        {
          "name": "stdout",
          "output_type": "stream",
          "text": [
            "Collecting sympy\n",
            "  Using cached sympy-1.13.2-py3-none-any.whl.metadata (12 kB)\n",
            "Collecting mpmath<1.4,>=1.1.0 (from sympy)\n",
            "  Using cached mpmath-1.3.0-py3-none-any.whl.metadata (8.6 kB)\n",
            "Using cached sympy-1.13.2-py3-none-any.whl (6.2 MB)\n",
            "Using cached mpmath-1.3.0-py3-none-any.whl (536 kB)\n",
            "Installing collected packages: mpmath, sympy\n",
            "Successfully installed mpmath-1.3.0 sympy-1.13.2\n"
          ]
        }
      ],
      "source": [
        "!pip install sympy"
      ]
    },
    {
      "cell_type": "code",
      "execution_count": 33,
      "metadata": {
        "id": "MUAOkaey3L2D"
      },
      "outputs": [],
      "source": [
        "dict_params = {}\n",
        "params = [\"gl\", \"xleak\", \"cm\", \"gamma\", \"mu\", \"w\", \"E\", \"sensory_gamma\", \"sensory_mu\", \"sensory_w\", \"sensory_E\"]\n",
        "for i, param in enumerate(params):\n",
        "  if param in [\"gl\", \"xleak\", \"cm\"]:\n",
        "    dict_params[param] = ncp_model2.variables[i][0].numpy()\n",
        "  else:\n",
        "    dict_params[param] = ncp_model2.variables[i][0][0].numpy()"
      ]
    },
    {
      "cell_type": "code",
      "execution_count": 36,
      "metadata": {
        "id": "Oabstu3L56oI"
      },
      "outputs": [],
      "source": [
        "import sympy"
      ]
    },
    {
      "cell_type": "code",
      "execution_count": 37,
      "metadata": {
        "id": "EWayg4KK4xj7"
      },
      "outputs": [],
      "source": [
        "def sigmoid(x):\n",
        "  return 1 / (1 + sympy.exp(-x))"
      ]
    },
    {
      "cell_type": "code",
      "execution_count": 38,
      "metadata": {
        "id": "-E8E2rbb54zd"
      },
      "outputs": [],
      "source": [
        "x_i_dot = sympy.symbols('x_i_dot')\n",
        "x_i = sympy.symbols('x_i')\n",
        "x_j = sympy.symbols('x_j')"
      ]
    },
    {
      "cell_type": "code",
      "execution_count": 39,
      "metadata": {
        "id": "46TGQrLM4hpj"
      },
      "outputs": [],
      "source": [
        "x_i_dot = - (dict_params[\"gl\"]/dict_params[\"cm\"] + dict_params[\"sensory_w\"]/dict_params[\"cm\"]*sigmoid(dict_params[\"sensory_gamma\"]*x_j -dict_params[\"sensory_mu\"]))*x_i + (dict_params[\"gl\"]/dict_params[\"cm\"]*dict_params[\"xleak\"] + dict_params[\"sensory_w\"]/dict_params[\"cm\"]*sigmoid(dict_params[\"sensory_gamma\"]*x_j -dict_params[\"sensory_mu\"])*dict_params[\"sensory_E\"])"
      ]
    },
    {
      "cell_type": "markdown",
      "metadata": {
        "id": "53_SP_ZVIIpx"
      },
      "source": [
        "### This is the differential equation after substituting all the learned weights"
      ]
    },
    {
      "cell_type": "code",
      "execution_count": 40,
      "metadata": {
        "colab": {
          "base_uri": "https://localhost:8080/"
        },
        "id": "gerYlh-B6l9i",
        "outputId": "e5699510-fe06-4b6d-da73-98a30e82217e"
      },
      "outputs": [
        {
          "name": "stdout",
          "output_type": "stream",
          "text": [
            "x_i_dot = -1.08239960670471*x_i/(1 + 2.06342*exp(-8.12289428710938*x_j)) + 1.14007346623035/(1 + 2.06342*exp(-8.12289428710938*x_j))\n"
          ]
        }
      ],
      "source": [
        "print('x_i_dot =', x_i_dot)"
      ]
    },
    {
      "cell_type": "markdown",
      "metadata": {
        "id": "P2sf4PsoIQnO"
      },
      "source": [
        "### Equation based on the signal of the pre-synaptic neuron"
      ]
    },
    {
      "cell_type": "code",
      "execution_count": 41,
      "metadata": {
        "colab": {
          "base_uri": "https://localhost:8080/"
        },
        "id": "8xNXEO_4De1R",
        "outputId": "bf1de6e7-187d-457f-93c6-81fe3ba1892e"
      },
      "outputs": [
        {
          "name": "stdout",
          "output_type": "stream",
          "text": [
            "If x_j=0\n",
            "x_i_dot = 0.37215665381234 - 0.35333005078256*x_i\n",
            "\n",
            "If x_j=1\n",
            "x_i_dot = 1.13937599339269 - 1.08173741751469*x_i\n"
          ]
        }
      ],
      "source": [
        "print('If x_j=0')\n",
        "x_i_dot_when_x_j_is_0 = x_i_dot.subs(x_j, 0)\n",
        "print('x_i_dot =', x_i_dot_when_x_j_is_0)\n",
        "\n",
        "print('\\nIf x_j=1')\n",
        "x_i_dot_when_x_j_is_1 = x_i_dot.subs(x_j, 1)\n",
        "print('x_i_dot =', x_i_dot_when_x_j_is_1)"
      ]
    },
    {
      "cell_type": "markdown",
      "metadata": {
        "id": "9qAMF0zAIWsU"
      },
      "source": [
        "### Calculate the derivative of the post-synaptic neuron in the 4 phases of the activation period"
      ]
    },
    {
      "cell_type": "code",
      "execution_count": 42,
      "metadata": {
        "colab": {
          "base_uri": "https://localhost:8080/"
        },
        "id": "WGK4h3O_GP90",
        "outputId": "775fb3ff-ae75-4498-b486-9e5aafefab84"
      },
      "outputs": [
        {
          "name": "stdout",
          "output_type": "stream",
          "text": [
            "I. phase of the activation: x_j=0 and x_i=0\n",
            "x_i_dot = 0.372156653812340\n",
            "\n",
            "\n",
            "II. phase of the activation: x_j=1 and x_i=0\n",
            "x_i_dot = 1.13937599339269\n",
            "\n",
            "\n",
            "III. phase of the activation: x_j=1 and x_i=1\n",
            "x_i_dot = 0.0576385758779998\n",
            "\n",
            "\n",
            "IV. phase of the activation: x_j=0 and x_i=1\n",
            "x_i_dot = 0.0188266030297796\n"
          ]
        }
      ],
      "source": [
        "print('I. phase of the activation: x_j=0 and x_i=0')\n",
        "x_i_dot_when_x_i_is_0_and_x_j_is_0 = x_i_dot.subs({x_i: 0, x_j: 0})\n",
        "print('x_i_dot =', x_i_dot_when_x_i_is_0_and_x_j_is_0)\n",
        "\n",
        "print('\\n\\nII. phase of the activation: x_j=1 and x_i=0')\n",
        "x_i_dot_when_x_i_is_0_and_x_j_is_1 = x_i_dot.subs({x_i: 0, x_j: 1})\n",
        "print('x_i_dot =', x_i_dot_when_x_i_is_0_and_x_j_is_1)\n",
        "\n",
        "print('\\n\\nIII. phase of the activation: x_j=1 and x_i=1')\n",
        "x_i_dot_when_x_i_is_1_and_x_j_is_1 = x_i_dot.subs({x_i: 1, x_j: 1})\n",
        "print('x_i_dot =', x_i_dot_when_x_i_is_1_and_x_j_is_1)\n",
        "\n",
        "print('\\n\\nIV. phase of the activation: x_j=0 and x_i=1')\n",
        "x_i_dot_when_x_i_is_1_and_x_j_is_0 = x_i_dot.subs({x_i: 1, x_j: 0})\n",
        "print('x_i_dot =', x_i_dot_when_x_i_is_1_and_x_j_is_0)"
      ]
    },
    {
      "cell_type": "markdown",
      "metadata": {
        "id": "V9mVDWznYbPV"
      },
      "source": [
        "### Some old calculations for specific parameters\n"
      ]
    },
    {
      "cell_type": "markdown",
      "metadata": {
        "id": "GgbNq-eBE739"
      },
      "source": [
        "[<tf.Variable 'ltc_1/ltc_cell_1/gleak:0' shape=(1,) dtype=float32, numpy=array([0.00286751], dtype=float32)>,\n",
        "\n",
        " <tf.Variable 'ltc_1/ltc_cell_1/vleak:0' shape=(1,) dtype=float32, numpy=array([0.23344076], dtype=float32)>,\n",
        "\n",
        " <tf.Variable 'ltc_1/ltc_cell_1/cm:0' shape=(1,) dtype=float32, numpy=array([1.1862696], dtype=float32)>,\n",
        "\n",
        " <tf.Variable 'ltc_1/ltc_cell_1/sigma:0' shape=(1, 1) dtype=float32, numpy=array([[7.665657]], dtype=float32)>,\n",
        "\n",
        " <tf.Variable 'ltc_1/ltc_cell_1/mu:0' shape=(1, 1) dtype=float32, numpy=array([[0.5800008]], dtype=float32)>,\n",
        "\n",
        " <tf.Variable 'ltc_1/ltc_cell_1/w:0' shape=(1, 1) dtype=float32, numpy=array([[0.7507205]], dtype=float32)>,\n",
        "\n",
        " <tf.Variable 'ltc_1/ltc_cell_1/erev:0' shape=(1, 1) dtype=float32, numpy=array([[0.]], dtype=float32)>,\n",
        "\n",
        " <tf.Variable 'ltc_1/ltc_cell_1/sensory_sigma:0' shape=(1, 1) dtype=float32, numpy=array([[6.0172253]], dtype=float32)>,\n",
        "\n",
        " <tf.Variable 'ltc_1/ltc_cell_1/sensory_mu:0' shape=(1, 1) dtype=float32, numpy=array([[0.67345476]], dtype=float32)>,\n",
        "\n",
        " <tf.Variable 'ltc_1/ltc_cell_1/sensory_w:0' shape=(1, 1) dtype=float32, numpy=array([[0.64989555]], dtype=float32)>,\n",
        " \n",
        " <tf.Variable 'ltc_1/ltc_cell_1/sensory_erev:0' shape=(1, 1) dtype=float32, numpy=array([[1.2224307]], dtype=float32)>]"
      ]
    },
    {
      "cell_type": "markdown",
      "metadata": {
        "id": "ji7ra9gKY2XU"
      },
      "source": [
        "##### Some calculations:"
      ]
    },
    {
      "cell_type": "code",
      "execution_count": 43,
      "metadata": {
        "colab": {
          "base_uri": "https://localhost:8080/"
        },
        "id": "ZufAUYAY9JJa",
        "outputId": "17ee9b58-de50-4ec6-e062-ef6e1ccbf245"
      },
      "outputs": [
        {
          "data": {
            "text/plain": [
              "0.0024172498393282608"
            ]
          },
          "execution_count": 43,
          "metadata": {},
          "output_type": "execute_result"
        }
      ],
      "source": [
        "0.00286751/1.1862696"
      ]
    },
    {
      "cell_type": "code",
      "execution_count": 44,
      "metadata": {
        "colab": {
          "base_uri": "https://localhost:8080/"
        },
        "id": "w7tljXwu8WN0",
        "outputId": "995244f8-f0b9-43ee-92de-fe6527868227"
      },
      "outputs": [
        {
          "data": {
            "text/plain": [
              "0.0005642846396026671"
            ]
          },
          "execution_count": 44,
          "metadata": {},
          "output_type": "execute_result"
        }
      ],
      "source": [
        "0.00286751/1.1862696*0.23344076"
      ]
    },
    {
      "cell_type": "code",
      "execution_count": 45,
      "metadata": {
        "colab": {
          "base_uri": "https://localhost:8080/"
        },
        "id": "qO5hEwQT-5fc",
        "outputId": "4a96647d-e41f-4905-fc83-d16b7fafa82c"
      },
      "outputs": [
        {
          "data": {
            "text/plain": [
              "0.5478481029944626"
            ]
          },
          "execution_count": 45,
          "metadata": {},
          "output_type": "execute_result"
        }
      ],
      "source": [
        "0.64989555/1.1862696"
      ]
    },
    {
      "cell_type": "code",
      "execution_count": 46,
      "metadata": {
        "id": "lPFcbmLYANHF"
      },
      "outputs": [],
      "source": [
        "import math"
      ]
    },
    {
      "cell_type": "code",
      "execution_count": 47,
      "metadata": {
        "id": "8dB4GFOVG1A1"
      },
      "outputs": [],
      "source": [
        "def sigmoid_math(x):\n",
        "  return 1 / (1 + math.exp(-x))"
      ]
    },
    {
      "cell_type": "code",
      "execution_count": 48,
      "metadata": {
        "colab": {
          "base_uri": "https://localhost:8080/"
        },
        "id": "Z-LHTJ3xAGFx",
        "outputId": "9b45bc80-61a3-4949-f3ee-6c52c30c8baf"
      },
      "outputs": [
        {
          "data": {
            "text/plain": [
              "0.01177251319449216"
            ]
          },
          "execution_count": 48,
          "metadata": {},
          "output_type": "execute_result"
        }
      ],
      "source": [
        "0.00241+0.548*sigmoid_math(6.0172253*(-0.67345476))"
      ]
    },
    {
      "cell_type": "code",
      "execution_count": 49,
      "metadata": {
        "colab": {
          "base_uri": "https://localhost:8080/"
        },
        "id": "LvrDADZsAsd6",
        "outputId": "2eb53e9f-39f4-42cf-b732-899f0873a912"
      },
      "outputs": [
        {
          "data": {
            "text/plain": [
              "0.012009023558102287"
            ]
          },
          "execution_count": 49,
          "metadata": {},
          "output_type": "execute_result"
        }
      ],
      "source": [
        "0.000564+0.548*sigmoid_math(6.0172253*(-0.67345476))*1.2224307"
      ]
    },
    {
      "cell_type": "code",
      "execution_count": 50,
      "metadata": {
        "colab": {
          "base_uri": "https://localhost:8080/"
        },
        "id": "osgZ_gFdBKGE",
        "outputId": "1311f330-fb1f-471f-e1ab-1a21c9b1b01b"
      },
      "outputs": [
        {
          "data": {
            "text/plain": [
              "0.48303990258614016"
            ]
          },
          "execution_count": 50,
          "metadata": {},
          "output_type": "execute_result"
        }
      ],
      "source": [
        "0.00241+0.548*sigmoid_math(6.0172253*(1-0.67345476))"
      ]
    },
    {
      "cell_type": "code",
      "execution_count": 51,
      "metadata": {
        "colab": {
          "base_uri": "https://localhost:8080/"
        },
        "id": "OkU473Z0BfrX",
        "outputId": "df0164e3-5866-4df8-ceab-56db1f4f0473"
      },
      "outputs": [
        {
          "data": {
            "text/plain": [
              "0.5881007482593071"
            ]
          },
          "execution_count": 51,
          "metadata": {},
          "output_type": "execute_result"
        }
      ],
      "source": [
        "0.000564+0.548*sigmoid_math(6.0172253*(1-0.67345476))*1.2224307"
      ]
    },
    {
      "cell_type": "markdown",
      "metadata": {
        "id": "N1At0ZqXZI56"
      },
      "source": [
        "##### LTC equation"
      ]
    },
    {
      "cell_type": "markdown",
      "metadata": {
        "id": "qPw8cjyRa3dp"
      },
      "source": [
        "State dynamics of $x_i$ \\\\\n",
        "\n",
        "$\\dot{x_i}(t) = \\frac{g_{l_i}}{C_{m_i}} \\left(x_{leak_i}-x_i(t)\\right) + \\sum_{j∈I_{in}}\\frac{w_{ij}}{C_{m_i}}σ\\left(γ_{ij}(x_j(t)-μ_{ij})\\right)(E_{ij}-x_i)$"
      ]
    },
    {
      "cell_type": "markdown",
      "metadata": {
        "id": "yuArN_-XK35L"
      },
      "source": [
        "Separate state-dependent part\n",
        "\n",
        "$\\dot{x_i}(t) = -\\left(\\frac{g_{l_i}}{C_{m_i}} + \\sum_{j∈I_{in}}\\frac{w_{ij}}{C_{m_i}} σ\\left(γ_{ij}(x_j(t)-μ_{ij})\\right)\\right) x_i(t) + \\left(\\frac{g_{l_i}}{C_{m_i}} x_{leak_i} +  \\sum_{j∈I_{in}}\\frac{w_{ij}}{C_{m_i}} σ\\left(γ_{ij}(x_j(t)-μ_{ij})\\right) E_{ij}\\right)$"
      ]
    },
    {
      "cell_type": "markdown",
      "metadata": {
        "id": "w1t3paqgYo8c"
      },
      "source": [
        "After substituting the values:"
      ]
    },
    {
      "cell_type": "markdown",
      "metadata": {
        "id": "dJtIag_-9cHv"
      },
      "source": [
        "$\\dot{x_i}(t) = -\\left(\\frac{0.00286751}{1.1862696} + \\frac{0.64989555}{1.1862696} σ\\left(6.0172253(x_j(t)-0.67345476)\\right)\\right) x_i(t) + \\left(\\frac{0.00286751}{1.1862696} *0.23344076 +  \\frac{0.64989555}{1.1862696} σ\\left(6.0172253(x_j(t)-0.67345476) \\right) *1.2224307\\right)$"
      ]
    },
    {
      "cell_type": "markdown",
      "metadata": {
        "id": "WNLo5qB6-roy"
      },
      "source": [
        "$\\dot{x_i}(t) = -\\left(0.00241 + 0.548 * σ\\left(6.0172253(x_j(t)-0.67345476)\\right)\\right) x_i(t) + \\left(0.000564 +  0.548 * σ\\left(6.0172253(x_j(t)-0.67345476) \\right) *1.2224307\\right)$"
      ]
    },
    {
      "cell_type": "markdown",
      "metadata": {
        "id": "tBd_DU7UZRCb"
      },
      "source": [
        "##### Checking the behavior"
      ]
    },
    {
      "cell_type": "markdown",
      "metadata": {
        "id": "6rCKuff5_5io"
      },
      "source": [
        "Let's make $x_j = 0$\n",
        "\n",
        "$\\dot{x_i}(t) = -0.0117* x_i(t) + 0.0120$"
      ]
    },
    {
      "cell_type": "markdown",
      "metadata": {
        "id": "XJBjrem-BPZE"
      },
      "source": [
        "Let's make $x_j = 1$\n",
        "\n",
        "$\\dot{x_i}(t) = -0.483* x_i(t) + 0.588$"
      ]
    },
    {
      "cell_type": "markdown",
      "metadata": {
        "id": "TCLOY8DFC3K8"
      },
      "source": [
        "If $x_i(t)=0$ and $x_j(t)=0$: the derivative is 0.0122 -> very slow increase\n",
        "\n",
        "If $x_i(t)=0$ and $x_j(t)=1$: the derivative is 0.588 -> starts to increase rapidly\n",
        "\n",
        "If $x_i(t)=1$ and $x_j(t)=1$: the derivative is around 0.1 -> slow increase\n",
        "\n",
        "If $x_i(t)=1$ and $x_j(t)=0$: the derivative is 0.0003 -> stabilizes\n"
      ]
    },
    {
      "cell_type": "markdown",
      "metadata": {
        "id": "jHFvDpiFGGhV"
      },
      "source": [
        "How can $x_i$ stay active even after the deactivation of $x_j$? \n",
        "\n",
        "$\\dot{x_i}(t) = 0$\n",
        "\n",
        "$x_i(t)=1$ and $x_j(t)=0$\n",
        "\n",
        "$\\dot{x_i}(t) =-\\left(\\frac{g_{l_i}}{C_{m_i}} + \\sum_{j∈I_{in}}\\frac{w_{ij}}{C_{m_i}} σ\\left(γ_{ij}(x_j(t)-μ_{ij})\\right)\\right) x_i(t) + \\left(\\frac{g_{l_i}}{C_{m_i}} x_{leak_i} +  \\sum_{j∈I_{in}}\\frac{w_{ij}}{C_{m_i}} σ\\left(γ_{ij}(x_j(t)-μ_{ij})\\right) E_{ij}\\right)$\n",
        "\n",
        "After some simplification:\n",
        "\n",
        "$\\frac{g_{l_i}}{C_{m_i}} + \\frac{w_{ij}}{C_{m_i}} σ\\left(γ_{ij}(-μ_{ij})\\right) =\\frac{g_{l_i}}{C_{m_i}} x_{leak_i} + \\frac{w_{ij}}{C_{m_i}} σ\\left(γ_{ij}(-μ_{ij})\\right) E_{ij}$\n",
        "\n",
        "$A+B = A*m + B*n$\n",
        "\n",
        "($m=x_{leak}=0.23344076$, $n=E_{rev}=1.2224307$)\n",
        "\n",
        "Note: I don't compute the exact value of the equation above but it shows that it holds for some {A,B} pairs."
      ]
    },
    {
      "cell_type": "code",
      "execution_count": null,
      "metadata": {
        "id": "XOZpcO2_4yYr"
      },
      "outputs": [],
      "source": []
    },
    {
      "cell_type": "markdown",
      "metadata": {
        "id": "7CY5TzAF4zGF"
      },
      "source": [
        "# Forward architecture with self-loop\n",
        "# Neuron type: CTRNN"
      ]
    },
    {
      "cell_type": "markdown",
      "metadata": {
        "id": "l1BzwrnB4zGF"
      },
      "source": [
        "## Create and compile keras model"
      ]
    },
    {
      "cell_type": "code",
      "execution_count": 52,
      "metadata": {
        "colab": {
          "base_uri": "https://localhost:8080/",
          "height": 404
        },
        "id": "57ub4tQE4zGF",
        "outputId": "8dc2ef42-ad90-4703-d1bc-c09a4e5480d2"
      },
      "outputs": [
        {
          "data": {
            "image/png": "[encoded data removed]",
            "text/plain": [
              "<Figure size 600x400 with 1 Axes>"
            ]
          },
          "metadata": {},
          "output_type": "display_data"
        }
      ],
      "source": [
        "forward_architecture_with_loop = Forward(1,1) \n",
        "\n",
        "ncp_model_with_loop_ctrnn = keras.models.Sequential(\n",
        "    [\n",
        "        keras.layers.InputLayer(input_shape=(None, 1)),\n",
        "        WiredNeurons(CTRNN_SA_Cell, forward_architecture_with_loop, return_sequences=True, input_mapping=None, output_mapping=None),\n",
        "    ]\n",
        ")\n",
        "ncp_model_with_loop_ctrnn.compile(\n",
        "    optimizer=keras.optimizers.Adam(0.001), loss='mean_squared_error'\n",
        ")\n",
        "sns.set_style(\"white\")\n",
        "plt.figure(figsize=(6, 4))\n",
        "legend_handles = forward_architecture_with_loop.draw_graph(\n",
        "    draw_labels=True,                                         \n",
        "    sensory_neurons=[\"PLM\"], \n",
        "    motor_neurons=[\"AVB\"],\n",
        "    layout=\"spiral\")\n",
        "\n",
        "plt.legend(handles=legend_handles, bbox_to_anchor=(1.1, 1.1))\n",
        "sns.despine(left=True, bottom=True)\n",
        "plt.tight_layout()\n",
        "plt.show()"
      ]
    },
    {
      "cell_type": "markdown",
      "metadata": {
        "id": "LGZ6MC8W4zGF"
      },
      "source": [
        "### Fit the dataset (PLM activates AVB, AVB stays active because of its self-activation)"
      ]
    },
    {
      "cell_type": "code",
      "execution_count": 53,
      "metadata": {
        "id": "oInW3b-y4zGF"
      },
      "outputs": [],
      "source": [
        "early_stopping_monitor = keras.callbacks.EarlyStopping(\n",
        "    monitor='val_loss',\n",
        "    min_delta=0,\n",
        "    patience=100,\n",
        "    verbose=0,\n",
        "    mode='auto',\n",
        "    baseline=None,\n",
        "    restore_best_weights=True\n",
        ")"
      ]
    },
    {
      "cell_type": "code",
      "execution_count": 54,
      "metadata": {
        "colab": {
          "base_uri": "https://localhost:8080/"
        },
        "id": "apxxEOt94zGG",
        "outputId": "0532e435-7019-4619-efa1-912a267dd7e2"
      },
      "outputs": [
        {
          "name": "stdout",
          "output_type": "stream",
          "text": [
            "Epoch 1/200\n",
            "4/4 [==============================] - 29s 604ms/step - loss: 1.4641 - val_loss: 1.4240\n",
            "Epoch 2/200\n",
            "4/4 [==============================] - 1s 143ms/step - loss: 1.3259 - val_loss: 1.2779\n",
            "Epoch 3/200\n",
            "4/4 [==============================] - 1s 132ms/step - loss: 1.1945 - val_loss: 1.1493\n",
            "Epoch 4/200\n",
            "4/4 [==============================] - 0s 128ms/step - loss: 1.0818 - val_loss: 1.0453\n",
            "Epoch 5/200\n",
            "4/4 [==============================] - 1s 144ms/step - loss: 0.9888 - val_loss: 0.9631\n",
            "Epoch 6/200\n",
            "4/4 [==============================] - 1s 183ms/step - loss: 0.9153 - val_loss: 0.8979\n",
            "Epoch 7/200\n",
            "4/4 [==============================] - 1s 157ms/step - loss: 0.8565 - val_loss: 0.8452\n",
            "Epoch 8/200\n",
            "4/4 [==============================] - 1s 143ms/step - loss: 0.8087 - val_loss: 0.8016\n",
            "Epoch 9/200\n",
            "4/4 [==============================] - 1s 137ms/step - loss: 0.7688 - val_loss: 0.7648\n",
            "Epoch 10/200\n",
            "4/4 [==============================] - 1s 142ms/step - loss: 0.7350 - val_loss: 0.7329\n",
            "Epoch 11/200\n",
            "4/4 [==============================] - 1s 133ms/step - loss: 0.7058 - val_loss: 0.7050\n",
            "Epoch 12/200\n",
            "4/4 [==============================] - 1s 145ms/step - loss: 0.6799 - val_loss: 0.6799\n",
            "Epoch 13/200\n",
            "4/4 [==============================] - 1s 141ms/step - loss: 0.6568 - val_loss: 0.6569\n",
            "Epoch 14/200\n",
            "4/4 [==============================] - 1s 131ms/step - loss: 0.6356 - val_loss: 0.6358\n",
            "Epoch 15/200\n",
            "4/4 [==============================] - 1s 146ms/step - loss: 0.6160 - val_loss: 0.6160\n",
            "Epoch 16/200\n",
            "4/4 [==============================] - 1s 135ms/step - loss: 0.5979 - val_loss: 0.5974\n",
            "Epoch 17/200\n",
            "4/4 [==============================] - 0s 129ms/step - loss: 0.5806 - val_loss: 0.5797\n",
            "Epoch 18/200\n",
            "4/4 [==============================] - 1s 190ms/step - loss: 0.5644 - val_loss: 0.5628\n",
            "Epoch 19/200\n",
            "4/4 [==============================] - 1s 147ms/step - loss: 0.5488 - val_loss: 0.5465\n",
            "Epoch 20/200\n",
            "4/4 [==============================] - 0s 130ms/step - loss: 0.5337 - val_loss: 0.5308\n",
            "Epoch 21/200\n",
            "4/4 [==============================] - 1s 135ms/step - loss: 0.5193 - val_loss: 0.5157\n",
            "Epoch 22/200\n",
            "4/4 [==============================] - 0s 132ms/step - loss: 0.5053 - val_loss: 0.5010\n",
            "Epoch 23/200\n",
            "4/4 [==============================] - 0s 129ms/step - loss: 0.4919 - val_loss: 0.4866\n",
            "Epoch 24/200\n",
            "4/4 [==============================] - 1s 141ms/step - loss: 0.4786 - val_loss: 0.4726\n",
            "Epoch 25/200\n",
            "4/4 [==============================] - 0s 133ms/step - loss: 0.4658 - val_loss: 0.4591\n",
            "Epoch 26/200\n",
            "4/4 [==============================] - 1s 133ms/step - loss: 0.4534 - val_loss: 0.4457\n",
            "Epoch 27/200\n",
            "4/4 [==============================] - 0s 119ms/step - loss: 0.4410 - val_loss: 0.4326\n",
            "Epoch 28/200\n",
            "4/4 [==============================] - 0s 129ms/step - loss: 0.4289 - val_loss: 0.4194\n",
            "Epoch 29/200\n",
            "4/4 [==============================] - 1s 150ms/step - loss: 0.4171 - val_loss: 0.4065\n",
            "Epoch 30/200\n",
            "4/4 [==============================] - 0s 124ms/step - loss: 0.4052 - val_loss: 0.3938\n",
            "Epoch 31/200\n",
            "4/4 [==============================] - 0s 126ms/step - loss: 0.3937 - val_loss: 0.3815\n",
            "Epoch 32/200\n",
            "4/4 [==============================] - 0s 127ms/step - loss: 0.3824 - val_loss: 0.3692\n",
            "Epoch 33/200\n",
            "4/4 [==============================] - 1s 159ms/step - loss: 0.3710 - val_loss: 0.3571\n",
            "Epoch 34/200\n",
            "4/4 [==============================] - 1s 140ms/step - loss: 0.3602 - val_loss: 0.3452\n",
            "Epoch 35/200\n",
            "4/4 [==============================] - 0s 121ms/step - loss: 0.3494 - val_loss: 0.3336\n",
            "Epoch 36/200\n",
            "4/4 [==============================] - 1s 130ms/step - loss: 0.3388 - val_loss: 0.3224\n",
            "Epoch 37/200\n",
            "4/4 [==============================] - 1s 133ms/step - loss: 0.3285 - val_loss: 0.3112\n",
            "Epoch 38/200\n",
            "4/4 [==============================] - 1s 150ms/step - loss: 0.3186 - val_loss: 0.3005\n",
            "Epoch 39/200\n",
            "4/4 [==============================] - 1s 147ms/step - loss: 0.3089 - val_loss: 0.2898\n",
            "Epoch 40/200\n",
            "4/4 [==============================] - 1s 147ms/step - loss: 0.2994 - val_loss: 0.2794\n",
            "Epoch 41/200\n",
            "4/4 [==============================] - 0s 132ms/step - loss: 0.2901 - val_loss: 0.2692\n",
            "Epoch 42/200\n",
            "4/4 [==============================] - 1s 155ms/step - loss: 0.2810 - val_loss: 0.2595\n",
            "Epoch 43/200\n",
            "4/4 [==============================] - 1s 153ms/step - loss: 0.2725 - val_loss: 0.2504\n",
            "Epoch 44/200\n",
            "4/4 [==============================] - 1s 163ms/step - loss: 0.2646 - val_loss: 0.2419\n",
            "Epoch 45/200\n",
            "4/4 [==============================] - 1s 159ms/step - loss: 0.2575 - val_loss: 0.2341\n",
            "Epoch 46/200\n",
            "4/4 [==============================] - 1s 157ms/step - loss: 0.2507 - val_loss: 0.2269\n",
            "Epoch 47/200\n",
            "4/4 [==============================] - 1s 179ms/step - loss: 0.2445 - val_loss: 0.2202\n",
            "Epoch 48/200\n",
            "4/4 [==============================] - 1s 187ms/step - loss: 0.2389 - val_loss: 0.2140\n",
            "Epoch 49/200\n",
            "4/4 [==============================] - 1s 156ms/step - loss: 0.2338 - val_loss: 0.2084\n",
            "Epoch 50/200\n",
            "4/4 [==============================] - 1s 151ms/step - loss: 0.2292 - val_loss: 0.2034\n",
            "Epoch 51/200\n",
            "4/4 [==============================] - 1s 135ms/step - loss: 0.2250 - val_loss: 0.1988\n",
            "Epoch 52/200\n",
            "4/4 [==============================] - 1s 154ms/step - loss: 0.2213 - val_loss: 0.1945\n",
            "Epoch 53/200\n",
            "4/4 [==============================] - 1s 136ms/step - loss: 0.2177 - val_loss: 0.1906\n",
            "Epoch 54/200\n",
            "4/4 [==============================] - 1s 138ms/step - loss: 0.2146 - val_loss: 0.1871\n",
            "Epoch 55/200\n",
            "4/4 [==============================] - 1s 127ms/step - loss: 0.2119 - val_loss: 0.1841\n",
            "Epoch 56/200\n",
            "4/4 [==============================] - 1s 145ms/step - loss: 0.2096 - val_loss: 0.1815\n",
            "Epoch 57/200\n",
            "4/4 [==============================] - 1s 135ms/step - loss: 0.2075 - val_loss: 0.1792\n",
            "Epoch 58/200\n",
            "4/4 [==============================] - 1s 154ms/step - loss: 0.2056 - val_loss: 0.1771\n",
            "Epoch 59/200\n",
            "4/4 [==============================] - 0s 131ms/step - loss: 0.2040 - val_loss: 0.1752\n",
            "Epoch 60/200\n",
            "4/4 [==============================] - 1s 153ms/step - loss: 0.2024 - val_loss: 0.1735\n",
            "Epoch 61/200\n",
            "4/4 [==============================] - 1s 132ms/step - loss: 0.2011 - val_loss: 0.1719\n",
            "Epoch 62/200\n",
            "4/4 [==============================] - 1s 180ms/step - loss: 0.1999 - val_loss: 0.1704\n",
            "Epoch 63/200\n",
            "4/4 [==============================] - 1s 163ms/step - loss: 0.1987 - val_loss: 0.1690\n",
            "Epoch 64/200\n",
            "4/4 [==============================] - 1s 137ms/step - loss: 0.1976 - val_loss: 0.1678\n",
            "Epoch 65/200\n",
            "4/4 [==============================] - 1s 151ms/step - loss: 0.1967 - val_loss: 0.1666\n",
            "Epoch 66/200\n",
            "4/4 [==============================] - 1s 141ms/step - loss: 0.1958 - val_loss: 0.1656\n",
            "Epoch 67/200\n",
            "4/4 [==============================] - 1s 151ms/step - loss: 0.1950 - val_loss: 0.1646\n",
            "Epoch 68/200\n",
            "4/4 [==============================] - 1s 145ms/step - loss: 0.1942 - val_loss: 0.1638\n",
            "Epoch 69/200\n",
            "4/4 [==============================] - 1s 151ms/step - loss: 0.1935 - val_loss: 0.1630\n",
            "Epoch 70/200\n",
            "4/4 [==============================] - 1s 163ms/step - loss: 0.1929 - val_loss: 0.1623\n",
            "Epoch 71/200\n",
            "4/4 [==============================] - 0s 128ms/step - loss: 0.1922 - val_loss: 0.1616\n",
            "Epoch 72/200\n",
            "4/4 [==============================] - 1s 139ms/step - loss: 0.1916 - val_loss: 0.1609\n",
            "Epoch 73/200\n",
            "4/4 [==============================] - 0s 123ms/step - loss: 0.1910 - val_loss: 0.1602\n",
            "Epoch 74/200\n",
            "4/4 [==============================] - 1s 146ms/step - loss: 0.1904 - val_loss: 0.1596\n",
            "Epoch 75/200\n",
            "4/4 [==============================] - 1s 175ms/step - loss: 0.1899 - val_loss: 0.1590\n",
            "Epoch 76/200\n",
            "4/4 [==============================] - 1s 145ms/step - loss: 0.1893 - val_loss: 0.1584\n",
            "Epoch 77/200\n",
            "4/4 [==============================] - 1s 133ms/step - loss: 0.1888 - val_loss: 0.1578\n",
            "Epoch 78/200\n",
            "4/4 [==============================] - 0s 119ms/step - loss: 0.1883 - val_loss: 0.1572\n",
            "Epoch 79/200\n",
            "4/4 [==============================] - 1s 138ms/step - loss: 0.1878 - val_loss: 0.1566\n",
            "Epoch 80/200\n",
            "4/4 [==============================] - 0s 126ms/step - loss: 0.1873 - val_loss: 0.1561\n",
            "Epoch 81/200\n",
            "4/4 [==============================] - 0s 127ms/step - loss: 0.1868 - val_loss: 0.1556\n",
            "Epoch 82/200\n",
            "4/4 [==============================] - 0s 127ms/step - loss: 0.1864 - val_loss: 0.1552\n",
            "Epoch 83/200\n",
            "4/4 [==============================] - 0s 125ms/step - loss: 0.1859 - val_loss: 0.1548\n",
            "Epoch 84/200\n",
            "4/4 [==============================] - 0s 129ms/step - loss: 0.1855 - val_loss: 0.1545\n",
            "Epoch 85/200\n",
            "4/4 [==============================] - 0s 134ms/step - loss: 0.1851 - val_loss: 0.1541\n",
            "Epoch 86/200\n",
            "4/4 [==============================] - 1s 132ms/step - loss: 0.1846 - val_loss: 0.1537\n",
            "Epoch 87/200\n",
            "4/4 [==============================] - 1s 144ms/step - loss: 0.1842 - val_loss: 0.1534\n",
            "Epoch 88/200\n",
            "4/4 [==============================] - 1s 183ms/step - loss: 0.1838 - val_loss: 0.1530\n",
            "Epoch 89/200\n",
            "4/4 [==============================] - 1s 172ms/step - loss: 0.1834 - val_loss: 0.1526\n",
            "Epoch 90/200\n",
            "4/4 [==============================] - 1s 147ms/step - loss: 0.1831 - val_loss: 0.1522\n",
            "Epoch 91/200\n",
            "4/4 [==============================] - 1s 152ms/step - loss: 0.1827 - val_loss: 0.1518\n",
            "Epoch 92/200\n",
            "4/4 [==============================] - 1s 135ms/step - loss: 0.1823 - val_loss: 0.1514\n",
            "Epoch 93/200\n",
            "4/4 [==============================] - 1s 170ms/step - loss: 0.1819 - val_loss: 0.1511\n",
            "Epoch 94/200\n",
            "4/4 [==============================] - 1s 174ms/step - loss: 0.1815 - val_loss: 0.1508\n",
            "Epoch 95/200\n",
            "4/4 [==============================] - 1s 178ms/step - loss: 0.1812 - val_loss: 0.1506\n",
            "Epoch 96/200\n",
            "4/4 [==============================] - 1s 190ms/step - loss: 0.1808 - val_loss: 0.1503\n",
            "Epoch 97/200\n",
            "4/4 [==============================] - 1s 138ms/step - loss: 0.1805 - val_loss: 0.1500\n",
            "Epoch 98/200\n",
            "4/4 [==============================] - 1s 141ms/step - loss: 0.1801 - val_loss: 0.1498\n",
            "Epoch 99/200\n",
            "4/4 [==============================] - 1s 141ms/step - loss: 0.1798 - val_loss: 0.1494\n",
            "Epoch 100/200\n",
            "4/4 [==============================] - 1s 146ms/step - loss: 0.1795 - val_loss: 0.1492\n",
            "Epoch 101/200\n",
            "4/4 [==============================] - 1s 195ms/step - loss: 0.1791 - val_loss: 0.1489\n",
            "Epoch 102/200\n",
            "4/4 [==============================] - 1s 139ms/step - loss: 0.1788 - val_loss: 0.1486\n",
            "Epoch 103/200\n",
            "4/4 [==============================] - 1s 149ms/step - loss: 0.1785 - val_loss: 0.1483\n",
            "Epoch 104/200\n",
            "4/4 [==============================] - 1s 141ms/step - loss: 0.1782 - val_loss: 0.1479\n",
            "Epoch 105/200\n",
            "4/4 [==============================] - 1s 185ms/step - loss: 0.1778 - val_loss: 0.1476\n",
            "Epoch 106/200\n",
            "4/4 [==============================] - 1s 144ms/step - loss: 0.1775 - val_loss: 0.1474\n",
            "Epoch 107/200\n",
            "4/4 [==============================] - 0s 127ms/step - loss: 0.1772 - val_loss: 0.1471\n",
            "Epoch 108/200\n",
            "4/4 [==============================] - 1s 160ms/step - loss: 0.1769 - val_loss: 0.1469\n",
            "Epoch 109/200\n",
            "4/4 [==============================] - 1s 139ms/step - loss: 0.1766 - val_loss: 0.1466\n",
            "Epoch 110/200\n",
            "4/4 [==============================] - 1s 137ms/step - loss: 0.1763 - val_loss: 0.1464\n",
            "Epoch 111/200\n",
            "4/4 [==============================] - 1s 159ms/step - loss: 0.1760 - val_loss: 0.1460\n",
            "Epoch 112/200\n",
            "4/4 [==============================] - 1s 141ms/step - loss: 0.1757 - val_loss: 0.1457\n",
            "Epoch 113/200\n",
            "4/4 [==============================] - 1s 164ms/step - loss: 0.1754 - val_loss: 0.1455\n",
            "Epoch 114/200\n",
            "4/4 [==============================] - 1s 160ms/step - loss: 0.1751 - val_loss: 0.1453\n",
            "Epoch 115/200\n",
            "4/4 [==============================] - 1s 156ms/step - loss: 0.1748 - val_loss: 0.1451\n",
            "Epoch 116/200\n",
            "4/4 [==============================] - 1s 145ms/step - loss: 0.1745 - val_loss: 0.1448\n",
            "Epoch 117/200\n",
            "4/4 [==============================] - 1s 142ms/step - loss: 0.1742 - val_loss: 0.1446\n",
            "Epoch 118/200\n",
            "4/4 [==============================] - 1s 153ms/step - loss: 0.1739 - val_loss: 0.1444\n",
            "Epoch 119/200\n",
            "4/4 [==============================] - 1s 139ms/step - loss: 0.1737 - val_loss: 0.1441\n",
            "Epoch 120/200\n",
            "4/4 [==============================] - 1s 174ms/step - loss: 0.1734 - val_loss: 0.1438\n",
            "Epoch 121/200\n",
            "4/4 [==============================] - 1s 149ms/step - loss: 0.1731 - val_loss: 0.1434\n",
            "Epoch 122/200\n",
            "4/4 [==============================] - 1s 141ms/step - loss: 0.1728 - val_loss: 0.1432\n",
            "Epoch 123/200\n",
            "4/4 [==============================] - 1s 172ms/step - loss: 0.1726 - val_loss: 0.1429\n",
            "Epoch 124/200\n",
            "4/4 [==============================] - 1s 217ms/step - loss: 0.1723 - val_loss: 0.1426\n",
            "Epoch 125/200\n",
            "4/4 [==============================] - 1s 173ms/step - loss: 0.1720 - val_loss: 0.1423\n",
            "Epoch 126/200\n",
            "4/4 [==============================] - 1s 196ms/step - loss: 0.1718 - val_loss: 0.1421\n",
            "Epoch 127/200\n",
            "4/4 [==============================] - 1s 139ms/step - loss: 0.1715 - val_loss: 0.1418\n",
            "Epoch 128/200\n",
            "4/4 [==============================] - 1s 149ms/step - loss: 0.1713 - val_loss: 0.1416\n",
            "Epoch 129/200\n",
            "4/4 [==============================] - 1s 180ms/step - loss: 0.1710 - val_loss: 0.1414\n",
            "Epoch 130/200\n",
            "4/4 [==============================] - 1s 177ms/step - loss: 0.1708 - val_loss: 0.1412\n",
            "Epoch 131/200\n",
            "4/4 [==============================] - 1s 184ms/step - loss: 0.1705 - val_loss: 0.1410\n",
            "Epoch 132/200\n",
            "4/4 [==============================] - 1s 212ms/step - loss: 0.1702 - val_loss: 0.1408\n",
            "Epoch 133/200\n",
            "4/4 [==============================] - 1s 159ms/step - loss: 0.1700 - val_loss: 0.1406\n",
            "Epoch 134/200\n",
            "4/4 [==============================] - 1s 180ms/step - loss: 0.1697 - val_loss: 0.1404\n",
            "Epoch 135/200\n",
            "4/4 [==============================] - 1s 140ms/step - loss: 0.1694 - val_loss: 0.1402\n",
            "Epoch 136/200\n",
            "4/4 [==============================] - 1s 206ms/step - loss: 0.1692 - val_loss: 0.1400\n",
            "Epoch 137/200\n",
            "4/4 [==============================] - 1s 142ms/step - loss: 0.1689 - val_loss: 0.1398\n",
            "Epoch 138/200\n",
            "4/4 [==============================] - 1s 141ms/step - loss: 0.1687 - val_loss: 0.1396\n",
            "Epoch 139/200\n",
            "4/4 [==============================] - 1s 146ms/step - loss: 0.1684 - val_loss: 0.1393\n",
            "Epoch 140/200\n",
            "4/4 [==============================] - 0s 128ms/step - loss: 0.1682 - val_loss: 0.1391\n",
            "Epoch 141/200\n",
            "4/4 [==============================] - 1s 134ms/step - loss: 0.1679 - val_loss: 0.1389\n",
            "Epoch 142/200\n",
            "4/4 [==============================] - 1s 135ms/step - loss: 0.1676 - val_loss: 0.1388\n",
            "Epoch 143/200\n",
            "4/4 [==============================] - 1s 131ms/step - loss: 0.1674 - val_loss: 0.1386\n",
            "Epoch 144/200\n",
            "4/4 [==============================] - 0s 125ms/step - loss: 0.1671 - val_loss: 0.1383\n",
            "Epoch 145/200\n",
            "4/4 [==============================] - 0s 122ms/step - loss: 0.1669 - val_loss: 0.1381\n",
            "Epoch 146/200\n",
            "4/4 [==============================] - 0s 126ms/step - loss: 0.1666 - val_loss: 0.1378\n",
            "Epoch 147/200\n",
            "4/4 [==============================] - 1s 166ms/step - loss: 0.1664 - val_loss: 0.1376\n",
            "Epoch 148/200\n",
            "4/4 [==============================] - 1s 150ms/step - loss: 0.1661 - val_loss: 0.1375\n",
            "Epoch 149/200\n",
            "4/4 [==============================] - 0s 132ms/step - loss: 0.1659 - val_loss: 0.1373\n",
            "Epoch 150/200\n",
            "4/4 [==============================] - 0s 132ms/step - loss: 0.1656 - val_loss: 0.1370\n",
            "Epoch 151/200\n",
            "4/4 [==============================] - 1s 152ms/step - loss: 0.1654 - val_loss: 0.1367\n",
            "Epoch 152/200\n",
            "4/4 [==============================] - 1s 132ms/step - loss: 0.1651 - val_loss: 0.1365\n",
            "Epoch 153/200\n",
            "4/4 [==============================] - 1s 133ms/step - loss: 0.1649 - val_loss: 0.1363\n",
            "Epoch 154/200\n",
            "4/4 [==============================] - 1s 140ms/step - loss: 0.1646 - val_loss: 0.1361\n",
            "Epoch 155/200\n",
            "4/4 [==============================] - 1s 136ms/step - loss: 0.1644 - val_loss: 0.1360\n",
            "Epoch 156/200\n",
            "4/4 [==============================] - 0s 133ms/step - loss: 0.1641 - val_loss: 0.1357\n",
            "Epoch 157/200\n",
            "4/4 [==============================] - 1s 135ms/step - loss: 0.1639 - val_loss: 0.1355\n",
            "Epoch 158/200\n",
            "4/4 [==============================] - 1s 149ms/step - loss: 0.1636 - val_loss: 0.1352\n",
            "Epoch 159/200\n",
            "4/4 [==============================] - 1s 136ms/step - loss: 0.1634 - val_loss: 0.1350\n",
            "Epoch 160/200\n",
            "4/4 [==============================] - 0s 127ms/step - loss: 0.1632 - val_loss: 0.1348\n",
            "Epoch 161/200\n",
            "4/4 [==============================] - 0s 135ms/step - loss: 0.1629 - val_loss: 0.1345\n",
            "Epoch 162/200\n",
            "4/4 [==============================] - 1s 151ms/step - loss: 0.1627 - val_loss: 0.1344\n",
            "Epoch 163/200\n",
            "4/4 [==============================] - 1s 191ms/step - loss: 0.1624 - val_loss: 0.1343\n",
            "Epoch 164/200\n",
            "4/4 [==============================] - 1s 160ms/step - loss: 0.1622 - val_loss: 0.1341\n",
            "Epoch 165/200\n",
            "4/4 [==============================] - 1s 157ms/step - loss: 0.1619 - val_loss: 0.1339\n",
            "Epoch 166/200\n",
            "4/4 [==============================] - 0s 130ms/step - loss: 0.1616 - val_loss: 0.1338\n",
            "Epoch 167/200\n",
            "4/4 [==============================] - 1s 130ms/step - loss: 0.1614 - val_loss: 0.1336\n",
            "Epoch 168/200\n",
            "4/4 [==============================] - 1s 163ms/step - loss: 0.1611 - val_loss: 0.1334\n",
            "Epoch 169/200\n",
            "4/4 [==============================] - 0s 133ms/step - loss: 0.1609 - val_loss: 0.1332\n",
            "Epoch 170/200\n",
            "4/4 [==============================] - 0s 128ms/step - loss: 0.1606 - val_loss: 0.1329\n",
            "Epoch 171/200\n",
            "4/4 [==============================] - 1s 137ms/step - loss: 0.1604 - val_loss: 0.1325\n",
            "Epoch 172/200\n",
            "4/4 [==============================] - 1s 145ms/step - loss: 0.1601 - val_loss: 0.1323\n",
            "Epoch 173/200\n",
            "4/4 [==============================] - 1s 144ms/step - loss: 0.1598 - val_loss: 0.1320\n",
            "Epoch 174/200\n",
            "4/4 [==============================] - 1s 146ms/step - loss: 0.1596 - val_loss: 0.1318\n",
            "Epoch 175/200\n",
            "4/4 [==============================] - 0s 125ms/step - loss: 0.1593 - val_loss: 0.1315\n",
            "Epoch 176/200\n",
            "4/4 [==============================] - 1s 161ms/step - loss: 0.1591 - val_loss: 0.1313\n",
            "Epoch 177/200\n",
            "4/4 [==============================] - 1s 146ms/step - loss: 0.1588 - val_loss: 0.1311\n",
            "Epoch 178/200\n",
            "4/4 [==============================] - 1s 164ms/step - loss: 0.1585 - val_loss: 0.1309\n",
            "Epoch 179/200\n",
            "4/4 [==============================] - 0s 121ms/step - loss: 0.1583 - val_loss: 0.1306\n",
            "Epoch 180/200\n",
            "4/4 [==============================] - 1s 133ms/step - loss: 0.1580 - val_loss: 0.1304\n",
            "Epoch 181/200\n",
            "4/4 [==============================] - 1s 139ms/step - loss: 0.1578 - val_loss: 0.1301\n",
            "Epoch 182/200\n",
            "4/4 [==============================] - 1s 144ms/step - loss: 0.1575 - val_loss: 0.1298\n",
            "Epoch 183/200\n",
            "4/4 [==============================] - 1s 168ms/step - loss: 0.1573 - val_loss: 0.1296\n",
            "Epoch 184/200\n",
            "4/4 [==============================] - 1s 134ms/step - loss: 0.1570 - val_loss: 0.1294\n",
            "Epoch 185/200\n",
            "4/4 [==============================] - 1s 138ms/step - loss: 0.1567 - val_loss: 0.1292\n",
            "Epoch 186/200\n",
            "4/4 [==============================] - 1s 147ms/step - loss: 0.1564 - val_loss: 0.1290\n",
            "Epoch 187/200\n",
            "4/4 [==============================] - 0s 124ms/step - loss: 0.1562 - val_loss: 0.1288\n",
            "Epoch 188/200\n",
            "4/4 [==============================] - 1s 139ms/step - loss: 0.1559 - val_loss: 0.1286\n",
            "Epoch 189/200\n",
            "4/4 [==============================] - 1s 145ms/step - loss: 0.1556 - val_loss: 0.1284\n",
            "Epoch 190/200\n",
            "4/4 [==============================] - 0s 115ms/step - loss: 0.1553 - val_loss: 0.1283\n",
            "Epoch 191/200\n",
            "4/4 [==============================] - 1s 149ms/step - loss: 0.1551 - val_loss: 0.1281\n",
            "Epoch 192/200\n",
            "4/4 [==============================] - 1s 139ms/step - loss: 0.1548 - val_loss: 0.1280\n",
            "Epoch 193/200\n",
            "4/4 [==============================] - 0s 130ms/step - loss: 0.1545 - val_loss: 0.1278\n",
            "Epoch 194/200\n",
            "4/4 [==============================] - 0s 130ms/step - loss: 0.1542 - val_loss: 0.1276\n",
            "Epoch 195/200\n",
            "4/4 [==============================] - 1s 150ms/step - loss: 0.1540 - val_loss: 0.1273\n",
            "Epoch 196/200\n",
            "4/4 [==============================] - 1s 163ms/step - loss: 0.1537 - val_loss: 0.1270\n",
            "Epoch 197/200\n",
            "4/4 [==============================] - 0s 125ms/step - loss: 0.1534 - val_loss: 0.1268\n",
            "Epoch 198/200\n",
            "4/4 [==============================] - 0s 134ms/step - loss: 0.1531 - val_loss: 0.1265\n",
            "Epoch 199/200\n",
            "4/4 [==============================] - 0s 128ms/step - loss: 0.1527 - val_loss: 0.1260\n",
            "Epoch 200/200\n",
            "4/4 [==============================] - 0s 129ms/step - loss: 0.1524 - val_loss: 0.1255\n"
          ]
        }
      ],
      "source": [
        "hist_forward_ncp_with_loop_ctrnn = ncp_model_with_loop_ctrnn.fit(x=x_train_forward_activation_on, y=y_train_forward_activation_on, batch_size=32, epochs=200, validation_data=(x_valid_forward_activation_on, y_valid_forward_activation_on), callbacks=[early_stopping_monitor])"
      ]
    },
    {
      "cell_type": "code",
      "execution_count": 55,
      "metadata": {
        "colab": {
          "base_uri": "https://localhost:8080/",
          "height": 396
        },
        "id": "MRCHbC4Z4zGG",
        "outputId": "df24d2d4-1948-4e81-f5a1-96162ec93570"
      },
      "outputs": [
        {
          "data": {
            "image/png": "[encoded data removed]",
            "text/plain": [
              "<Figure size 600x400 with 1 Axes>"
            ]
          },
          "metadata": {},
          "output_type": "display_data"
        }
      ],
      "source": [
        "# Plotting the history data\n",
        "sns.set()\n",
        "plt.figure(figsize=(6, 4))\n",
        "plt.plot(hist_forward_ncp_with_loop_ctrnn.history[\"loss\"], label=\"Training loss\")\n",
        "plt.plot(hist_forward_ncp_with_loop_ctrnn.history[\"val_loss\"], label=\"Validation loss\")\n",
        "\n",
        "plt.legend(loc=\"upper right\")\n",
        "plt.xlabel(\"Training steps\")\n",
        "plt.ylabel(\"Loss\")\n",
        "plt.show()"
      ]
    },
    {
      "cell_type": "code",
      "execution_count": 56,
      "metadata": {
        "colab": {
          "base_uri": "https://localhost:8080/"
        },
        "id": "hmp5v-8T4zGG",
        "outputId": "d323d001-e986-4c17-c181-087998d91a76"
      },
      "outputs": [
        {
          "name": "stdout",
          "output_type": "stream",
          "text": [
            "1/1 [==============================] - 1s 774ms/step\n"
          ]
        }
      ],
      "source": [
        "y_test_forward_activation_on_with_loop_ctrnn_predicted2 = ncp_model_with_loop_ctrnn.predict(x_test_forward_activation_on)"
      ]
    },
    {
      "cell_type": "code",
      "execution_count": 57,
      "metadata": {
        "colab": {
          "base_uri": "https://localhost:8080/",
          "height": 497
        },
        "id": "d2sdzUr84zGG",
        "outputId": "f120caed-b0aa-4a11-d55b-0b340be27109"
      },
      "outputs": [
        {
          "data": {
            "text/plain": [
              "<Figure size 800x400 with 0 Axes>"
            ]
          },
          "metadata": {},
          "output_type": "display_data"
        },
        {
          "data": {
            "image/png": "[encoded data removed]",
            "text/plain": [
              "<Figure size 640x480 with 3 Axes>"
            ]
          },
          "metadata": {},
          "output_type": "display_data"
        }
      ],
      "source": [
        "# Plotting the training data\n",
        "plt.figure(figsize=(8, 4))\n",
        "fig, axs = plt.subplots(3,1)\n",
        "axs[0].plot(x_test_forward_activation_on[0, :], 'tab:red')\n",
        "axs[0].set_title('PLM')\n",
        "axs[1].plot(y_test_forward_activation_on[0, :], 'tab:blue')\n",
        "axs[1].set_title('AVB true')\n",
        "axs[2].plot(np.squeeze(y_test_forward_activation_on_with_loop_ctrnn_predicted2[0, :]), 'tab:green')\n",
        "axs[2].set_title('AVB predicted')\n",
        "\n",
        "\n",
        "plt.tight_layout()\n",
        "plt.show()"
      ]
    },
    {
      "cell_type": "markdown",
      "metadata": {
        "id": "0tKCo2aF4zGG"
      },
      "source": [
        "## Print learned weights"
      ]
    },
    {
      "cell_type": "code",
      "execution_count": 58,
      "metadata": {
        "colab": {
          "base_uri": "https://localhost:8080/"
        },
        "id": "Q-PVSMnV4zGG",
        "outputId": "7fcfe10c-90a4-4181-9568-f00b7c42f192"
      },
      "outputs": [
        {
          "data": {
            "text/plain": [
              "[<tf.Variable 'wired_neurons/CTRNN_SA_Cell/gleak:0' shape=(1,) dtype=float32, numpy=array([0.9585148], dtype=float32)>,\n",
              " <tf.Variable 'wired_neurons/CTRNN_SA_Cell/sigma:0' shape=(1, 1) dtype=float32, numpy=array([[1.0300663]], dtype=float32)>,\n",
              " <tf.Variable 'wired_neurons/CTRNN_SA_Cell/mu:0' shape=(1, 1) dtype=float32, numpy=array([[0.08426841]], dtype=float32)>,\n",
              " <tf.Variable 'wired_neurons/CTRNN_SA_Cell/w:0' shape=(1, 1) dtype=float32, numpy=array([[1.0572093]], dtype=float32)>,\n",
              " <tf.Variable 'wired_neurons/CTRNN_SA_Cell/sensory_sigma:0' shape=(1, 1) dtype=float32, numpy=array([[0.48196596]], dtype=float32)>,\n",
              " <tf.Variable 'wired_neurons/CTRNN_SA_Cell/sensory_mu:0' shape=(1, 1) dtype=float32, numpy=array([[-0.08748606]], dtype=float32)>,\n",
              " <tf.Variable 'wired_neurons/CTRNN_SA_Cell/sensory_w:0' shape=(1, 1) dtype=float32, numpy=array([[-0.23817067]], dtype=float32)>]"
            ]
          },
          "execution_count": 58,
          "metadata": {},
          "output_type": "execute_result"
        }
      ],
      "source": [
        "ncp_model_with_loop_ctrnn.variables"
      ]
    },
    {
      "cell_type": "markdown",
      "metadata": {
        "id": "P9B1xrND4zGG"
      },
      "source": [
        "## Calculate the ODE based on the current weights"
      ]
    },
    {
      "cell_type": "code",
      "execution_count": 59,
      "metadata": {
        "id": "MtnZW5x94zGG"
      },
      "outputs": [],
      "source": [
        "dict_params_CTRNN = {}\n",
        "params_CTRNN = [\"gl\", \"gamma\", \"mu\", \"w\", \"sensory_gamma\", \"sensory_mu\", \"sensory_w\"]\n",
        "for i, param in enumerate(params_CTRNN):\n",
        "  if param==\"gl\":\n",
        "    dict_params_CTRNN[param] = ncp_model_with_loop_ctrnn.variables[i][0].numpy()\n",
        "  else:\n",
        "    dict_params_CTRNN[param] = ncp_model_with_loop_ctrnn.variables[i][0][0].numpy()"
      ]
    },
    {
      "cell_type": "code",
      "execution_count": 60,
      "metadata": {
        "id": "49f8WkE54zGG"
      },
      "outputs": [],
      "source": [
        "import sympy"
      ]
    },
    {
      "cell_type": "code",
      "execution_count": 61,
      "metadata": {
        "id": "VHdJkmZC4zGG"
      },
      "outputs": [],
      "source": [
        "def tanh(x):\n",
        "  return sympy.tanh(x)"
      ]
    },
    {
      "cell_type": "code",
      "execution_count": 62,
      "metadata": {
        "id": "fEvu1JF74zGG"
      },
      "outputs": [],
      "source": [
        "x_i_dot_ctrnn = sympy.symbols('x_i_dot')\n",
        "x_i_ctrnn = sympy.symbols('x_i')\n",
        "x_j_ctrnn = sympy.symbols('x_j')"
      ]
    },
    {
      "cell_type": "code",
      "execution_count": 63,
      "metadata": {
        "id": "6aLSb2a94zGG"
      },
      "outputs": [],
      "source": [
        "x_i_dot_ctrnn = -dict_params_CTRNN[\"gl\"]*x_i_ctrnn + (dict_params_CTRNN[\"sensory_w\"]*tanh(dict_params_CTRNN[\"sensory_gamma\"]*(x_j_ctrnn + dict_params_CTRNN[\"sensory_mu\"]))) + (dict_params_CTRNN[\"w\"]*tanh(dict_params_CTRNN[\"gamma\"]*(x_i_ctrnn + dict_params_CTRNN[\"mu\"])))"
      ]
    },
    {
      "cell_type": "markdown",
      "metadata": {
        "id": "qT-x-afG4zGG"
      },
      "source": [
        "### This is the differential equation after substituting all the learned weights"
      ]
    },
    {
      "cell_type": "code",
      "execution_count": 64,
      "metadata": {
        "colab": {
          "base_uri": "https://localhost:8080/"
        },
        "id": "WkzawYUV4zGH",
        "outputId": "f1c4beda-56a4-4f2c-defd-12bebeea4be1"
      },
      "outputs": [
        {
          "name": "stdout",
          "output_type": "stream",
          "text": [
            "x_i_dot = -0.958514809608459*x_i + 1.05720925331116*tanh(1.03006625175476*x_i + 0.0868020488188836) - 0.23817066848278*tanh(0.481965959072113*x_j - 0.0421653020776613)\n"
          ]
        }
      ],
      "source": [
        "print('x_i_dot =', x_i_dot_ctrnn)"
      ]
    },
    {
      "cell_type": "markdown",
      "metadata": {
        "id": "4tFfzP2b4zGH"
      },
      "source": [
        "### Equation based on the signal of the pre-synaptic neuron"
      ]
    },
    {
      "cell_type": "code",
      "execution_count": 65,
      "metadata": {
        "colab": {
          "base_uri": "https://localhost:8080/"
        },
        "id": "ULcss85_4zGH",
        "outputId": "bdaa90f5-f794-4636-cdf5-947af5f8898e"
      },
      "outputs": [
        {
          "name": "stdout",
          "output_type": "stream",
          "text": [
            "If x_j=0\n",
            "x_i_dot = -0.958514809608459*x_i + 1.05720925331116*tanh(1.03006625175476*x_i + 0.0868020488188836) + 0.0100365908267416\n",
            "\n",
            "If x_j=1\n",
            "x_i_dot = -0.958514809608459*x_i + 1.05720925331116*tanh(1.03006625175476*x_i + 0.0868020488188836) - 0.0984786159172032\n"
          ]
        }
      ],
      "source": [
        "print('If x_j=0')\n",
        "x_i_dot_ctrnn_when_x_j_is_0 = x_i_dot_ctrnn.subs(x_j_ctrnn, 0)\n",
        "print('x_i_dot =', x_i_dot_ctrnn_when_x_j_is_0)\n",
        "\n",
        "print('\\nIf x_j=1')\n",
        "x_i_dot_ctrnn_when_x_j_is_1 = x_i_dot_ctrnn.subs(x_j_ctrnn, 1)\n",
        "print('x_i_dot =', x_i_dot_ctrnn_when_x_j_is_1)"
      ]
    },
    {
      "cell_type": "markdown",
      "metadata": {
        "id": "LG-1aKIT4zGH"
      },
      "source": [
        "### Calculate the derivative of the post-synaptic neuron in the 4 phases of the activation period"
      ]
    },
    {
      "cell_type": "code",
      "execution_count": 66,
      "metadata": {
        "colab": {
          "base_uri": "https://localhost:8080/"
        },
        "id": "vcJ-UPTT4zGH",
        "outputId": "0d1a9b87-ae7c-4c77-ab1d-a41cbba81398"
      },
      "outputs": [
        {
          "name": "stdout",
          "output_type": "stream",
          "text": [
            "I. phase of the activation: x_j=0 and x_i=0\n",
            "x_i_dot = 0.101574734475146\n",
            "\n",
            "\n",
            "II. phase of the activation: x_j=1 and x_i=0\n",
            "x_i_dot = -0.00694047226879839\n",
            "\n",
            "\n",
            "III. phase of the activation: x_j=1 and x_i=1\n",
            "x_i_dot = -0.204378635455028\n",
            "\n",
            "\n",
            "IV. phase of the activation: x_j=0 and x_i=1\n",
            "x_i_dot = -0.0958634287110836\n"
          ]
        }
      ],
      "source": [
        "print('I. phase of the activation: x_j=0 and x_i=0')\n",
        "x_i_dot_ctrnn_when_x_i_is_0_and_x_j_is_0 = x_i_dot_ctrnn.subs({x_i_ctrnn: 0, x_j_ctrnn: 0})\n",
        "print('x_i_dot =', x_i_dot_ctrnn_when_x_i_is_0_and_x_j_is_0)\n",
        "\n",
        "print('\\n\\nII. phase of the activation: x_j=1 and x_i=0')\n",
        "x_i_dot_ctrnn_when_x_i_is_0_and_x_j_is_1 = x_i_dot_ctrnn.subs({x_i_ctrnn: 0, x_j_ctrnn: 1})\n",
        "print('x_i_dot =', x_i_dot_ctrnn_when_x_i_is_0_and_x_j_is_1)\n",
        "\n",
        "print('\\n\\nIII. phase of the activation: x_j=1 and x_i=1')\n",
        "x_i_dot_ctrnn_when_x_i_is_1_and_x_j_is_1 = x_i_dot_ctrnn.subs({x_i_ctrnn: 1, x_j_ctrnn: 1})\n",
        "print('x_i_dot =', x_i_dot_ctrnn_when_x_i_is_1_and_x_j_is_1)\n",
        "\n",
        "print('\\n\\nIV. phase of the activation: x_j=0 and x_i=1')\n",
        "x_i_dot_ctrnn_when_x_i_is_1_and_x_j_is_0 = x_i_dot_ctrnn.subs({x_i_ctrnn: 1, x_j_ctrnn: 0})\n",
        "print('x_i_dot =', x_i_dot_ctrnn_when_x_i_is_1_and_x_j_is_0)"
      ]
    },
    {
      "cell_type": "code",
      "execution_count": null,
      "metadata": {
        "id": "0-QD0vwN4zGH"
      },
      "outputs": [],
      "source": []
    },
    {
      "cell_type": "code",
      "execution_count": null,
      "metadata": {
        "id": "ys4SDsTP4zGH"
      },
      "outputs": [],
      "source": []
    },
    {
      "cell_type": "markdown",
      "metadata": {
        "id": "IuRaYWPbLx3L"
      },
      "source": [
        "# Forward architecture without self-loop\n",
        "# Neuron type: CTRNN"
      ]
    },
    {
      "cell_type": "markdown",
      "metadata": {
        "id": "BORE3QFoL8Fy"
      },
      "source": [
        "## Create and compile keras model"
      ]
    },
    {
      "cell_type": "code",
      "execution_count": 67,
      "metadata": {
        "colab": {
          "base_uri": "https://localhost:8080/",
          "height": 404
        },
        "id": "1UNXlbbUL8Fz",
        "outputId": "0a0159b4-c272-4301-c23a-aa8bf4c3b609"
      },
      "outputs": [
        {
          "data": {
            "image/png": "[encoded data removed]",
            "text/plain": [
              "<Figure size 600x400 with 1 Axes>"
            ]
          },
          "metadata": {},
          "output_type": "display_data"
        }
      ],
      "source": [
        "forward_architecture_without_loop = Forward_without_loop(1,1) \n",
        "\n",
        "ncp_model_without_loop_ctrnn = keras.models.Sequential(\n",
        "    [\n",
        "        keras.layers.InputLayer(input_shape=(None, 1)),\n",
        "        WiredNeurons(CTRNN_SA_Cell, forward_architecture_without_loop, return_sequences=True, input_mapping=None, output_mapping=None),\n",
        "    ]\n",
        ")\n",
        "ncp_model_without_loop_ctrnn.compile(\n",
        "    optimizer=keras.optimizers.Adam(0.001), loss='mean_squared_error'\n",
        ")\n",
        "sns.set_style(\"white\")\n",
        "plt.figure(figsize=(6, 4))\n",
        "legend_handles = forward_architecture_without_loop.draw_graph(\n",
        "    draw_labels=True,                                         \n",
        "    sensory_neurons=[\"PLM\"], \n",
        "    motor_neurons=[\"AVB\"],\n",
        "    layout=\"spiral\")\n",
        "\n",
        "plt.legend(handles=legend_handles, bbox_to_anchor=(1.1, 1.1))\n",
        "sns.despine(left=True, bottom=True)\n",
        "plt.tight_layout()\n",
        "plt.show()"
      ]
    },
    {
      "cell_type": "markdown",
      "metadata": {
        "id": "o9j6JO3sL8Fz"
      },
      "source": [
        "### Fit the dataset (PLM activates AVB, AVB stays active because of its self-activation)"
      ]
    },
    {
      "cell_type": "code",
      "execution_count": 68,
      "metadata": {
        "id": "kmtErUTxWgoj"
      },
      "outputs": [],
      "source": [
        "early_stopping_monitor = keras.callbacks.EarlyStopping(\n",
        "    monitor='val_loss',\n",
        "    min_delta=0,\n",
        "    patience=100,\n",
        "    verbose=0,\n",
        "    mode='auto',\n",
        "    baseline=None,\n",
        "    restore_best_weights=True\n",
        ")"
      ]
    },
    {
      "cell_type": "code",
      "execution_count": 69,
      "metadata": {
        "colab": {
          "base_uri": "https://localhost:8080/"
        },
        "id": "YOGXK4ZoL8Fz",
        "outputId": "fdd6b579-9615-4301-c60b-6a142a9645a4"
      },
      "outputs": [
        {
          "name": "stdout",
          "output_type": "stream",
          "text": [
            "Epoch 1/500\n",
            "4/4 [==============================] - 11s 409ms/step - loss: 0.6467 - val_loss: 0.6913\n",
            "Epoch 2/500\n",
            "4/4 [==============================] - 0s 100ms/step - loss: 0.6430 - val_loss: 0.6856\n",
            "Epoch 3/500\n",
            "4/4 [==============================] - 0s 101ms/step - loss: 0.6376 - val_loss: 0.6798\n",
            "Epoch 4/500\n",
            "4/4 [==============================] - 0s 119ms/step - loss: 0.6321 - val_loss: 0.6739\n",
            "Epoch 5/500\n",
            "4/4 [==============================] - 1s 166ms/step - loss: 0.6266 - val_loss: 0.6679\n",
            "Epoch 6/500\n",
            "4/4 [==============================] - 1s 135ms/step - loss: 0.6210 - val_loss: 0.6618\n",
            "Epoch 7/500\n",
            "4/4 [==============================] - 1s 149ms/step - loss: 0.6153 - val_loss: 0.6557\n",
            "Epoch 8/500\n",
            "4/4 [==============================] - 1s 142ms/step - loss: 0.6096 - val_loss: 0.6495\n",
            "Epoch 9/500\n",
            "4/4 [==============================] - 1s 167ms/step - loss: 0.6038 - val_loss: 0.6432\n",
            "Epoch 10/500\n",
            "4/4 [==============================] - 1s 144ms/step - loss: 0.5979 - val_loss: 0.6368\n",
            "Epoch 11/500\n",
            "4/4 [==============================] - 1s 134ms/step - loss: 0.5919 - val_loss: 0.6302\n",
            "Epoch 12/500\n",
            "4/4 [==============================] - 1s 131ms/step - loss: 0.5858 - val_loss: 0.6236\n",
            "Epoch 13/500\n",
            "4/4 [==============================] - 0s 131ms/step - loss: 0.5796 - val_loss: 0.6168\n",
            "Epoch 14/500\n",
            "4/4 [==============================] - 0s 123ms/step - loss: 0.5733 - val_loss: 0.6100\n",
            "Epoch 15/500\n",
            "4/4 [==============================] - 1s 141ms/step - loss: 0.5670 - val_loss: 0.6031\n",
            "Epoch 16/500\n",
            "4/4 [==============================] - 0s 117ms/step - loss: 0.5605 - val_loss: 0.5961\n",
            "Epoch 17/500\n",
            "4/4 [==============================] - 0s 116ms/step - loss: 0.5539 - val_loss: 0.5889\n",
            "Epoch 18/500\n",
            "4/4 [==============================] - 0s 119ms/step - loss: 0.5473 - val_loss: 0.5818\n",
            "Epoch 19/500\n",
            "4/4 [==============================] - 0s 120ms/step - loss: 0.5407 - val_loss: 0.5746\n",
            "Epoch 20/500\n",
            "4/4 [==============================] - 1s 149ms/step - loss: 0.5340 - val_loss: 0.5672\n",
            "Epoch 21/500\n",
            "4/4 [==============================] - 0s 128ms/step - loss: 0.5271 - val_loss: 0.5598\n",
            "Epoch 22/500\n",
            "4/4 [==============================] - 0s 134ms/step - loss: 0.5203 - val_loss: 0.5523\n",
            "Epoch 23/500\n",
            "4/4 [==============================] - 0s 131ms/step - loss: 0.5134 - val_loss: 0.5448\n",
            "Epoch 24/500\n",
            "4/4 [==============================] - 0s 125ms/step - loss: 0.5064 - val_loss: 0.5371\n",
            "Epoch 25/500\n",
            "4/4 [==============================] - 0s 131ms/step - loss: 0.4993 - val_loss: 0.5293\n",
            "Epoch 26/500\n",
            "4/4 [==============================] - 1s 123ms/step - loss: 0.4921 - val_loss: 0.5214\n",
            "Epoch 27/500\n",
            "4/4 [==============================] - 0s 120ms/step - loss: 0.4849 - val_loss: 0.5135\n",
            "Epoch 28/500\n",
            "4/4 [==============================] - 0s 122ms/step - loss: 0.4776 - val_loss: 0.5056\n",
            "Epoch 29/500\n",
            "4/4 [==============================] - 0s 124ms/step - loss: 0.4702 - val_loss: 0.4975\n",
            "Epoch 30/500\n",
            "4/4 [==============================] - 0s 125ms/step - loss: 0.4630 - val_loss: 0.4895\n",
            "Epoch 31/500\n",
            "4/4 [==============================] - 1s 150ms/step - loss: 0.4556 - val_loss: 0.4814\n",
            "Epoch 32/500\n",
            "4/4 [==============================] - 0s 119ms/step - loss: 0.4483 - val_loss: 0.4734\n",
            "Epoch 33/500\n",
            "4/4 [==============================] - 0s 125ms/step - loss: 0.4409 - val_loss: 0.4652\n",
            "Epoch 34/500\n",
            "4/4 [==============================] - 0s 110ms/step - loss: 0.4335 - val_loss: 0.4571\n",
            "Epoch 35/500\n",
            "4/4 [==============================] - 0s 113ms/step - loss: 0.4260 - val_loss: 0.4489\n",
            "Epoch 36/500\n",
            "4/4 [==============================] - 0s 106ms/step - loss: 0.4185 - val_loss: 0.4407\n",
            "Epoch 37/500\n",
            "4/4 [==============================] - 0s 102ms/step - loss: 0.4111 - val_loss: 0.4325\n",
            "Epoch 38/500\n",
            "4/4 [==============================] - 0s 103ms/step - loss: 0.4037 - val_loss: 0.4244\n",
            "Epoch 39/500\n",
            "4/4 [==============================] - 0s 102ms/step - loss: 0.3964 - val_loss: 0.4164\n",
            "Epoch 40/500\n",
            "4/4 [==============================] - 0s 98ms/step - loss: 0.3892 - val_loss: 0.4083\n",
            "Epoch 41/500\n",
            "4/4 [==============================] - 0s 102ms/step - loss: 0.3819 - val_loss: 0.4002\n",
            "Epoch 42/500\n",
            "4/4 [==============================] - 0s 101ms/step - loss: 0.3746 - val_loss: 0.3923\n",
            "Epoch 43/500\n",
            "4/4 [==============================] - 0s 115ms/step - loss: 0.3676 - val_loss: 0.3844\n",
            "Epoch 44/500\n",
            "4/4 [==============================] - 0s 99ms/step - loss: 0.3604 - val_loss: 0.3765\n",
            "Epoch 45/500\n",
            "4/4 [==============================] - 0s 104ms/step - loss: 0.3534 - val_loss: 0.3685\n",
            "Epoch 46/500\n",
            "4/4 [==============================] - 0s 105ms/step - loss: 0.3464 - val_loss: 0.3606\n",
            "Epoch 47/500\n",
            "4/4 [==============================] - 0s 102ms/step - loss: 0.3394 - val_loss: 0.3528\n",
            "Epoch 48/500\n",
            "4/4 [==============================] - 1s 164ms/step - loss: 0.3324 - val_loss: 0.3452\n",
            "Epoch 49/500\n",
            "4/4 [==============================] - 1s 151ms/step - loss: 0.3258 - val_loss: 0.3376\n",
            "Epoch 50/500\n",
            "4/4 [==============================] - 1s 130ms/step - loss: 0.3191 - val_loss: 0.3301\n",
            "Epoch 51/500\n",
            "4/4 [==============================] - 0s 114ms/step - loss: 0.3126 - val_loss: 0.3228\n",
            "Epoch 52/500\n",
            "4/4 [==============================] - 1s 165ms/step - loss: 0.3063 - val_loss: 0.3158\n",
            "Epoch 53/500\n",
            "4/4 [==============================] - 0s 115ms/step - loss: 0.3002 - val_loss: 0.3088\n",
            "Epoch 54/500\n",
            "4/4 [==============================] - 0s 107ms/step - loss: 0.2940 - val_loss: 0.3019\n",
            "Epoch 55/500\n",
            "4/4 [==============================] - 0s 121ms/step - loss: 0.2881 - val_loss: 0.2950\n",
            "Epoch 56/500\n",
            "4/4 [==============================] - 0s 129ms/step - loss: 0.2824 - val_loss: 0.2883\n",
            "Epoch 57/500\n",
            "4/4 [==============================] - 1s 126ms/step - loss: 0.2767 - val_loss: 0.2819\n",
            "Epoch 58/500\n",
            "4/4 [==============================] - 0s 118ms/step - loss: 0.2713 - val_loss: 0.2756\n",
            "Epoch 59/500\n",
            "4/4 [==============================] - 0s 115ms/step - loss: 0.2659 - val_loss: 0.2695\n",
            "Epoch 60/500\n",
            "4/4 [==============================] - 0s 111ms/step - loss: 0.2608 - val_loss: 0.2636\n",
            "Epoch 61/500\n",
            "4/4 [==============================] - 0s 114ms/step - loss: 0.2560 - val_loss: 0.2579\n",
            "Epoch 62/500\n",
            "4/4 [==============================] - 0s 125ms/step - loss: 0.2513 - val_loss: 0.2523\n",
            "Epoch 63/500\n",
            "4/4 [==============================] - 1s 145ms/step - loss: 0.2468 - val_loss: 0.2470\n",
            "Epoch 64/500\n",
            "4/4 [==============================] - 0s 105ms/step - loss: 0.2425 - val_loss: 0.2420\n",
            "Epoch 65/500\n",
            "4/4 [==============================] - 0s 105ms/step - loss: 0.2385 - val_loss: 0.2373\n",
            "Epoch 66/500\n",
            "4/4 [==============================] - 0s 110ms/step - loss: 0.2348 - val_loss: 0.2328\n",
            "Epoch 67/500\n",
            "4/4 [==============================] - 0s 103ms/step - loss: 0.2313 - val_loss: 0.2287\n",
            "Epoch 68/500\n",
            "4/4 [==============================] - 0s 110ms/step - loss: 0.2280 - val_loss: 0.2247\n",
            "Epoch 69/500\n",
            "4/4 [==============================] - 1s 149ms/step - loss: 0.2250 - val_loss: 0.2209\n",
            "Epoch 70/500\n",
            "4/4 [==============================] - 1s 155ms/step - loss: 0.2222 - val_loss: 0.2175\n",
            "Epoch 71/500\n",
            "4/4 [==============================] - 1s 165ms/step - loss: 0.2196 - val_loss: 0.2142\n",
            "Epoch 72/500\n",
            "4/4 [==============================] - 1s 150ms/step - loss: 0.2172 - val_loss: 0.2109\n",
            "Epoch 73/500\n",
            "4/4 [==============================] - 1s 131ms/step - loss: 0.2149 - val_loss: 0.2081\n",
            "Epoch 74/500\n",
            "4/4 [==============================] - 0s 129ms/step - loss: 0.2129 - val_loss: 0.2055\n",
            "Epoch 75/500\n",
            "4/4 [==============================] - 0s 130ms/step - loss: 0.2111 - val_loss: 0.2032\n",
            "Epoch 76/500\n",
            "4/4 [==============================] - 0s 121ms/step - loss: 0.2096 - val_loss: 0.2010\n",
            "Epoch 77/500\n",
            "4/4 [==============================] - 0s 131ms/step - loss: 0.2080 - val_loss: 0.1990\n",
            "Epoch 78/500\n",
            "4/4 [==============================] - 0s 119ms/step - loss: 0.2067 - val_loss: 0.1970\n",
            "Epoch 79/500\n",
            "4/4 [==============================] - 0s 129ms/step - loss: 0.2056 - val_loss: 0.1953\n",
            "Epoch 80/500\n",
            "4/4 [==============================] - 0s 127ms/step - loss: 0.2044 - val_loss: 0.1938\n",
            "Epoch 81/500\n",
            "4/4 [==============================] - 0s 98ms/step - loss: 0.2036 - val_loss: 0.1924\n",
            "Epoch 82/500\n",
            "4/4 [==============================] - 0s 96ms/step - loss: 0.2028 - val_loss: 0.1910\n",
            "Epoch 83/500\n",
            "4/4 [==============================] - 0s 95ms/step - loss: 0.2020 - val_loss: 0.1899\n",
            "Epoch 84/500\n",
            "4/4 [==============================] - 0s 97ms/step - loss: 0.2014 - val_loss: 0.1888\n",
            "Epoch 85/500\n",
            "4/4 [==============================] - 0s 94ms/step - loss: 0.2009 - val_loss: 0.1878\n",
            "Epoch 86/500\n",
            "4/4 [==============================] - 0s 123ms/step - loss: 0.2004 - val_loss: 0.1870\n",
            "Epoch 87/500\n",
            "4/4 [==============================] - 0s 118ms/step - loss: 0.2001 - val_loss: 0.1863\n",
            "Epoch 88/500\n",
            "4/4 [==============================] - 0s 115ms/step - loss: 0.1997 - val_loss: 0.1857\n",
            "Epoch 89/500\n",
            "4/4 [==============================] - 0s 127ms/step - loss: 0.1995 - val_loss: 0.1852\n",
            "Epoch 90/500\n",
            "4/4 [==============================] - 0s 103ms/step - loss: 0.1993 - val_loss: 0.1848\n",
            "Epoch 91/500\n",
            "4/4 [==============================] - 0s 106ms/step - loss: 0.1991 - val_loss: 0.1845\n",
            "Epoch 92/500\n",
            "4/4 [==============================] - 0s 103ms/step - loss: 0.1989 - val_loss: 0.1841\n",
            "Epoch 93/500\n",
            "4/4 [==============================] - 0s 104ms/step - loss: 0.1987 - val_loss: 0.1837\n",
            "Epoch 94/500\n",
            "4/4 [==============================] - 0s 109ms/step - loss: 0.1985 - val_loss: 0.1833\n",
            "Epoch 95/500\n",
            "4/4 [==============================] - 0s 100ms/step - loss: 0.1984 - val_loss: 0.1830\n",
            "Epoch 96/500\n",
            "4/4 [==============================] - 0s 99ms/step - loss: 0.1983 - val_loss: 0.1828\n",
            "Epoch 97/500\n",
            "4/4 [==============================] - 0s 105ms/step - loss: 0.1981 - val_loss: 0.1826\n",
            "Epoch 98/500\n",
            "4/4 [==============================] - 0s 106ms/step - loss: 0.1980 - val_loss: 0.1824\n",
            "Epoch 99/500\n",
            "4/4 [==============================] - 0s 102ms/step - loss: 0.1978 - val_loss: 0.1821\n",
            "Epoch 100/500\n",
            "4/4 [==============================] - 0s 102ms/step - loss: 0.1977 - val_loss: 0.1818\n",
            "Epoch 101/500\n",
            "4/4 [==============================] - 0s 100ms/step - loss: 0.1976 - val_loss: 0.1815\n",
            "Epoch 102/500\n",
            "4/4 [==============================] - 0s 98ms/step - loss: 0.1974 - val_loss: 0.1813\n",
            "Epoch 103/500\n",
            "4/4 [==============================] - 0s 121ms/step - loss: 0.1973 - val_loss: 0.1811\n",
            "Epoch 104/500\n",
            "4/4 [==============================] - 0s 102ms/step - loss: 0.1972 - val_loss: 0.1809\n",
            "Epoch 105/500\n",
            "4/4 [==============================] - 0s 99ms/step - loss: 0.1971 - val_loss: 0.1809\n",
            "Epoch 106/500\n",
            "4/4 [==============================] - 0s 106ms/step - loss: 0.1969 - val_loss: 0.1808\n",
            "Epoch 107/500\n",
            "4/4 [==============================] - 0s 107ms/step - loss: 0.1968 - val_loss: 0.1807\n",
            "Epoch 108/500\n",
            "4/4 [==============================] - 0s 123ms/step - loss: 0.1967 - val_loss: 0.1805\n",
            "Epoch 109/500\n",
            "4/4 [==============================] - 0s 114ms/step - loss: 0.1966 - val_loss: 0.1803\n",
            "Epoch 110/500\n",
            "4/4 [==============================] - 0s 118ms/step - loss: 0.1964 - val_loss: 0.1800\n",
            "Epoch 111/500\n",
            "4/4 [==============================] - 0s 110ms/step - loss: 0.1963 - val_loss: 0.1797\n",
            "Epoch 112/500\n",
            "4/4 [==============================] - 0s 111ms/step - loss: 0.1962 - val_loss: 0.1795\n",
            "Epoch 113/500\n",
            "4/4 [==============================] - 0s 109ms/step - loss: 0.1961 - val_loss: 0.1794\n",
            "Epoch 114/500\n",
            "4/4 [==============================] - 0s 107ms/step - loss: 0.1960 - val_loss: 0.1792\n",
            "Epoch 115/500\n",
            "4/4 [==============================] - 0s 99ms/step - loss: 0.1958 - val_loss: 0.1790\n",
            "Epoch 116/500\n",
            "4/4 [==============================] - 0s 99ms/step - loss: 0.1957 - val_loss: 0.1790\n",
            "Epoch 117/500\n",
            "4/4 [==============================] - 0s 104ms/step - loss: 0.1956 - val_loss: 0.1789\n",
            "Epoch 118/500\n",
            "4/4 [==============================] - 0s 100ms/step - loss: 0.1955 - val_loss: 0.1787\n",
            "Epoch 119/500\n",
            "4/4 [==============================] - 0s 101ms/step - loss: 0.1953 - val_loss: 0.1786\n",
            "Epoch 120/500\n",
            "4/4 [==============================] - 0s 101ms/step - loss: 0.1952 - val_loss: 0.1785\n",
            "Epoch 121/500\n",
            "4/4 [==============================] - 0s 103ms/step - loss: 0.1951 - val_loss: 0.1783\n",
            "Epoch 122/500\n",
            "4/4 [==============================] - 0s 101ms/step - loss: 0.1950 - val_loss: 0.1782\n",
            "Epoch 123/500\n",
            "4/4 [==============================] - 0s 95ms/step - loss: 0.1948 - val_loss: 0.1782\n",
            "Epoch 124/500\n",
            "4/4 [==============================] - 0s 95ms/step - loss: 0.1947 - val_loss: 0.1783\n",
            "Epoch 125/500\n",
            "4/4 [==============================] - 0s 104ms/step - loss: 0.1946 - val_loss: 0.1782\n",
            "Epoch 126/500\n",
            "4/4 [==============================] - 0s 104ms/step - loss: 0.1945 - val_loss: 0.1782\n",
            "Epoch 127/500\n",
            "4/4 [==============================] - 0s 104ms/step - loss: 0.1944 - val_loss: 0.1781\n",
            "Epoch 128/500\n",
            "4/4 [==============================] - 0s 101ms/step - loss: 0.1943 - val_loss: 0.1780\n",
            "Epoch 129/500\n",
            "4/4 [==============================] - 0s 95ms/step - loss: 0.1942 - val_loss: 0.1780\n",
            "Epoch 130/500\n",
            "4/4 [==============================] - 0s 95ms/step - loss: 0.1940 - val_loss: 0.1779\n",
            "Epoch 131/500\n",
            "4/4 [==============================] - 0s 99ms/step - loss: 0.1939 - val_loss: 0.1778\n",
            "Epoch 132/500\n",
            "4/4 [==============================] - 0s 94ms/step - loss: 0.1938 - val_loss: 0.1778\n",
            "Epoch 133/500\n",
            "4/4 [==============================] - 0s 99ms/step - loss: 0.1937 - val_loss: 0.1777\n",
            "Epoch 134/500\n",
            "4/4 [==============================] - 0s 97ms/step - loss: 0.1936 - val_loss: 0.1777\n",
            "Epoch 135/500\n",
            "4/4 [==============================] - 0s 99ms/step - loss: 0.1935 - val_loss: 0.1776\n",
            "Epoch 136/500\n",
            "4/4 [==============================] - 0s 103ms/step - loss: 0.1934 - val_loss: 0.1775\n",
            "Epoch 137/500\n",
            "4/4 [==============================] - 0s 99ms/step - loss: 0.1933 - val_loss: 0.1774\n",
            "Epoch 138/500\n",
            "4/4 [==============================] - 0s 106ms/step - loss: 0.1932 - val_loss: 0.1773\n",
            "Epoch 139/500\n",
            "4/4 [==============================] - 0s 99ms/step - loss: 0.1931 - val_loss: 0.1771\n",
            "Epoch 140/500\n",
            "4/4 [==============================] - 0s 96ms/step - loss: 0.1930 - val_loss: 0.1770\n",
            "Epoch 141/500\n",
            "4/4 [==============================] - 0s 120ms/step - loss: 0.1928 - val_loss: 0.1768\n",
            "Epoch 142/500\n",
            "4/4 [==============================] - 0s 94ms/step - loss: 0.1927 - val_loss: 0.1766\n",
            "Epoch 143/500\n",
            "4/4 [==============================] - 0s 90ms/step - loss: 0.1926 - val_loss: 0.1765\n",
            "Epoch 144/500\n",
            "4/4 [==============================] - 0s 98ms/step - loss: 0.1925 - val_loss: 0.1763\n",
            "Epoch 145/500\n",
            "4/4 [==============================] - 0s 100ms/step - loss: 0.1924 - val_loss: 0.1761\n",
            "Epoch 146/500\n",
            "4/4 [==============================] - 0s 95ms/step - loss: 0.1922 - val_loss: 0.1760\n",
            "Epoch 147/500\n",
            "4/4 [==============================] - 0s 104ms/step - loss: 0.1921 - val_loss: 0.1758\n",
            "Epoch 148/500\n",
            "4/4 [==============================] - 0s 93ms/step - loss: 0.1920 - val_loss: 0.1756\n",
            "Epoch 149/500\n",
            "4/4 [==============================] - 0s 100ms/step - loss: 0.1919 - val_loss: 0.1754\n",
            "Epoch 150/500\n",
            "4/4 [==============================] - 1s 152ms/step - loss: 0.1918 - val_loss: 0.1752\n",
            "Epoch 151/500\n",
            "4/4 [==============================] - 1s 130ms/step - loss: 0.1916 - val_loss: 0.1750\n",
            "Epoch 152/500\n",
            "4/4 [==============================] - 0s 116ms/step - loss: 0.1915 - val_loss: 0.1748\n",
            "Epoch 153/500\n",
            "4/4 [==============================] - 1s 142ms/step - loss: 0.1914 - val_loss: 0.1745\n",
            "Epoch 154/500\n",
            "4/4 [==============================] - 0s 107ms/step - loss: 0.1913 - val_loss: 0.1743\n",
            "Epoch 155/500\n",
            "4/4 [==============================] - 0s 99ms/step - loss: 0.1912 - val_loss: 0.1742\n",
            "Epoch 156/500\n",
            "4/4 [==============================] - 0s 112ms/step - loss: 0.1911 - val_loss: 0.1740\n",
            "Epoch 157/500\n",
            "4/4 [==============================] - 0s 111ms/step - loss: 0.1909 - val_loss: 0.1739\n",
            "Epoch 158/500\n",
            "4/4 [==============================] - 0s 110ms/step - loss: 0.1908 - val_loss: 0.1738\n",
            "Epoch 159/500\n",
            "4/4 [==============================] - 1s 161ms/step - loss: 0.1907 - val_loss: 0.1738\n",
            "Epoch 160/500\n",
            "4/4 [==============================] - 1s 138ms/step - loss: 0.1906 - val_loss: 0.1739\n",
            "Epoch 161/500\n",
            "4/4 [==============================] - 1s 141ms/step - loss: 0.1905 - val_loss: 0.1739\n",
            "Epoch 162/500\n",
            "4/4 [==============================] - 1s 158ms/step - loss: 0.1904 - val_loss: 0.1739\n",
            "Epoch 163/500\n",
            "4/4 [==============================] - 1s 122ms/step - loss: 0.1903 - val_loss: 0.1738\n",
            "Epoch 164/500\n",
            "4/4 [==============================] - 0s 131ms/step - loss: 0.1902 - val_loss: 0.1737\n",
            "Epoch 165/500\n",
            "4/4 [==============================] - 0s 122ms/step - loss: 0.1901 - val_loss: 0.1736\n",
            "Epoch 166/500\n",
            "4/4 [==============================] - 0s 124ms/step - loss: 0.1900 - val_loss: 0.1734\n",
            "Epoch 167/500\n",
            "4/4 [==============================] - 0s 118ms/step - loss: 0.1899 - val_loss: 0.1731\n",
            "Epoch 168/500\n",
            "4/4 [==============================] - 0s 115ms/step - loss: 0.1898 - val_loss: 0.1729\n",
            "Epoch 169/500\n",
            "4/4 [==============================] - 0s 106ms/step - loss: 0.1896 - val_loss: 0.1727\n",
            "Epoch 170/500\n",
            "4/4 [==============================] - 0s 113ms/step - loss: 0.1895 - val_loss: 0.1726\n",
            "Epoch 171/500\n",
            "4/4 [==============================] - 0s 116ms/step - loss: 0.1894 - val_loss: 0.1726\n",
            "Epoch 172/500\n",
            "4/4 [==============================] - 0s 108ms/step - loss: 0.1893 - val_loss: 0.1727\n",
            "Epoch 173/500\n",
            "4/4 [==============================] - 0s 114ms/step - loss: 0.1892 - val_loss: 0.1725\n",
            "Epoch 174/500\n",
            "4/4 [==============================] - 0s 130ms/step - loss: 0.1891 - val_loss: 0.1722\n",
            "Epoch 175/500\n",
            "4/4 [==============================] - 1s 149ms/step - loss: 0.1890 - val_loss: 0.1720\n",
            "Epoch 176/500\n",
            "4/4 [==============================] - 0s 128ms/step - loss: 0.1889 - val_loss: 0.1720\n",
            "Epoch 177/500\n",
            "4/4 [==============================] - 0s 117ms/step - loss: 0.1888 - val_loss: 0.1720\n",
            "Epoch 178/500\n",
            "4/4 [==============================] - 0s 112ms/step - loss: 0.1887 - val_loss: 0.1719\n",
            "Epoch 179/500\n",
            "4/4 [==============================] - 0s 103ms/step - loss: 0.1886 - val_loss: 0.1718\n",
            "Epoch 180/500\n",
            "4/4 [==============================] - 0s 113ms/step - loss: 0.1885 - val_loss: 0.1717\n",
            "Epoch 181/500\n",
            "4/4 [==============================] - 0s 109ms/step - loss: 0.1884 - val_loss: 0.1715\n",
            "Epoch 182/500\n",
            "4/4 [==============================] - 0s 103ms/step - loss: 0.1882 - val_loss: 0.1713\n",
            "Epoch 183/500\n",
            "4/4 [==============================] - 0s 101ms/step - loss: 0.1881 - val_loss: 0.1710\n",
            "Epoch 184/500\n",
            "4/4 [==============================] - 0s 107ms/step - loss: 0.1880 - val_loss: 0.1707\n",
            "Epoch 185/500\n",
            "4/4 [==============================] - 0s 102ms/step - loss: 0.1879 - val_loss: 0.1705\n",
            "Epoch 186/500\n",
            "4/4 [==============================] - 0s 109ms/step - loss: 0.1878 - val_loss: 0.1701\n",
            "Epoch 187/500\n",
            "4/4 [==============================] - 0s 97ms/step - loss: 0.1876 - val_loss: 0.1699\n",
            "Epoch 188/500\n",
            "4/4 [==============================] - 0s 108ms/step - loss: 0.1875 - val_loss: 0.1698\n",
            "Epoch 189/500\n",
            "4/4 [==============================] - 0s 101ms/step - loss: 0.1874 - val_loss: 0.1697\n",
            "Epoch 190/500\n",
            "4/4 [==============================] - 0s 100ms/step - loss: 0.1873 - val_loss: 0.1695\n",
            "Epoch 191/500\n",
            "4/4 [==============================] - 0s 103ms/step - loss: 0.1872 - val_loss: 0.1694\n",
            "Epoch 192/500\n",
            "4/4 [==============================] - 0s 133ms/step - loss: 0.1871 - val_loss: 0.1693\n",
            "Epoch 193/500\n",
            "4/4 [==============================] - 0s 110ms/step - loss: 0.1869 - val_loss: 0.1692\n",
            "Epoch 194/500\n",
            "4/4 [==============================] - 0s 100ms/step - loss: 0.1868 - val_loss: 0.1691\n",
            "Epoch 195/500\n",
            "4/4 [==============================] - 0s 93ms/step - loss: 0.1867 - val_loss: 0.1689\n",
            "Epoch 196/500\n",
            "4/4 [==============================] - 0s 97ms/step - loss: 0.1866 - val_loss: 0.1686\n",
            "Epoch 197/500\n",
            "4/4 [==============================] - 0s 100ms/step - loss: 0.1865 - val_loss: 0.1682\n",
            "Epoch 198/500\n",
            "4/4 [==============================] - 0s 100ms/step - loss: 0.1864 - val_loss: 0.1679\n",
            "Epoch 199/500\n",
            "4/4 [==============================] - 0s 111ms/step - loss: 0.1863 - val_loss: 0.1676\n",
            "Epoch 200/500\n",
            "4/4 [==============================] - 0s 108ms/step - loss: 0.1862 - val_loss: 0.1675\n",
            "Epoch 201/500\n",
            "4/4 [==============================] - 0s 112ms/step - loss: 0.1861 - val_loss: 0.1674\n",
            "Epoch 202/500\n",
            "4/4 [==============================] - 0s 116ms/step - loss: 0.1859 - val_loss: 0.1673\n",
            "Epoch 203/500\n",
            "4/4 [==============================] - 0s 102ms/step - loss: 0.1858 - val_loss: 0.1671\n",
            "Epoch 204/500\n",
            "4/4 [==============================] - 0s 103ms/step - loss: 0.1857 - val_loss: 0.1669\n",
            "Epoch 205/500\n",
            "4/4 [==============================] - 0s 116ms/step - loss: 0.1856 - val_loss: 0.1667\n",
            "Epoch 206/500\n",
            "4/4 [==============================] - 0s 99ms/step - loss: 0.1855 - val_loss: 0.1665\n",
            "Epoch 207/500\n",
            "4/4 [==============================] - 0s 103ms/step - loss: 0.1854 - val_loss: 0.1663\n",
            "Epoch 208/500\n",
            "4/4 [==============================] - 1s 142ms/step - loss: 0.1853 - val_loss: 0.1663\n",
            "Epoch 209/500\n",
            "4/4 [==============================] - 1s 154ms/step - loss: 0.1851 - val_loss: 0.1663\n",
            "Epoch 210/500\n",
            "4/4 [==============================] - 1s 139ms/step - loss: 0.1850 - val_loss: 0.1663\n",
            "Epoch 211/500\n",
            "4/4 [==============================] - 0s 130ms/step - loss: 0.1849 - val_loss: 0.1663\n",
            "Epoch 212/500\n",
            "4/4 [==============================] - 1s 133ms/step - loss: 0.1847 - val_loss: 0.1664\n",
            "Epoch 213/500\n",
            "4/4 [==============================] - 0s 129ms/step - loss: 0.1846 - val_loss: 0.1664\n",
            "Epoch 214/500\n",
            "4/4 [==============================] - 1s 169ms/step - loss: 0.1845 - val_loss: 0.1663\n",
            "Epoch 215/500\n",
            "4/4 [==============================] - 0s 121ms/step - loss: 0.1844 - val_loss: 0.1661\n",
            "Epoch 216/500\n",
            "4/4 [==============================] - 0s 111ms/step - loss: 0.1843 - val_loss: 0.1659\n",
            "Epoch 217/500\n",
            "4/4 [==============================] - 0s 105ms/step - loss: 0.1842 - val_loss: 0.1659\n",
            "Epoch 218/500\n",
            "4/4 [==============================] - 0s 110ms/step - loss: 0.1840 - val_loss: 0.1658\n",
            "Epoch 219/500\n",
            "4/4 [==============================] - 0s 106ms/step - loss: 0.1839 - val_loss: 0.1657\n",
            "Epoch 220/500\n",
            "4/4 [==============================] - 0s 103ms/step - loss: 0.1838 - val_loss: 0.1654\n",
            "Epoch 221/500\n",
            "4/4 [==============================] - 0s 98ms/step - loss: 0.1837 - val_loss: 0.1652\n",
            "Epoch 222/500\n",
            "4/4 [==============================] - 0s 103ms/step - loss: 0.1836 - val_loss: 0.1651\n",
            "Epoch 223/500\n",
            "4/4 [==============================] - 0s 109ms/step - loss: 0.1835 - val_loss: 0.1650\n",
            "Epoch 224/500\n",
            "4/4 [==============================] - 0s 110ms/step - loss: 0.1833 - val_loss: 0.1648\n",
            "Epoch 225/500\n",
            "4/4 [==============================] - 0s 105ms/step - loss: 0.1832 - val_loss: 0.1646\n",
            "Epoch 226/500\n",
            "4/4 [==============================] - 0s 102ms/step - loss: 0.1831 - val_loss: 0.1644\n",
            "Epoch 227/500\n",
            "4/4 [==============================] - 0s 100ms/step - loss: 0.1830 - val_loss: 0.1644\n",
            "Epoch 228/500\n",
            "4/4 [==============================] - 0s 101ms/step - loss: 0.1829 - val_loss: 0.1644\n",
            "Epoch 229/500\n",
            "4/4 [==============================] - 0s 96ms/step - loss: 0.1828 - val_loss: 0.1644\n",
            "Epoch 230/500\n",
            "4/4 [==============================] - 0s 113ms/step - loss: 0.1826 - val_loss: 0.1642\n",
            "Epoch 231/500\n",
            "4/4 [==============================] - 0s 103ms/step - loss: 0.1825 - val_loss: 0.1641\n",
            "Epoch 232/500\n",
            "4/4 [==============================] - 0s 109ms/step - loss: 0.1824 - val_loss: 0.1641\n",
            "Epoch 233/500\n",
            "4/4 [==============================] - 0s 94ms/step - loss: 0.1823 - val_loss: 0.1641\n",
            "Epoch 234/500\n",
            "4/4 [==============================] - 0s 102ms/step - loss: 0.1822 - val_loss: 0.1641\n",
            "Epoch 235/500\n",
            "4/4 [==============================] - 0s 102ms/step - loss: 0.1821 - val_loss: 0.1640\n",
            "Epoch 236/500\n",
            "4/4 [==============================] - 0s 119ms/step - loss: 0.1820 - val_loss: 0.1639\n",
            "Epoch 237/500\n",
            "4/4 [==============================] - 0s 97ms/step - loss: 0.1819 - val_loss: 0.1639\n",
            "Epoch 238/500\n",
            "4/4 [==============================] - 0s 97ms/step - loss: 0.1817 - val_loss: 0.1637\n",
            "Epoch 239/500\n",
            "4/4 [==============================] - 0s 97ms/step - loss: 0.1816 - val_loss: 0.1634\n",
            "Epoch 240/500\n",
            "4/4 [==============================] - 0s 107ms/step - loss: 0.1815 - val_loss: 0.1629\n",
            "Epoch 241/500\n",
            "4/4 [==============================] - 0s 105ms/step - loss: 0.1813 - val_loss: 0.1627\n",
            "Epoch 242/500\n",
            "4/4 [==============================] - 0s 98ms/step - loss: 0.1812 - val_loss: 0.1625\n",
            "Epoch 243/500\n",
            "4/4 [==============================] - 0s 107ms/step - loss: 0.1811 - val_loss: 0.1625\n",
            "Epoch 244/500\n",
            "4/4 [==============================] - 0s 105ms/step - loss: 0.1809 - val_loss: 0.1625\n",
            "Epoch 245/500\n",
            "4/4 [==============================] - 0s 104ms/step - loss: 0.1808 - val_loss: 0.1625\n",
            "Epoch 246/500\n",
            "4/4 [==============================] - 0s 120ms/step - loss: 0.1807 - val_loss: 0.1624\n",
            "Epoch 247/500\n",
            "4/4 [==============================] - 0s 111ms/step - loss: 0.1806 - val_loss: 0.1623\n",
            "Epoch 248/500\n",
            "4/4 [==============================] - 0s 128ms/step - loss: 0.1804 - val_loss: 0.1620\n",
            "Epoch 249/500\n",
            "4/4 [==============================] - 0s 102ms/step - loss: 0.1803 - val_loss: 0.1615\n",
            "Epoch 250/500\n",
            "4/4 [==============================] - 1s 136ms/step - loss: 0.1802 - val_loss: 0.1614\n",
            "Epoch 251/500\n",
            "4/4 [==============================] - 0s 101ms/step - loss: 0.1800 - val_loss: 0.1614\n",
            "Epoch 252/500\n",
            "4/4 [==============================] - 0s 100ms/step - loss: 0.1799 - val_loss: 0.1613\n",
            "Epoch 253/500\n",
            "4/4 [==============================] - 0s 108ms/step - loss: 0.1798 - val_loss: 0.1613\n",
            "Epoch 254/500\n",
            "4/4 [==============================] - 0s 112ms/step - loss: 0.1797 - val_loss: 0.1613\n",
            "Epoch 255/500\n",
            "4/4 [==============================] - 0s 108ms/step - loss: 0.1795 - val_loss: 0.1611\n",
            "Epoch 256/500\n",
            "4/4 [==============================] - 0s 111ms/step - loss: 0.1794 - val_loss: 0.1607\n",
            "Epoch 257/500\n",
            "4/4 [==============================] - 0s 118ms/step - loss: 0.1792 - val_loss: 0.1605\n",
            "Epoch 258/500\n",
            "4/4 [==============================] - 0s 101ms/step - loss: 0.1791 - val_loss: 0.1602\n",
            "Epoch 259/500\n",
            "4/4 [==============================] - 0s 97ms/step - loss: 0.1790 - val_loss: 0.1599\n",
            "Epoch 260/500\n",
            "4/4 [==============================] - 0s 99ms/step - loss: 0.1788 - val_loss: 0.1597\n",
            "Epoch 261/500\n",
            "4/4 [==============================] - 0s 101ms/step - loss: 0.1787 - val_loss: 0.1594\n",
            "Epoch 262/500\n",
            "4/4 [==============================] - 0s 97ms/step - loss: 0.1786 - val_loss: 0.1590\n",
            "Epoch 263/500\n",
            "4/4 [==============================] - 0s 118ms/step - loss: 0.1784 - val_loss: 0.1588\n",
            "Epoch 264/500\n",
            "4/4 [==============================] - 0s 100ms/step - loss: 0.1783 - val_loss: 0.1587\n",
            "Epoch 265/500\n",
            "4/4 [==============================] - 0s 101ms/step - loss: 0.1781 - val_loss: 0.1586\n",
            "Epoch 266/500\n",
            "4/4 [==============================] - 0s 99ms/step - loss: 0.1780 - val_loss: 0.1585\n",
            "Epoch 267/500\n",
            "4/4 [==============================] - 0s 102ms/step - loss: 0.1778 - val_loss: 0.1585\n",
            "Epoch 268/500\n",
            "4/4 [==============================] - 0s 96ms/step - loss: 0.1777 - val_loss: 0.1584\n",
            "Epoch 269/500\n",
            "4/4 [==============================] - 0s 98ms/step - loss: 0.1775 - val_loss: 0.1582\n",
            "Epoch 270/500\n",
            "4/4 [==============================] - 0s 96ms/step - loss: 0.1774 - val_loss: 0.1578\n",
            "Epoch 271/500\n",
            "4/4 [==============================] - 0s 92ms/step - loss: 0.1773 - val_loss: 0.1576\n",
            "Epoch 272/500\n",
            "4/4 [==============================] - 0s 96ms/step - loss: 0.1771 - val_loss: 0.1575\n",
            "Epoch 273/500\n",
            "4/4 [==============================] - 0s 110ms/step - loss: 0.1770 - val_loss: 0.1577\n",
            "Epoch 274/500\n",
            "4/4 [==============================] - 0s 100ms/step - loss: 0.1768 - val_loss: 0.1576\n",
            "Epoch 275/500\n",
            "4/4 [==============================] - 0s 98ms/step - loss: 0.1766 - val_loss: 0.1575\n",
            "Epoch 276/500\n",
            "4/4 [==============================] - 0s 129ms/step - loss: 0.1765 - val_loss: 0.1574\n",
            "Epoch 277/500\n",
            "4/4 [==============================] - 0s 107ms/step - loss: 0.1764 - val_loss: 0.1573\n",
            "Epoch 278/500\n",
            "4/4 [==============================] - 0s 100ms/step - loss: 0.1762 - val_loss: 0.1573\n",
            "Epoch 279/500\n",
            "4/4 [==============================] - 0s 100ms/step - loss: 0.1761 - val_loss: 0.1574\n",
            "Epoch 280/500\n",
            "4/4 [==============================] - 0s 110ms/step - loss: 0.1759 - val_loss: 0.1573\n",
            "Epoch 281/500\n",
            "4/4 [==============================] - 0s 111ms/step - loss: 0.1758 - val_loss: 0.1569\n",
            "Epoch 282/500\n",
            "4/4 [==============================] - 0s 116ms/step - loss: 0.1756 - val_loss: 0.1565\n",
            "Epoch 283/500\n",
            "4/4 [==============================] - 0s 105ms/step - loss: 0.1754 - val_loss: 0.1561\n",
            "Epoch 284/500\n",
            "4/4 [==============================] - 0s 106ms/step - loss: 0.1753 - val_loss: 0.1558\n",
            "Epoch 285/500\n",
            "4/4 [==============================] - 0s 104ms/step - loss: 0.1751 - val_loss: 0.1555\n",
            "Epoch 286/500\n",
            "4/4 [==============================] - 0s 103ms/step - loss: 0.1749 - val_loss: 0.1553\n",
            "Epoch 287/500\n",
            "4/4 [==============================] - 0s 109ms/step - loss: 0.1748 - val_loss: 0.1550\n",
            "Epoch 288/500\n",
            "4/4 [==============================] - 0s 107ms/step - loss: 0.1746 - val_loss: 0.1550\n",
            "Epoch 289/500\n",
            "4/4 [==============================] - 0s 105ms/step - loss: 0.1745 - val_loss: 0.1551\n",
            "Epoch 290/500\n",
            "4/4 [==============================] - 0s 108ms/step - loss: 0.1743 - val_loss: 0.1551\n",
            "Epoch 291/500\n",
            "4/4 [==============================] - 0s 98ms/step - loss: 0.1741 - val_loss: 0.1552\n",
            "Epoch 292/500\n",
            "4/4 [==============================] - 0s 107ms/step - loss: 0.1740 - val_loss: 0.1552\n",
            "Epoch 293/500\n",
            "4/4 [==============================] - 0s 106ms/step - loss: 0.1738 - val_loss: 0.1549\n",
            "Epoch 294/500\n",
            "4/4 [==============================] - 0s 99ms/step - loss: 0.1736 - val_loss: 0.1546\n",
            "Epoch 295/500\n",
            "4/4 [==============================] - 0s 102ms/step - loss: 0.1734 - val_loss: 0.1541\n",
            "Epoch 296/500\n",
            "4/4 [==============================] - 0s 106ms/step - loss: 0.1732 - val_loss: 0.1535\n",
            "Epoch 297/500\n",
            "4/4 [==============================] - 0s 115ms/step - loss: 0.1730 - val_loss: 0.1529\n",
            "Epoch 298/500\n",
            "4/4 [==============================] - 0s 119ms/step - loss: 0.1729 - val_loss: 0.1526\n",
            "Epoch 299/500\n",
            "4/4 [==============================] - 0s 117ms/step - loss: 0.1727 - val_loss: 0.1523\n",
            "Epoch 300/500\n",
            "4/4 [==============================] - 0s 137ms/step - loss: 0.1725 - val_loss: 0.1521\n",
            "Epoch 301/500\n",
            "4/4 [==============================] - 0s 102ms/step - loss: 0.1723 - val_loss: 0.1517\n",
            "Epoch 302/500\n",
            "4/4 [==============================] - 0s 105ms/step - loss: 0.1722 - val_loss: 0.1515\n",
            "Epoch 303/500\n",
            "4/4 [==============================] - 0s 95ms/step - loss: 0.1720 - val_loss: 0.1512\n",
            "Epoch 304/500\n",
            "4/4 [==============================] - 0s 107ms/step - loss: 0.1718 - val_loss: 0.1511\n",
            "Epoch 305/500\n",
            "4/4 [==============================] - 0s 104ms/step - loss: 0.1716 - val_loss: 0.1510\n",
            "Epoch 306/500\n",
            "4/4 [==============================] - 0s 98ms/step - loss: 0.1714 - val_loss: 0.1506\n",
            "Epoch 307/500\n",
            "4/4 [==============================] - 0s 102ms/step - loss: 0.1712 - val_loss: 0.1501\n",
            "Epoch 308/500\n",
            "4/4 [==============================] - 0s 111ms/step - loss: 0.1711 - val_loss: 0.1498\n",
            "Epoch 309/500\n",
            "4/4 [==============================] - 0s 105ms/step - loss: 0.1709 - val_loss: 0.1498\n",
            "Epoch 310/500\n",
            "4/4 [==============================] - 0s 101ms/step - loss: 0.1706 - val_loss: 0.1499\n",
            "Epoch 311/500\n",
            "4/4 [==============================] - 0s 103ms/step - loss: 0.1703 - val_loss: 0.1500\n",
            "Epoch 312/500\n",
            "4/4 [==============================] - 0s 118ms/step - loss: 0.1701 - val_loss: 0.1500\n",
            "Epoch 313/500\n",
            "4/4 [==============================] - 0s 98ms/step - loss: 0.1699 - val_loss: 0.1497\n",
            "Epoch 314/500\n",
            "4/4 [==============================] - 0s 96ms/step - loss: 0.1697 - val_loss: 0.1495\n",
            "Epoch 315/500\n",
            "4/4 [==============================] - 0s 98ms/step - loss: 0.1694 - val_loss: 0.1492\n",
            "Epoch 316/500\n",
            "4/4 [==============================] - 0s 102ms/step - loss: 0.1692 - val_loss: 0.1489\n",
            "Epoch 317/500\n",
            "4/4 [==============================] - 0s 93ms/step - loss: 0.1690 - val_loss: 0.1485\n",
            "Epoch 318/500\n",
            "4/4 [==============================] - 0s 103ms/step - loss: 0.1688 - val_loss: 0.1484\n",
            "Epoch 319/500\n",
            "4/4 [==============================] - 0s 105ms/step - loss: 0.1685 - val_loss: 0.1485\n",
            "Epoch 320/500\n",
            "4/4 [==============================] - 0s 106ms/step - loss: 0.1684 - val_loss: 0.1487\n",
            "Epoch 321/500\n",
            "4/4 [==============================] - 0s 97ms/step - loss: 0.1681 - val_loss: 0.1487\n",
            "Epoch 322/500\n",
            "4/4 [==============================] - 0s 106ms/step - loss: 0.1679 - val_loss: 0.1488\n",
            "Epoch 323/500\n",
            "4/4 [==============================] - 0s 131ms/step - loss: 0.1678 - val_loss: 0.1489\n",
            "Epoch 324/500\n",
            "4/4 [==============================] - 0s 105ms/step - loss: 0.1676 - val_loss: 0.1489\n",
            "Epoch 325/500\n",
            "4/4 [==============================] - 0s 95ms/step - loss: 0.1674 - val_loss: 0.1488\n",
            "Epoch 326/500\n",
            "4/4 [==============================] - 0s 102ms/step - loss: 0.1672 - val_loss: 0.1482\n",
            "Epoch 327/500\n",
            "4/4 [==============================] - 0s 120ms/step - loss: 0.1669 - val_loss: 0.1474\n",
            "Epoch 328/500\n",
            "4/4 [==============================] - 0s 118ms/step - loss: 0.1665 - val_loss: 0.1468\n",
            "Epoch 329/500\n",
            "4/4 [==============================] - 0s 100ms/step - loss: 0.1662 - val_loss: 0.1464\n",
            "Epoch 330/500\n",
            "4/4 [==============================] - 0s 110ms/step - loss: 0.1659 - val_loss: 0.1459\n",
            "Epoch 331/500\n",
            "4/4 [==============================] - 0s 100ms/step - loss: 0.1656 - val_loss: 0.1451\n",
            "Epoch 332/500\n",
            "4/4 [==============================] - 0s 98ms/step - loss: 0.1654 - val_loss: 0.1444\n",
            "Epoch 333/500\n",
            "4/4 [==============================] - 0s 99ms/step - loss: 0.1651 - val_loss: 0.1440\n",
            "Epoch 334/500\n",
            "4/4 [==============================] - 0s 103ms/step - loss: 0.1648 - val_loss: 0.1437\n",
            "Epoch 335/500\n",
            "4/4 [==============================] - 1s 126ms/step - loss: 0.1645 - val_loss: 0.1436\n",
            "Epoch 336/500\n",
            "4/4 [==============================] - 0s 105ms/step - loss: 0.1642 - val_loss: 0.1435\n",
            "Epoch 337/500\n",
            "4/4 [==============================] - 0s 105ms/step - loss: 0.1639 - val_loss: 0.1435\n",
            "Epoch 338/500\n",
            "4/4 [==============================] - 0s 102ms/step - loss: 0.1637 - val_loss: 0.1430\n",
            "Epoch 339/500\n",
            "4/4 [==============================] - 0s 112ms/step - loss: 0.1634 - val_loss: 0.1423\n",
            "Epoch 340/500\n",
            "4/4 [==============================] - 0s 105ms/step - loss: 0.1631 - val_loss: 0.1418\n",
            "Epoch 341/500\n",
            "4/4 [==============================] - 0s 95ms/step - loss: 0.1628 - val_loss: 0.1415\n",
            "Epoch 342/500\n",
            "4/4 [==============================] - 0s 112ms/step - loss: 0.1624 - val_loss: 0.1412\n",
            "Epoch 343/500\n",
            "4/4 [==============================] - 0s 124ms/step - loss: 0.1621 - val_loss: 0.1410\n",
            "Epoch 344/500\n",
            "4/4 [==============================] - 1s 135ms/step - loss: 0.1618 - val_loss: 0.1410\n",
            "Epoch 345/500\n",
            "4/4 [==============================] - 1s 210ms/step - loss: 0.1615 - val_loss: 0.1412\n",
            "Epoch 346/500\n",
            "4/4 [==============================] - 1s 132ms/step - loss: 0.1612 - val_loss: 0.1411\n",
            "Epoch 347/500\n",
            "4/4 [==============================] - 0s 117ms/step - loss: 0.1609 - val_loss: 0.1405\n",
            "Epoch 348/500\n",
            "4/4 [==============================] - 0s 110ms/step - loss: 0.1605 - val_loss: 0.1397\n",
            "Epoch 349/500\n",
            "4/4 [==============================] - 0s 99ms/step - loss: 0.1601 - val_loss: 0.1391\n",
            "Epoch 350/500\n",
            "4/4 [==============================] - 0s 101ms/step - loss: 0.1597 - val_loss: 0.1386\n",
            "Epoch 351/500\n",
            "4/4 [==============================] - 0s 100ms/step - loss: 0.1594 - val_loss: 0.1384\n",
            "Epoch 352/500\n",
            "4/4 [==============================] - 0s 97ms/step - loss: 0.1590 - val_loss: 0.1378\n",
            "Epoch 353/500\n",
            "4/4 [==============================] - 0s 101ms/step - loss: 0.1586 - val_loss: 0.1370\n",
            "Epoch 354/500\n",
            "4/4 [==============================] - 0s 101ms/step - loss: 0.1583 - val_loss: 0.1363\n",
            "Epoch 355/500\n",
            "4/4 [==============================] - 0s 94ms/step - loss: 0.1579 - val_loss: 0.1360\n",
            "Epoch 356/500\n",
            "4/4 [==============================] - 0s 137ms/step - loss: 0.1575 - val_loss: 0.1357\n",
            "Epoch 357/500\n",
            "4/4 [==============================] - 0s 97ms/step - loss: 0.1571 - val_loss: 0.1354\n",
            "Epoch 358/500\n",
            "4/4 [==============================] - 0s 105ms/step - loss: 0.1566 - val_loss: 0.1350\n",
            "Epoch 359/500\n",
            "4/4 [==============================] - 0s 92ms/step - loss: 0.1562 - val_loss: 0.1344\n",
            "Epoch 360/500\n",
            "4/4 [==============================] - 0s 113ms/step - loss: 0.1557 - val_loss: 0.1340\n",
            "Epoch 361/500\n",
            "4/4 [==============================] - 0s 108ms/step - loss: 0.1553 - val_loss: 0.1336\n",
            "Epoch 362/500\n",
            "4/4 [==============================] - 0s 115ms/step - loss: 0.1548 - val_loss: 0.1329\n",
            "Epoch 363/500\n",
            "4/4 [==============================] - 0s 106ms/step - loss: 0.1544 - val_loss: 0.1323\n",
            "Epoch 364/500\n",
            "4/4 [==============================] - 0s 98ms/step - loss: 0.1539 - val_loss: 0.1315\n",
            "Epoch 365/500\n",
            "4/4 [==============================] - 0s 119ms/step - loss: 0.1535 - val_loss: 0.1310\n",
            "Epoch 366/500\n",
            "4/4 [==============================] - 0s 127ms/step - loss: 0.1530 - val_loss: 0.1303\n",
            "Epoch 367/500\n",
            "4/4 [==============================] - 0s 108ms/step - loss: 0.1525 - val_loss: 0.1302\n",
            "Epoch 368/500\n",
            "4/4 [==============================] - 0s 110ms/step - loss: 0.1519 - val_loss: 0.1298\n",
            "Epoch 369/500\n",
            "4/4 [==============================] - 0s 108ms/step - loss: 0.1513 - val_loss: 0.1293\n",
            "Epoch 370/500\n",
            "4/4 [==============================] - 0s 106ms/step - loss: 0.1508 - val_loss: 0.1289\n",
            "Epoch 371/500\n",
            "4/4 [==============================] - 0s 106ms/step - loss: 0.1502 - val_loss: 0.1284\n",
            "Epoch 372/500\n",
            "4/4 [==============================] - 0s 106ms/step - loss: 0.1497 - val_loss: 0.1279\n",
            "Epoch 373/500\n",
            "4/4 [==============================] - 0s 98ms/step - loss: 0.1491 - val_loss: 0.1274\n",
            "Epoch 374/500\n",
            "4/4 [==============================] - 0s 99ms/step - loss: 0.1485 - val_loss: 0.1269\n",
            "Epoch 375/500\n",
            "4/4 [==============================] - 0s 99ms/step - loss: 0.1479 - val_loss: 0.1261\n",
            "Epoch 376/500\n",
            "4/4 [==============================] - 0s 99ms/step - loss: 0.1472 - val_loss: 0.1254\n",
            "Epoch 377/500\n",
            "4/4 [==============================] - 0s 101ms/step - loss: 0.1465 - val_loss: 0.1248\n",
            "Epoch 378/500\n",
            "4/4 [==============================] - 0s 90ms/step - loss: 0.1459 - val_loss: 0.1243\n",
            "Epoch 379/500\n",
            "4/4 [==============================] - 0s 91ms/step - loss: 0.1452 - val_loss: 0.1234\n",
            "Epoch 380/500\n",
            "4/4 [==============================] - 0s 95ms/step - loss: 0.1445 - val_loss: 0.1221\n",
            "Epoch 381/500\n",
            "4/4 [==============================] - 0s 99ms/step - loss: 0.1438 - val_loss: 0.1211\n",
            "Epoch 382/500\n",
            "4/4 [==============================] - 0s 94ms/step - loss: 0.1430 - val_loss: 0.1206\n",
            "Epoch 383/500\n",
            "4/4 [==============================] - 0s 98ms/step - loss: 0.1422 - val_loss: 0.1207\n",
            "Epoch 384/500\n",
            "4/4 [==============================] - 0s 93ms/step - loss: 0.1415 - val_loss: 0.1203\n",
            "Epoch 385/500\n",
            "4/4 [==============================] - 0s 90ms/step - loss: 0.1408 - val_loss: 0.1191\n",
            "Epoch 386/500\n",
            "4/4 [==============================] - 0s 91ms/step - loss: 0.1399 - val_loss: 0.1181\n",
            "Epoch 387/500\n",
            "4/4 [==============================] - 0s 121ms/step - loss: 0.1390 - val_loss: 0.1170\n",
            "Epoch 388/500\n",
            "4/4 [==============================] - 0s 94ms/step - loss: 0.1381 - val_loss: 0.1158\n",
            "Epoch 389/500\n",
            "4/4 [==============================] - 0s 94ms/step - loss: 0.1373 - val_loss: 0.1148\n",
            "Epoch 390/500\n",
            "4/4 [==============================] - 0s 105ms/step - loss: 0.1364 - val_loss: 0.1134\n",
            "Epoch 391/500\n",
            "4/4 [==============================] - 0s 101ms/step - loss: 0.1355 - val_loss: 0.1128\n",
            "Epoch 392/500\n",
            "4/4 [==============================] - 0s 101ms/step - loss: 0.1344 - val_loss: 0.1118\n",
            "Epoch 393/500\n",
            "4/4 [==============================] - 0s 101ms/step - loss: 0.1334 - val_loss: 0.1108\n",
            "Epoch 394/500\n",
            "4/4 [==============================] - 0s 97ms/step - loss: 0.1324 - val_loss: 0.1097\n",
            "Epoch 395/500\n",
            "4/4 [==============================] - 0s 104ms/step - loss: 0.1313 - val_loss: 0.1092\n",
            "Epoch 396/500\n",
            "4/4 [==============================] - 0s 106ms/step - loss: 0.1301 - val_loss: 0.1085\n",
            "Epoch 397/500\n",
            "4/4 [==============================] - 0s 130ms/step - loss: 0.1291 - val_loss: 0.1080\n",
            "Epoch 398/500\n",
            "4/4 [==============================] - 0s 93ms/step - loss: 0.1281 - val_loss: 0.1069\n",
            "Epoch 399/500\n",
            "4/4 [==============================] - 0s 108ms/step - loss: 0.1267 - val_loss: 0.1051\n",
            "Epoch 400/500\n",
            "4/4 [==============================] - 0s 98ms/step - loss: 0.1253 - val_loss: 0.1033\n",
            "Epoch 401/500\n",
            "4/4 [==============================] - 0s 104ms/step - loss: 0.1240 - val_loss: 0.1017\n",
            "Epoch 402/500\n",
            "4/4 [==============================] - 0s 114ms/step - loss: 0.1226 - val_loss: 0.1009\n",
            "Epoch 403/500\n",
            "4/4 [==============================] - 0s 92ms/step - loss: 0.1211 - val_loss: 0.0993\n",
            "Epoch 404/500\n",
            "4/4 [==============================] - 0s 103ms/step - loss: 0.1197 - val_loss: 0.0976\n",
            "Epoch 405/500\n",
            "4/4 [==============================] - 0s 120ms/step - loss: 0.1181 - val_loss: 0.0960\n",
            "Epoch 406/500\n",
            "4/4 [==============================] - 0s 111ms/step - loss: 0.1165 - val_loss: 0.0944\n",
            "Epoch 407/500\n",
            "4/4 [==============================] - 0s 133ms/step - loss: 0.1149 - val_loss: 0.0921\n",
            "Epoch 408/500\n",
            "4/4 [==============================] - 0s 112ms/step - loss: 0.1133 - val_loss: 0.0904\n",
            "Epoch 409/500\n",
            "4/4 [==============================] - 0s 109ms/step - loss: 0.1115 - val_loss: 0.0895\n",
            "Epoch 410/500\n",
            "4/4 [==============================] - 0s 98ms/step - loss: 0.1096 - val_loss: 0.0890\n",
            "Epoch 411/500\n",
            "4/4 [==============================] - 0s 93ms/step - loss: 0.1079 - val_loss: 0.0878\n",
            "Epoch 412/500\n",
            "4/4 [==============================] - 0s 98ms/step - loss: 0.1061 - val_loss: 0.0858\n",
            "Epoch 413/500\n",
            "4/4 [==============================] - 0s 102ms/step - loss: 0.1040 - val_loss: 0.0834\n",
            "Epoch 414/500\n",
            "4/4 [==============================] - 0s 98ms/step - loss: 0.1018 - val_loss: 0.0806\n",
            "Epoch 415/500\n",
            "4/4 [==============================] - 0s 101ms/step - loss: 0.0996 - val_loss: 0.0783\n",
            "Epoch 416/500\n",
            "4/4 [==============================] - 0s 99ms/step - loss: 0.0975 - val_loss: 0.0762\n",
            "Epoch 417/500\n",
            "4/4 [==============================] - 0s 136ms/step - loss: 0.0952 - val_loss: 0.0747\n",
            "Epoch 418/500\n",
            "4/4 [==============================] - 0s 97ms/step - loss: 0.0929 - val_loss: 0.0727\n",
            "Epoch 419/500\n",
            "4/4 [==============================] - 0s 93ms/step - loss: 0.0907 - val_loss: 0.0711\n",
            "Epoch 420/500\n",
            "4/4 [==============================] - 0s 93ms/step - loss: 0.0884 - val_loss: 0.0696\n",
            "Epoch 421/500\n",
            "4/4 [==============================] - 0s 103ms/step - loss: 0.0861 - val_loss: 0.0673\n",
            "Epoch 422/500\n",
            "4/4 [==============================] - 0s 93ms/step - loss: 0.0836 - val_loss: 0.0650\n",
            "Epoch 423/500\n",
            "4/4 [==============================] - 0s 103ms/step - loss: 0.0814 - val_loss: 0.0631\n",
            "Epoch 424/500\n",
            "4/4 [==============================] - 0s 103ms/step - loss: 0.0791 - val_loss: 0.0616\n",
            "Epoch 425/500\n",
            "4/4 [==============================] - 0s 109ms/step - loss: 0.0768 - val_loss: 0.0604\n",
            "Epoch 426/500\n",
            "4/4 [==============================] - 1s 142ms/step - loss: 0.0746 - val_loss: 0.0588\n",
            "Epoch 427/500\n",
            "4/4 [==============================] - 0s 104ms/step - loss: 0.0725 - val_loss: 0.0567\n",
            "Epoch 428/500\n",
            "4/4 [==============================] - 0s 100ms/step - loss: 0.0706 - val_loss: 0.0554\n",
            "Epoch 429/500\n",
            "4/4 [==============================] - 0s 101ms/step - loss: 0.0687 - val_loss: 0.0547\n",
            "Epoch 430/500\n",
            "4/4 [==============================] - 0s 97ms/step - loss: 0.0669 - val_loss: 0.0545\n",
            "Epoch 431/500\n",
            "4/4 [==============================] - 0s 106ms/step - loss: 0.0653 - val_loss: 0.0535\n",
            "Epoch 432/500\n",
            "4/4 [==============================] - 0s 110ms/step - loss: 0.0637 - val_loss: 0.0516\n",
            "Epoch 433/500\n",
            "4/4 [==============================] - 0s 111ms/step - loss: 0.0623 - val_loss: 0.0514\n",
            "Epoch 434/500\n",
            "4/4 [==============================] - 0s 120ms/step - loss: 0.0609 - val_loss: 0.0506\n",
            "Epoch 435/500\n",
            "4/4 [==============================] - 0s 106ms/step - loss: 0.0601 - val_loss: 0.0501\n",
            "Epoch 436/500\n",
            "4/4 [==============================] - 0s 107ms/step - loss: 0.0595 - val_loss: 0.0501\n",
            "Epoch 437/500\n",
            "4/4 [==============================] - 0s 105ms/step - loss: 0.0587 - val_loss: 0.0515\n",
            "Epoch 438/500\n",
            "4/4 [==============================] - 0s 97ms/step - loss: 0.0581 - val_loss: 0.0505\n",
            "Epoch 439/500\n",
            "4/4 [==============================] - 0s 102ms/step - loss: 0.0575 - val_loss: 0.0498\n",
            "Epoch 440/500\n",
            "4/4 [==============================] - 0s 98ms/step - loss: 0.0571 - val_loss: 0.0505\n",
            "Epoch 441/500\n",
            "4/4 [==============================] - 0s 99ms/step - loss: 0.0565 - val_loss: 0.0509\n",
            "Epoch 442/500\n",
            "4/4 [==============================] - 0s 98ms/step - loss: 0.0567 - val_loss: 0.0522\n",
            "Epoch 443/500\n",
            "4/4 [==============================] - 0s 100ms/step - loss: 0.0563 - val_loss: 0.0508\n",
            "Epoch 444/500\n",
            "4/4 [==============================] - 0s 99ms/step - loss: 0.0557 - val_loss: 0.0507\n",
            "Epoch 445/500\n",
            "4/4 [==============================] - 0s 96ms/step - loss: 0.0554 - val_loss: 0.0514\n",
            "Epoch 446/500\n",
            "4/4 [==============================] - 0s 123ms/step - loss: 0.0554 - val_loss: 0.0513\n",
            "Epoch 447/500\n",
            "4/4 [==============================] - 0s 102ms/step - loss: 0.0552 - val_loss: 0.0509\n",
            "Epoch 448/500\n",
            "4/4 [==============================] - 0s 105ms/step - loss: 0.0552 - val_loss: 0.0508\n",
            "Epoch 449/500\n",
            "4/4 [==============================] - 0s 110ms/step - loss: 0.0550 - val_loss: 0.0516\n",
            "Epoch 450/500\n",
            "4/4 [==============================] - 0s 103ms/step - loss: 0.0548 - val_loss: 0.0507\n",
            "Epoch 451/500\n",
            "4/4 [==============================] - 0s 119ms/step - loss: 0.0547 - val_loss: 0.0505\n",
            "Epoch 452/500\n",
            "4/4 [==============================] - 0s 103ms/step - loss: 0.0548 - val_loss: 0.0503\n",
            "Epoch 453/500\n",
            "4/4 [==============================] - 0s 89ms/step - loss: 0.0547 - val_loss: 0.0506\n",
            "Epoch 454/500\n",
            "4/4 [==============================] - 0s 99ms/step - loss: 0.0543 - val_loss: 0.0508\n",
            "Epoch 455/500\n",
            "4/4 [==============================] - 0s 90ms/step - loss: 0.0543 - val_loss: 0.0500\n",
            "Epoch 456/500\n",
            "4/4 [==============================] - 0s 133ms/step - loss: 0.0546 - val_loss: 0.0497\n",
            "Epoch 457/500\n",
            "4/4 [==============================] - 0s 107ms/step - loss: 0.0541 - val_loss: 0.0509\n",
            "Epoch 458/500\n",
            "4/4 [==============================] - 0s 97ms/step - loss: 0.0542 - val_loss: 0.0506\n",
            "Epoch 459/500\n",
            "4/4 [==============================] - 0s 102ms/step - loss: 0.0540 - val_loss: 0.0493\n",
            "Epoch 460/500\n",
            "4/4 [==============================] - 0s 99ms/step - loss: 0.0545 - val_loss: 0.0493\n",
            "Epoch 461/500\n",
            "4/4 [==============================] - 0s 96ms/step - loss: 0.0537 - val_loss: 0.0508\n",
            "Epoch 462/500\n",
            "4/4 [==============================] - 0s 97ms/step - loss: 0.0538 - val_loss: 0.0498\n",
            "Epoch 463/500\n",
            "4/4 [==============================] - 0s 98ms/step - loss: 0.0536 - val_loss: 0.0490\n",
            "Epoch 464/500\n",
            "4/4 [==============================] - 0s 96ms/step - loss: 0.0535 - val_loss: 0.0498\n",
            "Epoch 465/500\n",
            "4/4 [==============================] - 0s 119ms/step - loss: 0.0535 - val_loss: 0.0512\n",
            "Epoch 466/500\n",
            "4/4 [==============================] - 0s 97ms/step - loss: 0.0534 - val_loss: 0.0492\n",
            "Epoch 467/500\n",
            "4/4 [==============================] - 0s 102ms/step - loss: 0.0531 - val_loss: 0.0488\n",
            "Epoch 468/500\n",
            "4/4 [==============================] - 0s 97ms/step - loss: 0.0537 - val_loss: 0.0487\n",
            "Epoch 469/500\n",
            "4/4 [==============================] - 0s 103ms/step - loss: 0.0529 - val_loss: 0.0504\n",
            "Epoch 470/500\n",
            "4/4 [==============================] - 0s 110ms/step - loss: 0.0530 - val_loss: 0.0500\n",
            "Epoch 471/500\n",
            "4/4 [==============================] - 0s 103ms/step - loss: 0.0526 - val_loss: 0.0491\n",
            "Epoch 472/500\n",
            "4/4 [==============================] - 0s 100ms/step - loss: 0.0524 - val_loss: 0.0495\n",
            "Epoch 473/500\n",
            "4/4 [==============================] - 0s 103ms/step - loss: 0.0525 - val_loss: 0.0504\n",
            "Epoch 474/500\n",
            "4/4 [==============================] - 1s 141ms/step - loss: 0.0526 - val_loss: 0.0495\n",
            "Epoch 475/500\n",
            "4/4 [==============================] - 0s 106ms/step - loss: 0.0521 - val_loss: 0.0486\n",
            "Epoch 476/500\n",
            "4/4 [==============================] - 0s 102ms/step - loss: 0.0519 - val_loss: 0.0490\n",
            "Epoch 477/500\n",
            "4/4 [==============================] - 0s 98ms/step - loss: 0.0518 - val_loss: 0.0492\n",
            "Epoch 478/500\n",
            "4/4 [==============================] - 0s 105ms/step - loss: 0.0517 - val_loss: 0.0496\n",
            "Epoch 479/500\n",
            "4/4 [==============================] - 0s 92ms/step - loss: 0.0517 - val_loss: 0.0490\n",
            "Epoch 480/500\n",
            "4/4 [==============================] - 0s 98ms/step - loss: 0.0514 - val_loss: 0.0484\n",
            "Epoch 481/500\n",
            "4/4 [==============================] - 0s 99ms/step - loss: 0.0512 - val_loss: 0.0491\n",
            "Epoch 482/500\n",
            "4/4 [==============================] - 0s 99ms/step - loss: 0.0513 - val_loss: 0.0490\n",
            "Epoch 483/500\n",
            "4/4 [==============================] - 0s 109ms/step - loss: 0.0510 - val_loss: 0.0481\n",
            "Epoch 484/500\n",
            "4/4 [==============================] - 0s 103ms/step - loss: 0.0512 - val_loss: 0.0481\n",
            "Epoch 485/500\n",
            "4/4 [==============================] - 0s 107ms/step - loss: 0.0506 - val_loss: 0.0499\n",
            "Epoch 486/500\n",
            "4/4 [==============================] - 1s 118ms/step - loss: 0.0516 - val_loss: 0.0511\n",
            "Epoch 487/500\n",
            "4/4 [==============================] - 0s 96ms/step - loss: 0.0516 - val_loss: 0.0485\n",
            "Epoch 488/500\n",
            "4/4 [==============================] - 0s 97ms/step - loss: 0.0503 - val_loss: 0.0476\n",
            "Epoch 489/500\n",
            "4/4 [==============================] - 0s 97ms/step - loss: 0.0506 - val_loss: 0.0477\n",
            "Epoch 490/500\n",
            "4/4 [==============================] - 0s 95ms/step - loss: 0.0503 - val_loss: 0.0484\n",
            "Epoch 491/500\n",
            "4/4 [==============================] - 0s 97ms/step - loss: 0.0501 - val_loss: 0.0478\n",
            "Epoch 492/500\n",
            "4/4 [==============================] - 0s 100ms/step - loss: 0.0499 - val_loss: 0.0475\n",
            "Epoch 493/500\n",
            "4/4 [==============================] - 0s 96ms/step - loss: 0.0498 - val_loss: 0.0479\n",
            "Epoch 494/500\n",
            "4/4 [==============================] - 0s 97ms/step - loss: 0.0498 - val_loss: 0.0482\n",
            "Epoch 495/500\n",
            "4/4 [==============================] - 1s 130ms/step - loss: 0.0496 - val_loss: 0.0471\n",
            "Epoch 496/500\n",
            "4/4 [==============================] - 1s 144ms/step - loss: 0.0494 - val_loss: 0.0470\n",
            "Epoch 497/500\n",
            "4/4 [==============================] - 1s 168ms/step - loss: 0.0493 - val_loss: 0.0473\n",
            "Epoch 498/500\n",
            "4/4 [==============================] - 0s 108ms/step - loss: 0.0492 - val_loss: 0.0473\n",
            "Epoch 499/500\n",
            "4/4 [==============================] - 0s 128ms/step - loss: 0.0490 - val_loss: 0.0465\n",
            "Epoch 500/500\n",
            "4/4 [==============================] - 0s 105ms/step - loss: 0.0490 - val_loss: 0.0465\n"
          ]
        }
      ],
      "source": [
        "hist_forward_ncp_without_loop_ctrnn = ncp_model_without_loop_ctrnn.fit(x=x_train_forward_activation_on, y=y_train_forward_activation_on, batch_size=32, epochs=500, validation_data=(x_valid_forward_activation_on, y_valid_forward_activation_on), callbacks=[early_stopping_monitor])"
      ]
    },
    {
      "cell_type": "code",
      "execution_count": 70,
      "metadata": {
        "colab": {
          "base_uri": "https://localhost:8080/",
          "height": 396
        },
        "id": "xPL_KKUHL8F0",
        "outputId": "fc3464d4-47b1-4b51-ce6f-3485ae8d87bb"
      },
      "outputs": [
        {
          "data": {
            "image/png": "[encoded data removed]",
            "text/plain": [
              "<Figure size 600x400 with 1 Axes>"
            ]
          },
          "metadata": {},
          "output_type": "display_data"
        }
      ],
      "source": [
        "# Plotting the history data\n",
        "sns.set()\n",
        "plt.figure(figsize=(6, 4))\n",
        "plt.plot(hist_forward_ncp_without_loop_ctrnn.history[\"loss\"], label=\"Training loss\")\n",
        "plt.plot(hist_forward_ncp_without_loop_ctrnn.history[\"val_loss\"], label=\"Validation loss\")\n",
        "\n",
        "plt.legend(loc=\"upper right\")\n",
        "plt.xlabel(\"Training steps\")\n",
        "plt.ylabel(\"Loss\")\n",
        "plt.show()"
      ]
    },
    {
      "cell_type": "code",
      "execution_count": 71,
      "metadata": {
        "colab": {
          "base_uri": "https://localhost:8080/"
        },
        "id": "S3XuD-56L8F0",
        "outputId": "b1a3e387-0107-4c0b-cfce-25b040a37c59"
      },
      "outputs": [
        {
          "name": "stdout",
          "output_type": "stream",
          "text": [
            "1/1 [==============================] - 1s 666ms/step\n"
          ]
        }
      ],
      "source": [
        "y_test_forward_activation_on_without_loop_ctrnn_predicted2 = ncp_model_without_loop_ctrnn.predict(x_test_forward_activation_on)"
      ]
    },
    {
      "cell_type": "code",
      "execution_count": 72,
      "metadata": {
        "colab": {
          "base_uri": "https://localhost:8080/",
          "height": 497
        },
        "id": "CFYjhoebL8F0",
        "outputId": "4ff26732-a62a-4045-f53a-a7b97e1b2837"
      },
      "outputs": [
        {
          "data": {
            "text/plain": [
              "<Figure size 800x400 with 0 Axes>"
            ]
          },
          "metadata": {},
          "output_type": "display_data"
        },
        {
          "data": {
            "image/png": "[encoded data removed]",
            "text/plain": [
              "<Figure size 640x480 with 3 Axes>"
            ]
          },
          "metadata": {},
          "output_type": "display_data"
        }
      ],
      "source": [
        "# Plotting the training data\n",
        "plt.figure(figsize=(8, 4))\n",
        "fig, axs = plt.subplots(3,1)\n",
        "axs[0].plot(x_test_forward_activation_on[0, :], 'tab:red')\n",
        "axs[0].set_title('PLM')\n",
        "axs[1].plot(y_test_forward_activation_on[0, :], 'tab:blue')\n",
        "axs[1].set_title('AVB true')\n",
        "axs[2].plot(np.squeeze(y_test_forward_activation_on_without_loop_ctrnn_predicted2[0, :]), 'tab:green')\n",
        "axs[2].set_title('AVB predicted')\n",
        "\n",
        "\n",
        "plt.tight_layout()\n",
        "plt.show()"
      ]
    },
    {
      "cell_type": "code",
      "execution_count": null,
      "metadata": {
        "id": "EfWHLMIUUUTa"
      },
      "outputs": [],
      "source": [
        "\n"
      ]
    },
    {
      "cell_type": "markdown",
      "metadata": {
        "id": "5PJiw8c3402B"
      },
      "source": [
        "## Print learned weights"
      ]
    },
    {
      "cell_type": "code",
      "execution_count": 73,
      "metadata": {
        "colab": {
          "base_uri": "https://localhost:8080/"
        },
        "id": "P3ZZJlcU402B",
        "outputId": "2e7b8387-3bf5-41b5-88ff-7e6c483dcbc4"
      },
      "outputs": [
        {
          "data": {
            "text/plain": [
              "[<tf.Variable 'wired_neurons_1/CTRNN_SA_Cell/gleak:0' shape=(1,) dtype=float32, numpy=array([0.0304274], dtype=float32)>,\n",
              " <tf.Variable 'wired_neurons_1/CTRNN_SA_Cell/sigma:0' shape=(1, 1) dtype=float32, numpy=array([[1.]], dtype=float32)>,\n",
              " <tf.Variable 'wired_neurons_1/CTRNN_SA_Cell/mu:0' shape=(1, 1) dtype=float32, numpy=array([[0.]], dtype=float32)>,\n",
              " <tf.Variable 'wired_neurons_1/CTRNN_SA_Cell/w:0' shape=(1, 1) dtype=float32, numpy=array([[-0.9997616]], dtype=float32)>,\n",
              " <tf.Variable 'wired_neurons_1/CTRNN_SA_Cell/sensory_sigma:0' shape=(1, 1) dtype=float32, numpy=array([[1.240091]], dtype=float32)>,\n",
              " <tf.Variable 'wired_neurons_1/CTRNN_SA_Cell/sensory_mu:0' shape=(1, 1) dtype=float32, numpy=array([[0.19162995]], dtype=float32)>,\n",
              " <tf.Variable 'wired_neurons_1/CTRNN_SA_Cell/sensory_w:0' shape=(1, 1) dtype=float32, numpy=array([[0.15810445]], dtype=float32)>]"
            ]
          },
          "execution_count": 73,
          "metadata": {},
          "output_type": "execute_result"
        }
      ],
      "source": [
        "ncp_model_without_loop_ctrnn.variables"
      ]
    },
    {
      "cell_type": "markdown",
      "metadata": {
        "id": "amJ2WIhk402C"
      },
      "source": [
        "## Calculate the ODE based on the current weights"
      ]
    },
    {
      "cell_type": "code",
      "execution_count": 74,
      "metadata": {
        "id": "Kz_x1BkR402C"
      },
      "outputs": [],
      "source": [
        "dict_params_CTRNN = {}\n",
        "params_CTRNN = [\"gl\", \"gamma\", \"mu\", \"w\", \"sensory_gamma\", \"sensory_mu\", \"sensory_w\"]\n",
        "for i, param in enumerate(params_CTRNN):\n",
        "  if param==\"gl\":\n",
        "    dict_params_CTRNN[param] = ncp_model_without_loop_ctrnn.variables[i][0].numpy()\n",
        "  else:\n",
        "    dict_params_CTRNN[param] = ncp_model_without_loop_ctrnn.variables[i][0][0].numpy()"
      ]
    },
    {
      "cell_type": "code",
      "execution_count": 75,
      "metadata": {
        "id": "5JRaMRCH402C"
      },
      "outputs": [],
      "source": [
        "import sympy"
      ]
    },
    {
      "cell_type": "code",
      "execution_count": 76,
      "metadata": {
        "id": "Fm-PNGCV402C"
      },
      "outputs": [],
      "source": [
        "def tanh(x):\n",
        "  return sympy.tanh(x)"
      ]
    },
    {
      "cell_type": "code",
      "execution_count": 77,
      "metadata": {
        "id": "C3w-IPVf402C"
      },
      "outputs": [],
      "source": [
        "x_i_dot_ctrnn = sympy.symbols('x_i_dot')\n",
        "x_i_ctrnn = sympy.symbols('x_i')\n",
        "x_j_ctrnn = sympy.symbols('x_j')"
      ]
    },
    {
      "cell_type": "code",
      "execution_count": 78,
      "metadata": {
        "id": "EZ5vvAg1402C"
      },
      "outputs": [],
      "source": [
        "x_i_dot_ctrnn = -dict_params_CTRNN[\"gl\"]*x_i_ctrnn + (dict_params_CTRNN[\"sensory_w\"]*tanh(dict_params_CTRNN[\"sensory_gamma\"]*(x_j_ctrnn + dict_params_CTRNN[\"sensory_mu\"])))"
      ]
    },
    {
      "cell_type": "markdown",
      "metadata": {
        "id": "GyXJqUJE402C"
      },
      "source": [
        "### This is the differential equation after substituting all the learned weights"
      ]
    },
    {
      "cell_type": "code",
      "execution_count": 79,
      "metadata": {
        "colab": {
          "base_uri": "https://localhost:8080/"
        },
        "id": "55D3qzhX402C",
        "outputId": "f5bc6a42-ab22-4e0e-f69f-237076cc94e2"
      },
      "outputs": [
        {
          "name": "stdout",
          "output_type": "stream",
          "text": [
            "x_i_dot = -0.0304273981601*x_i + 0.158104449510574*tanh(1.24009096622467*x_j + 0.237638565180227)\n"
          ]
        }
      ],
      "source": [
        "print('x_i_dot =', x_i_dot_ctrnn)"
      ]
    },
    {
      "cell_type": "markdown",
      "metadata": {
        "id": "UOhPEn1z402C"
      },
      "source": [
        "### Equation based on the signal of the pre-synaptic neuron"
      ]
    },
    {
      "cell_type": "code",
      "execution_count": 80,
      "metadata": {
        "colab": {
          "base_uri": "https://localhost:8080/"
        },
        "id": "w7ZREK1g402C",
        "outputId": "87a8b6db-04bc-43d2-fb17-9b20a4686c19"
      },
      "outputs": [
        {
          "name": "stdout",
          "output_type": "stream",
          "text": [
            "If x_j=0\n",
            "x_i_dot = 0.0368800824503249 - 0.0304273981601*x_i\n",
            "\n",
            "If x_j=1\n",
            "x_i_dot = 0.142458706931947 - 0.0304273981601*x_i\n"
          ]
        }
      ],
      "source": [
        "print('If x_j=0')\n",
        "x_i_dot_ctrnn_when_x_j_is_0 = x_i_dot_ctrnn.subs(x_j_ctrnn, 0)\n",
        "print('x_i_dot =', x_i_dot_ctrnn_when_x_j_is_0)\n",
        "\n",
        "print('\\nIf x_j=1')\n",
        "x_i_dot_ctrnn_when_x_j_is_1 = x_i_dot_ctrnn.subs(x_j_ctrnn, 1)\n",
        "print('x_i_dot =', x_i_dot_ctrnn_when_x_j_is_1)"
      ]
    },
    {
      "cell_type": "markdown",
      "metadata": {
        "id": "7T9CNHbT402C"
      },
      "source": [
        "### Calculate the derivative of the post-synaptic neuron in the 4 phases of the activation period"
      ]
    },
    {
      "cell_type": "code",
      "execution_count": 81,
      "metadata": {
        "colab": {
          "base_uri": "https://localhost:8080/"
        },
        "id": "R0OmX6ks402C",
        "outputId": "5454decc-58e2-49e3-82a5-d9745d021aa9"
      },
      "outputs": [
        {
          "name": "stdout",
          "output_type": "stream",
          "text": [
            "I. phase of the activation: x_j=0 and x_i=0\n",
            "x_i_dot = 0.0368800824503249\n",
            "\n",
            "\n",
            "II. phase of the activation: x_j=1 and x_i=0\n",
            "x_i_dot = 0.142458706931947\n",
            "\n",
            "\n",
            "III. phase of the activation: x_j=1 and x_i=1\n",
            "x_i_dot = 0.112031308771847\n",
            "\n",
            "\n",
            "IV. phase of the activation: x_j=0 and x_i=1\n",
            "x_i_dot = 0.00645268429022488\n"
          ]
        }
      ],
      "source": [
        "print('I. phase of the activation: x_j=0 and x_i=0')\n",
        "x_i_dot_ctrnn_when_x_i_is_0_and_x_j_is_0 = x_i_dot_ctrnn.subs({x_i_ctrnn: 0, x_j_ctrnn: 0})\n",
        "print('x_i_dot =', x_i_dot_ctrnn_when_x_i_is_0_and_x_j_is_0)\n",
        "\n",
        "print('\\n\\nII. phase of the activation: x_j=1 and x_i=0')\n",
        "x_i_dot_ctrnn_when_x_i_is_0_and_x_j_is_1 = x_i_dot_ctrnn.subs({x_i_ctrnn: 0, x_j_ctrnn: 1})\n",
        "print('x_i_dot =', x_i_dot_ctrnn_when_x_i_is_0_and_x_j_is_1)\n",
        "\n",
        "print('\\n\\nIII. phase of the activation: x_j=1 and x_i=1')\n",
        "x_i_dot_ctrnn_when_x_i_is_1_and_x_j_is_1 = x_i_dot_ctrnn.subs({x_i_ctrnn: 1, x_j_ctrnn: 1})\n",
        "print('x_i_dot =', x_i_dot_ctrnn_when_x_i_is_1_and_x_j_is_1)\n",
        "\n",
        "print('\\n\\nIV. phase of the activation: x_j=0 and x_i=1')\n",
        "x_i_dot_ctrnn_when_x_i_is_1_and_x_j_is_0 = x_i_dot_ctrnn.subs({x_i_ctrnn: 1, x_j_ctrnn: 0})\n",
        "print('x_i_dot =', x_i_dot_ctrnn_when_x_i_is_1_and_x_j_is_0)"
      ]
    },
    {
      "cell_type": "code",
      "execution_count": null,
      "metadata": {
        "id": "dITSSc5e6sT5"
      },
      "outputs": [],
      "source": []
    },
    {
      "cell_type": "code",
      "execution_count": null,
      "metadata": {
        "id": "tcdexZFv8-Pz"
      },
      "outputs": [],
      "source": []
    },
    {
      "cell_type": "markdown",
      "metadata": {
        "id": "VUYdvZiP8-2K"
      },
      "source": [
        "# Forward architecture without self-loop\n",
        "# Neuron type: gap junction (unidirectional!)"
      ]
    },
    {
      "cell_type": "markdown",
      "metadata": {
        "id": "4YuCsobS8-2L"
      },
      "source": [
        "## Create and compile keras model"
      ]
    },
    {
      "cell_type": "code",
      "execution_count": 82,
      "metadata": {
        "colab": {
          "base_uri": "https://localhost:8080/",
          "height": 410
        },
        "id": "S5YLYnZ48-2L",
        "outputId": "1d74f953-6ffc-457a-a6f8-c63d737b0522"
      },
      "outputs": [
        {
          "data": {
            "image/png": "[encoded data removed]",
            "text/plain": [
              "<Figure size 600x400 with 1 Axes>"
            ]
          },
          "metadata": {},
          "output_type": "display_data"
        }
      ],
      "source": [
        "forward_architecture_without_loop = Forward_without_loop(1,1) \n",
        "\n",
        "ncp_model_without_loop_gj = keras.models.Sequential(\n",
        "    [\n",
        "        keras.layers.InputLayer(input_shape=(None, 1)),\n",
        "        WiredNeurons(Gap_Junction_Cell, forward_architecture_without_loop, return_sequences=True, input_mapping=None, output_mapping=None),\n",
        "    ]\n",
        ")\n",
        "ncp_model_without_loop_gj.compile(\n",
        "    optimizer=keras.optimizers.Adam(0.001), loss='mean_squared_error'\n",
        ")\n",
        "sns.set_style(\"white\")\n",
        "plt.figure(figsize=(6, 4))\n",
        "legend_handles = forward_architecture_without_loop.draw_graph(\n",
        "    draw_labels=True,                                         \n",
        "    sensory_neurons=[\"PLM\"], \n",
        "    motor_neurons=[\"AVB\",\"AVA\"],\n",
        "    layout=\"spiral\")\n",
        "\n",
        "plt.legend(handles=legend_handles, bbox_to_anchor=(1.1, 1.1))\n",
        "sns.despine(left=True, bottom=True)\n",
        "plt.tight_layout()\n",
        "plt.show()"
      ]
    },
    {
      "cell_type": "markdown",
      "metadata": {
        "id": "5AyH9niJ8-2L"
      },
      "source": [
        "### Fit the dataset (PLM activates AVB, AVB stays active because of its self-activation)"
      ]
    },
    {
      "cell_type": "code",
      "execution_count": 83,
      "metadata": {
        "id": "-KiHqYjt8-2L"
      },
      "outputs": [],
      "source": [
        "early_stopping_monitor = keras.callbacks.EarlyStopping(\n",
        "    monitor='val_loss',\n",
        "    min_delta=0,\n",
        "    patience=100,\n",
        "    verbose=0,\n",
        "    mode='auto',\n",
        "    baseline=None,\n",
        "    restore_best_weights=True\n",
        ")"
      ]
    },
    {
      "cell_type": "markdown",
      "metadata": {
        "id": "SsSlRrtSXgku"
      },
      "source": [
        "The training gives nans sometimes from the very beginning, probably we need better initial values. Now it is ok to build the model and run the fitting again"
      ]
    },
    {
      "cell_type": "code",
      "execution_count": 84,
      "metadata": {
        "colab": {
          "base_uri": "https://localhost:8080/"
        },
        "id": "oXbwF1Bf8-2L",
        "outputId": "2cdc657b-2e98-4f76-c4a0-22c6339f532e"
      },
      "outputs": [
        {
          "name": "stdout",
          "output_type": "stream",
          "text": [
            "Epoch 1/300\n",
            "100/100 [==============================] - 11s 57ms/step - loss: 430172274688.0000 - val_loss: 86436331520.0000\n",
            "Epoch 2/300\n",
            "100/100 [==============================] - 5s 47ms/step - loss: 54140944384.0000 - val_loss: 37086584832.0000\n",
            "Epoch 3/300\n",
            "100/100 [==============================] - 5s 52ms/step - loss: 26274418688.0000 - val_loss: 22194442240.0000\n",
            "Epoch 4/300\n",
            "100/100 [==============================] - 5s 48ms/step - loss: 16578498560.0000 - val_loss: 14898681856.0000\n",
            "Epoch 5/300\n",
            "100/100 [==============================] - 5s 48ms/step - loss: 11549478912.0000 - val_loss: 10764665856.0000\n",
            "Epoch 6/300\n",
            "100/100 [==============================] - 5s 52ms/step - loss: 8600918016.0000 - val_loss: 8207481856.0000\n",
            "Epoch 7/300\n",
            "100/100 [==============================] - 5s 47ms/step - loss: 6702473728.0000 - val_loss: 6452200960.0000\n",
            "Epoch 8/300\n",
            "100/100 [==============================] - 5s 47ms/step - loss: 5356843520.0000 - val_loss: 5308230656.0000\n",
            "Epoch 9/300\n",
            "100/100 [==============================] - 5s 47ms/step - loss: 4413754880.0000 - val_loss: 4394728448.0000\n",
            "Epoch 10/300\n",
            "100/100 [==============================] - 5s 46ms/step - loss: 3711416832.0000 - val_loss: 3711785728.0000\n",
            "Epoch 11/300\n",
            "100/100 [==============================] - 5s 45ms/step - loss: 3138079232.0000 - val_loss: 3230408960.0000\n",
            "Epoch 12/300\n",
            "100/100 [==============================] - 5s 50ms/step - loss: 2712841472.0000 - val_loss: 2789581824.0000\n",
            "Epoch 13/300\n",
            "100/100 [==============================] - 5s 47ms/step - loss: 2364501248.0000 - val_loss: 2409697536.0000\n",
            "Epoch 14/300\n",
            "100/100 [==============================] - 5s 46ms/step - loss: 2078708864.0000 - val_loss: 2149921280.0000\n",
            "Epoch 15/300\n",
            "100/100 [==============================] - 4s 45ms/step - loss: 1835158528.0000 - val_loss: 1896466432.0000\n",
            "Epoch 16/300\n",
            "100/100 [==============================] - 5s 50ms/step - loss: 1631478528.0000 - val_loss: 1691937536.0000\n",
            "Epoch 17/300\n",
            "100/100 [==============================] - 5s 49ms/step - loss: 1462902912.0000 - val_loss: 1521599360.0000\n",
            "Epoch 18/300\n",
            "100/100 [==============================] - 5s 48ms/step - loss: 1318818432.0000 - val_loss: 1371755648.0000\n",
            "Epoch 19/300\n",
            "100/100 [==============================] - 5s 48ms/step - loss: 1195403392.0000 - val_loss: 1239936768.0000\n",
            "Epoch 20/300\n",
            "100/100 [==============================] - 5s 48ms/step - loss: 1085262464.0000 - val_loss: 1130771712.0000\n",
            "Epoch 21/300\n",
            "100/100 [==============================] - 5s 46ms/step - loss: 988747136.0000 - val_loss: 1035756928.0000\n",
            "Epoch 22/300\n",
            "100/100 [==============================] - 5s 46ms/step - loss: 906708608.0000 - val_loss: 944440320.0000\n",
            "Epoch 23/300\n",
            "100/100 [==============================] - 5s 47ms/step - loss: 830947520.0000 - val_loss: 862532288.0000\n",
            "Epoch 24/300\n",
            "100/100 [==============================] - 4s 45ms/step - loss: 763450624.0000 - val_loss: 794486016.0000\n",
            "Epoch 25/300\n",
            "100/100 [==============================] - 5s 48ms/step - loss: 703670464.0000 - val_loss: 737589888.0000\n",
            "Epoch 26/300\n",
            "100/100 [==============================] - 5s 48ms/step - loss: 650836352.0000 - val_loss: 681058112.0000\n",
            "Epoch 27/300\n",
            "100/100 [==============================] - 5s 47ms/step - loss: 601787648.0000 - val_loss: 630089216.0000\n",
            "Epoch 28/300\n",
            "100/100 [==============================] - 5s 45ms/step - loss: 558510912.0000 - val_loss: 583519360.0000\n",
            "Epoch 29/300\n",
            "100/100 [==============================] - 5s 50ms/step - loss: 518274976.0000 - val_loss: 542559232.0000\n",
            "Epoch 30/300\n",
            "100/100 [==============================] - 5s 47ms/step - loss: 482064480.0000 - val_loss: 505369088.0000\n",
            "Epoch 31/300\n",
            "100/100 [==============================] - 6s 60ms/step - loss: 449379008.0000 - val_loss: 469020256.0000\n",
            "Epoch 32/300\n",
            "100/100 [==============================] - 6s 64ms/step - loss: 418812640.0000 - val_loss: 440525408.0000\n",
            "Epoch 33/300\n",
            "100/100 [==============================] - 5s 54ms/step - loss: 391602176.0000 - val_loss: 410142656.0000\n",
            "Epoch 34/300\n",
            "100/100 [==============================] - 5s 47ms/step - loss: 365895040.0000 - val_loss: 384820256.0000\n",
            "Epoch 35/300\n",
            "100/100 [==============================] - 5s 53ms/step - loss: 342583264.0000 - val_loss: 360318912.0000\n",
            "Epoch 36/300\n",
            "100/100 [==============================] - 5s 45ms/step - loss: 321552896.0000 - val_loss: 335485536.0000\n",
            "Epoch 37/300\n",
            "100/100 [==============================] - 5s 49ms/step - loss: 300984416.0000 - val_loss: 315356480.0000\n",
            "Epoch 38/300\n",
            "100/100 [==============================] - 5s 45ms/step - loss: 282662688.0000 - val_loss: 296996864.0000\n",
            "Epoch 39/300\n",
            "100/100 [==============================] - 5s 49ms/step - loss: 265770000.0000 - val_loss: 277635648.0000\n",
            "Epoch 40/300\n",
            "100/100 [==============================] - 5s 53ms/step - loss: 249472880.0000 - val_loss: 262483584.0000\n",
            "Epoch 41/300\n",
            "100/100 [==============================] - 5s 51ms/step - loss: 235094880.0000 - val_loss: 245753216.0000\n",
            "Epoch 42/300\n",
            "100/100 [==============================] - 5s 46ms/step - loss: 221114800.0000 - val_loss: 230941440.0000\n",
            "Epoch 43/300\n",
            "100/100 [==============================] - 5s 49ms/step - loss: 208132000.0000 - val_loss: 218510048.0000\n",
            "Epoch 44/300\n",
            "100/100 [==============================] - 5s 47ms/step - loss: 196170240.0000 - val_loss: 205263552.0000\n",
            "Epoch 45/300\n",
            "100/100 [==============================] - 5s 49ms/step - loss: 184993424.0000 - val_loss: 193900576.0000\n",
            "Epoch 46/300\n",
            "100/100 [==============================] - 5s 45ms/step - loss: 174522656.0000 - val_loss: 182548928.0000\n",
            "Epoch 47/300\n",
            "100/100 [==============================] - 6s 56ms/step - loss: 164650288.0000 - val_loss: 172312880.0000\n",
            "Epoch 48/300\n",
            "100/100 [==============================] - 4s 45ms/step - loss: 155406032.0000 - val_loss: 163025760.0000\n",
            "Epoch 49/300\n",
            "100/100 [==============================] - 5s 51ms/step - loss: 146941552.0000 - val_loss: 154336576.0000\n",
            "Epoch 50/300\n",
            "100/100 [==============================] - 5s 46ms/step - loss: 138790816.0000 - val_loss: 145536720.0000\n",
            "Epoch 51/300\n",
            "100/100 [==============================] - 5s 46ms/step - loss: 131167024.0000 - val_loss: 138138416.0000\n",
            "Epoch 52/300\n",
            "100/100 [==============================] - 5s 47ms/step - loss: 124299528.0000 - val_loss: 129477424.0000\n",
            "Epoch 53/300\n",
            "100/100 [==============================] - 5s 48ms/step - loss: 117311120.0000 - val_loss: 122595712.0000\n",
            "Epoch 54/300\n",
            "100/100 [==============================] - 5s 51ms/step - loss: 111065208.0000 - val_loss: 116021016.0000\n",
            "Epoch 55/300\n",
            "100/100 [==============================] - 5s 45ms/step - loss: 105098016.0000 - val_loss: 110003800.0000\n",
            "Epoch 56/300\n",
            "100/100 [==============================] - 5s 49ms/step - loss: 99565944.0000 - val_loss: 103936680.0000\n",
            "Epoch 57/300\n",
            "100/100 [==============================] - 5s 46ms/step - loss: 94339872.0000 - val_loss: 98375736.0000\n",
            "Epoch 58/300\n",
            "100/100 [==============================] - 5s 49ms/step - loss: 89337320.0000 - val_loss: 93332904.0000\n",
            "Epoch 59/300\n",
            "100/100 [==============================] - 5s 45ms/step - loss: 84678672.0000 - val_loss: 88456536.0000\n",
            "Epoch 60/300\n",
            "100/100 [==============================] - 5s 48ms/step - loss: 80266816.0000 - val_loss: 83688160.0000\n",
            "Epoch 61/300\n",
            "100/100 [==============================] - 5s 45ms/step - loss: 76069960.0000 - val_loss: 79951064.0000\n",
            "Epoch 62/300\n",
            "100/100 [==============================] - 5s 53ms/step - loss: 72176296.0000 - val_loss: 75222176.0000\n",
            "Epoch 63/300\n",
            "100/100 [==============================] - 5s 51ms/step - loss: 68406392.0000 - val_loss: 71238288.0000\n",
            "Epoch 64/300\n",
            "100/100 [==============================] - 5s 49ms/step - loss: 64850140.0000 - val_loss: 68017088.0000\n",
            "Epoch 65/300\n",
            "100/100 [==============================] - 5s 46ms/step - loss: 61569804.0000 - val_loss: 64115092.0000\n",
            "Epoch 66/300\n",
            "100/100 [==============================] - 5s 49ms/step - loss: 58400716.0000 - val_loss: 61436492.0000\n",
            "Epoch 67/300\n",
            "100/100 [==============================] - 6s 57ms/step - loss: 55389604.0000 - val_loss: 57886720.0000\n",
            "Epoch 68/300\n",
            "100/100 [==============================] - 5s 48ms/step - loss: 52584248.0000 - val_loss: 54937228.0000\n",
            "Epoch 69/300\n",
            "100/100 [==============================] - 5s 47ms/step - loss: 49911960.0000 - val_loss: 51979940.0000\n",
            "Epoch 70/300\n",
            "100/100 [==============================] - 5s 46ms/step - loss: 47339316.0000 - val_loss: 49544456.0000\n",
            "Epoch 71/300\n",
            "100/100 [==============================] - 5s 45ms/step - loss: 44955084.0000 - val_loss: 47113392.0000\n",
            "Epoch 72/300\n",
            "100/100 [==============================] - 5s 45ms/step - loss: 42728836.0000 - val_loss: 44381624.0000\n",
            "Epoch 73/300\n",
            "100/100 [==============================] - 5s 46ms/step - loss: 40508560.0000 - val_loss: 42266916.0000\n",
            "Epoch 74/300\n",
            "100/100 [==============================] - 5s 45ms/step - loss: 38486580.0000 - val_loss: 40238520.0000\n",
            "Epoch 75/300\n",
            "100/100 [==============================] - 5s 47ms/step - loss: 36576024.0000 - val_loss: 38083256.0000\n",
            "Epoch 76/300\n",
            "100/100 [==============================] - 5s 47ms/step - loss: 34732688.0000 - val_loss: 36158264.0000\n",
            "Epoch 77/300\n",
            "100/100 [==============================] - 5s 46ms/step - loss: 32993296.0000 - val_loss: 34319260.0000\n",
            "Epoch 78/300\n",
            "100/100 [==============================] - 4s 45ms/step - loss: 31336358.0000 - val_loss: 32688224.0000\n",
            "Epoch 79/300\n",
            "100/100 [==============================] - 5s 48ms/step - loss: 29793122.0000 - val_loss: 31073942.0000\n",
            "Epoch 80/300\n",
            "100/100 [==============================] - 5s 50ms/step - loss: 28321090.0000 - val_loss: 29419830.0000\n",
            "Epoch 81/300\n",
            "100/100 [==============================] - 5s 49ms/step - loss: 26882762.0000 - val_loss: 27964708.0000\n",
            "Epoch 82/300\n",
            "100/100 [==============================] - 5s 46ms/step - loss: 25552948.0000 - val_loss: 26654564.0000\n",
            "Epoch 83/300\n",
            "100/100 [==============================] - 5s 47ms/step - loss: 24306772.0000 - val_loss: 25253156.0000\n",
            "Epoch 84/300\n",
            "100/100 [==============================] - 5s 48ms/step - loss: 23090092.0000 - val_loss: 24002234.0000\n",
            "Epoch 85/300\n",
            "100/100 [==============================] - 5s 46ms/step - loss: 21959634.0000 - val_loss: 22825964.0000\n",
            "Epoch 86/300\n",
            "100/100 [==============================] - 5s 46ms/step - loss: 20864892.0000 - val_loss: 21652486.0000\n",
            "Epoch 87/300\n",
            "100/100 [==============================] - 5s 45ms/step - loss: 19828880.0000 - val_loss: 20735208.0000\n",
            "Epoch 88/300\n",
            "100/100 [==============================] - 5s 49ms/step - loss: 18863934.0000 - val_loss: 19588068.0000\n",
            "Epoch 89/300\n",
            "100/100 [==============================] - 5s 47ms/step - loss: 17923896.0000 - val_loss: 18618468.0000\n",
            "Epoch 90/300\n",
            "100/100 [==============================] - 5s 48ms/step - loss: 17042664.0000 - val_loss: 17736526.0000\n",
            "Epoch 91/300\n",
            "100/100 [==============================] - 5s 46ms/step - loss: 16208070.0000 - val_loss: 16808052.0000\n",
            "Epoch 92/300\n",
            "100/100 [==============================] - 5s 49ms/step - loss: 15406779.0000 - val_loss: 16017155.0000\n",
            "Epoch 93/300\n",
            "100/100 [==============================] - 5s 54ms/step - loss: 14642766.0000 - val_loss: 15255550.0000\n",
            "Epoch 94/300\n",
            "100/100 [==============================] - 5s 49ms/step - loss: 13944110.0000 - val_loss: 14449858.0000\n",
            "Epoch 95/300\n",
            "100/100 [==============================] - 6s 57ms/step - loss: 13245522.0000 - val_loss: 13751035.0000\n",
            "Epoch 96/300\n",
            "100/100 [==============================] - 6s 59ms/step - loss: 12599704.0000 - val_loss: 13066834.0000\n",
            "Epoch 97/300\n",
            "100/100 [==============================] - 5s 47ms/step - loss: 11981400.0000 - val_loss: 12421411.0000\n",
            "Epoch 98/300\n",
            "100/100 [==============================] - 5s 47ms/step - loss: 11390089.0000 - val_loss: 11815146.0000\n",
            "Epoch 99/300\n",
            "100/100 [==============================] - 5s 46ms/step - loss: 10833281.0000 - val_loss: 11238840.0000\n",
            "Epoch 100/300\n",
            "100/100 [==============================] - 5s 47ms/step - loss: 10305839.0000 - val_loss: 10705350.0000\n",
            "Epoch 101/300\n",
            "100/100 [==============================] - 5s 54ms/step - loss: 9803328.0000 - val_loss: 10166742.0000\n",
            "Epoch 102/300\n",
            "100/100 [==============================] - 5s 54ms/step - loss: 9322978.0000 - val_loss: 9680394.0000\n",
            "Epoch 103/300\n",
            "100/100 [==============================] - 5s 45ms/step - loss: 8869057.0000 - val_loss: 9192182.0000\n",
            "Epoch 104/300\n",
            "100/100 [==============================] - 5s 47ms/step - loss: 8436865.0000 - val_loss: 8745702.0000\n",
            "Epoch 105/300\n",
            "100/100 [==============================] - 5s 50ms/step - loss: 8025156.0000 - val_loss: 8304689.5000\n",
            "Epoch 106/300\n",
            "100/100 [==============================] - 5s 47ms/step - loss: 7631765.0000 - val_loss: 7942357.5000\n",
            "Epoch 107/300\n",
            "100/100 [==============================] - 5s 54ms/step - loss: 7256327.5000 - val_loss: 7516561.0000\n",
            "Epoch 108/300\n",
            "100/100 [==============================] - 5s 46ms/step - loss: 6900702.5000 - val_loss: 7155564.0000\n",
            "Epoch 109/300\n",
            "100/100 [==============================] - 5s 47ms/step - loss: 6561545.0000 - val_loss: 6807568.0000\n",
            "Epoch 110/300\n",
            "100/100 [==============================] - 5s 48ms/step - loss: 6248851.0000 - val_loss: 6480921.0000\n",
            "Epoch 111/300\n",
            "100/100 [==============================] - 5s 47ms/step - loss: 5946098.5000 - val_loss: 6144619.0000\n",
            "Epoch 112/300\n",
            "100/100 [==============================] - 5s 46ms/step - loss: 5651028.5000 - val_loss: 5853662.0000\n",
            "Epoch 113/300\n",
            "100/100 [==============================] - 5s 47ms/step - loss: 5381388.0000 - val_loss: 5566711.5000\n",
            "Epoch 114/300\n",
            "100/100 [==============================] - 5s 48ms/step - loss: 5114701.5000 - val_loss: 5294193.0000\n",
            "Epoch 115/300\n",
            "100/100 [==============================] - 5s 46ms/step - loss: 4866099.0000 - val_loss: 5036690.5000\n",
            "Epoch 116/300\n",
            "100/100 [==============================] - 5s 47ms/step - loss: 4629157.5000 - val_loss: 4795993.0000\n",
            "Epoch 117/300\n",
            "100/100 [==============================] - 5s 48ms/step - loss: 4403775.5000 - val_loss: 4555729.0000\n",
            "Epoch 118/300\n",
            "100/100 [==============================] - 5s 50ms/step - loss: 4188610.5000 - val_loss: 4334723.0000\n",
            "Epoch 119/300\n",
            "100/100 [==============================] - 5s 46ms/step - loss: 3985342.5000 - val_loss: 4126783.2500\n",
            "Epoch 120/300\n",
            "100/100 [==============================] - 5s 48ms/step - loss: 3791899.0000 - val_loss: 3921347.5000\n",
            "Epoch 121/300\n",
            "100/100 [==============================] - 5s 48ms/step - loss: 3610825.5000 - val_loss: 3724102.0000\n",
            "Epoch 122/300\n",
            "100/100 [==============================] - 5s 46ms/step - loss: 3431848.0000 - val_loss: 3547100.0000\n",
            "Epoch 123/300\n",
            "100/100 [==============================] - 5s 47ms/step - loss: 3264624.0000 - val_loss: 3395314.7500\n",
            "Epoch 124/300\n",
            "100/100 [==============================] - 5s 55ms/step - loss: 3106443.0000 - val_loss: 3209719.2500\n",
            "Epoch 125/300\n",
            "100/100 [==============================] - 5s 47ms/step - loss: 2954047.2500 - val_loss: 3055621.2500\n",
            "Epoch 126/300\n",
            "100/100 [==============================] - 5s 46ms/step - loss: 2809519.2500 - val_loss: 2909599.2500\n",
            "Epoch 127/300\n",
            "100/100 [==============================] - 5s 46ms/step - loss: 2671766.0000 - val_loss: 2778726.7500\n",
            "Epoch 128/300\n",
            "100/100 [==============================] - 5s 50ms/step - loss: 2542361.0000 - val_loss: 2643529.0000\n",
            "Epoch 129/300\n",
            "100/100 [==============================] - 5s 45ms/step - loss: 2422870.2500 - val_loss: 2502892.2500\n",
            "Epoch 130/300\n",
            "100/100 [==============================] - 5s 49ms/step - loss: 2300083.0000 - val_loss: 2383649.0000\n",
            "Epoch 131/300\n",
            "100/100 [==============================] - 5s 50ms/step - loss: 2190600.7500 - val_loss: 2262037.0000\n",
            "Epoch 132/300\n",
            "100/100 [==============================] - 5s 45ms/step - loss: 2081604.6250 - val_loss: 2161384.0000\n",
            "Epoch 133/300\n",
            "100/100 [==============================] - 5s 46ms/step - loss: 1981577.8750 - val_loss: 2051031.3750\n",
            "Epoch 134/300\n",
            "100/100 [==============================] - 5s 49ms/step - loss: 1885031.5000 - val_loss: 1950353.7500\n",
            "Epoch 135/300\n",
            "100/100 [==============================] - 5s 48ms/step - loss: 1792971.3750 - val_loss: 1865636.6250\n",
            "Epoch 136/300\n",
            "100/100 [==============================] - 5s 47ms/step - loss: 1707405.0000 - val_loss: 1765345.6250\n",
            "Epoch 137/300\n",
            "100/100 [==============================] - 5s 46ms/step - loss: 1623224.6250 - val_loss: 1678852.6250\n",
            "Epoch 138/300\n",
            "100/100 [==============================] - 5s 46ms/step - loss: 1545461.7500 - val_loss: 1595799.8750\n",
            "Epoch 139/300\n",
            "100/100 [==============================] - 5s 54ms/step - loss: 1470766.1250 - val_loss: 1518042.5000\n",
            "Epoch 140/300\n",
            "100/100 [==============================] - 6s 58ms/step - loss: 1398342.5000 - val_loss: 1451878.7500\n",
            "Epoch 141/300\n",
            "100/100 [==============================] - 6s 57ms/step - loss: 1331038.6250 - val_loss: 1374599.7500\n",
            "Epoch 142/300\n",
            "100/100 [==============================] - 6s 60ms/step - loss: 1265445.2500 - val_loss: 1310304.7500\n",
            "Epoch 143/300\n",
            "100/100 [==============================] - 6s 60ms/step - loss: 1204320.3750 - val_loss: 1245562.2500\n",
            "Epoch 144/300\n",
            "100/100 [==============================] - 6s 59ms/step - loss: 1148222.5000 - val_loss: 1185137.0000\n",
            "Epoch 145/300\n",
            "100/100 [==============================] - 6s 57ms/step - loss: 1090632.6250 - val_loss: 1128335.7500\n",
            "Epoch 146/300\n",
            "100/100 [==============================] - 7s 72ms/step - loss: 1036962.8750 - val_loss: 1071013.6250\n",
            "Epoch 147/300\n",
            "100/100 [==============================] - 7s 65ms/step - loss: 987068.1875 - val_loss: 1018533.3125\n",
            "Epoch 148/300\n",
            "100/100 [==============================] - 6s 65ms/step - loss: 938589.8125 - val_loss: 971232.0000\n",
            "Epoch 149/300\n",
            "100/100 [==============================] - 7s 73ms/step - loss: 893432.9375 - val_loss: 922384.6250\n",
            "Epoch 150/300\n",
            "100/100 [==============================] - 6s 64ms/step - loss: 849855.1875 - val_loss: 880341.6875\n",
            "Epoch 151/300\n",
            "100/100 [==============================] - 6s 65ms/step - loss: 808641.5000 - val_loss: 835883.7500\n",
            "Epoch 152/300\n",
            "100/100 [==============================] - 6s 64ms/step - loss: 769727.2500 - val_loss: 794725.9375\n",
            "Epoch 153/300\n",
            "100/100 [==============================] - 8s 83ms/step - loss: 731634.3125 - val_loss: 757692.9375\n",
            "Epoch 154/300\n",
            "100/100 [==============================] - 10s 102ms/step - loss: 696770.7500 - val_loss: 721965.3750\n",
            "Epoch 155/300\n",
            "100/100 [==============================] - 7s 67ms/step - loss: 662843.9375 - val_loss: 685807.0625\n",
            "Epoch 156/300\n",
            "100/100 [==============================] - 6s 64ms/step - loss: 630262.8750 - val_loss: 652175.3750\n",
            "Epoch 157/300\n",
            "100/100 [==============================] - 6s 65ms/step - loss: 600213.2500 - val_loss: 619173.6875\n",
            "Epoch 158/300\n",
            "100/100 [==============================] - 6s 63ms/step - loss: 570498.8125 - val_loss: 591069.6250\n",
            "Epoch 159/300\n",
            "100/100 [==============================] - 6s 61ms/step - loss: 543099.8125 - val_loss: 561226.0625\n",
            "Epoch 160/300\n",
            "100/100 [==============================] - 6s 64ms/step - loss: 516998.1250 - val_loss: 533836.3125\n",
            "Epoch 161/300\n",
            "100/100 [==============================] - 6s 65ms/step - loss: 491655.1562 - val_loss: 508782.0000\n",
            "Epoch 162/300\n",
            "100/100 [==============================] - 6s 62ms/step - loss: 467764.4062 - val_loss: 484646.9062\n",
            "Epoch 163/300\n",
            "100/100 [==============================] - 6s 62ms/step - loss: 445049.6875 - val_loss: 460725.3125\n",
            "Epoch 164/300\n",
            "100/100 [==============================] - 6s 57ms/step - loss: 423243.3125 - val_loss: 439948.0938\n",
            "Epoch 165/300\n",
            "100/100 [==============================] - 6s 56ms/step - loss: 403799.7500 - val_loss: 416200.1562\n",
            "Epoch 166/300\n",
            "100/100 [==============================] - 6s 61ms/step - loss: 383189.1250 - val_loss: 398332.0625\n",
            "Epoch 167/300\n",
            "100/100 [==============================] - 6s 58ms/step - loss: 364769.6875 - val_loss: 378621.4688\n",
            "Epoch 168/300\n",
            "100/100 [==============================] - 6s 57ms/step - loss: 346912.2500 - val_loss: 360103.6875\n",
            "Epoch 169/300\n",
            "100/100 [==============================] - 6s 60ms/step - loss: 329979.4688 - val_loss: 343025.4062\n",
            "Epoch 170/300\n",
            "100/100 [==============================] - 6s 63ms/step - loss: 313923.1250 - val_loss: 325780.6875\n",
            "Epoch 171/300\n",
            "100/100 [==============================] - 6s 59ms/step - loss: 298940.9062 - val_loss: 310322.3438\n",
            "Epoch 172/300\n",
            "100/100 [==============================] - 6s 58ms/step - loss: 284148.8750 - val_loss: 294636.9375\n",
            "Epoch 173/300\n",
            "100/100 [==============================] - 6s 59ms/step - loss: 270234.2812 - val_loss: 280334.3125\n",
            "Epoch 174/300\n",
            "100/100 [==============================] - 6s 60ms/step - loss: 257109.7969 - val_loss: 266467.2500\n",
            "Epoch 175/300\n",
            "100/100 [==============================] - 5s 55ms/step - loss: 244610.0625 - val_loss: 253986.2188\n",
            "Epoch 176/300\n",
            "100/100 [==============================] - 6s 62ms/step - loss: 232669.1406 - val_loss: 241692.1250\n",
            "Epoch 177/300\n",
            "100/100 [==============================] - 6s 61ms/step - loss: 221517.7969 - val_loss: 229314.1562\n",
            "Epoch 178/300\n",
            "100/100 [==============================] - 6s 62ms/step - loss: 210704.8125 - val_loss: 218448.1719\n",
            "Epoch 179/300\n",
            "100/100 [==============================] - 6s 60ms/step - loss: 200418.9219 - val_loss: 207860.8438\n",
            "Epoch 180/300\n",
            "100/100 [==============================] - 6s 61ms/step - loss: 190711.8125 - val_loss: 198231.5312\n",
            "Epoch 181/300\n",
            "100/100 [==============================] - 6s 63ms/step - loss: 181519.2656 - val_loss: 187888.0469\n",
            "Epoch 182/300\n",
            "100/100 [==============================] - 6s 59ms/step - loss: 172493.5469 - val_loss: 179199.3125\n",
            "Epoch 183/300\n",
            "100/100 [==============================] - 6s 60ms/step - loss: 164141.5625 - val_loss: 170291.0312\n",
            "Epoch 184/300\n",
            "100/100 [==============================] - 6s 59ms/step - loss: 156181.8281 - val_loss: 162000.6094\n",
            "Epoch 185/300\n",
            "100/100 [==============================] - 6s 58ms/step - loss: 148556.2031 - val_loss: 154713.9688\n",
            "Epoch 186/300\n",
            "100/100 [==============================] - 6s 60ms/step - loss: 141461.3438 - val_loss: 146566.8281\n",
            "Epoch 187/300\n",
            "100/100 [==============================] - 6s 64ms/step - loss: 134587.5625 - val_loss: 140151.3906\n",
            "Epoch 188/300\n",
            "100/100 [==============================] - 6s 62ms/step - loss: 128008.8672 - val_loss: 132483.0938\n",
            "Epoch 189/300\n",
            "100/100 [==============================] - 6s 59ms/step - loss: 121705.3516 - val_loss: 126049.9219\n",
            "Epoch 190/300\n",
            "100/100 [==============================] - 6s 57ms/step - loss: 115823.9922 - val_loss: 120059.7266\n",
            "Epoch 191/300\n",
            "100/100 [==============================] - 6s 58ms/step - loss: 110272.1875 - val_loss: 114428.3516\n",
            "Epoch 192/300\n",
            "100/100 [==============================] - 6s 61ms/step - loss: 104941.7422 - val_loss: 109433.0859\n",
            "Epoch 193/300\n",
            "100/100 [==============================] - 6s 62ms/step - loss: 99816.2578 - val_loss: 104004.6016\n",
            "Epoch 194/300\n",
            "100/100 [==============================] - 6s 59ms/step - loss: 94915.3672 - val_loss: 99112.1406\n",
            "Epoch 195/300\n",
            "100/100 [==============================] - 6s 59ms/step - loss: 90295.3984 - val_loss: 93682.2344\n",
            "Epoch 196/300\n",
            "100/100 [==============================] - 6s 56ms/step - loss: 85862.4531 - val_loss: 89441.7188\n",
            "Epoch 197/300\n",
            "100/100 [==============================] - 6s 59ms/step - loss: 81739.4688 - val_loss: 84930.3438\n",
            "Epoch 198/300\n",
            "100/100 [==============================] - 6s 64ms/step - loss: 77757.9297 - val_loss: 80697.3359\n",
            "Epoch 199/300\n",
            "100/100 [==============================] - 6s 58ms/step - loss: 73895.2969 - val_loss: 76792.7734\n",
            "Epoch 200/300\n",
            "100/100 [==============================] - 6s 61ms/step - loss: 70362.0938 - val_loss: 73060.3750\n",
            "Epoch 201/300\n",
            "100/100 [==============================] - 6s 58ms/step - loss: 66939.9688 - val_loss: 69584.3594\n",
            "Epoch 202/300\n",
            "100/100 [==============================] - 6s 58ms/step - loss: 63644.7852 - val_loss: 66454.6094\n",
            "Epoch 203/300\n",
            "100/100 [==============================] - 5s 51ms/step - loss: 60619.6484 - val_loss: 62849.5234\n",
            "Epoch 204/300\n",
            "100/100 [==============================] - 6s 57ms/step - loss: 57606.8633 - val_loss: 60207.6250\n",
            "Epoch 205/300\n",
            "100/100 [==============================] - 6s 59ms/step - loss: 54819.6953 - val_loss: 57308.8828\n",
            "Epoch 206/300\n",
            "100/100 [==============================] - 6s 59ms/step - loss: 52194.1602 - val_loss: 54182.7070\n",
            "Epoch 207/300\n",
            "100/100 [==============================] - 6s 60ms/step - loss: 49603.6719 - val_loss: 51616.3281\n",
            "Epoch 208/300\n",
            "100/100 [==============================] - 6s 59ms/step - loss: 47206.1484 - val_loss: 49145.8828\n",
            "Epoch 209/300\n",
            "100/100 [==============================] - 6s 64ms/step - loss: 44920.5703 - val_loss: 46804.3555\n",
            "Epoch 210/300\n",
            "100/100 [==============================] - 6s 58ms/step - loss: 42723.7305 - val_loss: 44667.0781\n",
            "Epoch 211/300\n",
            "100/100 [==============================] - 6s 59ms/step - loss: 40703.7109 - val_loss: 42268.2891\n",
            "Epoch 212/300\n",
            "100/100 [==============================] - 6s 61ms/step - loss: 38690.8359 - val_loss: 40324.2422\n",
            "Epoch 213/300\n",
            "100/100 [==============================] - 6s 61ms/step - loss: 36810.1484 - val_loss: 38507.9570\n",
            "Epoch 214/300\n",
            "100/100 [==============================] - 6s 61ms/step - loss: 35044.0664 - val_loss: 36477.1445\n",
            "Epoch 215/300\n",
            "100/100 [==============================] - 5s 48ms/step - loss: 33311.6172 - val_loss: 34814.0078\n",
            "Epoch 216/300\n",
            "100/100 [==============================] - 6s 60ms/step - loss: 31692.8945 - val_loss: 33042.3047\n",
            "Epoch 217/300\n",
            "100/100 [==============================] - 6s 58ms/step - loss: 30162.5469 - val_loss: 31422.1035\n",
            "Epoch 218/300\n",
            "100/100 [==============================] - 6s 61ms/step - loss: 28682.0625 - val_loss: 29923.9746\n",
            "Epoch 219/300\n",
            "100/100 [==============================] - 6s 58ms/step - loss: 27300.3574 - val_loss: 28528.8184\n",
            "Epoch 220/300\n",
            "100/100 [==============================] - 6s 60ms/step - loss: 25975.7871 - val_loss: 27091.6660\n",
            "Epoch 221/300\n",
            "100/100 [==============================] - 6s 58ms/step - loss: 24713.5176 - val_loss: 25842.7441\n",
            "Epoch 222/300\n",
            "100/100 [==============================] - 6s 61ms/step - loss: 23501.3301 - val_loss: 24563.3262\n",
            "Epoch 223/300\n",
            "100/100 [==============================] - 6s 58ms/step - loss: 22356.7207 - val_loss: 23364.3633\n",
            "Epoch 224/300\n",
            "100/100 [==============================] - 5s 54ms/step - loss: 21279.2480 - val_loss: 22249.0996\n",
            "Epoch 225/300\n",
            "100/100 [==============================] - 6s 59ms/step - loss: 20253.9316 - val_loss: 21075.7598\n",
            "Epoch 226/300\n",
            "100/100 [==============================] - 6s 62ms/step - loss: 19254.5078 - val_loss: 20100.1309\n",
            "Epoch 227/300\n",
            "100/100 [==============================] - 6s 60ms/step - loss: 18311.4668 - val_loss: 19222.5605\n",
            "Epoch 228/300\n",
            "100/100 [==============================] - 6s 58ms/step - loss: 17434.4043 - val_loss: 18232.8398\n",
            "Epoch 229/300\n",
            "100/100 [==============================] - 6s 56ms/step - loss: 16581.5332 - val_loss: 17348.9062\n",
            "Epoch 230/300\n",
            "100/100 [==============================] - 6s 61ms/step - loss: 15780.3242 - val_loss: 16469.9180\n",
            "Epoch 231/300\n",
            "100/100 [==============================] - 6s 61ms/step - loss: 15010.4658 - val_loss: 15676.2939\n",
            "Epoch 232/300\n",
            "100/100 [==============================] - 6s 60ms/step - loss: 14276.9238 - val_loss: 14957.3232\n",
            "Epoch 233/300\n",
            "100/100 [==============================] - 6s 60ms/step - loss: 13581.1973 - val_loss: 14217.9395\n",
            "Epoch 234/300\n",
            "100/100 [==============================] - 6s 60ms/step - loss: 12940.4492 - val_loss: 13484.5029\n",
            "Epoch 235/300\n",
            "100/100 [==============================] - 6s 58ms/step - loss: 12293.1475 - val_loss: 12861.4863\n",
            "Epoch 236/300\n",
            "100/100 [==============================] - 6s 60ms/step - loss: 11694.9961 - val_loss: 12276.2412\n",
            "Epoch 237/300\n",
            "100/100 [==============================] - 6s 59ms/step - loss: 11132.6113 - val_loss: 11631.0781\n",
            "Epoch 238/300\n",
            "100/100 [==============================] - 6s 62ms/step - loss: 10589.4424 - val_loss: 11075.0918\n",
            "Epoch 239/300\n",
            "100/100 [==============================] - 6s 58ms/step - loss: 10070.2090 - val_loss: 10552.0293\n",
            "Epoch 240/300\n",
            "100/100 [==============================] - 6s 56ms/step - loss: 9582.6992 - val_loss: 10028.4844\n",
            "Epoch 241/300\n",
            "100/100 [==============================] - 6s 62ms/step - loss: 9113.0059 - val_loss: 9564.2656\n",
            "Epoch 242/300\n",
            "100/100 [==============================] - 6s 60ms/step - loss: 8672.0449 - val_loss: 9074.8076\n",
            "Epoch 243/300\n",
            "100/100 [==============================] - 6s 60ms/step - loss: 8246.9023 - val_loss: 8643.4141\n",
            "Epoch 244/300\n",
            "100/100 [==============================] - 6s 55ms/step - loss: 7846.9019 - val_loss: 8233.6006\n",
            "Epoch 245/300\n",
            "100/100 [==============================] - 6s 58ms/step - loss: 7465.9614 - val_loss: 7826.8857\n",
            "Epoch 246/300\n",
            "100/100 [==============================] - 6s 58ms/step - loss: 7100.9194 - val_loss: 7464.4727\n",
            "Epoch 247/300\n",
            "100/100 [==============================] - 6s 58ms/step - loss: 6757.2271 - val_loss: 7102.3384\n",
            "Epoch 248/300\n",
            "100/100 [==============================] - 5s 52ms/step - loss: 6426.7168 - val_loss: 6722.9092\n",
            "Epoch 249/300\n",
            "100/100 [==============================] - 6s 58ms/step - loss: 6110.3433 - val_loss: 6432.7397\n",
            "Epoch 250/300\n",
            "100/100 [==============================] - 6s 60ms/step - loss: 5812.9976 - val_loss: 6110.8057\n",
            "Epoch 251/300\n",
            "100/100 [==============================] - 6s 60ms/step - loss: 5529.7202 - val_loss: 5798.2803\n",
            "Epoch 252/300\n",
            "100/100 [==============================] - 6s 58ms/step - loss: 5259.9858 - val_loss: 5523.6738\n",
            "Epoch 253/300\n",
            "100/100 [==============================] - 6s 57ms/step - loss: 5002.5889 - val_loss: 5255.1748\n",
            "Epoch 254/300\n",
            "100/100 [==============================] - 6s 60ms/step - loss: 4762.5610 - val_loss: 4997.5166\n",
            "Epoch 255/300\n",
            "100/100 [==============================] - 6s 60ms/step - loss: 4527.1567 - val_loss: 4752.4688\n",
            "Epoch 256/300\n",
            "100/100 [==============================] - 6s 61ms/step - loss: 4304.8218 - val_loss: 4533.2866\n",
            "Epoch 257/300\n",
            "100/100 [==============================] - 6s 59ms/step - loss: 4099.3262 - val_loss: 4308.2349\n",
            "Epoch 258/300\n",
            "100/100 [==============================] - 6s 56ms/step - loss: 3896.7842 - val_loss: 4110.8730\n",
            "Epoch 259/300\n",
            "100/100 [==============================] - 5s 48ms/step - loss: 3707.1455 - val_loss: 3899.1499\n",
            "Epoch 260/300\n",
            "100/100 [==============================] - 5s 52ms/step - loss: 3528.9421 - val_loss: 3693.6968\n",
            "Epoch 261/300\n",
            "100/100 [==============================] - 6s 60ms/step - loss: 3354.2588 - val_loss: 3534.6375\n",
            "Epoch 262/300\n",
            "100/100 [==============================] - 6s 61ms/step - loss: 3191.8796 - val_loss: 3360.8931\n",
            "Epoch 263/300\n",
            "100/100 [==============================] - 6s 58ms/step - loss: 3034.4233 - val_loss: 3194.5466\n",
            "Epoch 264/300\n",
            "100/100 [==============================] - 6s 59ms/step - loss: 2886.3440 - val_loss: 3050.0015\n",
            "Epoch 265/300\n",
            "100/100 [==============================] - 6s 64ms/step - loss: 2747.0713 - val_loss: 2894.2288\n",
            "Epoch 266/300\n",
            "100/100 [==============================] - 6s 60ms/step - loss: 2612.9658 - val_loss: 2764.9846\n",
            "Epoch 267/300\n",
            "100/100 [==============================] - 5s 51ms/step - loss: 2484.7180 - val_loss: 2614.2456\n",
            "Epoch 268/300\n",
            "100/100 [==============================] - 5s 49ms/step - loss: 2365.4993 - val_loss: 2477.8713\n",
            "Epoch 269/300\n",
            "100/100 [==============================] - 6s 62ms/step - loss: 2245.3394 - val_loss: 2370.0757\n",
            "Epoch 270/300\n",
            "100/100 [==============================] - 6s 59ms/step - loss: 2136.5386 - val_loss: 2258.8306\n",
            "Epoch 271/300\n",
            "100/100 [==============================] - 6s 60ms/step - loss: 2032.8977 - val_loss: 2140.1919\n",
            "Epoch 272/300\n",
            "100/100 [==============================] - 6s 61ms/step - loss: 1934.0398 - val_loss: 2039.5222\n",
            "Epoch 273/300\n",
            "100/100 [==============================] - 6s 59ms/step - loss: 1839.5541 - val_loss: 1937.2946\n",
            "Epoch 274/300\n",
            "100/100 [==============================] - 6s 60ms/step - loss: 1749.9982 - val_loss: 1844.5953\n",
            "Epoch 275/300\n",
            "100/100 [==============================] - 6s 60ms/step - loss: 1664.0991 - val_loss: 1757.1334\n",
            "Epoch 276/300\n",
            "100/100 [==============================] - 6s 59ms/step - loss: 1584.3185 - val_loss: 1676.1545\n",
            "Epoch 277/300\n",
            "100/100 [==============================] - 6s 64ms/step - loss: 1506.1464 - val_loss: 1583.2256\n",
            "Epoch 278/300\n",
            "100/100 [==============================] - 6s 60ms/step - loss: 1432.0358 - val_loss: 1505.8765\n",
            "Epoch 279/300\n",
            "100/100 [==============================] - 5s 51ms/step - loss: 1362.0704 - val_loss: 1442.3733\n",
            "Epoch 280/300\n",
            "100/100 [==============================] - 5s 50ms/step - loss: 1295.7701 - val_loss: 1365.8838\n",
            "Epoch 281/300\n",
            "100/100 [==============================] - 6s 58ms/step - loss: 1232.3754 - val_loss: 1296.4331\n",
            "Epoch 282/300\n",
            "100/100 [==============================] - 7s 68ms/step - loss: 1172.5179 - val_loss: 1230.7507\n",
            "Epoch 283/300\n",
            "100/100 [==============================] - 6s 61ms/step - loss: 1115.0787 - val_loss: 1171.6980\n",
            "Epoch 284/300\n",
            "100/100 [==============================] - 6s 60ms/step - loss: 1061.1031 - val_loss: 1115.3958\n",
            "Epoch 285/300\n",
            "100/100 [==============================] - 5s 55ms/step - loss: 1010.4446 - val_loss: 1060.8483\n",
            "Epoch 286/300\n",
            "100/100 [==============================] - 6s 56ms/step - loss: 959.8897 - val_loss: 1010.2046\n",
            "Epoch 287/300\n",
            "100/100 [==============================] - 6s 61ms/step - loss: 913.2936 - val_loss: 961.4868\n",
            "Epoch 288/300\n",
            "100/100 [==============================] - 6s 62ms/step - loss: 868.5956 - val_loss: 915.7777\n",
            "Epoch 289/300\n",
            "100/100 [==============================] - 6s 60ms/step - loss: 826.6255 - val_loss: 869.5082\n",
            "Epoch 290/300\n",
            "100/100 [==============================] - 6s 61ms/step - loss: 786.0418 - val_loss: 825.7541\n",
            "Epoch 291/300\n",
            "100/100 [==============================] - 6s 60ms/step - loss: 747.1850 - val_loss: 787.9044\n",
            "Epoch 292/300\n",
            "100/100 [==============================] - 6s 62ms/step - loss: 711.7430 - val_loss: 746.1313\n",
            "Epoch 293/300\n",
            "100/100 [==============================] - 6s 58ms/step - loss: 676.2685 - val_loss: 710.2305\n",
            "Epoch 294/300\n",
            "100/100 [==============================] - 6s 63ms/step - loss: 643.5364 - val_loss: 677.9138\n",
            "Epoch 295/300\n",
            "100/100 [==============================] - 6s 61ms/step - loss: 611.9839 - val_loss: 643.4872\n",
            "Epoch 296/300\n",
            "100/100 [==============================] - 6s 58ms/step - loss: 582.1979 - val_loss: 611.6143\n",
            "Epoch 297/300\n",
            "100/100 [==============================] - 6s 58ms/step - loss: 553.8840 - val_loss: 586.2816\n",
            "Epoch 298/300\n",
            "100/100 [==============================] - 6s 57ms/step - loss: 526.8061 - val_loss: 553.1484\n",
            "Epoch 299/300\n",
            "100/100 [==============================] - 6s 59ms/step - loss: 500.7092 - val_loss: 526.7083\n",
            "Epoch 300/300\n",
            "100/100 [==============================] - 6s 63ms/step - loss: 476.5151 - val_loss: 501.6800\n"
          ]
        }
      ],
      "source": [
        "hist_forward_ncp_without_loop_gj = ncp_model_without_loop_gj.fit(x=x_train_forward_activation_on, y=y_train_forward_activation_on, batch_size=1, epochs=300, validation_data=(x_valid_forward_activation_on, y_valid_forward_activation_on), callbacks=[early_stopping_monitor])"
      ]
    },
    {
      "cell_type": "code",
      "execution_count": 85,
      "metadata": {
        "colab": {
          "base_uri": "https://localhost:8080/",
          "height": 396
        },
        "id": "o_qRak5C8-2M",
        "outputId": "5af255cb-3c03-418a-b204-8f60aef37da8"
      },
      "outputs": [
        {
          "data": {
            "image/png": "[encoded data removed]",
            "text/plain": [
              "<Figure size 600x400 with 1 Axes>"
            ]
          },
          "metadata": {},
          "output_type": "display_data"
        }
      ],
      "source": [
        "# Plotting the history data\n",
        "sns.set()\n",
        "plt.figure(figsize=(6, 4))\n",
        "plt.plot(hist_forward_ncp_without_loop_gj.history[\"loss\"], label=\"Training loss\")\n",
        "plt.plot(hist_forward_ncp_without_loop_gj.history[\"val_loss\"], label=\"Validation loss\")\n",
        "\n",
        "plt.legend(loc=\"upper right\")\n",
        "plt.xlabel(\"Training steps\")\n",
        "plt.ylabel(\"Loss\")\n",
        "plt.show()"
      ]
    },
    {
      "cell_type": "code",
      "execution_count": 86,
      "metadata": {
        "colab": {
          "base_uri": "https://localhost:8080/"
        },
        "id": "uzE-BSgB8-2M",
        "outputId": "edd5f26c-4cce-48ac-d736-a83a369e10c3"
      },
      "outputs": [
        {
          "name": "stdout",
          "output_type": "stream",
          "text": [
            "WARNING:tensorflow:5 out of the last 5 calls to <function Model.make_predict_function.<locals>.predict_function at 0x000001F93A29EC20> triggered tf.function retracing. Tracing is expensive and the excessive number of tracings could be due to (1) creating @tf.function repeatedly in a loop, (2) passing tensors with different shapes, (3) passing Python objects instead of tensors. For (1), please define your @tf.function outside of the loop. For (2), @tf.function has reduce_retracing=True option that can avoid unnecessary retracing. For (3), please refer to https://www.tensorflow.org/guide/function#controlling_retracing and https://www.tensorflow.org/api_docs/python/tf/function for  more details.\n",
            "10/10 [==============================] - 1s 10ms/step\n"
          ]
        }
      ],
      "source": [
        "y_test_forward_activation_on_without_loop_gj_predicted2 = ncp_model_without_loop_gj.predict(x_test_forward_activation_on, batch_size=1)"
      ]
    },
    {
      "cell_type": "code",
      "execution_count": 87,
      "metadata": {
        "colab": {
          "base_uri": "https://localhost:8080/",
          "height": 497
        },
        "id": "tu6tPIRA8-2M",
        "outputId": "05de5686-32d4-46a3-fa65-567fd2152fdb"
      },
      "outputs": [
        {
          "data": {
            "text/plain": [
              "<Figure size 800x400 with 0 Axes>"
            ]
          },
          "metadata": {},
          "output_type": "display_data"
        },
        {
          "data": {
            "image/png": "[encoded data removed]",
            "text/plain": [
              "<Figure size 640x480 with 3 Axes>"
            ]
          },
          "metadata": {},
          "output_type": "display_data"
        }
      ],
      "source": [
        "# Plotting the training data\n",
        "plt.figure(figsize=(8, 4))\n",
        "fig, axs = plt.subplots(3,1)\n",
        "axs[0].plot(x_test_forward_activation_on[0, :], 'tab:red')\n",
        "axs[0].set_title('PLM')\n",
        "axs[1].plot(y_test_forward_activation_on[0, :], 'tab:blue')\n",
        "axs[1].set_title('AVB true')\n",
        "axs[2].plot(np.squeeze(y_test_forward_activation_on_without_loop_gj_predicted2[0, :]), 'tab:green')\n",
        "axs[2].set_title('AVB predicted')\n",
        "\n",
        "\n",
        "plt.tight_layout()\n",
        "plt.show()"
      ]
    },
    {
      "cell_type": "markdown",
      "metadata": {
        "id": "McTR1RlWflWN"
      },
      "source": [
        "## Print learned weights"
      ]
    },
    {
      "cell_type": "code",
      "execution_count": 88,
      "metadata": {
        "colab": {
          "base_uri": "https://localhost:8080/"
        },
        "id": "NcOK-wJMflWN",
        "outputId": "4df65aaa-858e-4569-8df5-7317609e095b"
      },
      "outputs": [
        {
          "data": {
            "text/plain": [
              "[<tf.Variable 'wired_neurons_2/Gap_Junction_Cell/gleak:0' shape=(1,) dtype=float32, numpy=array([0.8915863], dtype=float32)>,\n",
              " <tf.Variable 'wired_neurons_2/Gap_Junction_Cell/vleak:0' shape=(1,) dtype=float32, numpy=array([0.07064702], dtype=float32)>,\n",
              " <tf.Variable 'wired_neurons_2/Gap_Junction_Cell/w:0' shape=(1, 1) dtype=float32, numpy=array([[0.9964237]], dtype=float32)>,\n",
              " <tf.Variable 'wired_neurons_2/Gap_Junction_Cell/sensory_w:0' shape=(1, 1) dtype=float32, numpy=array([[0.81819886]], dtype=float32)>,\n",
              " <tf.Variable 'wired_neurons_2/Gap_Junction_Cell/cm:0' shape=(1,) dtype=float32, numpy=array([1.0715934], dtype=float32)>]"
            ]
          },
          "execution_count": 88,
          "metadata": {},
          "output_type": "execute_result"
        }
      ],
      "source": [
        "ncp_model_without_loop_gj.variables"
      ]
    },
    {
      "cell_type": "code",
      "execution_count": null,
      "metadata": {
        "id": "o-IbmkMPfm_W"
      },
      "outputs": [],
      "source": []
    }
  ],
  "metadata": {
    "colab": {
      "authorship_tag": "ABX9TyNRW7UCySyK/8EhROk4bkQR",
      "collapsed_sections": [
        "51nkw6jpQCZg",
        "UpV92n7544b3",
        "mewyrJIn41pf",
        "2Idm1KvaH9ea",
        "N1At0ZqXZI56",
        "tBd_DU7UZRCb",
        "IuRaYWPbLx3L",
        "Ql_3feH_MwWH"
      ],
      "include_colab_link": true,
      "provenance": []
    },
    "kernelspec": {
      "display_name": "Python 3",
      "name": "python3"
    },
    "language_info": {
      "codemirror_mode": {
        "name": "ipython",
        "version": 3
      },
      "file_extension": ".py",
      "mimetype": "text/x-python",
      "name": "python",
      "nbconvert_exporter": "python",
      "pygments_lexer": "ipython3",
      "version": "3.10.0"
    }
  },
  "nbformat": 4,
  "nbformat_minor": 0
}
